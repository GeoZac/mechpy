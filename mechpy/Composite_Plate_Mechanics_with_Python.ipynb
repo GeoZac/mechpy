{
 "cells": [
  {
   "cell_type": "markdown",
   "metadata": {},
   "source": [
    "# Composite Plate Mechanics with Python\n",
    "\n",
    "reference: hyer page 584. 617\n",
    "\n",
    "The motivation behind this talk is to explore the capability of python as a scientific computation tool as well as solve a typical calcuation that could either be done by hand, or coded. I find coding to be a convient way to learn challenging mathmatics because I can easily replicate my work in the future when I can't remember the details of the calcuation or, if there are any errors, they can typically be easily fixed and the other calcuations re-ran without a lot of duplcation of effort.\n",
    "\n",
    "Composite mechanics can be very iterative by nature and is easiest to employ linear algebra to find displacements, strains and stresses of composites. Coding solutions is also handy when visualizations are required.\n",
    "\n",
    "For this example, we are interested in calcuating the stress critical ply in a simple asymteric composite plate with a pressure load applied. We can chooose a variety of boundary conditions of our plate, but this solution is limited to 2 dimensional displacements, x and z. If we are interested in 3 dimensional displacements, the problem becomes much more challenging as partial differentiation of the governing equations gives us a PDE, which is more challenging to solve. \n",
    "\n",
    "The steps to solving are \n",
    "- Identify governing and equilibrium equations\n",
    "- import python required libraries \n",
    "- declare symbolic variables\n",
    "- declare numeric variables, including material properties, plate dimensions, and plate pressure\n",
    "- solve 4th order differntial equation with 7 constants\n",
    "- apply plate boundary conditions and acquire u(x) and w(x) displacement functions\n",
    "- acquire strain equations from displacement\n",
    "- acquire stress equations from strain\n",
    "- determine critical ply from highest ply stress ratio\n",
    "\n"
   ]
  },
  {
   "cell_type": "code",
   "execution_count": 1,
   "metadata": {
    "collapsed": false
   },
   "outputs": [],
   "source": [
    "# Import Python modules and \n",
    "import numpy as np\n",
    "from sympy import *\n",
    "from pprint import pprint\n",
    "\n",
    "# printing and plotting settings \n",
    "init_printing(use_latex='mathjax')\n",
    "get_ipython().magic('matplotlib inline') # inline plotting\n",
    "\n",
    "x,y,q = symbols('x,y,q')"
   ]
  },
  {
   "cell_type": "markdown",
   "metadata": {},
   "source": [
    "As mentioned before, if we want to perform a 3 dimensional displacement model of the composite plate, we would have 6 reaction forces that are a function of x and y. Those 6 reaction forces are related by 3 equalibrium equations"
   ]
  },
  {
   "cell_type": "code",
   "execution_count": 3,
   "metadata": {
    "collapsed": false
   },
   "outputs": [],
   "source": [
    "# # hyer page 584\n",
    "# # Equations of equilibrium\n",
    "# Nxf = Function('N_x')(x,y)\n",
    "# Nyf = Function('N_y')(x,y)\n",
    "# Nxyf = Function('N_xy')(x,y)\n",
    "# Mxf = Function('M_x')(x,y)\n",
    "# Myf = Function('M_y')(x,y)\n",
    "# Mxyf = Function('M_xy')(x,y)\n",
    "\n",
    "# symbols for force and moments\n",
    "Nx,Ny,Nxy,Mx,My,Mxy = symbols('N_x,N_y,N_xy,M_x,M_y,M_xy')\n",
    "Nxf,Nyf,Nxyf,Mxf,Myf,Mxyf = symbols('Nxf,Nyf,Nxyf,Mxf,Myf,Mxyf')"
   ]
  },
  {
   "cell_type": "code",
   "execution_count": 4,
   "metadata": {
    "collapsed": false
   },
   "outputs": [
    {
     "data": {
      "text/latex": [
       "$$0 = \\frac{\\partial}{\\partial x} \\operatorname{N_{x}}{\\left (x,y \\right )} + \\frac{\\partial}{\\partial y} \\operatorname{N_{xy}}{\\left (x,y \\right )}$$"
      ],
      "text/plain": [
       "    ∂              ∂             \n",
       "0 = ──(Nₓ(x, y)) + ──(N_xy(x, y))\n",
       "    ∂x             ∂y            "
      ]
     },
     "execution_count": 4,
     "metadata": {},
     "output_type": "execute_result"
    }
   ],
   "source": [
    "Eq(0,diff(Nx(x,y), x)+diff(Nxy(x,y),y))"
   ]
  },
  {
   "cell_type": "code",
   "execution_count": 5,
   "metadata": {
    "collapsed": false
   },
   "outputs": [
    {
     "data": {
      "text/latex": [
       "$$0 = \\frac{\\partial}{\\partial x} \\operatorname{N_{xy}}{\\left (x,y \\right )} + \\frac{\\partial}{\\partial y} \\operatorname{N_{y}}{\\left (x,y \\right )}$$"
      ],
      "text/plain": [
       "    ∂                ∂            \n",
       "0 = ──(N_xy(x, y)) + ──(N_y(x, y))\n",
       "    ∂x               ∂y           "
      ]
     },
     "execution_count": 5,
     "metadata": {},
     "output_type": "execute_result"
    }
   ],
   "source": [
    "Eq(0,diff(Nxy(x,y), x)+diff(Ny(x,y),y))"
   ]
  },
  {
   "cell_type": "code",
   "execution_count": 6,
   "metadata": {
    "collapsed": false
   },
   "outputs": [
    {
     "data": {
      "text/latex": [
       "$$0 = q + \\frac{\\partial^{2}}{\\partial x^{2}}  \\operatorname{M_{x}}{\\left (x,y \\right )} + 2 \\frac{\\partial^{2}}{\\partial x\\partial y}  \\operatorname{M_{xy}}{\\left (x,y \\right )} + \\frac{\\partial^{2}}{\\partial y^{2}}  \\operatorname{M_{y}}{\\left (x,y \\right )}$$"
      ],
      "text/plain": [
       "          2                  2                  2           \n",
       "         ∂                  ∂                  ∂            \n",
       "0 = q + ───(Mₓ(x, y)) + 2⋅─────(M_xy(x, y)) + ───(M_y(x, y))\n",
       "          2               ∂y ∂x                 2           \n",
       "        ∂x                                    ∂y            "
      ]
     },
     "execution_count": 6,
     "metadata": {},
     "output_type": "execute_result"
    }
   ],
   "source": [
    "Eq(0,  diff(Mx(x,y),x,2) + 2*diff(Mxy(x,y),x,y) + diff(My(x,y) ,y,2)+ q  )"
   ]
  },
  {
   "cell_type": "markdown",
   "metadata": {},
   "source": [
    "What makes composite plates special is the fact that they typically not isotropic. This is handled by the 6x6 ABD matrix that defines the composites properties axially, in bending, and the coupling between the two."
   ]
  },
  {
   "cell_type": "code",
   "execution_count": 7,
   "metadata": {
    "collapsed": true
   },
   "outputs": [],
   "source": [
    "# composite properties \n",
    "A11,A22,A66,A12,A16,A26,A66 = symbols('A11,A22,A66,A12,A16,A26,A66')\n",
    "B11,B22,B66,B12,B16,B26,B66 = symbols('B11,B22,B66,B12,B16,B26,B66')\n",
    "D11,D22,D66,D12,D16,D26,D66 = symbols('D11,D22,D66,D12,D16,D26,D66')\n",
    "\n",
    "## constants of integration when solving differential equation\n",
    "C1,C2,C3,C4,C5,C6 = symbols('C1,C2,C3,C4,C5,C6')\n",
    "\n",
    "# plate and composite parameters\n",
    "th,a,b = symbols('th,a,b')\n",
    "\n",
    "# displacement functions\n",
    "u0 = Function('u0')(x,y)\n",
    "v0 = Function('v0')(x,y)\n",
    "w0 = Function('w0')(x,y)"
   ]
  },
  {
   "cell_type": "markdown",
   "metadata": {},
   "source": [
    "Let's compute our 6 displacement conditions which is where our PDE's show up"
   ]
  },
  {
   "cell_type": "code",
   "execution_count": 8,
   "metadata": {
    "collapsed": false
   },
   "outputs": [
    {
     "data": {
      "text/latex": [
       "$$N_{x} = A_{11} \\frac{\\partial}{\\partial x} \\operatorname{u_{0}}{\\left (x,y \\right )} + A_{12} \\frac{\\partial}{\\partial y} \\operatorname{v_{0}}{\\left (x,y \\right )} + A_{16} \\left(\\frac{\\partial}{\\partial y} \\operatorname{u_{0}}{\\left (x,y \\right )} + \\frac{\\partial}{\\partial x} \\operatorname{v_{0}}{\\left (x,y \\right )}\\right) - B_{11} \\frac{\\partial^{2}}{\\partial x^{2}}  \\operatorname{w_{0}}{\\left (x,y \\right )} - B_{12} \\frac{\\partial^{2}}{\\partial y^{2}}  \\operatorname{w_{0}}{\\left (x,y \\right )} - 2 B_{16} \\frac{\\partial^{2}}{\\partial x\\partial y}  \\operatorname{w_{0}}{\\left (x,y \\right )}$$"
      ],
      "text/plain": [
       "                                                                              \n",
       "         ∂                  ∂                  ⎛∂              ∂           ⎞  \n",
       "Nₓ = A₁₁⋅──(u₀(x, y)) + A₁₂⋅──(v₀(x, y)) + A₁₆⋅⎜──(u₀(x, y)) + ──(v₀(x, y))⎟ -\n",
       "         ∂x                 ∂y                 ⎝∂y             ∂x          ⎠  \n",
       "                                                                              \n",
       "\n",
       "       2                   2                      2           \n",
       "      ∂                   ∂                      ∂            \n",
       " B₁₁⋅───(w₀(x, y)) - B₁₂⋅───(w₀(x, y)) - 2⋅B₁₆⋅─────(w₀(x, y))\n",
       "       2                   2                   ∂y ∂x          \n",
       "     ∂x                  ∂y                                   "
      ]
     },
     "execution_count": 8,
     "metadata": {},
     "output_type": "execute_result"
    }
   ],
   "source": [
    "Nxf = A11*diff(u0,x) + A12*diff(v0,y) + A16*(diff(u0,y) + diff(v0,x)) - B11*diff(w0,x,2) - B12*diff(w0,y,2) - 2*B16*diff(w0,x,y)\n",
    "Eq(Nx, Nxf)"
   ]
  },
  {
   "cell_type": "code",
   "execution_count": 9,
   "metadata": {
    "collapsed": false
   },
   "outputs": [
    {
     "data": {
      "text/latex": [
       "$$N_{y} = A_{12} \\frac{\\partial}{\\partial x} \\operatorname{u_{0}}{\\left (x,y \\right )} + A_{22} \\frac{\\partial}{\\partial y} \\operatorname{v_{0}}{\\left (x,y \\right )} + A_{26} \\left(\\frac{\\partial}{\\partial y} \\operatorname{u_{0}}{\\left (x,y \\right )} + \\frac{\\partial}{\\partial x} \\operatorname{v_{0}}{\\left (x,y \\right )}\\right) - B_{12} \\frac{\\partial^{2}}{\\partial x^{2}}  \\operatorname{w_{0}}{\\left (x,y \\right )} - B_{22} \\frac{\\partial^{2}}{\\partial y^{2}}  \\operatorname{w_{0}}{\\left (x,y \\right )} - 2 B_{26} \\frac{\\partial^{2}}{\\partial x\\partial y}  \\operatorname{w_{0}}{\\left (x,y \\right )}$$"
      ],
      "text/plain": [
       "                                                                              \n",
       "          ∂                  ∂                  ⎛∂              ∂           ⎞ \n",
       "N_y = A₁₂⋅──(u₀(x, y)) + A₂₂⋅──(v₀(x, y)) + A₂₆⋅⎜──(u₀(x, y)) + ──(v₀(x, y))⎟ \n",
       "          ∂x                 ∂y                 ⎝∂y             ∂x          ⎠ \n",
       "                                                                              \n",
       "\n",
       "        2                   2                      2           \n",
       "       ∂                   ∂                      ∂            \n",
       "- B₁₂⋅───(w₀(x, y)) - B₂₂⋅───(w₀(x, y)) - 2⋅B₂₆⋅─────(w₀(x, y))\n",
       "        2                   2                   ∂y ∂x          \n",
       "      ∂x                  ∂y                                   "
      ]
     },
     "execution_count": 9,
     "metadata": {},
     "output_type": "execute_result"
    }
   ],
   "source": [
    "Nyf = A12*diff(u0,x) + A22*diff(v0,y) + A26*(diff(u0,y) + diff(v0,x)) - B12*diff(w0,x,2) - B22*diff(w0,y,2) - 2*B26*diff(w0,x,y)\n",
    "Eq(Ny,Nyf)"
   ]
  },
  {
   "cell_type": "code",
   "execution_count": 10,
   "metadata": {
    "collapsed": false
   },
   "outputs": [
    {
     "data": {
      "text/latex": [
       "$$N_{xy} = A_{16} \\frac{\\partial}{\\partial x} \\operatorname{u_{0}}{\\left (x,y \\right )} + A_{26} \\frac{\\partial}{\\partial y} \\operatorname{v_{0}}{\\left (x,y \\right )} + A_{66} \\left(\\frac{\\partial}{\\partial y} \\operatorname{u_{0}}{\\left (x,y \\right )} + \\frac{\\partial}{\\partial x} \\operatorname{v_{0}}{\\left (x,y \\right )}\\right) - B_{16} \\frac{\\partial^{2}}{\\partial x^{2}}  \\operatorname{w_{0}}{\\left (x,y \\right )} - B_{26} \\frac{\\partial^{2}}{\\partial y^{2}}  \\operatorname{w_{0}}{\\left (x,y \\right )} - 2 B_{66} \\frac{\\partial^{2}}{\\partial x\\partial y}  \\operatorname{w_{0}}{\\left (x,y \\right )}$$"
      ],
      "text/plain": [
       "                                                                              \n",
       "           ∂                  ∂                  ⎛∂              ∂           ⎞\n",
       "N_xy = A₁₆⋅──(u₀(x, y)) + A₂₆⋅──(v₀(x, y)) + A₆₆⋅⎜──(u₀(x, y)) + ──(v₀(x, y))⎟\n",
       "           ∂x                 ∂y                 ⎝∂y             ∂x          ⎠\n",
       "                                                                              \n",
       "\n",
       "         2                   2                      2           \n",
       "        ∂                   ∂                      ∂            \n",
       " - B₁₆⋅───(w₀(x, y)) - B₂₆⋅───(w₀(x, y)) - 2⋅B₆₆⋅─────(w₀(x, y))\n",
       "         2                   2                   ∂y ∂x          \n",
       "       ∂x                  ∂y                                   "
      ]
     },
     "execution_count": 10,
     "metadata": {},
     "output_type": "execute_result"
    }
   ],
   "source": [
    "Nxyf = A16*diff(u0,x) + A26*diff(v0,y) + A66*(diff(u0,y) + diff(v0,x)) - B16*diff(w0,x,2) - B26*diff(w0,y,2) - 2*B66*diff(w0,x,y) \n",
    "Eq(Nxy,Nxyf)"
   ]
  },
  {
   "cell_type": "code",
   "execution_count": 11,
   "metadata": {
    "collapsed": false
   },
   "outputs": [
    {
     "data": {
      "text/latex": [
       "$$M_{x} = B_{11} \\frac{\\partial}{\\partial x} \\operatorname{u_{0}}{\\left (x,y \\right )} + B_{12} \\frac{\\partial}{\\partial y} \\operatorname{v_{0}}{\\left (x,y \\right )} + B_{16} \\left(\\frac{\\partial}{\\partial y} \\operatorname{u_{0}}{\\left (x,y \\right )} + \\frac{\\partial}{\\partial x} \\operatorname{v_{0}}{\\left (x,y \\right )}\\right) - D_{11} \\frac{\\partial^{2}}{\\partial x^{2}}  \\operatorname{w_{0}}{\\left (x,y \\right )} - D_{12} \\frac{\\partial^{2}}{\\partial y^{2}}  \\operatorname{w_{0}}{\\left (x,y \\right )} - 2 D_{16} \\frac{\\partial^{2}}{\\partial x\\partial y}  \\operatorname{w_{0}}{\\left (x,y \\right )}$$"
      ],
      "text/plain": [
       "                                                                              \n",
       "         ∂                  ∂                  ⎛∂              ∂           ⎞  \n",
       "Mₓ = B₁₁⋅──(u₀(x, y)) + B₁₂⋅──(v₀(x, y)) + B₁₆⋅⎜──(u₀(x, y)) + ──(v₀(x, y))⎟ -\n",
       "         ∂x                 ∂y                 ⎝∂y             ∂x          ⎠  \n",
       "                                                                              \n",
       "\n",
       "       2                   2                      2           \n",
       "      ∂                   ∂                      ∂            \n",
       " D₁₁⋅───(w₀(x, y)) - D₁₂⋅───(w₀(x, y)) - 2⋅D₁₆⋅─────(w₀(x, y))\n",
       "       2                   2                   ∂y ∂x          \n",
       "     ∂x                  ∂y                                   "
      ]
     },
     "execution_count": 11,
     "metadata": {},
     "output_type": "execute_result"
    }
   ],
   "source": [
    "Mxf = B11*diff(u0,x) + B12*diff(v0,y) + B16*(diff(u0,y) + diff(v0,x)) - D11*diff(w0,x,2) - D12*diff(w0,y,2) - 2*D16*diff(w0,x,y)\n",
    "Eq(Mx,Mxf)"
   ]
  },
  {
   "cell_type": "code",
   "execution_count": 12,
   "metadata": {
    "collapsed": false
   },
   "outputs": [
    {
     "data": {
      "text/latex": [
       "$$M_{y} = B_{12} \\frac{\\partial}{\\partial x} \\operatorname{u_{0}}{\\left (x,y \\right )} + B_{22} \\frac{\\partial}{\\partial y} \\operatorname{v_{0}}{\\left (x,y \\right )} + B_{26} \\left(\\frac{\\partial}{\\partial y} \\operatorname{u_{0}}{\\left (x,y \\right )} + \\frac{\\partial}{\\partial x} \\operatorname{v_{0}}{\\left (x,y \\right )}\\right) - D_{12} \\frac{\\partial^{2}}{\\partial x^{2}}  \\operatorname{w_{0}}{\\left (x,y \\right )} - D_{22} \\frac{\\partial^{2}}{\\partial y^{2}}  \\operatorname{w_{0}}{\\left (x,y \\right )} - 2 D_{26} \\frac{\\partial^{2}}{\\partial x\\partial y}  \\operatorname{w_{0}}{\\left (x,y \\right )}$$"
      ],
      "text/plain": [
       "                                                                              \n",
       "          ∂                  ∂                  ⎛∂              ∂           ⎞ \n",
       "M_y = B₁₂⋅──(u₀(x, y)) + B₂₂⋅──(v₀(x, y)) + B₂₆⋅⎜──(u₀(x, y)) + ──(v₀(x, y))⎟ \n",
       "          ∂x                 ∂y                 ⎝∂y             ∂x          ⎠ \n",
       "                                                                              \n",
       "\n",
       "        2                   2                      2           \n",
       "       ∂                   ∂                      ∂            \n",
       "- D₁₂⋅───(w₀(x, y)) - D₂₂⋅───(w₀(x, y)) - 2⋅D₂₆⋅─────(w₀(x, y))\n",
       "        2                   2                   ∂y ∂x          \n",
       "      ∂x                  ∂y                                   "
      ]
     },
     "execution_count": 12,
     "metadata": {},
     "output_type": "execute_result"
    }
   ],
   "source": [
    "Myf = B12*diff(u0,x) + B22*diff(v0,y) + B26*(diff(u0,y) + diff(v0,x)) - D12*diff(w0,x,2) - D22*diff(w0,y,2) - 2*D26*diff(w0,x,y)\n",
    "Eq(My,Myf)"
   ]
  },
  {
   "cell_type": "code",
   "execution_count": 13,
   "metadata": {
    "collapsed": false
   },
   "outputs": [
    {
     "data": {
      "text/latex": [
       "$$M_{xy} = B_{16} \\frac{\\partial}{\\partial x} \\operatorname{u_{0}}{\\left (x,y \\right )} + B_{26} \\frac{\\partial}{\\partial y} \\operatorname{v_{0}}{\\left (x,y \\right )} + B_{66} \\left(\\frac{\\partial}{\\partial y} \\operatorname{u_{0}}{\\left (x,y \\right )} + \\frac{\\partial}{\\partial x} \\operatorname{v_{0}}{\\left (x,y \\right )}\\right) - D_{16} \\frac{\\partial^{2}}{\\partial x^{2}}  \\operatorname{w_{0}}{\\left (x,y \\right )} - D_{26} \\frac{\\partial^{2}}{\\partial y^{2}}  \\operatorname{w_{0}}{\\left (x,y \\right )} - 2 D_{66} \\frac{\\partial^{2}}{\\partial x\\partial y}  \\operatorname{w_{0}}{\\left (x,y \\right )}$$"
      ],
      "text/plain": [
       "                                                                              \n",
       "           ∂                  ∂                  ⎛∂              ∂           ⎞\n",
       "M_xy = B₁₆⋅──(u₀(x, y)) + B₂₆⋅──(v₀(x, y)) + B₆₆⋅⎜──(u₀(x, y)) + ──(v₀(x, y))⎟\n",
       "           ∂x                 ∂y                 ⎝∂y             ∂x          ⎠\n",
       "                                                                              \n",
       "\n",
       "         2                   2                      2           \n",
       "        ∂                   ∂                      ∂            \n",
       " - D₁₆⋅───(w₀(x, y)) - D₂₆⋅───(w₀(x, y)) - 2⋅D₆₆⋅─────(w₀(x, y))\n",
       "         2                   2                   ∂y ∂x          \n",
       "       ∂x                  ∂y                                   "
      ]
     },
     "execution_count": 13,
     "metadata": {},
     "output_type": "execute_result"
    }
   ],
   "source": [
    "Mxyf = B16*diff(u0,x) + B26*diff(v0,y) + B66*(diff(u0,y) + diff(v0,x)) - D16*diff(w0,x,2) - D26*diff(w0,y,2) - 2*D66*diff(w0,x,y)\n",
    "Eq(Mxy,Mxyf)"
   ]
  },
  {
   "cell_type": "markdown",
   "metadata": {},
   "source": [
    "Now, combine our 6 displacement conditions with our 3 equalibrium equations to get three goverening equations"
   ]
  },
  {
   "cell_type": "code",
   "execution_count": 14,
   "metadata": {
    "collapsed": false
   },
   "outputs": [
    {
     "data": {
      "text/latex": [
       "$$A_{11} \\frac{\\partial^{2}}{\\partial x^{2}}  \\operatorname{u_{0}}{\\left (x,y \\right )} + A_{11} \\frac{\\partial^{2}}{\\partial x\\partial y}  \\operatorname{u_{0}}{\\left (x,y \\right )} + A_{12} \\frac{\\partial^{2}}{\\partial x\\partial y}  \\operatorname{v_{0}}{\\left (x,y \\right )} + A_{12} \\frac{\\partial^{2}}{\\partial y^{2}}  \\operatorname{v_{0}}{\\left (x,y \\right )} + A_{16} \\left(\\frac{\\partial^{2}}{\\partial x\\partial y}  \\operatorname{u_{0}}{\\left (x,y \\right )} + \\frac{\\partial^{2}}{\\partial x^{2}}  \\operatorname{v_{0}}{\\left (x,y \\right )}\\right) + A_{16} \\left(\\frac{\\partial^{2}}{\\partial y^{2}}  \\operatorname{u_{0}}{\\left (x,y \\right )} + \\frac{\\partial^{2}}{\\partial x\\partial y}  \\operatorname{v_{0}}{\\left (x,y \\right )}\\right) - B_{11} \\frac{\\partial^{3}}{\\partial x^{3}}  \\operatorname{w_{0}}{\\left (x,y \\right )} - B_{11} \\frac{\\partial^{3}}{\\partial x^{2}\\partial y}  \\operatorname{w_{0}}{\\left (x,y \\right )} - B_{12} \\frac{\\partial^{3}}{\\partial x\\partial y^{2}}  \\operatorname{w_{0}}{\\left (x,y \\right )} - B_{12} \\frac{\\partial^{3}}{\\partial y^{3}}  \\operatorname{w_{0}}{\\left (x,y \\right )} - 2 B_{16} \\frac{\\partial^{3}}{\\partial x^{2}\\partial y}  \\operatorname{w_{0}}{\\left (x,y \\right )} - 2 B_{16} \\frac{\\partial^{3}}{\\partial x\\partial y^{2}}  \\operatorname{w_{0}}{\\left (x,y \\right )}$$"
      ],
      "text/plain": [
       "      2                    2                     2                    2       \n",
       "     ∂                    ∂                     ∂                    ∂        \n",
       "A₁₁⋅───(u₀(x, y)) + A₁₁⋅─────(u₀(x, y)) + A₁₂⋅─────(v₀(x, y)) + A₁₂⋅───(v₀(x, \n",
       "      2                 ∂y ∂x                 ∂y ∂x                   2       \n",
       "    ∂x                                                              ∂y        \n",
       "\n",
       "          ⎛   2                2          ⎞       ⎛  2                2       \n",
       "          ⎜  ∂                ∂           ⎟       ⎜ ∂                ∂        \n",
       "y)) + A₁₆⋅⎜─────(u₀(x, y)) + ───(v₀(x, y))⎟ + A₁₆⋅⎜───(u₀(x, y)) + ─────(v₀(x,\n",
       "          ⎜∂y ∂x               2          ⎟       ⎜  2             ∂y ∂x      \n",
       "          ⎝                  ∂x           ⎠       ⎝∂y                         \n",
       "\n",
       "    ⎞         3                    3                      3                   \n",
       "    ⎟        ∂                    ∂                      ∂                    \n",
       " y))⎟ - B₁₁⋅───(w₀(x, y)) - B₁₁⋅──────(w₀(x, y)) - B₁₂⋅──────(w₀(x, y)) - B₁₂⋅\n",
       "    ⎟         3                      2                   2                    \n",
       "    ⎠       ∂x                  ∂y ∂x                  ∂y  ∂x                 \n",
       "\n",
       "  3                      3                        3            \n",
       " ∂                      ∂                        ∂             \n",
       "───(w₀(x, y)) - 2⋅B₁₆⋅──────(w₀(x, y)) - 2⋅B₁₆⋅──────(w₀(x, y))\n",
       "  3                        2                     2             \n",
       "∂y                    ∂y ∂x                    ∂y  ∂x          "
      ]
     },
     "execution_count": 14,
     "metadata": {},
     "output_type": "execute_result"
    }
   ],
   "source": [
    "eq1 = diff(Nxf,x) + diff(Nxf,y)\n",
    "eq1"
   ]
  },
  {
   "cell_type": "code",
   "execution_count": 15,
   "metadata": {
    "collapsed": false
   },
   "outputs": [
    {
     "data": {
      "text/latex": [
       "$$A_{12} \\frac{\\partial^{2}}{\\partial x\\partial y}  \\operatorname{u_{0}}{\\left (x,y \\right )} + A_{16} \\frac{\\partial^{2}}{\\partial x^{2}}  \\operatorname{u_{0}}{\\left (x,y \\right )} + A_{22} \\frac{\\partial^{2}}{\\partial y^{2}}  \\operatorname{v_{0}}{\\left (x,y \\right )} + A_{26} \\left(\\frac{\\partial^{2}}{\\partial y^{2}}  \\operatorname{u_{0}}{\\left (x,y \\right )} + \\frac{\\partial^{2}}{\\partial x\\partial y}  \\operatorname{v_{0}}{\\left (x,y \\right )}\\right) + A_{26} \\frac{\\partial^{2}}{\\partial x\\partial y}  \\operatorname{v_{0}}{\\left (x,y \\right )} + A_{66} \\left(\\frac{\\partial^{2}}{\\partial x\\partial y}  \\operatorname{u_{0}}{\\left (x,y \\right )} + \\frac{\\partial^{2}}{\\partial x^{2}}  \\operatorname{v_{0}}{\\left (x,y \\right )}\\right) - B_{12} \\frac{\\partial^{3}}{\\partial x^{2}\\partial y}  \\operatorname{w_{0}}{\\left (x,y \\right )} - B_{16} \\frac{\\partial^{3}}{\\partial x^{3}}  \\operatorname{w_{0}}{\\left (x,y \\right )} - B_{22} \\frac{\\partial^{3}}{\\partial y^{3}}  \\operatorname{w_{0}}{\\left (x,y \\right )} - 3 B_{26} \\frac{\\partial^{3}}{\\partial x\\partial y^{2}}  \\operatorname{w_{0}}{\\left (x,y \\right )} - 2 B_{66} \\frac{\\partial^{3}}{\\partial x^{2}\\partial y}  \\operatorname{w_{0}}{\\left (x,y \\right )}$$"
      ],
      "text/plain": [
       "       2                    2                   2                 ⎛  2        \n",
       "      ∂                    ∂                   ∂                  ⎜ ∂         \n",
       "A₁₂⋅─────(u₀(x, y)) + A₁₆⋅───(u₀(x, y)) + A₂₂⋅───(v₀(x, y)) + A₂₆⋅⎜───(u₀(x, y\n",
       "    ∂y ∂x                   2                   2                 ⎜  2        \n",
       "                          ∂x                  ∂y                  ⎝∂y         \n",
       "\n",
       "        2           ⎞          2                  ⎛   2                2      \n",
       "       ∂            ⎟         ∂                   ⎜  ∂                ∂       \n",
       ")) + ─────(v₀(x, y))⎟ + A₂₆⋅─────(v₀(x, y)) + A₆₆⋅⎜─────(u₀(x, y)) + ───(v₀(x,\n",
       "     ∂y ∂x          ⎟       ∂y ∂x                 ⎜∂y ∂x               2      \n",
       "                    ⎠                             ⎝                  ∂x       \n",
       "\n",
       "    ⎞          3                     3                   3                    \n",
       "    ⎟         ∂                     ∂                   ∂                     \n",
       " y))⎟ - B₁₂⋅──────(w₀(x, y)) - B₁₆⋅───(w₀(x, y)) - B₂₂⋅───(w₀(x, y)) - 3⋅B₂₆⋅─\n",
       "    ⎟            2                   3                   3                    \n",
       "    ⎠       ∂y ∂x                  ∂x                  ∂y                    ∂\n",
       "\n",
       "  3                        3            \n",
       " ∂                        ∂             \n",
       "─────(w₀(x, y)) - 2⋅B₆₆⋅──────(w₀(x, y))\n",
       " 2                           2          \n",
       "y  ∂x                   ∂y ∂x           "
      ]
     },
     "execution_count": 15,
     "metadata": {},
     "output_type": "execute_result"
    }
   ],
   "source": [
    "eq2 = diff(Nxyf,x) + diff(Nyf,y)\n",
    "eq2"
   ]
  },
  {
   "cell_type": "code",
   "execution_count": 16,
   "metadata": {
    "collapsed": false
   },
   "outputs": [
    {
     "data": {
      "text/latex": [
       "$$B_{11} \\frac{\\partial^{3}}{\\partial x^{3}}  \\operatorname{u_{0}}{\\left (x,y \\right )} + B_{12} \\frac{\\partial^{3}}{\\partial x\\partial y^{2}}  \\operatorname{u_{0}}{\\left (x,y \\right )} + B_{12} \\frac{\\partial^{3}}{\\partial x^{2}\\partial y}  \\operatorname{v_{0}}{\\left (x,y \\right )} + B_{16} \\left(\\frac{\\partial^{3}}{\\partial x^{2}\\partial y}  \\operatorname{u_{0}}{\\left (x,y \\right )} + \\frac{\\partial^{3}}{\\partial x^{3}}  \\operatorname{v_{0}}{\\left (x,y \\right )}\\right) + 2 B_{16} \\frac{\\partial^{3}}{\\partial x^{2}\\partial y}  \\operatorname{u_{0}}{\\left (x,y \\right )} + B_{22} \\frac{\\partial^{3}}{\\partial y^{3}}  \\operatorname{v_{0}}{\\left (x,y \\right )} + B_{26} \\left(\\frac{\\partial^{3}}{\\partial y^{3}}  \\operatorname{u_{0}}{\\left (x,y \\right )} + \\frac{\\partial^{3}}{\\partial x\\partial y^{2}}  \\operatorname{v_{0}}{\\left (x,y \\right )}\\right) + 2 B_{26} \\frac{\\partial^{3}}{\\partial x\\partial y^{2}}  \\operatorname{v_{0}}{\\left (x,y \\right )} + 2 B_{66} \\left(\\frac{\\partial^{3}}{\\partial x\\partial y^{2}}  \\operatorname{u_{0}}{\\left (x,y \\right )} + \\frac{\\partial^{3}}{\\partial x^{2}\\partial y}  \\operatorname{v_{0}}{\\left (x,y \\right )}\\right) - D_{11} \\frac{\\partial^{4}}{\\partial x^{4}}  \\operatorname{w_{0}}{\\left (x,y \\right )} - 2 D_{12} \\frac{\\partial^{4}}{\\partial x^{2}\\partial y^{2}}  \\operatorname{w_{0}}{\\left (x,y \\right )} - 4 D_{16} \\frac{\\partial^{4}}{\\partial x^{3}\\partial y}  \\operatorname{w_{0}}{\\left (x,y \\right )} - D_{22} \\frac{\\partial^{4}}{\\partial y^{4}}  \\operatorname{w_{0}}{\\left (x,y \\right )} - 4 D_{26} \\frac{\\partial^{4}}{\\partial x\\partial y^{3}}  \\operatorname{w_{0}}{\\left (x,y \\right )} - 4 D_{66} \\frac{\\partial^{4}}{\\partial x^{2}\\partial y^{2}}  \\operatorname{w_{0}}{\\left (x,y \\right )} + q$$"
      ],
      "text/plain": [
       "      3                    3                      3                   ⎛   3   \n",
       "     ∂                    ∂                      ∂                    ⎜  ∂    \n",
       "B₁₁⋅───(u₀(x, y)) + B₁₂⋅──────(u₀(x, y)) + B₁₂⋅──────(v₀(x, y)) + B₁₆⋅⎜──────(\n",
       "      3                   2                         2                 ⎜     2 \n",
       "    ∂x                  ∂y  ∂x                 ∂y ∂x                  ⎝∂y ∂x  \n",
       "\n",
       "              3          ⎞            3                     3                 \n",
       "             ∂           ⎟           ∂                     ∂                  \n",
       "u₀(x, y)) + ───(v₀(x, y))⎟ + 2⋅B₁₆⋅──────(u₀(x, y)) + B₂₂⋅───(v₀(x, y)) + B₂₆⋅\n",
       "              3          ⎟              2                   3                 \n",
       "            ∂x           ⎠         ∂y ∂x                  ∂y                  \n",
       "\n",
       "⎛  3                3            ⎞            3                     ⎛   3     \n",
       "⎜ ∂                ∂             ⎟           ∂                      ⎜  ∂      \n",
       "⎜───(u₀(x, y)) + ──────(v₀(x, y))⎟ + 2⋅B₂₆⋅──────(v₀(x, y)) + 2⋅B₆₆⋅⎜──────(u₀\n",
       "⎜  3               2             ⎟           2                      ⎜  2      \n",
       "⎝∂y              ∂y  ∂x          ⎠         ∂y  ∂x                   ⎝∂y  ∂x   \n",
       "\n",
       "             3            ⎞         4                       4                 \n",
       "            ∂             ⎟        ∂                       ∂                  \n",
       "(x, y)) + ──────(v₀(x, y))⎟ - D₁₁⋅───(w₀(x, y)) - 2⋅D₁₂⋅───────(w₀(x, y)) - 4⋅\n",
       "               2          ⎟         4                     2   2               \n",
       "          ∂y ∂x           ⎠       ∂x                    ∂y  ∂x                \n",
       "\n",
       "       4                     4                      4                         \n",
       "      ∂                     ∂                      ∂                         ∂\n",
       "D₁₆⋅──────(w₀(x, y)) - D₂₂⋅───(w₀(x, y)) - 4⋅D₂₆⋅──────(w₀(x, y)) - 4⋅D₆₆⋅────\n",
       "         3                   4                     3                        2 \n",
       "    ∂y ∂x                  ∂y                    ∂y  ∂x                   ∂y  \n",
       "\n",
       "4                \n",
       "                 \n",
       "───(w₀(x, y)) + q\n",
       "  2              \n",
       "∂x               "
      ]
     },
     "execution_count": 16,
     "metadata": {},
     "output_type": "execute_result"
    }
   ],
   "source": [
    "eq3 = diff(Mxf,x,2) + 2*diff(Mxyf,x,y) + diff(Myf,y,2) + q\n",
    "eq3"
   ]
  },
  {
   "cell_type": "markdown",
   "metadata": {},
   "source": [
    "Yikes, I do not want to solve that (at least right now). If we make the assumption that the plate has equal displacement of y in the x and y direction, then we can simply things ALOT! These simplifications are valid for cross ply unsymmetric laminates plate, Hyer pg 616. This is applied by setting some of our material properties to zero. $ A16=A26=D16=D26=B16=B26=B12=B66=0 $\n",
    "Almost like magic, we now have some equations that aren't so scary."
   ]
  },
  {
   "cell_type": "code",
   "execution_count": 17,
   "metadata": {
    "collapsed": true
   },
   "outputs": [],
   "source": [
    "u0 = Function('u0')(x)\n",
    "v0 = Function('v0')(x)\n",
    "w0 = Function('w0')(x)"
   ]
  },
  {
   "cell_type": "code",
   "execution_count": 18,
   "metadata": {
    "collapsed": false
   },
   "outputs": [
    {
     "data": {
      "text/latex": [
       "$$N_{x} = A_{11} \\frac{d}{d x} \\operatorname{u_{0}}{\\left (x \\right )} - B_{11} \\frac{d^{2}}{d x^{2}}  \\operatorname{w_{0}}{\\left (x \\right )}$$"
      ],
      "text/plain": [
       "                           2       \n",
       "         d                d        \n",
       "Nₓ = A₁₁⋅──(u₀(x)) - B₁₁⋅───(w₀(x))\n",
       "         dx                2       \n",
       "                         dx        "
      ]
     },
     "execution_count": 18,
     "metadata": {},
     "output_type": "execute_result"
    }
   ],
   "source": [
    "Nxf = A11*diff(u0,x) + A12*diff(v0,y) - B11*diff(w0,x,2)\n",
    "Eq(Nx, Nxf)"
   ]
  },
  {
   "cell_type": "code",
   "execution_count": 19,
   "metadata": {
    "collapsed": false
   },
   "outputs": [
    {
     "data": {
      "text/latex": [
       "$$N_{y} = A_{12} \\frac{d}{d x} \\operatorname{u_{0}}{\\left (x \\right )}$$"
      ],
      "text/plain": [
       "          d        \n",
       "N_y = A₁₂⋅──(u₀(x))\n",
       "          dx       "
      ]
     },
     "execution_count": 19,
     "metadata": {},
     "output_type": "execute_result"
    }
   ],
   "source": [
    "Nyf = A12*diff(u0,x) + A22*diff(v0,y) - B22*diff(w0,y,2)\n",
    "Eq(Ny,Nyf)"
   ]
  },
  {
   "cell_type": "code",
   "execution_count": 20,
   "metadata": {
    "collapsed": false
   },
   "outputs": [
    {
     "data": {
      "text/latex": [
       "$$N_{xy} = A_{66} \\frac{d}{d x} \\operatorname{v_{0}}{\\left (x \\right )}$$"
      ],
      "text/plain": [
       "           d        \n",
       "N_xy = A₆₆⋅──(v₀(x))\n",
       "           dx       "
      ]
     },
     "execution_count": 20,
     "metadata": {},
     "output_type": "execute_result"
    }
   ],
   "source": [
    "Nxyf = A66*(diff(u0,y) + diff(v0,x))\n",
    "Eq(Nxy,Nxyf)"
   ]
  },
  {
   "cell_type": "code",
   "execution_count": 21,
   "metadata": {
    "collapsed": false
   },
   "outputs": [
    {
     "data": {
      "text/latex": [
       "$$M_{x} = B_{11} \\frac{d}{d x} \\operatorname{u_{0}}{\\left (x \\right )} - D_{11} \\frac{d^{2}}{d x^{2}}  \\operatorname{w_{0}}{\\left (x \\right )}$$"
      ],
      "text/plain": [
       "                           2       \n",
       "         d                d        \n",
       "Mₓ = B₁₁⋅──(u₀(x)) - D₁₁⋅───(w₀(x))\n",
       "         dx                2       \n",
       "                         dx        "
      ]
     },
     "execution_count": 21,
     "metadata": {},
     "output_type": "execute_result"
    }
   ],
   "source": [
    "Mxf = B11*diff(u0,x) - D11*diff(w0,x,2) - D12*diff(w0,y,2)\n",
    "Eq(Mx,Mxf)"
   ]
  },
  {
   "cell_type": "code",
   "execution_count": 22,
   "metadata": {
    "collapsed": false
   },
   "outputs": [
    {
     "data": {
      "text/latex": [
       "$$M_{y} = - D_{12} \\frac{d^{2}}{d x^{2}}  \\operatorname{w_{0}}{\\left (x \\right )}$$"
      ],
      "text/plain": [
       "             2       \n",
       "            d        \n",
       "M_y = -D₁₂⋅───(w₀(x))\n",
       "             2       \n",
       "           dx        "
      ]
     },
     "execution_count": 22,
     "metadata": {},
     "output_type": "execute_result"
    }
   ],
   "source": [
    "Myf = B22*diff(v0,y) - D12*diff(w0,x,2) - D22*diff(w0,y,2)\n",
    "Eq(My,Myf)"
   ]
  },
  {
   "cell_type": "code",
   "execution_count": 23,
   "metadata": {
    "collapsed": false
   },
   "outputs": [
    {
     "data": {
      "text/latex": [
       "$$M_{xy} = 0$$"
      ],
      "text/plain": [
       "M_xy = 0"
      ]
     },
     "execution_count": 23,
     "metadata": {},
     "output_type": "execute_result"
    }
   ],
   "source": [
    "Mxyf = 0\n",
    "Eq(Mxy,Mxyf)"
   ]
  },
  {
   "cell_type": "markdown",
   "metadata": {},
   "source": [
    "Now we are getting somewhere. Finally we can solve the differential equations "
   ]
  },
  {
   "cell_type": "code",
   "execution_count": 24,
   "metadata": {
    "collapsed": false
   },
   "outputs": [
    {
     "data": {
      "text/latex": [
       "$$\\operatorname{N_{x}}{\\left (x \\right )} = C_{1}$$"
      ],
      "text/plain": [
       "Nₓ(x) = C₁"
      ]
     },
     "execution_count": 24,
     "metadata": {},
     "output_type": "execute_result"
    }
   ],
   "source": [
    "dsolve(diff(Nx(x)))"
   ]
  },
  {
   "cell_type": "code",
   "execution_count": 25,
   "metadata": {
    "collapsed": false
   },
   "outputs": [
    {
     "data": {
      "text/latex": [
       "$$\\operatorname{M_{x}}{\\left (x \\right )} = C_{1} + C_{2} x - \\frac{q x^{2}}{2}$$"
      ],
      "text/plain": [
       "                       2\n",
       "                    q⋅x \n",
       "Mₓ(x) = C₁ + C₂⋅x - ────\n",
       "                     2  "
      ]
     },
     "execution_count": 25,
     "metadata": {},
     "output_type": "execute_result"
    }
   ],
   "source": [
    "dsolve(diff(Mx(x),x,2)+q)"
   ]
  },
  {
   "cell_type": "markdown",
   "metadata": {},
   "source": [
    "Now solve for u0 and w0 with some pixie dust"
   ]
  },
  {
   "cell_type": "code",
   "execution_count": 26,
   "metadata": {
    "collapsed": false
   },
   "outputs": [
    {
     "data": {
      "text/latex": [
       "$$A_{11} \\frac{d}{d x} \\operatorname{u_{0}}{\\left (x \\right )} - B_{11} \\frac{d^{2}}{d x^{2}}  \\operatorname{w_{0}}{\\left (x \\right )} - C_{1}$$"
      ],
      "text/plain": [
       "                      2            \n",
       "    d                d             \n",
       "A₁₁⋅──(u₀(x)) - B₁₁⋅───(w₀(x)) - C₁\n",
       "    dx                2            \n",
       "                    dx             "
      ]
     },
     "execution_count": 26,
     "metadata": {},
     "output_type": "execute_result"
    }
   ],
   "source": [
    "eq4 = (Nxf-C1)\n",
    "eq4"
   ]
  },
  {
   "cell_type": "code",
   "execution_count": 27,
   "metadata": {
    "collapsed": false
   },
   "outputs": [
    {
     "data": {
      "text/latex": [
       "$$B_{11} \\frac{d}{d x} \\operatorname{u_{0}}{\\left (x \\right )} - C_{2} x - C_{3} - D_{11} \\frac{d^{2}}{d x^{2}}  \\operatorname{w_{0}}{\\left (x \\right )} + q x^{2}$$"
      ],
      "text/plain": [
       "                                  2              \n",
       "    d                            d              2\n",
       "B₁₁⋅──(u₀(x)) - C₂⋅x - C₃ - D₁₁⋅───(w₀(x)) + q⋅x \n",
       "    dx                            2              \n",
       "                                dx               "
      ]
     },
     "execution_count": 27,
     "metadata": {},
     "output_type": "execute_result"
    }
   ],
   "source": [
    "eq5 = Mxf -( -q*x**2 + C2*x + C3 )\n",
    "eq5"
   ]
  },
  {
   "cell_type": "code",
   "execution_count": 28,
   "metadata": {
    "collapsed": false
   },
   "outputs": [
    {
     "data": {
      "text/latex": [
       "$$\\frac{1}{A_{11}} \\left(B_{11} \\frac{d^{2}}{d x^{2}}  \\operatorname{w_{0}}{\\left (x \\right )} + C_{1}\\right) = \\frac{1}{B_{11}} \\left(C_{2} x + C_{3} + D_{11} \\frac{d^{2}}{d x^{2}}  \\operatorname{w_{0}}{\\left (x \\right )} - q x^{2}\\right)$$"
      ],
      "text/plain": [
       "      2                                 2              \n",
       "     d                                 d              2\n",
       "B₁₁⋅───(w₀(x)) + C₁   C₂⋅x + C₃ + D₁₁⋅───(w₀(x)) - q⋅x \n",
       "      2                                 2              \n",
       "    dx                                dx               \n",
       "─────────────────── = ─────────────────────────────────\n",
       "        A₁₁                          B₁₁               "
      ]
     },
     "execution_count": 28,
     "metadata": {},
     "output_type": "execute_result"
    }
   ],
   "source": [
    "eq6 = Eq(solve(eq4,diff(u0,x))[0] , solve(eq5, diff(u0,x))[0])\n",
    "eq6"
   ]
  },
  {
   "cell_type": "code",
   "execution_count": 29,
   "metadata": {
    "collapsed": false
   },
   "outputs": [
    {
     "data": {
      "text/latex": [
       "$$\\operatorname{w_{0}}{\\left (x \\right )} = - \\frac{A_{11} C_{2} x^{3}}{6 A_{11} D_{11} - 6 B_{11}^{2}} + \\frac{A_{11} q x^{4}}{12 A_{11} D_{11} - 12 B_{11}^{2}} + C_{1} + C_{5} x + \\frac{x^{2} \\left(- A_{11} C_{3} + B_{11} C_{4}\\right)}{2 A_{11} D_{11} - 2 B_{11}^{2}}$$"
      ],
      "text/plain": [
       "                      3                     4                     2           \n",
       "              A₁₁⋅C₂⋅x               A₁₁⋅q⋅x                     x ⋅(-A₁₁⋅C₃ +\n",
       "w₀(x) = - ────────────────── + ─────────────────── + C₁ + C₅⋅x + ─────────────\n",
       "            ⎛             2⎞      ⎛             2⎞                   ⎛        \n",
       "          6⋅⎝A₁₁⋅D₁₁ - B₁₁ ⎠   12⋅⎝A₁₁⋅D₁₁ - B₁₁ ⎠                 2⋅⎝A₁₁⋅D₁₁ \n",
       "\n",
       "        \n",
       " B₁₁⋅C₄)\n",
       "────────\n",
       "     2⎞ \n",
       "- B₁₁ ⎠ "
      ]
     },
     "execution_count": 29,
     "metadata": {},
     "output_type": "execute_result"
    }
   ],
   "source": [
    "w0f = dsolve(eq6, w0)\n",
    "w0f"
   ]
  },
  {
   "cell_type": "code",
   "execution_count": 30,
   "metadata": {
    "collapsed": false
   },
   "outputs": [
    {
     "data": {
      "text/latex": [
       "$$\\frac{1}{A_{11} D_{11} - B_{11}^{2}} \\left(- A_{11} C_{2} x - A_{11} C_{3} + A_{11} q x^{2} + B_{11} C_{1}\\right) = \\frac{1}{B_{11}} \\left(A_{11} \\frac{d}{d x} \\operatorname{u_{0}}{\\left (x \\right )} - C_{1}\\right)$$"
      ],
      "text/plain": [
       "                                             d             \n",
       "                            2            A₁₁⋅──(u₀(x)) - C₁\n",
       "-A₁₁⋅C₂⋅x - A₁₁⋅C₃ + A₁₁⋅q⋅x  + B₁₁⋅C₁       dx            \n",
       "────────────────────────────────────── = ──────────────────\n",
       "                         2                      B₁₁        \n",
       "            A₁₁⋅D₁₁ - B₁₁                                  "
      ]
     },
     "execution_count": 30,
     "metadata": {},
     "output_type": "execute_result"
    }
   ],
   "source": [
    "eq7 = Eq(solve(eq6, diff(w0,x,2))[0] , solve(eq4,diff(w0,x,2))[0])\n",
    "eq7"
   ]
  },
  {
   "cell_type": "code",
   "execution_count": 31,
   "metadata": {
    "collapsed": false
   },
   "outputs": [
    {
     "data": {
      "text/latex": [
       "$$\\operatorname{u_{0}}{\\left (x \\right )} = \\frac{1}{A_{11} D_{11} - B_{11}^{2}} \\left(- \\frac{B_{11} C_{1}}{2} x^{2} - B_{11} C_{3} x - B_{11} C_{4} D_{11} + \\frac{B_{11} q}{3} x^{3} + C_{2} D_{11} x + \\frac{B_{11}^{3} C_{4}}{A_{11}}\\right)$$"
      ],
      "text/plain": [
       "                  2                                  3                 3   \n",
       "          B₁₁⋅C₁⋅x                            B₁₁⋅q⋅x               B₁₁ ⋅C₄\n",
       "        - ───────── - B₁₁⋅C₃⋅x - B₁₁⋅C₄⋅D₁₁ + ──────── + C₂⋅D₁₁⋅x + ───────\n",
       "              2                                  3                    A₁₁  \n",
       "u₀(x) = ───────────────────────────────────────────────────────────────────\n",
       "                                                2                          \n",
       "                                   A₁₁⋅D₁₁ - B₁₁                           "
      ]
     },
     "execution_count": 31,
     "metadata": {},
     "output_type": "execute_result"
    }
   ],
   "source": [
    "u0f = dsolve(eq7)\n",
    "u0f"
   ]
  },
  {
   "cell_type": "markdown",
   "metadata": {
    "collapsed": true
   },
   "source": [
    "- - - - "
   ]
  },
  {
   "cell_type": "markdown",
   "metadata": {},
   "source": [
    "## A Simplier Example"
   ]
  },
  {
   "cell_type": "code",
   "execution_count": 1,
   "metadata": {
    "collapsed": true
   },
   "outputs": [],
   "source": [
    "#==========================================================================\n",
    "# Initialize\n",
    "#==========================================================================\n",
    "#get_ipython().magic('matplotlib') \n",
    "#plt.close('all')\n",
    "#plt.rcParams['figure.figsize'] = (12, 8)\n",
    "#plt.rcParams['font.size'] = 13\n",
    "#plt.rcParams['legend.fontsize'] = 14"
   ]
  },
  {
   "cell_type": "code",
   "execution_count": 2,
   "metadata": {
    "collapsed": true
   },
   "outputs": [],
   "source": [
    "# Import Python modules and \n",
    "import numpy as np\n",
    "from sympy import *\n",
    "from pprint import pprint\n",
    "\n",
    "# printing and plotting settings \n",
    "init_printing(use_latex='mathjax')\n",
    "get_ipython().magic('matplotlib inline') # inline plotting\n",
    "\n",
    "x,y,q = symbols('x,y,q')"
   ]
  },
  {
   "cell_type": "code",
   "execution_count": 8,
   "metadata": {
    "collapsed": true
   },
   "outputs": [],
   "source": [
    "from composites import Qf, T1, T2\n",
    "import numpy as np\n",
    "from numpy import zeros, ones, linspace, arange, array\n",
    "from numpy.linalg import inv"
   ]
  },
  {
   "cell_type": "code",
   "execution_count": 96,
   "metadata": {
    "collapsed": false
   },
   "outputs": [],
   "source": [
    "#==========================================================================\n",
    "# Import Material Properties\n",
    "#==========================================================================\n",
    "plythk = 0.0025\n",
    "plyangle = array([0,45,90]) * np.pi/180 # angle for each ply  # [0,90,-45,45,0]\n",
    "nply = len(plyangle) # number of plies\n",
    "laminatethk = zeros(nply) + plythk\n",
    "H =   sum(laminatethk) # plate thickness\n",
    "# Create z dimensions of laminate\n",
    "z_ = zeros(nply+1); z_[0] = -H/2\n",
    "zmid_ = zeros(nply)\n",
    "for i in range(nply):\n",
    "    z_[i+1] = z_[i] + laminatethk[i]\n",
    "    zmid_[i] = z_[i] + laminatethk[i]/2\n",
    "\n",
    "a_ =   20  # plate width;\n",
    "b_ =   10  # plate height\n",
    "q_ = -5.7 # plate load;\n",
    "# Transversly isotropic material properties\n",
    "E1 = 150e9\n",
    "E2 = 12.1e9\n",
    "nu12 = 0.248\n",
    "G12 = 4.4e9\n",
    "nu23 = 0.458\n",
    "G23 = E2 / (2*(1+nu23))\n",
    "# Failure Strengths\n",
    "F1t =  1500e6\n",
    "F1c = -1250e6\n",
    "F2t =  50e6\n",
    "F2c = -200e6\n",
    "F12t =  100e6\n",
    "F12c =  -100e6\n",
    "Strength = np.array([[F1t, F1c],\n",
    "                    [F2t, F2c],\n",
    "                    [F12t, F12c]])\n",
    "\n",
    "A = zeros((3,3)); B = zeros((3,3)); D = zeros((3,3))  \n",
    "Q = Qf(E1, E2, nu12, G12 )\n",
    "for i in range(nply):  # = nply\n",
    "    Qbar = inv(T1(plyangle[i])) @ Q   @ T2(plyangle[i]) # solve(T1(plyangle[i]), Q) @ T2(plyangle[i])\n",
    "    A += Qbar*(z_[i+1]-z_[i])\n",
    "    # coupling  stiffness\n",
    "    B += (1/2)*Qbar*(z_[i+1]**2-z_[i]**2)\n",
    "    # bending or flexural laminate stiffness relating moments to curvatures\n",
    "    D += (1/3)*Qbar*(z_[i+1]**3-z_[i]**3)  "
   ]
  },
  {
   "cell_type": "code",
   "execution_count": 54,
   "metadata": {
    "collapsed": false
   },
   "outputs": [
    {
     "data": {
      "text/plain": [
       "array([[  7.5361e+08,   1.5144e+07,   4.7596e+06],\n",
       "       [  1.5144e+07,   6.0801e+07,  -1.0910e+04],\n",
       "       [  4.7596e+06,  -1.0910e+04,   2.2065e+07]])"
      ]
     },
     "execution_count": 54,
     "metadata": {},
     "output_type": "execute_result"
    }
   ],
   "source": [
    "A"
   ]
  },
  {
   "cell_type": "code",
   "execution_count": 55,
   "metadata": {
    "collapsed": false
   },
   "outputs": [
    {
     "data": {
      "text/plain": [
       "array([[ -1.6314e+02,   8.1763e+01,   5.9495e+03],\n",
       "       [  8.1763e+01,  -3.8927e-01,  -1.3638e+01],\n",
       "       [  5.9495e+03,  -1.3638e+01,   8.1763e+01]])"
      ]
     },
     "execution_count": 55,
     "metadata": {},
     "output_type": "execute_result"
    }
   ],
   "source": [
    "B"
   ]
  },
  {
   "cell_type": "code",
   "execution_count": 56,
   "metadata": {
    "collapsed": false
   },
   "outputs": [
    {
     "data": {
      "text/plain": [
       "array([[  1.5700e+03,   3.1550e+01,   9.9159e+00],\n",
       "       [  3.1550e+01,   1.2667e+02,  -2.2729e-02],\n",
       "       [  9.9159e+00,  -2.2729e-02,   4.5970e+01]])"
      ]
     },
     "execution_count": 56,
     "metadata": {},
     "output_type": "execute_result"
    }
   ],
   "source": [
    "D"
   ]
  },
  {
   "cell_type": "code",
   "execution_count": 57,
   "metadata": {
    "collapsed": false
   },
   "outputs": [],
   "source": [
    "A11_ = A[0,0]\n",
    "B11_ = B[0,0]\n",
    "D11_ = D[0,0]"
   ]
  },
  {
   "cell_type": "code",
   "execution_count": 58,
   "metadata": {
    "collapsed": false
   },
   "outputs": [],
   "source": [
    "# declare symbols for equation generation\n",
    "th,x,y,z,q,a,b,C1,C2,C3,C4,C5,C6 = symbols('th,x,y,z,q,a,b,C1,C2,C3,C4,C5,C6')\n",
    "\n",
    "strainx, strainy, strainxy, stressx, stress, stressxy = symbols('epsilonx,epsilony,gammaxy,sigmax,sigmay,sigmaxy')\n",
    "\n",
    "ex,ey,exy,sx,sy,sxy = symbols('epsilon_x, epsilon_y, gamma_xy,sigma_x,sigma_y,tau_xy')\n",
    "\n",
    "A11,A22,A66,A12,A16,A26,A66 = symbols('A11,A22,A66,A12,A16,A26,A66')\n",
    "B11,B22,B66,B12,B16,B26,B66 = symbols('B11,B22,B66,B12,B16,B26,B66')\n",
    "D11,D22,D66,D12,D16,D26,D66 = symbols('D11,D22,D66,D12,D16,D26,D66')\n",
    "Nx,Ny,Nxy,Mx,My,Mxy = symbols('Nx,Ny,Nxy,Mx,My,Mxy')\n",
    "\n",
    "##if use this, then reference  the function as u0(x), example  diff(u0(x),x,2)\n",
    "#\n",
    "#u0 = Function('u0')(x,y)\n",
    "#v0 = Function('v0')(x,y)\n",
    "#w0 = Function('w0')(x,y)"
   ]
  },
  {
   "cell_type": "code",
   "execution_count": 59,
   "metadata": {
    "collapsed": false
   },
   "outputs": [
    {
     "data": {
      "text/latex": [
       "$$\\frac{A_{11}}{A_{11} D_{11} - B_{11}^{2}} \\left(- \\frac{C_{2} x^{3}}{6} - C_{5} x - C_{6} + \\frac{q x^{4}}{24} - \\frac{x^{2}}{2} \\left(C_{3} - \\frac{B_{11} C_{1}}{A_{11}}\\right)\\right)$$"
      ],
      "text/plain": [
       "    ⎛                              2 ⎛     B₁₁⋅C₁⎞⎞\n",
       "    ⎜      3                  4   x ⋅⎜C₃ - ──────⎟⎟\n",
       "    ⎜  C₂⋅x                q⋅x       ⎝      A₁₁  ⎠⎟\n",
       "A₁₁⋅⎜- ───── - C₅⋅x - C₆ + ──── - ────────────────⎟\n",
       "    ⎝    6                  24           2        ⎠\n",
       "───────────────────────────────────────────────────\n",
       "                                2                  \n",
       "                   A₁₁⋅D₁₁ - B₁₁                   "
      ]
     },
     "execution_count": 59,
     "metadata": {},
     "output_type": "execute_result"
    }
   ],
   "source": [
    "w0 = A11 / (A11*D11-B11**2) * ( q*x**4/24 - C2*x**3/6 - (C3- B11/A11*C1)*x**2/2 - C5*x - C6 )\n",
    "w0"
   ]
  },
  {
   "cell_type": "code",
   "execution_count": 60,
   "metadata": {
    "collapsed": false
   },
   "outputs": [
    {
     "data": {
      "text/latex": [
       "$$\\frac{B_{11}}{A_{11} D_{11} - B_{11}^{2}} \\left(- \\frac{C_{2} x^{2}}{2} - C_{3} x + \\frac{q x^{3}}{6}\\right) + \\frac{C_{1} D_{11} x}{A_{11} D_{11} - B_{11}^{2}} + \\frac{C_{4}}{A_{11}}$$"
      ],
      "text/plain": [
       "    ⎛      2             3⎞                       \n",
       "    ⎜  C₂⋅x           q⋅x ⎟                       \n",
       "B₁₁⋅⎜- ───── - C₃⋅x + ────⎟                       \n",
       "    ⎝    2             6  ⎠      C₁⋅D₁₁⋅x       C₄\n",
       "─────────────────────────── + ────────────── + ───\n",
       "                    2                      2   A₁₁\n",
       "       A₁₁⋅D₁₁ - B₁₁          A₁₁⋅D₁₁ - B₁₁       "
      ]
     },
     "execution_count": 60,
     "metadata": {},
     "output_type": "execute_result"
    }
   ],
   "source": [
    "u0 = D11/(A11*D11 - B11**2 ) *C1*x + B11/(A11*D11-B11**2) * (q*x**3/6-C2*x**2/2-C3*x)+C4/A11\n",
    "u0"
   ]
  },
  {
   "cell_type": "code",
   "execution_count": 61,
   "metadata": {
    "collapsed": false
   },
   "outputs": [],
   "source": [
    "Nx = C1\n",
    "Mx = -q*x**2/2+C2*x+C3\n",
    "\n",
    "# simple support, pin pin\n",
    "bc1 = Mx.subs(x,+a/2)\n",
    "bc2 = Mx.subs(x,-a/2)\n",
    "bc3 = u0.subs(x,+a/2)\n",
    "bc4 = u0.subs(x,-a/2)\n",
    "bc5 = w0.subs(x,+a/2)\n",
    "bc6 = w0.subs(x,-a/2)\n",
    "\n",
    "# pin-roller\n",
    "#bc1 = Mx.subs(x,+a/2)\n",
    "#bc2 = Mx.subs(x,-a/2)\n",
    "#bc3 = Nx.subs(x,+a/2)\n",
    "#bc4 = u0.subs(x,-a/2)\n",
    "#bc5 = w0.subs(x,+a/2)\n",
    "#bc6 = w0.subs(x,-a/2)\n",
    "\n",
    "# fixed-pin\n",
    "#bc1 = u0.subs(x,+a/2)\n",
    "#bc2 = w0.subs(x,+a/2)\n",
    "#bc3 = w0.diff(x).subs(x,+a/2)\n",
    "#bc4 = u0.subs(x,-a/2)\n",
    "#bc5 = Mx.subs(x,-a/2)\n",
    "#bc6 = w0.subs(x,-a/2)"
   ]
  },
  {
   "cell_type": "code",
   "execution_count": 62,
   "metadata": {
    "collapsed": false
   },
   "outputs": [
    {
     "data": {
      "text/latex": [
       "$$\\left \\{ C_{1} : \\frac{B_{11} a^{2} q}{12 D_{11}}, \\quad C_{2} : 0, \\quad C_{3} : \\frac{a^{2} q}{8}, \\quad C_{4} : 0, \\quad C_{5} : 0, \\quad C_{6} : \\frac{a^{4} q}{384 A_{11} D_{11}} \\left(- 5 A_{11} D_{11} + 4 B_{11}^{2}\\right)\\right \\}$$"
      ],
      "text/plain": [
       "⎧         2                2                       4   ⎛                  2⎞⎫\n",
       "⎪    B₁₁⋅a ⋅q             a ⋅q                    a ⋅q⋅⎝-5⋅A₁₁⋅D₁₁ + 4⋅B₁₁ ⎠⎪\n",
       "⎨C₁: ────────, C₂: 0, C₃: ────, C₄: 0, C₅: 0, C₆: ──────────────────────────⎬\n",
       "⎪     12⋅D₁₁               8                             384⋅A₁₁⋅D₁₁        ⎪\n",
       "⎩                                                                           ⎭"
      ]
     },
     "execution_count": 62,
     "metadata": {},
     "output_type": "execute_result"
    }
   ],
   "source": [
    "C = solve([bc1,bc2,bc3,bc4,bc5,bc6],[C1,C2,C3,C4,C5,C6])\n",
    "C"
   ]
  },
  {
   "cell_type": "code",
   "execution_count": 63,
   "metadata": {
    "collapsed": false
   },
   "outputs": [],
   "source": [
    "C1_ = C[C1].subs({a:a_,b:b_,q:q_,A11:A11_, B11:B11_, D11:D11_})\n",
    "C2_ = C[C2].subs({a:a_,b:b_,q:q_,A11:A11_, B11:B11_, D11:D11_})\n",
    "C3_ = C[C3].subs({a:a_,b:b_,q:q_,A11:A11_, B11:B11_, D11:D11_})\n",
    "C4_ = C[C4].subs({a:a_,b:b_,q:q_,A11:A11_, B11:B11_, D11:D11_})\n",
    "C5_ = C[C5].subs({a:a_,b:b_,q:q_,A11:A11_, B11:B11_, D11:D11_})\n",
    "C6_ = C[C6].subs({a:a_,b:b_,q:q_,A11:A11_, B11:B11_, D11:D11_})"
   ]
  },
  {
   "cell_type": "code",
   "execution_count": 64,
   "metadata": {
    "collapsed": false
   },
   "outputs": [
    {
     "data": {
      "text/latex": [
       "$$\\frac{B_{11} a^{2} q x}{12 A_{11} D_{11} - 12 B_{11}^{2}} + \\frac{B_{11} \\left(- \\frac{q x}{8} a^{2} + \\frac{q x^{3}}{6}\\right)}{A_{11} D_{11} - B_{11}^{2}}$$"
      ],
      "text/plain": [
       "                          ⎛   2          3⎞\n",
       "                          ⎜  a ⋅q⋅x   q⋅x ⎟\n",
       "          2           B₁₁⋅⎜- ────── + ────⎟\n",
       "     B₁₁⋅a ⋅q⋅x           ⎝    8       6  ⎠\n",
       "─────────────────── + ─────────────────────\n",
       "   ⎛             2⎞                    2   \n",
       "12⋅⎝A₁₁⋅D₁₁ - B₁₁ ⎠       A₁₁⋅D₁₁ - B₁₁    "
      ]
     },
     "execution_count": 64,
     "metadata": {},
     "output_type": "execute_result"
    }
   ],
   "source": [
    "u0 = u0.subs({C1:C[C1] , C2:C[C2], C3:C[C3], C4:C[C4], C5:C[C5], C6:C[C6]})\n",
    "u0"
   ]
  },
  {
   "cell_type": "code",
   "execution_count": 65,
   "metadata": {
    "collapsed": false
   },
   "outputs": [
    {
     "data": {
      "text/latex": [
       "$$\\frac{A_{11}}{A_{11} D_{11} - B_{11}^{2}} \\left(\\frac{q x^{4}}{24} - \\frac{x^{2}}{2} \\left(\\frac{a^{2} q}{8} - \\frac{B_{11}^{2} a^{2} q}{12 A_{11} D_{11}}\\right) - \\frac{a^{4} q}{384 A_{11} D_{11}} \\left(- 5 A_{11} D_{11} + 4 B_{11}^{2}\\right)\\right)$$"
      ],
      "text/plain": [
       "    ⎛          ⎛ 2        2  2   ⎞                             ⎞\n",
       "    ⎜        2 ⎜a ⋅q   B₁₁ ⋅a ⋅q ⎟                             ⎟\n",
       "    ⎜   4   x ⋅⎜──── - ──────────⎟    4   ⎛                  2⎞⎟\n",
       "    ⎜q⋅x       ⎝ 8     12⋅A₁₁⋅D₁₁⎠   a ⋅q⋅⎝-5⋅A₁₁⋅D₁₁ + 4⋅B₁₁ ⎠⎟\n",
       "A₁₁⋅⎜──── - ────────────────────── - ──────────────────────────⎟\n",
       "    ⎝ 24              2                     384⋅A₁₁⋅D₁₁        ⎠\n",
       "────────────────────────────────────────────────────────────────\n",
       "                                      2                         \n",
       "                         A₁₁⋅D₁₁ - B₁₁                          "
      ]
     },
     "execution_count": 65,
     "metadata": {},
     "output_type": "execute_result"
    }
   ],
   "source": [
    "w0 = w0.subs({C1:C[C1] , C2:C[C2], C3:C[C3], C4:C[C4], C5:C[C5], C6:C[C6]})\n",
    "w0"
   ]
  },
  {
   "cell_type": "code",
   "execution_count": 66,
   "metadata": {
    "collapsed": false
   },
   "outputs": [
    {
     "data": {
      "text/latex": [
       "$$1.30985075372696 \\cdot 10^{-10} x^{3} - 1.30985075372696 \\cdot 10^{-8} x$$"
      ],
      "text/plain": [
       "                      3                        \n",
       "1.30985075372696e-10⋅x  - 1.30985075372696e-8⋅x"
      ]
     },
     "execution_count": 66,
     "metadata": {},
     "output_type": "execute_result"
    }
   ],
   "source": [
    "u0f = u0.subs({a:a_,b:b_,q:q_,A11:A11_, B11:B11_, D11:D11_,C1:C1_ , C2:C2_, C3:C3_, C4:C4_, C5:C5_, C6:C6_})\n",
    "u0f"
   ]
  },
  {
   "cell_type": "code",
   "execution_count": 67,
   "metadata": {
    "collapsed": false
   },
   "outputs": [
    {
     "data": {
      "text/latex": [
       "$$- 0.00015127207483575 x^{4} + 0.090763243540425 x^{2} - 7.563603605685$$"
      ],
      "text/plain": [
       "                       4                      2                 \n",
       "- 0.00015127207483575⋅x  + 0.090763243540425⋅x  - 7.563603605685"
      ]
     },
     "execution_count": 67,
     "metadata": {},
     "output_type": "execute_result"
    }
   ],
   "source": [
    "w0f = w0.subs({a:a_,b:b_,q:q_,A11:A11_, B11:B11_, D11:D11_,C1:C1_ , C2:C2_, C3:C3_, C4:C4_, C5:C5_, C6:C6_})\n",
    "w0f"
   ]
  },
  {
   "cell_type": "code",
   "execution_count": 68,
   "metadata": {
    "collapsed": false
   },
   "outputs": [
    {
     "data": {
      "image/png": "[encoded data removed]",
      "text/plain": [
       "<matplotlib.figure.Figure at 0x28aa3ccc400>"
      ]
     },
     "metadata": {},
     "output_type": "display_data"
    },
    {
     "data": {
      "text/plain": [
       "<sympy.plotting.plot.Plot at 0x28aa3c96908>"
      ]
     },
     "execution_count": 68,
     "metadata": {},
     "output_type": "execute_result"
    }
   ],
   "source": [
    "# Sympy 3d plots\n",
    "from sympy.plotting import plot3d\n",
    "w0p = w0f.subs({a:a_, b:b_, q:q_, A11:A11_, B11:B11_, D11:D11_})\n",
    "u0p = u0f.subs({a:a_, b:b_, q:q_, A11:A11_, B11:B11_, D11:D11_})\n",
    "plot3d(w0p, (x,-a_/2,a_/2), (y,-b_/2,b_/2), title='beam deflection', xlabel='a,in', ylabel='b,in', zlabel='z,in')"
   ]
  },
  {
   "cell_type": "code",
   "execution_count": 69,
   "metadata": {
    "collapsed": false
   },
   "outputs": [],
   "source": [
    "# Strain"
   ]
  },
  {
   "cell_type": "code",
   "execution_count": 74,
   "metadata": {
    "collapsed": false
   },
   "outputs": [
    {
     "data": {
      "text/latex": [
       "$$\\frac{0.5 A_{11}^{2}}{\\left(A_{11} D_{11} - B_{11}^{2}\\right)^{2}} \\left(\\frac{q x^{3}}{6} - x \\left(\\frac{a^{2} q}{8} - \\frac{B_{11}^{2} a^{2} q}{12 A_{11} D_{11}}\\right)\\right)^{2} - \\frac{A_{11} q z}{24 A_{11} D_{11} - 24 B_{11}^{2}} \\left(- 3 a^{2} + 12 x^{2} + \\frac{2 B_{11}^{2} a^{2}}{A_{11} D_{11}}\\right) + \\frac{B_{11} a^{2} q}{12 A_{11} D_{11} - 12 B_{11}^{2}} + \\frac{B_{11} \\left(- \\frac{a^{2} q}{8} + \\frac{q x^{2}}{2}\\right)}{A_{11} D_{11} - B_{11}^{2}}$$"
      ],
      "text/plain": [
       "                                       2                                      \n",
       "         ⎛   3     ⎛ 2        2  2   ⎞⎞            ⎛                      2  2\n",
       "       2 ⎜q⋅x      ⎜a ⋅q   B₁₁ ⋅a ⋅q ⎟⎟            ⎜     2       2   2⋅B₁₁ ⋅a \n",
       "0.5⋅A₁₁ ⋅⎜──── - x⋅⎜──── - ──────────⎟⎟    A₁₁⋅q⋅z⋅⎜- 3⋅a  + 12⋅x  + ─────────\n",
       "         ⎝ 6       ⎝ 8     12⋅A₁₁⋅D₁₁⎠⎠            ⎝                  A₁₁⋅D₁₁ \n",
       "──────────────────────────────────────── - ───────────────────────────────────\n",
       "                           2                          ⎛             2⎞        \n",
       "           ⎛             2⎞                        24⋅⎝A₁₁⋅D₁₁ - B₁₁ ⎠        \n",
       "           ⎝A₁₁⋅D₁₁ - B₁₁ ⎠                                                   \n",
       "\n",
       "                                             \n",
       "⎞                             ⎛   2        2⎞\n",
       "⎟                             ⎜  a ⋅q   q⋅x ⎟\n",
       "⎟              2          B₁₁⋅⎜- ──── + ────⎟\n",
       "⎠         B₁₁⋅a ⋅q            ⎝   8      2  ⎠\n",
       "─ + ─────────────────── + ───────────────────\n",
       "       ⎛             2⎞                   2  \n",
       "    12⋅⎝A₁₁⋅D₁₁ - B₁₁ ⎠      A₁₁⋅D₁₁ - B₁₁   \n",
       "                                             "
      ]
     },
     "execution_count": 74,
     "metadata": {},
     "output_type": "execute_result"
    }
   ],
   "source": [
    "epsx = diff(u0,x) + 0.5* diff(w0,x)**2 - z*diff(w0,x,2)\n",
    "epsx"
   ]
  },
  {
   "cell_type": "code",
   "execution_count": 76,
   "metadata": {
    "collapsed": false
   },
   "outputs": [
    {
     "data": {
      "text/latex": [
       "$$3.92955226118088 \\cdot 10^{-10} x^{2} + 0.00015127207483575 z \\left(12 x^{2} - 1199.9999820056\\right) + 2.02843130194905 \\cdot 10^{-7} \\left(- 0.95 x^{3} + 284.99999572633 x\\right)^{2} - 1.30985075372696 \\cdot 10^{-8}$$"
      ],
      "text/plain": [
       "                                                                              \n",
       "                      2                         ⎛    2                  ⎞     \n",
       "3.92955226118088e-10⋅x  + 0.00015127207483575⋅z⋅⎝12⋅x  - 1199.9999820056⎠ + 2.\n",
       "\n",
       "                                                 2                      \n",
       "                  ⎛        3                    ⎞                       \n",
       "02843130194905e-7⋅⎝- 0.95⋅x  + 284.99999572633⋅x⎠  - 1.30985075372696e-8"
      ]
     },
     "execution_count": 76,
     "metadata": {},
     "output_type": "execute_result"
    }
   ],
   "source": [
    "epsx = epsx.subs({a:a_,b:b_,q:q_,A11:A11_, B11:B11_, D11:D11_,C1:C1_ , C2:C2_, C3:C3_, C4:C4_, C5:C5_, C6:C6_})\n",
    "epsx"
   ]
  },
  {
   "cell_type": "code",
   "execution_count": 71,
   "metadata": {
    "collapsed": false
   },
   "outputs": [
    {
     "data": {
      "text/latex": [
       "$$0$$"
      ],
      "text/plain": [
       "0"
      ]
     },
     "execution_count": 71,
     "metadata": {},
     "output_type": "execute_result"
    }
   ],
   "source": [
    "epsy = 0.5* diff(w0,y)**2 - z*diff(w0,y,2)\n",
    "epsy"
   ]
  },
  {
   "cell_type": "code",
   "execution_count": 72,
   "metadata": {
    "collapsed": false
   },
   "outputs": [
    {
     "data": {
      "text/latex": [
       "$$0$$"
      ],
      "text/plain": [
       "0"
      ]
     },
     "execution_count": 72,
     "metadata": {},
     "output_type": "execute_result"
    }
   ],
   "source": [
    "epsxy = 0.5*(diff(u0,y) + diff(w0,x)*diff(w0,y)) - z*diff(w0,x,y) \n",
    "epsxy"
   ]
  },
  {
   "cell_type": "code",
   "execution_count": 107,
   "metadata": {
    "collapsed": false
   },
   "outputs": [
    {
     "data": {
      "text/latex": [
       "$$\\left[\\begin{matrix}3.92955226118088 \\cdot 10^{-10} x^{2} + 0.00015127207483575 z \\left(12 x^{2} - 1199.9999820056\\right) + 2.02843130194905 \\cdot 10^{-7} \\left(- 0.95 x^{3} + 284.99999572633 x\\right)^{2} - 1.30985075372696 \\cdot 10^{-8}\\\\0\\\\0\\end{matrix}\\right]$$"
      ],
      "text/plain": [
       "⎡                                                                             \n",
       "⎢                      2                         ⎛    2                  ⎞    \n",
       "⎢3.92955226118088e-10⋅x  + 0.00015127207483575⋅z⋅⎝12⋅x  - 1199.9999820056⎠ + 2\n",
       "⎢                                                                             \n",
       "⎢                                                                          0  \n",
       "⎢                                                                             \n",
       "⎣                                                                          0  \n",
       "\n",
       "                                                  2                      ⎤\n",
       "                   ⎛        3                    ⎞                       ⎥\n",
       ".02843130194905e-7⋅⎝- 0.95⋅x  + 284.99999572633⋅x⎠  - 1.30985075372696e-8⎥\n",
       "                                                                         ⎥\n",
       "                                                                         ⎥\n",
       "                                                                         ⎥\n",
       "                                                                         ⎦"
      ]
     },
     "execution_count": 107,
     "metadata": {},
     "output_type": "execute_result"
    }
   ],
   "source": [
    "Matrix([[epsx],[epsy],[epsxy]])"
   ]
  },
  {
   "cell_type": "code",
   "execution_count": 108,
   "metadata": {
    "collapsed": false
   },
   "outputs": [
    {
     "data": {
      "text/plain": [
       "array([[ 3.92955226118088e-10*x**2 + 0.00015127207483575*z*(12*x**2 - 1199.9999820056) + 2.02843130194905e-7*(-0.95*x**3 + 284.99999572633*x)**2 - 1.30985075372696e-8],\n",
       "       [0],\n",
       "       [0]], dtype=object)"
      ]
     },
     "execution_count": 108,
     "metadata": {},
     "output_type": "execute_result"
    }
   ],
   "source": [
    "eps0 = np.array([[epsx],[epsy],[epsxy]])\n",
    "eps0"
   ]
  },
  {
   "cell_type": "markdown",
   "metadata": {},
   "source": [
    "Plotting"
   ]
  },
  {
   "cell_type": "code",
   "execution_count": 77,
   "metadata": {
    "collapsed": true
   },
   "outputs": [],
   "source": [
    "from matplotlib.pyplot import *"
   ]
  },
  {
   "cell_type": "code",
   "execution_count": 104,
   "metadata": {
    "collapsed": false
   },
   "outputs": [],
   "source": [
    "res = 8 # accuracy of finding max and min stress\n",
    "xplot = np.linspace(0,a_,res)\n",
    "yplot = np.linspace(0,b_,res)"
   ]
  },
  {
   "cell_type": "code",
   "execution_count": null,
   "metadata": {
    "collapsed": false
   },
   "outputs": [],
   "source": []
  },
  {
   "cell_type": "code",
   "execution_count": 109,
   "metadata": {
    "collapsed": false
   },
   "outputs": [
    {
     "ename": "TypeError",
     "evalue": "Object arrays are not currently supported",
     "output_type": "error",
     "traceback": [
      "\u001b[1;31m---------------------------------------------------------------------------\u001b[0m",
      "\u001b[1;31mTypeError\u001b[0m                                 Traceback (most recent call last)",
      "\u001b[1;32m<ipython-input-109-aea955819ce1>\u001b[0m in \u001b[0;36m<module>\u001b[1;34m()\u001b[0m\n\u001b[0;32m      6\u001b[0m     \u001b[0mQbar\u001b[0m \u001b[1;33m=\u001b[0m \u001b[0minv\u001b[0m\u001b[1;33m(\u001b[0m\u001b[0mT1\u001b[0m\u001b[1;33m(\u001b[0m\u001b[0mplyangle\u001b[0m\u001b[1;33m[\u001b[0m\u001b[0mi\u001b[0m\u001b[1;33m]\u001b[0m\u001b[1;33m)\u001b[0m\u001b[1;33m)\u001b[0m \u001b[1;33m@\u001b[0m \u001b[0mQ\u001b[0m \u001b[1;33m@\u001b[0m \u001b[0mT2\u001b[0m\u001b[1;33m(\u001b[0m\u001b[0mplyangle\u001b[0m\u001b[1;33m[\u001b[0m\u001b[0mi\u001b[0m\u001b[1;33m]\u001b[0m\u001b[1;33m)\u001b[0m\u001b[1;33m\u001b[0m\u001b[0m\n\u001b[0;32m      7\u001b[0m \u001b[1;33m\u001b[0m\u001b[0m\n\u001b[1;32m----> 8\u001b[1;33m     \u001b[0meps01\u001b[0m \u001b[1;33m=\u001b[0m \u001b[0mT2\u001b[0m\u001b[1;33m(\u001b[0m\u001b[0mplyangle\u001b[0m\u001b[1;33m[\u001b[0m\u001b[0mi\u001b[0m\u001b[1;33m]\u001b[0m\u001b[1;33m)\u001b[0m \u001b[1;33m@\u001b[0m \u001b[0meps0\u001b[0m\u001b[1;33m\u001b[0m\u001b[0m\n\u001b[0m\u001b[0;32m      9\u001b[0m \u001b[1;33m\u001b[0m\u001b[0m\n\u001b[0;32m     10\u001b[0m     \u001b[1;31m#sigmax = Q @ eps01\u001b[0m\u001b[1;33m\u001b[0m\u001b[1;33m\u001b[0m\u001b[0m\n",
      "\u001b[1;31mTypeError\u001b[0m: Object arrays are not currently supported"
     ]
    }
   ],
   "source": [
    "Q = Qf(E1, E2, nu12, G12 )\n",
    "for i,k in enumerate(range(0,2*nply,2)):\n",
    "\n",
    "    # stress is calcuated at top and bottom of each ply\n",
    "\n",
    "    Qbar = inv(T1(plyangle[i])) @ Q @ T2(plyangle[i]) \n",
    "    \n",
    "    eps01 = T2(plyangle[i]) @ eps0\n",
    "    \n",
    "    #sigmax = Q @ eps01\n",
    "    # stressin material coordinates\n",
    "    \n",
    "    \n",
    "    \n",
    "    #ezsurf(m_stress(kstress),[0,a,z_(klay),z_(klay+1)])\n",
    "   "
   ]
  },
  {
   "cell_type": "code",
   "execution_count": null,
   "metadata": {
    "collapsed": true
   },
   "outputs": [],
   "source": []
  }
 ],
 "metadata": {
  "kernelspec": {
   "display_name": "Python 3",
   "language": "python",
   "name": "python3"
  },
  "language_info": {
   "codemirror_mode": {
    "name": "ipython",
    "version": 3
   },
   "file_extension": ".py",
   "mimetype": "text/x-python",
   "name": "python",
   "nbconvert_exporter": "python",
   "pygments_lexer": "ipython3",
   "version": "3.5.2"
  }
 },
 "nbformat": 4,
 "nbformat_minor": 0
}
