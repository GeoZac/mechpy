{
 "cells": [
  {
   "cell_type": "markdown",
   "metadata": {},
   "source": [
    "\n",
    "\n",
    "Numerical Python"
   ]
  },
  {
   "cell_type": "code",
   "execution_count": 1,
   "metadata": {
    "collapsed": true
   },
   "outputs": [],
   "source": [
    "# setup \n",
    "import sympy as sp\n",
    "import matplotlib.pyplot as plt\n",
    "sp.init_printing(use_latex='mathjax')\n",
    "plt.rcParams['figure.figsize'] = (12, 8)  # (width, height)\n",
    "plt.rcParams['font.size'] = 14\n",
    "plt.rcParams['legend.fontsize'] = 16\n",
    "get_ipython().magic('matplotlib inline') # inline plotting"
   ]
  },
  {
   "cell_type": "code",
   "execution_count": 10,
   "metadata": {
    "collapsed": false
   },
   "outputs": [],
   "source": [
    "t,k,m,c = sp.symbols('t,k,m,c')\n",
    "x = sp.Function('x')"
   ]
  },
  {
   "cell_type": "code",
   "execution_count": 14,
   "metadata": {
    "collapsed": false
   },
   "outputs": [
    {
     "data": {
      "text/latex": [
       "$$x{\\left (t \\right )} + \\frac{d}{d t} x{\\left (t \\right )} + \\frac{d^{2}}{d t^{2}}  x{\\left (t \\right )}$$"
      ],
      "text/plain": [
       "                    2      \n",
       "       d           d       \n",
       "x(t) + ──(x(t)) + ───(x(t))\n",
       "       dt           2      \n",
       "                  dt       "
      ]
     },
     "execution_count": 14,
     "metadata": {},
     "output_type": "execute_result"
    }
   ],
   "source": [
    "ode = x(t) + x(t).diff(t,1) + x(t).diff(t,2)\n",
    "ode"
   ]
  },
  {
   "cell_type": "code",
   "execution_count": 15,
   "metadata": {
    "collapsed": false
   },
   "outputs": [
    {
     "data": {
      "text/latex": [
       "$$x{\\left (t \\right )} + \\frac{d}{d t} x{\\left (t \\right )} + \\frac{d^{2}}{d t^{2}}  x{\\left (t \\right )} = 0$$"
      ],
      "text/plain": [
       "                    2          \n",
       "       d           d           \n",
       "x(t) + ──(x(t)) + ───(x(t)) = 0\n",
       "       dt           2          \n",
       "                  dt           "
      ]
     },
     "execution_count": 15,
     "metadata": {},
     "output_type": "execute_result"
    }
   ],
   "source": [
    "sp.Eq(ode)"
   ]
  },
  {
   "cell_type": "code",
   "execution_count": 17,
   "metadata": {
    "collapsed": false
   },
   "outputs": [
    {
     "data": {
      "text/latex": [
       "$$x{\\left (t \\right )} = \\frac{1}{\\sqrt{e^{t}}} \\left(C_{1} \\sin{\\left (\\frac{\\sqrt{3} t}{2} \\right )} + C_{2} \\cos{\\left (\\frac{\\sqrt{3} t}{2} \\right )}\\right)$$"
      ],
      "text/plain": [
       "             ⎛√3⋅t⎞         ⎛√3⋅t⎞\n",
       "       C₁⋅sin⎜────⎟ + C₂⋅cos⎜────⎟\n",
       "             ⎝ 2  ⎠         ⎝ 2  ⎠\n",
       "x(t) = ───────────────────────────\n",
       "                    ____          \n",
       "                   ╱  t           \n",
       "                 ╲╱  ℯ            "
      ]
     },
     "execution_count": 17,
     "metadata": {},
     "output_type": "execute_result"
    }
   ],
   "source": [
    "ode_sol = sp.dsolve(ode)\n",
    "ode_sol"
   ]
  },
  {
   "cell_type": "code",
   "execution_count": 18,
   "metadata": {
    "collapsed": false
   },
   "outputs": [
    {
     "data": {
      "text/latex": [
       "$$x{\\left (t \\right )}$$"
      ],
      "text/plain": [
       "x(t)"
      ]
     },
     "execution_count": 18,
     "metadata": {},
     "output_type": "execute_result"
    }
   ],
   "source": [
    "ode_sol.lhs"
   ]
  },
  {
   "cell_type": "code",
   "execution_count": 19,
   "metadata": {
    "collapsed": false
   },
   "outputs": [
    {
     "data": {
      "text/latex": [
       "$$\\frac{1}{\\sqrt{e^{t}}} \\left(C_{1} \\sin{\\left (\\frac{\\sqrt{3} t}{2} \\right )} + C_{2} \\cos{\\left (\\frac{\\sqrt{3} t}{2} \\right )}\\right)$$"
      ],
      "text/plain": [
       "      ⎛√3⋅t⎞         ⎛√3⋅t⎞\n",
       "C₁⋅sin⎜────⎟ + C₂⋅cos⎜────⎟\n",
       "      ⎝ 2  ⎠         ⎝ 2  ⎠\n",
       "───────────────────────────\n",
       "             ____          \n",
       "            ╱  t           \n",
       "          ╲╱  ℯ            "
      ]
     },
     "execution_count": 19,
     "metadata": {},
     "output_type": "execute_result"
    }
   ],
   "source": [
    "ode_sol.rhs"
   ]
  },
  {
   "cell_type": "code",
   "execution_count": 21,
   "metadata": {
    "collapsed": false
   },
   "outputs": [
    {
     "data": {
      "text/latex": [
       "$$\\left \\{ x{\\left (0 \\right )} : 1, \\quad x{\\left (1 \\right )} : 0\\right \\}$$"
      ],
      "text/plain": [
       "{x(0): 1, x(1): 0}"
      ]
     },
     "execution_count": 21,
     "metadata": {},
     "output_type": "execute_result"
    }
   ],
   "source": [
    "x0 = 1\n",
    "x1 = 0\n",
    "ics = {x(0): x0, x(1):x1}\n",
    "ics"
   ]
  },
  {
   "cell_type": "code",
   "execution_count": null,
   "metadata": {
    "collapsed": true
   },
   "outputs": [],
   "source": [
    "sp.Eq( ode_sol.lhs.subs(x,0),  )"
   ]
  }
 ],
 "metadata": {
  "kernelspec": {
   "display_name": "Python [Root]",
   "language": "python",
   "name": "Python [Root]"
  },
  "language_info": {
   "codemirror_mode": {
    "name": "ipython",
    "version": 3
   },
   "file_extension": ".py",
   "mimetype": "text/x-python",
   "name": "python",
   "nbconvert_exporter": "python",
   "pygments_lexer": "ipython3",
   "version": "3.5.2"
  }
 },
 "nbformat": 4,
 "nbformat_minor": 0
}
