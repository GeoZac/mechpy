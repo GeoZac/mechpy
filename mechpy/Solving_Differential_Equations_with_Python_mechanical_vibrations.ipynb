{
 "cells": [
  {
   "cell_type": "markdown",
   "metadata": {},
   "source": [
    "Numerical Python"
   ]
  },
  {
   "cell_type": "code",
   "execution_count": 361,
   "metadata": {
    "collapsed": true
   },
   "outputs": [],
   "source": [
    "# setup \n",
    "from sympy import Eq, cos, pi\n",
    "import sympy as sp\n",
    "import matplotlib.pyplot as plt\n",
    "sp.init_printing(use_latex='mathjax')\n",
    "plt.rcParams['figure.figsize'] = (12, 8)  # (width, height)\n",
    "plt.rcParams['font.size'] = 14\n",
    "plt.rcParams['legend.fontsize'] = 16\n",
    "get_ipython().magic('matplotlib inline') # inline plotting"
   ]
  },
  {
   "cell_type": "code",
   "execution_count": null,
   "metadata": {
    "collapsed": true
   },
   "outputs": [],
   "source": []
  },
  {
   "cell_type": "code",
   "execution_count": 362,
   "metadata": {
    "collapsed": false
   },
   "outputs": [],
   "source": [
    "t,k,m,c = sp.symbols('t,k,m,c')\n",
    "x = sp.Function('x') # (t)"
   ]
  },
  {
   "cell_type": "code",
   "execution_count": null,
   "metadata": {
    "collapsed": true
   },
   "outputs": [],
   "source": []
  },
  {
   "cell_type": "code",
   "execution_count": 363,
   "metadata": {
    "collapsed": true
   },
   "outputs": [],
   "source": [
    "k_ = 124e3  # spring constant, kN/m\n",
    "m_ = 64.2 # mass, Kg\n",
    "c_ = 3  # damping coefficient \n",
    "g_ = 9.8 # metres per second**2\n",
    "\n",
    "omega = 1.0 # frequency\n",
    "phi = 0.0 # phase shift\n",
    "A = 5.0 # amplitude"
   ]
  },
  {
   "cell_type": "code",
   "execution_count": null,
   "metadata": {
    "collapsed": true
   },
   "outputs": [],
   "source": []
  },
  {
   "cell_type": "code",
   "execution_count": 364,
   "metadata": {
    "collapsed": false
   },
   "outputs": [
    {
     "data": {
      "text/latex": [
       "$$- c \\frac{d}{d t} x{\\left (t \\right )} - \\frac{k}{m} x{\\left (t \\right )} + 5.0 \\cos{\\left (2.0 \\pi t \\right )} - \\frac{d^{2}}{d t^{2}}  x{\\left (t \\right )} - 9.8$$"
      ],
      "text/plain": [
       "                                             2            \n",
       "    d          k⋅x(t)                       d             \n",
       "- c⋅──(x(t)) - ────── + 5.0⋅cos(2.0⋅π⋅t) - ───(x(t)) - 9.8\n",
       "    dt           m                           2            \n",
       "                                           dt             "
      ]
     },
     "execution_count": 364,
     "metadata": {},
     "output_type": "execute_result"
    }
   ],
   "source": [
    "#ode = k*x(t) + c*x(t).diff(t,1) + m*x(t).diff(t,2) + m*g_ - A*cos(2*pi*omega*t - phi)\n",
    "ode = -k*x(t)/m -c*x(t).diff(t,1)-g_ + A*cos(2*pi*omega*t - phi) - x(t).diff(t,2)\n",
    "ode"
   ]
  },
  {
   "cell_type": "code",
   "execution_count": 365,
   "metadata": {
    "collapsed": false
   },
   "outputs": [
    {
     "data": {
      "text/latex": [
       "$$- c \\frac{d}{d t} x{\\left (t \\right )} - \\frac{k}{m} x{\\left (t \\right )} + 5.0 \\cos{\\left (2.0 \\pi t \\right )} - \\frac{d^{2}}{d t^{2}}  x{\\left (t \\right )} - 9.8 = 0$$"
      ],
      "text/plain": [
       "                                             2                \n",
       "    d          k⋅x(t)                       d                 \n",
       "- c⋅──(x(t)) - ────── + 5.0⋅cos(2.0⋅π⋅t) - ───(x(t)) - 9.8 = 0\n",
       "    dt           m                           2                \n",
       "                                           dt                 "
      ]
     },
     "execution_count": 365,
     "metadata": {},
     "output_type": "execute_result"
    }
   ],
   "source": [
    "Eq(ode)"
   ]
  },
  {
   "cell_type": "code",
   "execution_count": 366,
   "metadata": {
    "collapsed": false
   },
   "outputs": [
    {
     "data": {
      "text/latex": [
       "$$x{\\left (t \\right )} = C_{1} e^{\\frac{t}{2} \\left(- c - \\sqrt{c^{2} - \\frac{4 k}{m}}\\right)} + C_{2} e^{\\frac{t}{2} \\left(- c + \\sqrt{c^{2} - \\frac{4 k}{m}}\\right)} + \\frac{31.4159265358979 c m^{2} \\sin{\\left (2.0 \\pi t \\right )}}{39.4784176043574 c^{2} m^{2} + \\left(k - 39.4784176043574 m\\right)^{2}} + \\frac{5.0 k m \\cos{\\left (2.0 \\pi t \\right )}}{39.4784176043574 c^{2} m^{2} + \\left(k - 39.4784176043574 m\\right)^{2}} - \\frac{197.392088021787 m^{2} \\cos{\\left (2.0 \\pi t \\right )}}{39.4784176043574 c^{2} m^{2} + \\left(k - 39.4784176043574 m\\right)^{2}} - \\frac{9.8 m}{k}$$"
      ],
      "text/plain": [
       "             ⎛         __________⎞         ⎛         __________⎞              \n",
       "             ⎜        ╱  2   4⋅k ⎟         ⎜        ╱  2   4⋅k ⎟              \n",
       "           t⋅⎜-c -   ╱  c  - ─── ⎟       t⋅⎜-c +   ╱  c  - ─── ⎟              \n",
       "             ⎝     ╲╱         m  ⎠         ⎝     ╲╱         m  ⎠              \n",
       "           ───────────────────────       ───────────────────────              \n",
       "                      2                             2                      31.\n",
       "x(t) = C₁⋅ℯ                        + C₂⋅ℯ                        + ───────────\n",
       "                                                                              \n",
       "                                                                   39.47841760\n",
       "\n",
       "                                                                              \n",
       "                                                                              \n",
       "                                                                              \n",
       "                                                                              \n",
       "                 2                                                            \n",
       "4159265358979⋅c⋅m ⋅sin(2.0⋅π⋅t)                          5.0⋅k⋅m⋅cos(2.0⋅π⋅t) \n",
       "─────────────────────────────────────── + ────────────────────────────────────\n",
       "       2  2                           2                     2  2              \n",
       "43574⋅c ⋅m  + (k - 39.4784176043574⋅m)    39.4784176043574⋅c ⋅m  + (k - 39.478\n",
       "\n",
       "                                                                           \n",
       "                                                                           \n",
       "                                                                           \n",
       "                                                                           \n",
       "                                            2                              \n",
       "                          197.392088021787⋅m ⋅cos(2.0⋅π⋅t)            9.8⋅m\n",
       "────────────── - ────────────────────────────────────────────────── - ─────\n",
       "             2                     2  2                           2     k  \n",
       "4176043574⋅m)    39.4784176043574⋅c ⋅m  + (k - 39.4784176043574⋅m)         "
      ]
     },
     "execution_count": 366,
     "metadata": {},
     "output_type": "execute_result"
    }
   ],
   "source": [
    "ode_sol = sp.dsolve(ode)\n",
    "ode_sol"
   ]
  },
  {
   "cell_type": "code",
   "execution_count": 367,
   "metadata": {
    "collapsed": false
   },
   "outputs": [
    {
     "data": {
      "text/latex": [
       "$$x{\\left (t \\right )}$$"
      ],
      "text/plain": [
       "x(t)"
      ]
     },
     "execution_count": 367,
     "metadata": {},
     "output_type": "execute_result"
    }
   ],
   "source": [
    "ode_sol.lhs"
   ]
  },
  {
   "cell_type": "code",
   "execution_count": 368,
   "metadata": {
    "collapsed": false
   },
   "outputs": [
    {
     "data": {
      "text/latex": [
       "$$C_{1} e^{\\frac{t}{2} \\left(- c - \\sqrt{c^{2} - \\frac{4 k}{m}}\\right)} + C_{2} e^{\\frac{t}{2} \\left(- c + \\sqrt{c^{2} - \\frac{4 k}{m}}\\right)} + \\frac{31.4159265358979 c m^{2} \\sin{\\left (2.0 \\pi t \\right )}}{39.4784176043574 c^{2} m^{2} + \\left(k - 39.4784176043574 m\\right)^{2}} + \\frac{5.0 k m \\cos{\\left (2.0 \\pi t \\right )}}{39.4784176043574 c^{2} m^{2} + \\left(k - 39.4784176043574 m\\right)^{2}} - \\frac{197.392088021787 m^{2} \\cos{\\left (2.0 \\pi t \\right )}}{39.4784176043574 c^{2} m^{2} + \\left(k - 39.4784176043574 m\\right)^{2}} - \\frac{9.8 m}{k}$$"
      ],
      "text/plain": [
       "      ⎛         __________⎞         ⎛         __________⎞                     \n",
       "      ⎜        ╱  2   4⋅k ⎟         ⎜        ╱  2   4⋅k ⎟                     \n",
       "    t⋅⎜-c -   ╱  c  - ─── ⎟       t⋅⎜-c +   ╱  c  - ─── ⎟                     \n",
       "      ⎝     ╲╱         m  ⎠         ⎝     ╲╱         m  ⎠                     \n",
       "    ───────────────────────       ───────────────────────                     \n",
       "               2                             2                      31.4159265\n",
       "C₁⋅ℯ                        + C₂⋅ℯ                        + ──────────────────\n",
       "                                                                              \n",
       "                                                            39.4784176043574⋅c\n",
       "\n",
       "                                                                              \n",
       "                                                                              \n",
       "                                                                              \n",
       "                                                                              \n",
       "          2                                                                   \n",
       "358979⋅c⋅m ⋅sin(2.0⋅π⋅t)                          5.0⋅k⋅m⋅cos(2.0⋅π⋅t)        \n",
       "──────────────────────────────── + ───────────────────────────────────────────\n",
       "2  2                           2                     2  2                     \n",
       " ⋅m  + (k - 39.4784176043574⋅m)    39.4784176043574⋅c ⋅m  + (k - 39.4784176043\n",
       "\n",
       "                                                                    \n",
       "                                                                    \n",
       "                                                                    \n",
       "                                                                    \n",
       "                                     2                              \n",
       "                   197.392088021787⋅m ⋅cos(2.0⋅π⋅t)            9.8⋅m\n",
       "─────── - ────────────────────────────────────────────────── - ─────\n",
       "      2                     2  2                           2     k  \n",
       "574⋅m)    39.4784176043574⋅c ⋅m  + (k - 39.4784176043574⋅m)         "
      ]
     },
     "execution_count": 368,
     "metadata": {},
     "output_type": "execute_result"
    }
   ],
   "source": [
    "ode_sol.rhs"
   ]
  },
  {
   "cell_type": "code",
   "execution_count": 369,
   "metadata": {
    "collapsed": false
   },
   "outputs": [],
   "source": [
    "# initial conditions with displacement x=1 at t=0 and x=0 at t=1\n",
    "#x0 = 1\n",
    "#x1 = 0\n",
    "#ics = {x(0): x0, x(1):x1}\n",
    "#print(ics)\n",
    "#C_eq = { Eq(ode_sol.lhs.subs(x(t),0), ode_sol.rhs.subs(t,1)) , Eq(ode_sol.lhs.subs(x(t),1), ode_sol.rhs.subs(t,0)) }\n",
    "#C_eq"
   ]
  },
  {
   "cell_type": "code",
   "execution_count": 370,
   "metadata": {
    "collapsed": false
   },
   "outputs": [
    {
     "data": {
      "text/latex": [
       "$$\\left\\{0 = C_{1} + C_{2} + \\frac{5.0 k m}{39.4784176043574 c^{2} m^{2} + \\left(k - 39.4784176043574 m\\right)^{2}} - \\frac{197.392088021787 m^{2}}{39.4784176043574 c^{2} m^{2} + \\left(k - 39.4784176043574 m\\right)^{2}} - \\frac{9.8 m}{k}, 1.2 = C_{1} \\left(- \\frac{c}{2} - \\frac{1}{2} \\sqrt{c^{2} - \\frac{4 k}{m}}\\right) + C_{2} \\left(- \\frac{c}{2} + \\frac{1}{2} \\sqrt{c^{2} - \\frac{4 k}{m}}\\right) + \\frac{62.8318530717959 \\pi c m^{2}}{39.4784176043574 c^{2} m^{2} + \\left(k - 39.4784176043574 m\\right)^{2}}\\right\\}$$"
      ],
      "text/plain": [
       "   ⎛⎡                                                                         \n",
       "   ⎜⎢                                                                         \n",
       "   ⎜⎢                                                                         \n",
       "   ⎜⎢                                   5.0⋅k⋅m                               \n",
       "set⎜⎢0 = C₁ + C₂ + ────────────────────────────────────────────────── - ──────\n",
       "   ⎜⎢                                2  2                           2         \n",
       "   ⎝⎣              39.4784176043574⋅c ⋅m  + (k - 39.4784176043574⋅m)    39.478\n",
       "\n",
       "                                                               ⎛          ____\n",
       "                                                               ⎜         ╱  2 \n",
       "                           2                                   ⎜        ╱  c  \n",
       "         197.392088021787⋅m                    9.8⋅m           ⎜  c   ╲╱      \n",
       "──────────────────────────────────────────── - ─────, 1.2 = C₁⋅⎜- ─ - ────────\n",
       "            2  2                           2     k             ⎝  2         2 \n",
       "4176043574⋅c ⋅m  + (k - 39.4784176043574⋅m)                                   \n",
       "\n",
       "______⎞      ⎛          __________⎞                                           \n",
       "  4⋅k ⎟      ⎜         ╱  2   4⋅k ⎟                                           \n",
       "- ─── ⎟      ⎜        ╱  c  - ─── ⎟                                      2    \n",
       "   m  ⎟      ⎜  c   ╲╱         m  ⎟                62.8318530717959⋅π⋅c⋅m     \n",
       "──────⎟ + C₂⋅⎜- ─ + ──────────────⎟ + ────────────────────────────────────────\n",
       "      ⎠      ⎝  2         2       ⎠                     2  2                  \n",
       "                                      39.4784176043574⋅c ⋅m  + (k - 39.4784176\n",
       "\n",
       "          ⎤⎞\n",
       "          ⎥⎟\n",
       "          ⎥⎟\n",
       "          ⎥⎟\n",
       "──────────⎥⎟\n",
       "         2⎥⎟\n",
       "043574⋅m) ⎦⎠"
      ]
     },
     "execution_count": 370,
     "metadata": {},
     "output_type": "execute_result"
    }
   ],
   "source": [
    "x0 = 0\n",
    "v0 = 1.2\n",
    "C_eq = { Eq(ode_sol.lhs.subs(x(t),x0), ode_sol.rhs.subs(t,0)) , \n",
    "         Eq(ode_sol.lhs.subs(x(t),v0), ode_sol.rhs.diff(t).subs(t,0) ) }\n",
    "C_eq"
   ]
  },
  {
   "cell_type": "code",
   "execution_count": 371,
   "metadata": {
    "collapsed": false
   },
   "outputs": [
    {
     "data": {
      "text/latex": [
       "$$\\left\\{C_{1}, C_{2}\\right\\}$$"
      ],
      "text/plain": [
       "set([C₁, C₂])"
      ]
     },
     "execution_count": 371,
     "metadata": {},
     "output_type": "execute_result"
    }
   ],
   "source": [
    "known_params = {m,c,k,t}\n",
    "const = ode_sol.free_symbols - known_params\n",
    "const"
   ]
  },
  {
   "cell_type": "code",
   "execution_count": 372,
   "metadata": {
    "collapsed": false
   },
   "outputs": [
    {
     "data": {
      "text/latex": [
       "$$\\left \\{ C_{1} : - \\frac{1}{k \\sqrt{\\frac{1}{m} \\left(c^{2} m - 4.0 k\\right)} \\left(9.86960440108935 \\cdot 10^{26} c^{2} m^{2} + 2.5 \\cdot 10^{25} k^{2} - 1.97392088021787 \\cdot 10^{27} k m + 3.89636364136009 \\cdot 10^{28} m^{2}\\right)} \\left(4.83610615653378 \\cdot 10^{27} c^{3} m^{3} + 1.18435252813072 \\cdot 10^{27} c^{2} k m^{2} - 4.83610615653378 \\cdot 10^{27} c^{2} m^{3} \\sqrt{\\frac{1}{m} \\left(c^{2} m - 4.0 k\\right)} + 6.0 \\cdot 10^{25} c k^{2} m - 1.21396134133399 \\cdot 10^{28} c k m^{2} + 1.90921818426644 \\cdot 10^{29} c m^{3} + 3.0 \\cdot 10^{25} k^{3} - 6.0 \\cdot 10^{25} k^{2} m \\sqrt{\\frac{1}{m} \\left(c^{2} m - 4.0 k\\right)} - 2.36870505626144 \\cdot 10^{27} k^{2} m + 7.20481121279523 \\cdot 10^{27} k m^{2} \\sqrt{\\frac{1}{m} \\left(c^{2} m - 4.0 k\\right)} + 4.67563636963211 \\cdot 10^{28} k m^{2} - 1.90921818426644 \\cdot 10^{29} m^{3} \\sqrt{\\frac{1}{m} \\left(c^{2} m - 4.0 k\\right)}\\right), \\quad C_{2} : \\frac{1}{k \\sqrt{\\frac{1}{m} \\left(c^{2} m - 4.0 k\\right)} \\left(9.86960440108935 \\cdot 10^{26} c^{2} m^{2} + 2.5 \\cdot 10^{25} k^{2} - 1.97392088021787 \\cdot 10^{27} k m + 3.89636364136009 \\cdot 10^{28} m^{2}\\right)} \\left(4.83610615653378 \\cdot 10^{27} c^{3} m^{3} + 1.18435252813072 \\cdot 10^{27} c^{2} k m^{2} + 4.83610615653378 \\cdot 10^{27} c^{2} m^{3} \\sqrt{\\frac{1}{m} \\left(c^{2} m - 4.0 k\\right)} + 6.0 \\cdot 10^{25} c k^{2} m - 1.21396134133399 \\cdot 10^{28} c k m^{2} + 1.90921818426644 \\cdot 10^{29} c m^{3} + 3.0 \\cdot 10^{25} k^{3} + 6.0 \\cdot 10^{25} k^{2} m \\sqrt{\\frac{1}{m} \\left(c^{2} m - 4.0 k\\right)} - 2.36870505626144 \\cdot 10^{27} k^{2} m - 7.20481121279523 \\cdot 10^{27} k m^{2} \\sqrt{\\frac{1}{m} \\left(c^{2} m - 4.0 k\\right)} + 4.67563636963211 \\cdot 10^{28} k m^{2} + 1.90921818426644 \\cdot 10^{29} m^{3} \\sqrt{\\frac{1}{m} \\left(c^{2} m - 4.0 k\\right)}\\right)\\right \\}$$"
      ],
      "text/plain": [
       "⎧         ⎛                                                                   \n",
       "⎪         ⎜                                                                   \n",
       "⎪         ⎜                      3  3                         2    2          \n",
       "⎪    -0.1⋅⎜4.83610615653378e+28⋅c ⋅m  + 1.18435252813072e+28⋅c ⋅k⋅m  - 4.83610\n",
       "⎪         ⎝                                                                   \n",
       "⎨C₁: ─────────────────────────────────────────────────────────────────────────\n",
       "⎪                                                                             \n",
       "⎪                                                                             \n",
       "⎪                                                                             \n",
       "⎪                                                                             \n",
       "⎩                                                                             \n",
       "\n",
       "                         ______________                                       \n",
       "                        ╱  2                                                  \n",
       "               2  3    ╱  c ⋅m - 4.0⋅k               2                        \n",
       "615653378e+28⋅c ⋅m ⋅  ╱   ────────────  + 6.0e+26⋅c⋅k ⋅m - 1.21396134133399e+2\n",
       "                    ╲╱         m                                              \n",
       "──────────────────────────────────────────────────────────────────────────────\n",
       "                                                                      ________\n",
       "                                                                     ╱  2     \n",
       "                                                                    ╱  c ⋅m - \n",
       "                                                               k⋅  ╱   ───────\n",
       "                                                                 ╲╱         m \n",
       "\n",
       "                                                                      ________\n",
       "                                                                     ╱  2     \n",
       "       2                           3            3            2      ╱  c ⋅m - \n",
       "9⋅c⋅k⋅m  + 1.90921818426644e+30⋅c⋅m  + 3.0e+26⋅k  - 6.0e+26⋅k ⋅m⋅  ╱   ───────\n",
       "                                                                 ╲╱         m \n",
       "──────────────────────────────────────────────────────────────────────────────\n",
       "______                                                                        \n",
       "                                                                              \n",
       "4.0⋅k  ⎛                      2  2            2                               \n",
       "───── ⋅⎝9.86960440108935e+26⋅c ⋅m  + 2.5e+25⋅k  - 1.97392088021787e+27⋅k⋅m + 3\n",
       "                                                                              \n",
       "\n",
       "______                                                              __________\n",
       "                                                                   ╱  2       \n",
       "4.0⋅k                          2                             2    ╱  c ⋅m - 4.\n",
       "─────  - 2.36870505626144e+28⋅k ⋅m + 7.20481121279522e+28⋅k⋅m ⋅  ╱   ─────────\n",
       "                                                               ╲╱         m   \n",
       "──────────────────────────────────────────────────────────────────────────────\n",
       "                                                                              \n",
       "                                                                              \n",
       "                     2⎞                                                       \n",
       ".89636364136009e+28⋅m ⎠                                                       \n",
       "                                                                              \n",
       "\n",
       "____                                                            ______________\n",
       "                                                               ╱  2           \n",
       "0⋅k                            2                         3    ╱  c ⋅m - 4.0⋅k \n",
       "───  + 4.67563636963211e+29⋅k⋅m  - 1.90921818426644e+30⋅m ⋅  ╱   ──────────── \n",
       "                                                           ╲╱         m       \n",
       "──────────────────────────────────────────────────────────────────────────────\n",
       "                                                                              \n",
       "                                                                              \n",
       "                                                                              \n",
       "                                                                              \n",
       "                                                                              \n",
       "\n",
       "⎞           ⎛                                                                 \n",
       "⎟           ⎜                                                                 \n",
       "⎟           ⎜                      3  3                         2    2        \n",
       "⎟       0.1⋅⎜4.83610615653378e+28⋅c ⋅m  + 1.18435252813072e+28⋅c ⋅k⋅m  + 4.836\n",
       "⎠           ⎝                                                                 \n",
       "──, C₂: ──────────────────────────────────────────────────────────────────────\n",
       "                                                                              \n",
       "                                                                              \n",
       "                                                                              \n",
       "                                                                              \n",
       "                                                                              \n",
       "\n",
       "                           ______________                                     \n",
       "                          ╱  2                                                \n",
       "                 2  3    ╱  c ⋅m - 4.0⋅k               2                      \n",
       "10615653378e+28⋅c ⋅m ⋅  ╱   ────────────  + 6.0e+26⋅c⋅k ⋅m - 1.21396134133399e\n",
       "                      ╲╱         m                                            \n",
       "──────────────────────────────────────────────────────────────────────────────\n",
       "                                                                        ______\n",
       "                                                                       ╱  2   \n",
       "                                                                      ╱  c ⋅m \n",
       "                                                                 k⋅  ╱   ─────\n",
       "                                                                   ╲╱         \n",
       "\n",
       "                                                                        ______\n",
       "                                                                       ╱  2   \n",
       "         2                           3            3            2      ╱  c ⋅m \n",
       "+29⋅c⋅k⋅m  + 1.90921818426644e+30⋅c⋅m  + 3.0e+26⋅k  + 6.0e+26⋅k ⋅m⋅  ╱   ─────\n",
       "                                                                   ╲╱         \n",
       "──────────────────────────────────────────────────────────────────────────────\n",
       "________                                                                      \n",
       "                                                                              \n",
       "- 4.0⋅k  ⎛                      2  2            2                             \n",
       "─────── ⋅⎝9.86960440108935e+26⋅c ⋅m  + 2.5e+25⋅k  - 1.97392088021787e+27⋅k⋅m +\n",
       "m                                                                             \n",
       "\n",
       "________                                                              ________\n",
       "                                                                     ╱  2     \n",
       "- 4.0⋅k                          2                             2    ╱  c ⋅m - \n",
       "───────  - 2.36870505626144e+28⋅k ⋅m - 7.20481121279522e+28⋅k⋅m ⋅  ╱   ───────\n",
       "m                                                                ╲╱         m \n",
       "──────────────────────────────────────────────────────────────────────────────\n",
       "                                                                              \n",
       "                                                                              \n",
       "                       2⎞                                                     \n",
       " 3.89636364136009e+28⋅m ⎠                                                     \n",
       "                                                                              \n",
       "\n",
       "______                                                            ____________\n",
       "                                                                 ╱  2         \n",
       "4.0⋅k                            2                         3    ╱  c ⋅m - 4.0⋅\n",
       "─────  + 4.67563636963211e+29⋅k⋅m  + 1.90921818426644e+30⋅m ⋅  ╱   ───────────\n",
       "                                                             ╲╱         m     \n",
       "──────────────────────────────────────────────────────────────────────────────\n",
       "                                                                              \n",
       "                                                                              \n",
       "                                                                              \n",
       "                                                                              \n",
       "                                                                              \n",
       "\n",
       "__⎞⎫\n",
       "  ⎟⎪\n",
       "k ⎟⎪\n",
       "─ ⎟⎪\n",
       "  ⎠⎪\n",
       "───⎬\n",
       "   ⎪\n",
       "   ⎪\n",
       "   ⎪\n",
       "   ⎪\n",
       "   ⎭"
      ]
     },
     "execution_count": 372,
     "metadata": {},
     "output_type": "execute_result"
    }
   ],
   "source": [
    "Csol = sp.solve(C_eq,const)\n",
    "Csol"
   ]
  },
  {
   "cell_type": "code",
   "execution_count": 373,
   "metadata": {
    "collapsed": false
   },
   "outputs": [
    {
     "data": {
      "text/latex": [
       "$$x{\\left (t \\right )} = 2.48868082628384 \\cdot 10^{-44} i \\left(5.50490806141555 \\cdot 10^{41} - 4.88493181321424 \\cdot 10^{40} i\\right) e^{\\frac{t}{2} \\left(-3 - 87.8456413137232 i\\right)} - 2.48868082628384 \\cdot 10^{-44} i \\left(5.50490806141555 \\cdot 10^{41} + 4.88493181321424 \\cdot 10^{40} i\\right) e^{\\frac{t}{2} \\left(-3 + 87.8456413137232 i\\right)} + 2.63264497884523 \\cdot 10^{-5} \\sin{\\left (2.0 \\pi t \\right )} + 0.00264246373949189 \\cos{\\left (2.0 \\pi t \\right )} - 0.00507387096774194$$"
      ],
      "text/plain": [
       "                                                                              \n",
       "                                                                              \n",
       "                                                                              \n",
       "x(t) = 2.48868082628384e-44⋅ⅈ⋅(5.50490806141555e+41 - 4.88493181321424e+40⋅ⅈ)⋅\n",
       "\n",
       " t⋅(-3 - 87.8456413137232⋅ⅈ)                                                  \n",
       " ───────────────────────────                                                  \n",
       "              2                                                               \n",
       "ℯ                            - 2.48868082628384e-44⋅ⅈ⋅(5.50490806141555e+41 + \n",
       "\n",
       "                         t⋅(-3 + 87.8456413137232⋅ⅈ)                          \n",
       "                         ───────────────────────────                          \n",
       "                                      2                                       \n",
       "4.88493181321424e+40⋅ⅈ)⋅ℯ                            + 2.63264497884523e-5⋅sin\n",
       "\n",
       "                                                                  \n",
       "                                                                  \n",
       "                                                                  \n",
       "(2.0⋅π⋅t) + 0.00264246373949189⋅cos(2.0⋅π⋅t) - 0.00507387096774194"
      ]
     },
     "execution_count": 373,
     "metadata": {},
     "output_type": "execute_result"
    }
   ],
   "source": [
    "ode_sol = ode_sol.subs(Csol).subs({m:64.2, c:3, k:124e3})\n",
    "ode_sol"
   ]
  },
  {
   "cell_type": "code",
   "execution_count": 374,
   "metadata": {
    "collapsed": false
   },
   "outputs": [
    {
     "data": {
      "image/png": "[encoded data removed]",
      "text/plain": [
       "<matplotlib.figure.Figure at 0xb892c18>"
      ]
     },
     "metadata": {},
     "output_type": "display_data"
    }
   ],
   "source": [
    "sp.plot(ode_sol.rhs, (t,0,4)) ;"
   ]
  },
  {
   "cell_type": "code",
   "execution_count": null,
   "metadata": {
    "collapsed": true
   },
   "outputs": [],
   "source": []
  }
 ],
 "metadata": {
  "kernelspec": {
   "display_name": "Python 3",
   "language": "python",
   "name": "python3"
  },
  "language_info": {
   "codemirror_mode": {
    "name": "ipython",
    "version": 3
   },
   "file_extension": ".py",
   "mimetype": "text/x-python",
   "name": "python",
   "nbconvert_exporter": "python",
   "pygments_lexer": "ipython3",
   "version": "3.5.2"
  }
 },
 "nbformat": 4,
 "nbformat_minor": 0
}
