{
 "cells": [
  {
   "cell_type": "code",
   "execution_count": 7,
   "metadata": {
    "collapsed": false
   },
   "outputs": [],
   "source": [
    "#from scipy.integrate import odeint\n",
    "from matplotlib.pyplot import plot,xlabel,ylabel,title,legend,figure,subplots\n",
    "from numpy import cos, pi, arange, sqrt, pi, array"
   ]
  },
  {
   "cell_type": "code",
   "execution_count": null,
   "metadata": {
    "collapsed": false
   },
   "outputs": [],
   "source": [
    "def MassSpringDamper(state,t):\n",
    "    '''\n",
    "    k=spring constant, Newtons per metre\n",
    "    m=mass, Kilograms\n",
    "    c=dampign coefficient, Newton*second / meter    \n",
    "    \n",
    "    for a mass,spring\n",
    "        xdd = ((-k*x)/m) + g\n",
    "    for a mass, spring, damper \n",
    "        xdd = -k*x/m -c*xd-g\n",
    "    for a mass, spring, dmaper with forcing function\n",
    "        xdd = -k*x/m -c*xd-g + cos(4*t-pi/4)\n",
    "    '''\n",
    "  \n",
    "    k=124e3  # spring constant, kN/m\n",
    "    m=64.2 # mass, Kg\n",
    "    c=3  # damping coefficient \n",
    "    # unpack the state vector\n",
    "    x,xd = state # displacement,x and velocity x'\n",
    "    g = 9.8 # metres per second**2\n",
    "    # compute acceleration xdd = x''\n",
    "    omega = 1.0 # frequency\n",
    "    phi = 0.0 # phase shift\n",
    "    A = 5.0 # amplitude\n",
    "    xdd = -k*x/m -c*xd-g + A*cos(2*pi*omega*t - phi)\n",
    "    return [xd, xdd]"
   ]
  },
  {
   "cell_type": "code",
   "execution_count": 11,
   "metadata": {
    "collapsed": false
   },
   "outputs": [
    {
     "ename": "NameError",
     "evalue": "name 'odeint' is not defined",
     "output_type": "error",
     "traceback": [
      "\u001b[1;31m---------------------------------------------------------------------------\u001b[0m",
      "\u001b[1;31mNameError\u001b[0m                                 Traceback (most recent call last)",
      "\u001b[1;32m<ipython-input-11-15a17e066dde>\u001b[0m in \u001b[0;36m<module>\u001b[1;34m()\u001b[0m\n\u001b[0;32m      4\u001b[0m \u001b[0mstep\u001b[0m \u001b[1;33m=\u001b[0m \u001b[1;36m0.001\u001b[0m  \u001b[1;31m# step\u001b[0m\u001b[1;33m\u001b[0m\u001b[0m\n\u001b[0;32m      5\u001b[0m \u001b[0mt\u001b[0m \u001b[1;33m=\u001b[0m \u001b[0marange\u001b[0m\u001b[1;33m(\u001b[0m\u001b[0mti\u001b[0m\u001b[1;33m,\u001b[0m \u001b[0mtf\u001b[0m\u001b[1;33m,\u001b[0m \u001b[0mstep\u001b[0m\u001b[1;33m)\u001b[0m\u001b[1;33m\u001b[0m\u001b[0m\n\u001b[1;32m----> 6\u001b[1;33m \u001b[0mstate\u001b[0m \u001b[1;33m=\u001b[0m \u001b[0modeint\u001b[0m\u001b[1;33m(\u001b[0m\u001b[0mMassSpringDamper\u001b[0m\u001b[1;33m,\u001b[0m \u001b[0mstate0\u001b[0m\u001b[1;33m,\u001b[0m \u001b[0mt\u001b[0m\u001b[1;33m)\u001b[0m\u001b[1;33m\u001b[0m\u001b[0m\n\u001b[0m\u001b[0;32m      7\u001b[0m \u001b[0mx\u001b[0m \u001b[1;33m=\u001b[0m \u001b[0marray\u001b[0m\u001b[1;33m(\u001b[0m\u001b[0mstate\u001b[0m\u001b[1;33m[\u001b[0m\u001b[1;33m:\u001b[0m\u001b[1;33m,\u001b[0m\u001b[1;33m[\u001b[0m\u001b[1;36m0\u001b[0m\u001b[1;33m]\u001b[0m\u001b[1;33m]\u001b[0m\u001b[1;33m)\u001b[0m\u001b[1;33m\u001b[0m\u001b[0m\n\u001b[0;32m      8\u001b[0m \u001b[0mxd\u001b[0m \u001b[1;33m=\u001b[0m \u001b[0marray\u001b[0m\u001b[1;33m(\u001b[0m\u001b[0mstate\u001b[0m\u001b[1;33m[\u001b[0m\u001b[1;33m:\u001b[0m\u001b[1;33m,\u001b[0m\u001b[1;33m[\u001b[0m\u001b[1;36m1\u001b[0m\u001b[1;33m]\u001b[0m\u001b[1;33m]\u001b[0m\u001b[1;33m)\u001b[0m\u001b[1;33m\u001b[0m\u001b[0m\n",
      "\u001b[1;31mNameError\u001b[0m: name 'odeint' is not defined"
     ]
    }
   ],
   "source": [
    "state0 = [0.0, 1.2]  #initial conditions [x0 , v0]  [m, m/sec] \n",
    "ti = 0.0  # initial time\n",
    "tf = 4.0  # final time\n",
    "step = 0.001  # step\n",
    "t = arange(ti, tf, step)\n",
    "state = odeint(MassSpringDamper, state0, t)\n",
    "x = array(state[:,[0]])\n",
    "xd = array(state[:,[1]])"
   ]
  },
  {
   "cell_type": "code",
   "execution_count": null,
   "metadata": {
    "collapsed": true
   },
   "outputs": [],
   "source": [
    "# Plotting displacement and velocity\n",
    "pylab.rcParams['figure.figsize'] = (15, 12)\n",
    "pylab.rcParams['font.size'] = 18\n",
    "\n",
    "fig, ax1 = pylab.subplots()\n",
    "ax2 = ax1.twinx()\n",
    "ax1.plot(t,x*1e3,'b',label = r'$x (mm)$', linewidth=2.0)\n",
    "ax2.plot(t,xd,'g--',label = r'$\\dot{x} (m/sec)$', linewidth=2.0)\n",
    "ax2.legend(loc='lower right')\n",
    "ax1.legend()\n",
    "ax1.set_xlabel('time , sec')\n",
    "ax1.set_ylabel('disp (mm)',color='b')\n",
    "ax2.set_ylabel('velocity (m/s)',color='g')\n",
    "pylab.title('Mass-Spring System with $V_0=1.2 \\frac{m}{s}$ and $\\delta_{max}=22.9mm$')\n",
    "pylab.grid()"
   ]
  }
 ],
 "metadata": {
  "kernelspec": {
   "display_name": "Python 3",
   "language": "python",
   "name": "python3"
  },
  "language_info": {
   "codemirror_mode": {
    "name": "ipython",
    "version": 3
   },
   "file_extension": ".py",
   "mimetype": "text/x-python",
   "name": "python",
   "nbconvert_exporter": "python",
   "pygments_lexer": "ipython3",
   "version": "3.5.2"
  }
 },
 "nbformat": 4,
 "nbformat_minor": 0
}
