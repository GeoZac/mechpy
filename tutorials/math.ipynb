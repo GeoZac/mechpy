{
 "cells": [
  {
   "cell_type": "markdown",
   "metadata": {},
   "source": [
    "- - - -\n",
    "# Mechpy\n",
    "a mechanical engineer's toolbox \n",
    "\n",
    "source code - https://github.com/nagordon/mechpy  \n",
    "documentation - https://nagordon.github.io/mechpy/web/  \n",
    "\n",
    "- - - -\n",
    "\n",
    "## Math  \n",
    "\n",
    "[Differential Equations](#Differential-Equations)  \n",
    "[Linear Algebra](#Linear-Algebra)  \n",
    "[Signal Processing](#Signal-Processing)  \n",
    "[Curve Fitting](#Curve-Fitting)   \n",
    "[plotting](#Plotting)  \n",
    "- - - -\n",
    "\n",
    "\n",
    "This is more or less my notes on using python for a variety of engineering tasks, including plotting, solving equations, linear algebra etc. Some of this work is my own, but many of it is from the scipy documentation."
   ]
  },
  {
   "cell_type": "markdown",
   "metadata": {},
   "source": [
    "## Python Initilaization with module imports"
   ]
  },
  {
   "cell_type": "code",
   "execution_count": 18,
   "metadata": {
    "collapsed": false
   },
   "outputs": [],
   "source": [
    "# setup \n",
    "import numpy as np\n",
    "import sympy as sp\n",
    "import scipy\n",
    "from pprint import pprint\n",
    "sp.init_printing(use_latex='mathjax')\n",
    "\n",
    "import matplotlib.pyplot as plt\n",
    "plt.rcParams['figure.figsize'] = (12, 8)  # (width, height)\n",
    "plt.rcParams['font.size'] = 14\n",
    "plt.rcParams['legend.fontsize'] = 16\n",
    "from matplotlib import patches\n",
    "\n",
    "#get_ipython().magic('matplotlib')  # seperate window\n",
    "get_ipython().magic('matplotlib inline') # inline plotting"
   ]
  },
  {
   "cell_type": "markdown",
   "metadata": {
    "collapsed": true
   },
   "source": [
    "## Curve-Fitting \n",
    "[index](#Mechpy)  \n"
   ]
  },
  {
   "cell_type": "code",
   "execution_count": 1,
   "metadata": {
    "collapsed": true
   },
   "outputs": [],
   "source": [
    "import scipy as sp\n",
    "import numpy as np\n",
    "import matplotlib.pyplot as plt\n",
    "%matplotlib inline"
   ]
  },
  {
   "cell_type": "code",
   "execution_count": 2,
   "metadata": {
    "collapsed": false
   },
   "outputs": [
    {
     "data": {
      "text/plain": [
       "(0, 12)"
      ]
     },
     "execution_count": 2,
     "metadata": {},
     "output_type": "execute_result"
    },
    {
     "data": {
      "image/png": "[encoded data removed]",
      "text/plain": [
       "<matplotlib.figure.Figure at 0x120f5180a20>"
      ]
     },
     "metadata": {},
     "output_type": "display_data"
    }
   ],
   "source": [
    "#==============================================================================\n",
    "# Method 1 - polyfit\n",
    "#==============================================================================\n",
    "import numpy as np\n",
    "import matplotlib.pyplot as plt\n",
    "%matplotlib inline\n",
    "\n",
    "x = [1,2,3,4]\n",
    "y = [3,5,7,10] # 10, not 9, so the fit isn't perfect\n",
    "fit = np.polyfit(x,y,1)\n",
    "fit_fn = np.poly1d(fit) \n",
    "# fit_fn is now a function which takes in x and returns an estimate for y\n",
    "plt.text(4,4,fit_fn)\n",
    "plt.plot(x,y, 'yo', x, fit_fn(x), '--k')\n",
    "plt.xlim(0, 5)\n",
    "plt.ylim(0, 12)"
   ]
  },
  {
   "cell_type": "code",
   "execution_count": 3,
   "metadata": {
    "collapsed": false
   },
   "outputs": [
    {
     "name": "stdout",
     "output_type": "stream",
     "text": [
      "         3          2\n",
      "0.08704 x - 0.8135 x + 1.693 x - 0.03968\n",
      " ------------------------------------------ \n",
      "           6           5           4          3          2\n",
      "-0.001269 x + 0.01071 x + 0.01711 x - 0.2894 x + 0.2772 x + 0.7857 x\n"
     ]
    },
    {
     "name": "stderr",
     "output_type": "stream",
     "text": [
      "C:\\Users\\nealio\\Anaconda3\\lib\\site-packages\\numpy\\lib\\polynomial.py:594: RankWarning: Polyfit may be poorly conditioned\n",
      "  warnings.warn(msg, RankWarning)\n"
     ]
    },
    {
     "data": {
      "image/png": "[encoded data removed]",
      "text/plain": [
       "<matplotlib.figure.Figure at 0x120f54fc400>"
      ]
     },
     "metadata": {},
     "output_type": "display_data"
    }
   ],
   "source": [
    "import matplotlib.pyplot as plt\n",
    "\n",
    "x = np.array([0.0, 1.0, 2.0, 3.0,  4.0,  5.0])\n",
    "y = np.array([0.0, 0.8, 0.9, 0.1, -0.8, -1.0])\n",
    "z = np.polyfit(x, y, 3)\n",
    "\n",
    "p = np.poly1d(z)\n",
    "print(p)\n",
    "\n",
    "p6 = np.poly1d(np.polyfit(x, y, 6))\n",
    "print(' ------------------------------------------ ')\n",
    "print(p6)\n",
    "\n",
    "xp = np.linspace(-2, 6, 100)\n",
    "plt.plot(x, y, '.', xp, p(xp), '-', xp, p6(xp), '--')\n",
    "plt.ylim(-2,2)\n",
    "\n",
    "plt.show()"
   ]
  },
  {
   "cell_type": "code",
   "execution_count": 4,
   "metadata": {
    "collapsed": false
   },
   "outputs": [
    {
     "data": {
      "image/png": "[encoded data removed]",
      "text/plain": [
       "<matplotlib.figure.Figure at 0x120f5abc1d0>"
      ]
     },
     "metadata": {},
     "output_type": "display_data"
    }
   ],
   "source": [
    "#==============================================================================\n",
    "# Hmk from numerical methods class\n",
    "#==============================================================================\n",
    "X = np.array([0,  1, 2, 3,  4,  5])\n",
    "Y = np.array([4, -1, 6, 1, -4, -9])\n",
    "order=3 # integer > 0\n",
    "C = np.polyfit(X,Y,order);\n",
    "C = np.flipud(C)\n",
    "\n",
    "h = 1000\n",
    "xfit = np.linspace(min(X),max(X),h);\n",
    "yfit = np.zeros(len(xfit))\n",
    "\n",
    "for i,c in enumerate(C):\n",
    "    yfit += c*xfit**i\n",
    "\n",
    "plt.plot(X,Y,'o',xfit,yfit)\n",
    "plt.title('third order polynomnial least sqaures fit')\n",
    "plt.show()"
   ]
  },
  {
   "cell_type": "code",
   "execution_count": 5,
   "metadata": {
    "collapsed": false
   },
   "outputs": [
    {
     "name": "stdout",
     "output_type": "stream",
     "text": [
      "Warning: Maximum number of function evaluations has been exceeded.\n"
     ]
    },
    {
     "data": {
      "text/plain": [
       "[<matplotlib.lines.Line2D at 0x120f5ad8d68>]"
      ]
     },
     "execution_count": 5,
     "metadata": {},
     "output_type": "execute_result"
    },
    {
     "data": {
      "image/png": "[encoded data removed]",
      "text/plain": [
       "<matplotlib.figure.Figure at 0x120f5ad8668>"
      ]
     },
     "metadata": {},
     "output_type": "display_data"
    }
   ],
   "source": [
    "#==============================================================================\n",
    "# non-linear least squares\n",
    "#==============================================================================\n",
    "\n",
    "from scipy.optimize import curve_fit\n",
    "X = np.array([0 ,   1 , 2 ,   3 ,   4 ,   5 ])\n",
    "Y = np.array([0.1,  1 , 1.5 , 0.8 , 0.3 , 0.25 ])\n",
    "fn = lambda a: (a[0]*X+a[1]) * np.exp(a[2]*X+a[3])\n",
    "Sn = lambda x: np.sum( (fn(x)-Y)**2 )\n",
    "A = sp.optimize.fmin(func=Sn, x0=[0,0,0,0])\n",
    "plt.plot(X, Y,'o')\n",
    "xplot = np.linspace(0,5,100)\n",
    "fnfit = lambda x,a: (a[0]*x+a[1]) * np.exp(a[2]*x+a[3])\n",
    "plt.plot(xplot, fnfit(xplot, A))"
   ]
  },
  {
   "cell_type": "code",
   "execution_count": 6,
   "metadata": {
    "collapsed": false
   },
   "outputs": [
    {
     "name": "stdout",
     "output_type": "stream",
     "text": [
      "Optimization terminated successfully.\n",
      "         Current function value: 0.015158\n",
      "         Iterations: 109\n",
      "         Function evaluations: 208\n",
      "[ 0.49404038  3.96935945]\n"
     ]
    },
    {
     "data": {
      "text/plain": [
       "<matplotlib.text.Text at 0x120f5f92860>"
      ]
     },
     "execution_count": 6,
     "metadata": {},
     "output_type": "execute_result"
    },
    {
     "data": {
      "image/png": "[encoded data removed]",
      "text/plain": [
       "<matplotlib.figure.Figure at 0x120f5180908>"
      ]
     },
     "metadata": {},
     "output_type": "display_data"
    }
   ],
   "source": [
    "import scipy\n",
    "import numpy as np\n",
    "import matplotlib.pyplot as plt\n",
    "import matplotlib as mpl\n",
    "%matplotlib inline\n",
    "\n",
    "plt.figure(figsize=(16,7))\n",
    "mpl.rcParams['font.size'] = 16\n",
    "\n",
    "X = np.array([1, 2,    3,   4 ,    5 ])\n",
    "Y = np.array([2, 3.25, 3.5, 3.75 , 3.8])\n",
    "\n",
    "# a[0] is the x asymptote and a[1] is the y asymptote and \n",
    "fn = lambda a: -1/(X-a[0]) + a[1]\n",
    "Sn = lambda x: np.sum( (fn(x)-Y)**2 )\n",
    "\n",
    "A = scipy.optimize.fmin(func=Sn, x0=[0,0])\n",
    "print(A)\n",
    "plt.plot(X, Y,'o')\n",
    "xplot = np.linspace(0.75 , 5,100)\n",
    "fnfit = lambda x,a: -1/(x-a[0]) + a[1]\n",
    "\n",
    "plt.subplot(1,2,1)\n",
    "eps = 1e-16\n",
    "xp = 0.5\n",
    "yp = 4\n",
    "x = np.linspace(xp,4,100)\n",
    "y = -1/(x-xp+eps)+yp\n",
    "plt.plot(x,y)\n",
    "plt.ylim([0,yp])\n",
    "plt.title('plot of how the function should look with actual parameters')\n",
    "\n",
    "\n",
    "plt.plot(xplot, fnfit(xplot, A))\n",
    "plt.plot(X,Y, 'o')\n",
    "plt.title(r'$f(x)=\\frac{-1}{x-a_0}+a_1$')\n",
    "#plt.text(2,1,r'$f(x)=\\frac{-1}{x-0.494}+3.969$')"
   ]
  },
  {
   "cell_type": "code",
   "execution_count": 7,
   "metadata": {
    "collapsed": false
   },
   "outputs": [
    {
     "data": {
      "text/plain": [
       "[<matplotlib.lines.Line2D at 0x120f7619dd8>]"
      ]
     },
     "execution_count": 7,
     "metadata": {},
     "output_type": "execute_result"
    },
    {
     "data": {
      "image/png": "[encoded data removed]",
      "text/plain": [
       "<matplotlib.figure.Figure at 0x120f65c4518>"
      ]
     },
     "metadata": {},
     "output_type": "display_data"
    }
   ],
   "source": [
    "#==============================================================================\n",
    "# \n",
    "#==============================================================================\n",
    "import numpy as np\n",
    "from scipy.optimize import curve_fit\n",
    "def func(x, a, b, c):\n",
    "    return a * np.exp(-b * x) + c\n",
    "\n",
    "xdata = np.linspace(0, 4, 50)\n",
    "y = func(xdata, 2.5, 1.3, 0.5)\n",
    "ydata = y + np.random.normal(size=len(xdata))\n",
    "popt, pcov = curve_fit(func, xdata, ydata)\n",
    "popt, pcov = curve_fit(func, xdata, ydata, bounds=(0, [3., 2., 1.]))\n",
    "\n",
    "plt.plot(xdata, y)\n",
    "\n",
    "yfit = func(xdata, popt[0], popt[1], popt[2])\n",
    "plt.plot(xdata, yfit, 'o')"
   ]
  },
  {
   "cell_type": "markdown",
   "metadata": {},
   "source": [
    "## Linear Algebra with Python\n",
    "[index](#Mechpy)  \n",
    "\n",
    "Python's numpy package allows python, a generic computing language to perform powerful mathematical calculations. Although python's math syntax is not as obvious as MATLAB's, the functionality is comparable. This document is designed to be an intro to that syntax \n",
    "\n",
    "Some references\n",
    "\n",
    "http://nbviewer.ipython.org/github/carljv/cython_testing/blob/master/cython_linalg.ipynb\n",
    "\n",
    "We can either use scipy, which includes numpy, \n",
    "http://docs.scipy.org/doc/\n",
    "\n",
    "or use numpy directly\n",
    "http://docs.scipy.org/doc/numpy/\n",
    "\n",
    "Since there are many ways to solve linear algebra problems, (eg Octave/Matlab, julia, scipy, numpy)\n",
    "I tend to prefer the most matlabesc approaches due to the ubiquity of Matlab and the simplicity of the syntax, which frankly, python suffers with.\n",
    "\n",
    "The major difference between arrays and matrices in python is that arrays are n-dimensions, where matrices are only up to 2-dimensions  \n",
    "m"
   ]
  },
  {
   "cell_type": "markdown",
   "metadata": {},
   "source": [
    "## Math with Python  \n",
    "[index](#index)\n",
    "\n",
    "WHen using ipython, variables and modules can be stored in the console. Use ```%reset``` to remove any modules and variables from the kernal \n",
    "\n",
    "The modules used for math are ```numpy``` , ```scipy``` and ```matplotlib```\n",
    "\n",
    "All the these modules can be accessed with the module ```pylab```, but is not updated as regular as the other packages.\n",
    "\n",
    "the linear algebra system in python via numpy and scipy is \n",
    "a bit awkward at first, but once the nuances are understood\n",
    "it has most of the functionality of MATLAB with zero the cost\n",
    "\n",
    "The matrix class of scipy is handy but limits the type of data stored.\n",
    " As with MATLAB all \"arrays\" or \"matrices\" are just matrices. This is not true with python.\n",
    "Thus, to avoid confusion, it is discouraged to use the matrix class\n",
    "\n",
    "TO get started lets looks at numpy arrays, and then later we will use python powerful symbolic math package sympy for a different way to perform calculations"
   ]
  },
  {
   "cell_type": "code",
   "execution_count": 1,
   "metadata": {
    "collapsed": true
   },
   "outputs": [],
   "source": [
    "#import numpy as np\n",
    "from numpy import *\n",
    "from scipy import linalg\n",
    "from matplotlib.pyplot import *"
   ]
  },
  {
   "cell_type": "markdown",
   "metadata": {},
   "source": [
    "## Numpy arrays"
   ]
  },
  {
   "cell_type": "code",
   "execution_count": 2,
   "metadata": {
    "collapsed": false
   },
   "outputs": [
    {
     "name": "stdout",
     "output_type": "stream",
     "text": [
      "x =  [0 1 2 3 4 5 6 7 8 9] as a int64\n"
     ]
    }
   ],
   "source": [
    "# using the range function to create a numpy array\n",
    "x = array(range(10))\n",
    "print('x = ',x, 'as a',x.dtype)"
   ]
  },
  {
   "cell_type": "code",
   "execution_count": 3,
   "metadata": {
    "collapsed": false
   },
   "outputs": [
    {
     "name": "stdout",
     "output_type": "stream",
     "text": [
      "x =  [0 1 2 3 4 5 6 7 8 9] as a int64\n"
     ]
    }
   ],
   "source": [
    "# using numpy function arange\n",
    "x = arange(10)\n",
    "print('x = ',x, 'as a',x.dtype)"
   ]
  },
  {
   "cell_type": "code",
   "execution_count": 4,
   "metadata": {
    "collapsed": false
   },
   "outputs": [
    {
     "name": "stdout",
     "output_type": "stream",
     "text": [
      "x =  [ 0.  1.  2.  3.  4.  5.  6.  7.  8.  9.] as a float64\n"
     ]
    }
   ],
   "source": [
    "x = linspace(0,9,10)\n",
    "print('x = ',x, 'as a',x.dtype)"
   ]
  },
  {
   "cell_type": "code",
   "execution_count": 5,
   "metadata": {
    "collapsed": false
   },
   "outputs": [
    {
     "data": {
      "text/plain": [
       "numpy.ndarray"
      ]
     },
     "execution_count": 5,
     "metadata": {},
     "output_type": "execute_result"
    }
   ],
   "source": [
    "type(x)"
   ]
  },
  {
   "cell_type": "code",
   "execution_count": 6,
   "metadata": {
    "collapsed": false
   },
   "outputs": [
    {
     "data": {
      "text/plain": [
       "array([  0.,   3.,   6.,   9.,  12.,  15.,  18.,  21.,  24.,  27.])"
      ]
     },
     "execution_count": 6,
     "metadata": {},
     "output_type": "execute_result"
    }
   ],
   "source": [
    "# multiple array operations\n",
    "x*3"
   ]
  },
  {
   "cell_type": "code",
   "execution_count": 7,
   "metadata": {
    "collapsed": false
   },
   "outputs": [
    {
     "data": {
      "text/plain": [
       "array([  0.,   1.,   4.,   9.,  16.,  25.,  36.,  49.,  64.,  81.])"
      ]
     },
     "execution_count": 7,
     "metadata": {},
     "output_type": "execute_result"
    }
   ],
   "source": [
    "# exponent array operations\n",
    "x**2"
   ]
  },
  {
   "cell_type": "code",
   "execution_count": 9,
   "metadata": {
    "collapsed": false
   },
   "outputs": [
    {
     "data": {
      "text/plain": [
       "array([ 0.        ,  0.84147098,  0.90929743,  0.14112001, -0.7568025 ,\n",
       "       -0.95892427, -0.2794155 ,  0.6569866 ,  0.98935825,  0.41211849])"
      ]
     },
     "execution_count": 9,
     "metadata": {},
     "output_type": "execute_result"
    }
   ],
   "source": [
    "# trig array operations\n",
    "sin(x)"
   ]
  },
  {
   "cell_type": "code",
   "execution_count": 10,
   "metadata": {
    "collapsed": false
   },
   "outputs": [
    {
     "data": {
      "text/plain": [
       "45.0"
      ]
     },
     "execution_count": 10,
     "metadata": {},
     "output_type": "execute_result"
    }
   ],
   "source": [
    "x.sum()"
   ]
  },
  {
   "cell_type": "code",
   "execution_count": 11,
   "metadata": {
    "collapsed": false
   },
   "outputs": [
    {
     "name": "stdout",
     "output_type": "stream",
     "text": [
      "['T', 'all', 'any', 'argmax', 'argmin', 'argpartition', 'argsort', 'astype', 'base', 'byteswap', 'choose', 'clip', 'compress', 'conj', 'conjugate', 'copy', 'ctypes', 'cumprod', 'cumsum', 'data', 'diagonal', 'dot', 'dtype', 'dump', 'dumps', 'fill', 'flags', 'flat', 'flatten', 'getfield', 'imag', 'item', 'itemset', 'itemsize', 'max', 'mean', 'min', 'nbytes', 'ndim', 'newbyteorder', 'nonzero', 'partition', 'prod', 'ptp', 'put', 'ravel', 'real', 'repeat', 'reshape', 'resize', 'round', 'searchsorted', 'setfield', 'setflags', 'shape', 'size', 'sort', 'squeeze', 'std', 'strides', 'sum', 'swapaxes', 'take', 'tobytes', 'tofile', 'tolist', 'tostring', 'trace', 'transpose', 'var', 'view']\n"
     ]
    }
   ],
   "source": [
    "print([k for k in dir(x) if k[:2] != '__' ])"
   ]
  },
  {
   "cell_type": "markdown",
   "metadata": {},
   "source": [
    "## Logical Indexing"
   ]
  },
  {
   "cell_type": "code",
   "execution_count": 12,
   "metadata": {
    "collapsed": false
   },
   "outputs": [
    {
     "data": {
      "text/plain": [
       "array([False, False, False, False,  True,  True,  True,  True,  True,  True], dtype=bool)"
      ]
     },
     "execution_count": 12,
     "metadata": {},
     "output_type": "execute_result"
    }
   ],
   "source": [
    "# logical indexing\n",
    "3 < x"
   ]
  },
  {
   "cell_type": "code",
   "execution_count": 13,
   "metadata": {
    "collapsed": false
   },
   "outputs": [
    {
     "data": {
      "text/plain": [
       "array([ True,  True,  True,  True, False, False, False, False, False, False], dtype=bool)"
      ]
     },
     "execution_count": 13,
     "metadata": {},
     "output_type": "execute_result"
    }
   ],
   "source": [
    "# negate logical indexing\n",
    "~(3 < x)"
   ]
  },
  {
   "cell_type": "code",
   "execution_count": 14,
   "metadata": {
    "collapsed": false
   },
   "outputs": [
    {
     "data": {
      "text/plain": [
       "array([False, False, False, False,  True, False, False, False, False, False], dtype=bool)"
      ]
     },
     "execution_count": 14,
     "metadata": {},
     "output_type": "execute_result"
    }
   ],
   "source": [
    "# logical indexing and \n",
    "(3 < x) & (x < 5)"
   ]
  },
  {
   "cell_type": "code",
   "execution_count": 15,
   "metadata": {
    "collapsed": false
   },
   "outputs": [
    {
     "data": {
      "text/plain": [
       "array([ True,  True,  True,  True,  True,  True,  True,  True,  True,  True], dtype=bool)"
      ]
     },
     "execution_count": 15,
     "metadata": {},
     "output_type": "execute_result"
    }
   ],
   "source": [
    "# logical index or\n",
    "(3 < x) | (x < 5)"
   ]
  },
  {
   "cell_type": "code",
   "execution_count": 16,
   "metadata": {
    "collapsed": false
   },
   "outputs": [
    {
     "data": {
      "text/plain": [
       "array([False, False, False, False,  True, False, False, False, False, False], dtype=bool)"
      ]
     },
     "execution_count": 16,
     "metadata": {},
     "output_type": "execute_result"
    }
   ],
   "source": [
    "# logical indexing and \n",
    "(3 < x) & (x < 5)"
   ]
  },
  {
   "cell_type": "code",
   "execution_count": 19,
   "metadata": {
    "collapsed": false
   },
   "outputs": [
    {
     "data": {
      "text/plain": [
       "array([False, False, False, False,  True, False, False, False, False, False], dtype=bool)"
      ]
     },
     "execution_count": 19,
     "metadata": {},
     "output_type": "execute_result"
    }
   ],
   "source": [
    "z = (3 < x) & (x < 5)\n",
    "z"
   ]
  },
  {
   "cell_type": "code",
   "execution_count": 21,
   "metadata": {
    "collapsed": false
   },
   "outputs": [
    {
     "data": {
      "text/plain": [
       "array([0, 0, 0, 0, 1, 0, 0, 0, 0, 0])"
      ]
     },
     "execution_count": 21,
     "metadata": {},
     "output_type": "execute_result"
    }
   ],
   "source": [
    "# if 0,1 is preferred, changethe datatype\n",
    "z.astype(np.int)"
   ]
  },
  {
   "cell_type": "markdown",
   "metadata": {},
   "source": [
    "## numpy arrays as a matrix"
   ]
  },
  {
   "cell_type": "code",
   "execution_count": 97,
   "metadata": {
    "collapsed": false
   },
   "outputs": [
    {
     "name": "stdout",
     "output_type": "stream",
     "text": [
      "c = [1 2 3]  of shape (3,)\n"
     ]
    }
   ],
   "source": [
    "# createa 1x3 array\n",
    "c = array([1,2,3])\n",
    "print('c =',c,' of shape',c.shape)"
   ]
  },
  {
   "cell_type": "code",
   "execution_count": 98,
   "metadata": {
    "collapsed": false
   },
   "outputs": [
    {
     "data": {
      "text/plain": [
       "array([1, 2, 3])"
      ]
     },
     "execution_count": 98,
     "metadata": {},
     "output_type": "execute_result"
    }
   ],
   "source": [
    "#does not  convert to 3x1 since it is only a 1d array\n",
    "# this is not what I would expected, so I will call it a nuance of arrays in python\n",
    "c.transpose()"
   ]
  },
  {
   "cell_type": "code",
   "execution_count": 101,
   "metadata": {
    "collapsed": false
   },
   "outputs": [
    {
     "name": "stdout",
     "output_type": "stream",
     "text": [
      "c = [[1 2 3]]  of shape (1, 3)\n"
     ]
    }
   ],
   "source": [
    "# we must reshape it\n",
    "c = c.reshape((1,3))\n",
    "print('c =',c,' of shape',c.shape)"
   ]
  },
  {
   "cell_type": "code",
   "execution_count": 102,
   "metadata": {
    "collapsed": false
   },
   "outputs": [
    {
     "data": {
      "text/plain": [
       "array([[1],\n",
       "       [2],\n",
       "       [3]])"
      ]
     },
     "execution_count": 102,
     "metadata": {},
     "output_type": "execute_result"
    }
   ],
   "source": [
    "c.transpose()"
   ]
  },
  {
   "cell_type": "code",
   "execution_count": 103,
   "metadata": {
    "collapsed": false
   },
   "outputs": [
    {
     "name": "stdout",
     "output_type": "stream",
     "text": [
      "c = [[1 2 3]]  of shape (1, 3)\n"
     ]
    }
   ],
   "source": [
    "# or when we defined it, add brackets in it to create a true 1x3 array\n",
    "c = array([[1,2,3]])\n",
    "print('c =',c,' of shape',c.shape)"
   ]
  },
  {
   "cell_type": "code",
   "execution_count": 104,
   "metadata": {
    "collapsed": false
   },
   "outputs": [
    {
     "data": {
      "text/plain": [
       "array([[1],\n",
       "       [2],\n",
       "       [3]])"
      ]
     },
     "execution_count": 104,
     "metadata": {},
     "output_type": "execute_result"
    }
   ],
   "source": [
    "# now we can transpose it.\n",
    "c.transpose() "
   ]
  },
  {
   "cell_type": "code",
   "execution_count": 105,
   "metadata": {
    "collapsed": false
   },
   "outputs": [
    {
     "name": "stdout",
     "output_type": "stream",
     "text": [
      "c = [[1 2 3]]  of shape (1, 3)\n"
     ]
    }
   ],
   "source": [
    "print('c =',c,' of shape',c.shape)"
   ]
  },
  {
   "cell_type": "code",
   "execution_count": 106,
   "metadata": {
    "collapsed": false
   },
   "outputs": [
    {
     "data": {
      "text/plain": [
       "(1, 3)"
      ]
     },
     "execution_count": 106,
     "metadata": {},
     "output_type": "execute_result"
    }
   ],
   "source": [
    "c.shape"
   ]
  },
  {
   "cell_type": "code",
   "execution_count": 111,
   "metadata": {
    "collapsed": true
   },
   "outputs": [],
   "source": [
    "# lets creat some matrices (but recall use the array)\n",
    "a = array([[1, 2], [3, 4]])\n",
    "b = array([[1, 4], [5, 7]])"
   ]
  },
  {
   "cell_type": "code",
   "execution_count": 112,
   "metadata": {
    "collapsed": false
   },
   "outputs": [
    {
     "data": {
      "text/plain": [
       "array([[1, 2],\n",
       "       [3, 4]])"
      ]
     },
     "execution_count": 112,
     "metadata": {},
     "output_type": "execute_result"
    }
   ],
   "source": [
    "a"
   ]
  },
  {
   "cell_type": "code",
   "execution_count": 113,
   "metadata": {
    "collapsed": false
   },
   "outputs": [
    {
     "data": {
      "text/plain": [
       "array([[1, 4],\n",
       "       [5, 7]])"
      ]
     },
     "execution_count": 113,
     "metadata": {},
     "output_type": "execute_result"
    }
   ],
   "source": [
    "b"
   ]
  },
  {
   "cell_type": "code",
   "execution_count": 121,
   "metadata": {
    "collapsed": false
   },
   "outputs": [
    {
     "data": {
      "text/plain": [
       "array([[ 1,  8],\n",
       "       [15, 28]])"
      ]
     },
     "execution_count": 121,
     "metadata": {},
     "output_type": "execute_result"
    }
   ],
   "source": [
    "a * b"
   ]
  },
  {
   "cell_type": "code",
   "execution_count": 114,
   "metadata": {
    "collapsed": false
   },
   "outputs": [
    {
     "data": {
      "text/plain": [
       "array([[11, 18],\n",
       "       [23, 40]])"
      ]
     },
     "execution_count": 114,
     "metadata": {},
     "output_type": "execute_result"
    }
   ],
   "source": [
    "# to perform a matrix multiplecation on an array, use \n",
    "a @ b"
   ]
  },
  {
   "cell_type": "code",
   "execution_count": 115,
   "metadata": {
    "collapsed": false
   },
   "outputs": [
    {
     "data": {
      "text/plain": [
       "array([[11, 18],\n",
       "       [23, 40]])"
      ]
     },
     "execution_count": 115,
     "metadata": {},
     "output_type": "execute_result"
    }
   ],
   "source": [
    "# or \n",
    "dot(a,b)"
   ]
  },
  {
   "cell_type": "code",
   "execution_count": 122,
   "metadata": {
    "collapsed": false
   },
   "outputs": [
    {
     "data": {
      "text/plain": [
       "array([[ 3. , -1. ],\n",
       "       [-1. ,  2.5]])"
      ]
     },
     "execution_count": 122,
     "metadata": {},
     "output_type": "execute_result"
    }
   ],
   "source": [
    "# to solve ax=b, use \n",
    "linalg.solve(a,b)"
   ]
  },
  {
   "cell_type": "code",
   "execution_count": 117,
   "metadata": {
    "collapsed": false
   },
   "outputs": [
    {
     "data": {
      "text/plain": [
       "array([[ 3. , -1. ],\n",
       "       [-1. ,  2.5]])"
      ]
     },
     "execution_count": 117,
     "metadata": {},
     "output_type": "execute_result"
    }
   ],
   "source": [
    "# or slower and less accurate\n",
    "linalg.inv(a) @ b"
   ]
  },
  {
   "cell_type": "code",
   "execution_count": 118,
   "metadata": {
    "collapsed": false
   },
   "outputs": [
    {
     "data": {
      "text/plain": [
       "array([[ 3. , -1. ],\n",
       "       [-1. ,  2.5]])"
      ]
     },
     "execution_count": 118,
     "metadata": {},
     "output_type": "execute_result"
    }
   ],
   "source": [
    "# or \n",
    "linalg.inv(a).dot(b)"
   ]
  },
  {
   "cell_type": "markdown",
   "metadata": {},
   "source": [
    "$ 3 x_0 + x_1 = 9 $ \n",
    "\n",
    "$ x_0 + 2x_1 = 8 $\n",
    "\n",
    "$ Ax=b  $\n",
    "\n",
    "$ \\left[\\begin{matrix}3 & 1\\\\1 & 2\\end{matrix}\\right]  \\left[\\begin{matrix}x_0\\\\x_1\\end{matrix}\\right] = \\left[\\begin{matrix}9\\\\8\\end{matrix}\\right] $\n",
    "\n",
    "$ \\left[\\begin{matrix}x_0\\\\x_1\\end{matrix}\\right] = \\left[\\begin{matrix}2\\\\3\\end{matrix}\\right] $"
   ]
  },
  {
   "cell_type": "code",
   "execution_count": 126,
   "metadata": {
    "collapsed": false
   },
   "outputs": [
    {
     "data": {
      "text/plain": [
       "array([[ 2.],\n",
       "       [ 3.]])"
      ]
     },
     "execution_count": 126,
     "metadata": {},
     "output_type": "execute_result"
    }
   ],
   "source": [
    "# 3 * x0 + x1 = 9 and x0 + 2 * x1 = 8\n",
    "a = np.array([[3,1], [1,2]])\n",
    "b = np.array([[9],[8]])\n",
    "x = np.linalg.solve(a, b)\n",
    "x"
   ]
  },
  {
   "cell_type": "code",
   "execution_count": 119,
   "metadata": {
    "collapsed": false
   },
   "outputs": [
    {
     "data": {
      "text/plain": [
       "array([[ 0.,  0.,  0.,  0.,  0.],\n",
       "       [ 0.,  0.,  0.,  0.,  0.]])"
      ]
     },
     "execution_count": 119,
     "metadata": {},
     "output_type": "execute_result"
    }
   ],
   "source": [
    "# lets create a 2x5 zeros matrix\n",
    "c = zeros((2,5))\n",
    "c"
   ]
  },
  {
   "cell_type": "code",
   "execution_count": 15,
   "metadata": {
    "collapsed": true
   },
   "outputs": [],
   "source": [
    "# With numpy, we can create arrays of numbers as well as functions that accept arrays\n",
    "f = lambda x,y: sqrt(x**2+y**2)"
   ]
  },
  {
   "cell_type": "code",
   "execution_count": 16,
   "metadata": {
    "collapsed": false
   },
   "outputs": [
    {
     "data": {
      "text/plain": [
       "5.0"
      ]
     },
     "execution_count": 16,
     "metadata": {},
     "output_type": "execute_result"
    }
   ],
   "source": [
    "f(3,4)"
   ]
  },
  {
   "cell_type": "code",
   "execution_count": 17,
   "metadata": {
    "collapsed": false
   },
   "outputs": [
    {
     "data": {
      "text/plain": [
       "array([ 15.31698404,  16.05218054,  16.78868667,  17.52633732,\n",
       "        18.26499384,  19.00453893,  19.74487275,  20.48590979,\n",
       "        21.2275764 ,  21.96980883,  22.7125516 ,  23.45575622,\n",
       "        24.19938016,  24.9433859 ,  25.68774027,  26.43241381,\n",
       "        27.1773803 ,  27.92261628,  28.66810074,  29.41381478,\n",
       "        30.15974138,  30.90586514,  31.65217212,  32.39864966,\n",
       "        33.14528624,  33.89207134,  34.63899537])"
      ]
     },
     "execution_count": 17,
     "metadata": {},
     "output_type": "execute_result"
    }
   ],
   "source": [
    "a = 3.1\n",
    "b = arange(15,35, 0.75)\n",
    "f(a,b)"
   ]
  },
  {
   "cell_type": "code",
   "execution_count": 74,
   "metadata": {
    "collapsed": false
   },
   "outputs": [
    {
     "data": {
      "image/png": "[encoded data removed]",
      "text/plain": [
       "<matplotlib.figure.Figure at 0x7f8a5ed52828>"
      ]
     },
     "metadata": {},
     "output_type": "display_data"
    }
   ],
   "source": [
    "# We can also perform numerical differentiation and integration\n",
    "x = arange(-pi,pi, 0.01)\n",
    "y = sin(x)*exp(-x)\n",
    "plot(x,y);\n",
    "xlabel('x')\n",
    "ylabel('$f(x)$')\n",
    "title('numerical integration example')\n",
    "show()"
   ]
  },
  {
   "cell_type": "code",
   "execution_count": 50,
   "metadata": {
    "collapsed": false
   },
   "outputs": [
    {
     "data": {
      "text/plain": [
       "-11.548547100901921"
      ]
     },
     "execution_count": 50,
     "metadata": {},
     "output_type": "execute_result"
    }
   ],
   "source": [
    "# Using the trapezoidal rule, we can numerically integrate the function\n",
    "trapz(y,x)"
   ]
  },
  {
   "cell_type": "markdown",
   "metadata": {},
   "source": [
    "# Symbolic Math with Sympy \n",
    "\n",
    "in ipython use ```help(integrate)``` or ```integrate?``` to check syntax or learn about the command. To clear the previous modules use ```%reset``` to clear variables and imports.  It is also very import to not import over other modules or difficult errors to troubleshoot may appear. This is especially important with numpy and sympy"
   ]
  },
  {
   "cell_type": "code",
   "execution_count": 119,
   "metadata": {
    "collapsed": false
   },
   "outputs": [
    {
     "name": "stdout",
     "output_type": "stream",
     "text": [
      "Once deleted, variables cannot be recovered. Proceed (y/[n])? y\n"
     ]
    }
   ],
   "source": [
    "%reset"
   ]
  },
  {
   "cell_type": "code",
   "execution_count": 120,
   "metadata": {
    "collapsed": true
   },
   "outputs": [],
   "source": [
    "from sympy import *"
   ]
  },
  {
   "cell_type": "markdown",
   "metadata": {},
   "source": [
    "Now we can initialize the console to have very nice looking mathematical expressions. If we dont do this, the text will be simple ascii characters"
   ]
  },
  {
   "cell_type": "code",
   "execution_count": 121,
   "metadata": {
    "collapsed": true
   },
   "outputs": [],
   "source": [
    "init_printing()"
   ]
  },
  {
   "cell_type": "code",
   "execution_count": 122,
   "metadata": {
    "collapsed": true
   },
   "outputs": [],
   "source": [
    "x,y = symbols('x y')"
   ]
  },
  {
   "cell_type": "markdown",
   "metadata": {},
   "source": [
    "I really enjoy using sympy because I can type my equations in, evaluate them, and it shows them very nice, which is easier to read then lines of text. Simple expressions are easy to make"
   ]
  },
  {
   "cell_type": "code",
   "execution_count": 123,
   "metadata": {
    "collapsed": false
   },
   "outputs": [
    {
     "data": {
      "image/png": "[encoded data removed]",
      "text/latex": [
       "$$\\left(x + \\pi\\right)^{2}$$"
      ],
      "text/plain": [
       "       2\n",
       "(x + π) "
      ]
     },
     "execution_count": 123,
     "metadata": {},
     "output_type": "execute_result"
    }
   ],
   "source": [
    "y = (pi + x)**2\n",
    "y"
   ]
  },
  {
   "cell_type": "code",
   "execution_count": 124,
   "metadata": {
    "collapsed": false
   },
   "outputs": [
    {
     "data": {
      "image/png": "[encoded data removed]",
      "text/latex": [
       "$$\\left(1.3 + \\pi\\right)^{2}$$"
      ],
      "text/plain": [
       "         2\n",
       "(1.3 + π) "
      ]
     },
     "execution_count": 124,
     "metadata": {},
     "output_type": "execute_result"
    }
   ],
   "source": [
    "y.subs(x,1.3)"
   ]
  },
  {
   "cell_type": "code",
   "execution_count": 125,
   "metadata": {
    "collapsed": false
   },
   "outputs": [
    {
     "data": {
      "image/png": "[encoded data removed]",
      "text/latex": [
       "$$19.7277453004228$$"
      ],
      "text/plain": [
       "19.7277453004228"
      ]
     },
     "execution_count": 125,
     "metadata": {},
     "output_type": "execute_result"
    }
   ],
   "source": [
    "# or to get a number\n",
    "N(y.subs(x,1.3))"
   ]
  },
  {
   "cell_type": "code",
   "execution_count": 144,
   "metadata": {
    "collapsed": false
   },
   "outputs": [
    {
     "data": {
      "image/png": "[encoded data removed]",
      "text/latex": [
       "$$2 x + 2 \\pi$$"
      ],
      "text/plain": [
       "2⋅x + 2⋅π"
      ]
     },
     "execution_count": 144,
     "metadata": {},
     "output_type": "execute_result"
    }
   ],
   "source": [
    "# calculus is also easy\n",
    "diff(y)\n"
   ]
  },
  {
   "cell_type": "code",
   "execution_count": 160,
   "metadata": {
    "collapsed": false
   },
   "outputs": [],
   "source": [
    "f = Function('f')(x)"
   ]
  },
  {
   "cell_type": "code",
   "execution_count": 161,
   "metadata": {
    "collapsed": false
   },
   "outputs": [
    {
     "data": {
      "image/png": "[encoded data removed]",
      "text/latex": [
       "$$e^{- x} \\sin{\\left (x \\right )}$$"
      ],
      "text/plain": [
       " -x       \n",
       "ℯ  ⋅sin(x)"
      ]
     },
     "execution_count": 161,
     "metadata": {},
     "output_type": "execute_result"
    }
   ],
   "source": [
    "f = sin(x)*exp(-x)\n",
    "f"
   ]
  },
  {
   "cell_type": "code",
   "execution_count": 162,
   "metadata": {
    "collapsed": false
   },
   "outputs": [
    {
     "data": {
      "image/png": "[encoded data removed]",
      "text/latex": [
       "$$- \\frac{e^{- x}}{2} \\sin{\\left (x \\right )} - \\frac{e^{- x}}{2} \\cos{\\left (x \\right )}$$"
      ],
      "text/plain": [
       "   -x           -x       \n",
       "  ℯ  ⋅sin(x)   ℯ  ⋅cos(x)\n",
       "- ────────── - ──────────\n",
       "      2            2     "
      ]
     },
     "execution_count": 162,
     "metadata": {},
     "output_type": "execute_result"
    }
   ],
   "source": [
    "F = integrate(f)\n",
    "F"
   ]
  },
  {
   "cell_type": "code",
   "execution_count": 163,
   "metadata": {
    "collapsed": false
   },
   "outputs": [
    {
     "data": {
      "image/png": "[encoded data removed]",
      "text/latex": [
       "$$- \\frac{e^{\\pi}}{2} + \\frac{1}{2 e^{\\pi}}$$"
      ],
      "text/plain": [
       "   π    -π\n",
       "  ℯ    ℯ  \n",
       "- ── + ───\n",
       "  2     2 "
      ]
     },
     "execution_count": 163,
     "metadata": {},
     "output_type": "execute_result"
    }
   ],
   "source": [
    "F1 = integrate(f,(x,-pi,pi ))\n",
    "# as shown numerically, we can symbolically evaluate the function \n",
    "#  and get the same result\n",
    "F1"
   ]
  },
  {
   "cell_type": "code",
   "execution_count": 164,
   "metadata": {
    "collapsed": false
   },
   "outputs": [
    {
     "data": {
      "image/png": "[encoded data removed]",
      "text/latex": [
       "$$-11.548739357257748$$"
      ],
      "text/plain": [
       "-11.548739357257748"
      ]
     },
     "execution_count": 164,
     "metadata": {},
     "output_type": "execute_result"
    }
   ],
   "source": [
    "float(F1)"
   ]
  },
  {
   "cell_type": "code",
   "execution_count": 166,
   "metadata": {
    "collapsed": false
   },
   "outputs": [
    {
     "data": {
      "image/png": "[encoded data removed]",
      "text/plain": [
       "<matplotlib.figure.Figure at 0x7f8a5d565470>"
      ]
     },
     "metadata": {},
     "output_type": "display_data"
    }
   ],
   "source": [
    "plot(f,(x,-pi,pi));"
   ]
  },
  {
   "cell_type": "code",
   "execution_count": 167,
   "metadata": {
    "collapsed": false
   },
   "outputs": [
    {
     "data": {
      "image/png": "[encoded data removed]",
      "text/plain": [
       "<matplotlib.figure.Figure at 0x7f8a5e9e70b8>"
      ]
     },
     "metadata": {},
     "output_type": "display_data"
    }
   ],
   "source": [
    "plot(F,(x,-pi,pi));"
   ]
  },
  {
   "cell_type": "code",
   "execution_count": 73,
   "metadata": {
    "collapsed": true
   },
   "outputs": [],
   "source": [
    "# Other various math tasks can be much easier when using sympy"
   ]
  },
  {
   "cell_type": "code",
   "execution_count": 74,
   "metadata": {
    "collapsed": true
   },
   "outputs": [],
   "source": [
    "n = symbols('n')"
   ]
  },
  {
   "cell_type": "code",
   "execution_count": 75,
   "metadata": {
    "collapsed": false
   },
   "outputs": [
    {
     "data": {
      "image/png": "[encoded data removed]",
      "text/latex": [
       "$$\\sum_{n=1}^{10} \\frac{1}{n^{2}}$$"
      ],
      "text/plain": [
       "  10    \n",
       " ____   \n",
       " ╲      \n",
       "  ╲   1 \n",
       "   ╲  ──\n",
       "   ╱   2\n",
       "  ╱   n \n",
       " ╱      \n",
       " ‾‾‾‾   \n",
       "n = 1   "
      ]
     },
     "execution_count": 75,
     "metadata": {},
     "output_type": "execute_result"
    }
   ],
   "source": [
    "sum_fcn = Sum(1/n**2, (n,1,10))\n",
    "sum_fcn"
   ]
  },
  {
   "cell_type": "code",
   "execution_count": 76,
   "metadata": {
    "collapsed": false
   },
   "outputs": [
    {
     "data": {
      "image/png": "[encoded data removed]",
      "text/latex": [
       "$$1.54976773116654$$"
      ],
      "text/plain": [
       "1.54976773116654"
      ]
     },
     "execution_count": 76,
     "metadata": {},
     "output_type": "execute_result"
    }
   ],
   "source": [
    "# to evaluate the summation simply add the evalf method\n",
    "sum_fcn.evalf()"
   ]
  },
  {
   "cell_type": "code",
   "execution_count": 77,
   "metadata": {
    "collapsed": false
   },
   "outputs": [
    {
     "data": {
      "text/plain": [
       "'\\\\sum_{n=1}^{10} \\\\frac{1}{n^{2}}'"
      ]
     },
     "execution_count": 77,
     "metadata": {},
     "output_type": "execute_result"
    }
   ],
   "source": [
    "latex(sum_fcn)"
   ]
  },
  {
   "cell_type": "markdown",
   "metadata": {},
   "source": [
    "Since this is a windows machine, the latex command printed two backslashes, if we change that to single backslashes we can get the latex version of the summation \n",
    "$$\n",
    "\\sum_{n=1}^{10}\\frac{1}{n^{2}}\n",
    "$$"
   ]
  },
  {
   "cell_type": "code",
   "execution_count": 78,
   "metadata": {
    "collapsed": true
   },
   "outputs": [],
   "source": [
    "# linear algebra"
   ]
  },
  {
   "cell_type": "code",
   "execution_count": 79,
   "metadata": {
    "collapsed": false
   },
   "outputs": [
    {
     "data": {
      "text/latex": [
       "$$\\left[\\begin{matrix}\\sigma_{11}\\\\\\nu_{22}\\\\\\epsilon_{33}\\end{matrix}\\right]$$"
      ],
      "text/plain": [
       "⎡σ₁₁⎤\n",
       "⎢   ⎥\n",
       "⎢ν₂₂⎥\n",
       "⎢   ⎥\n",
       "⎣ε₃₃⎦"
      ]
     },
     "execution_count": 79,
     "metadata": {},
     "output_type": "execute_result"
    }
   ],
   "source": [
    "s11, n22, e33 = symbols(\"sigma11 nu22 epsilon33\")\n",
    "A = Matrix([[s11],[n22],[e33]])\n",
    "A"
   ]
  },
  {
   "cell_type": "code",
   "execution_count": 80,
   "metadata": {
    "collapsed": true
   },
   "outputs": [],
   "source": [
    "m11, m12, m21, m22 = symbols(\"m11, m12, m21, m22\")\n",
    "b1, b2 = symbols(\"b1, b2\")"
   ]
  },
  {
   "cell_type": "code",
   "execution_count": 81,
   "metadata": {
    "collapsed": false
   },
   "outputs": [
    {
     "data": {
      "text/latex": [
       "$$\\left[\\begin{matrix}m_{11} & m_{12}\\\\m_{21} & m_{22}\\end{matrix}\\right]$$"
      ],
      "text/plain": [
       "⎡m₁₁  m₁₂⎤\n",
       "⎢        ⎥\n",
       "⎣m₂₁  m₂₂⎦"
      ]
     },
     "execution_count": 81,
     "metadata": {},
     "output_type": "execute_result"
    }
   ],
   "source": [
    "A = Matrix([[m11, m12],[m21, m22]])\n",
    "A"
   ]
  },
  {
   "cell_type": "code",
   "execution_count": 82,
   "metadata": {
    "collapsed": false
   },
   "outputs": [
    {
     "data": {
      "text/latex": [
       "$$\\left[\\begin{matrix}b_{1}\\\\b_{2}\\end{matrix}\\right]$$"
      ],
      "text/plain": [
       "⎡b₁⎤\n",
       "⎢  ⎥\n",
       "⎣b₂⎦"
      ]
     },
     "execution_count": 82,
     "metadata": {},
     "output_type": "execute_result"
    }
   ],
   "source": [
    "b = Matrix([[b1], [b2]])\n",
    "b"
   ]
  },
  {
   "cell_type": "code",
   "execution_count": 83,
   "metadata": {
    "collapsed": false
   },
   "outputs": [
    {
     "data": {
      "text/latex": [
       "$$\\left[\\begin{matrix}m_{11}^{2} + m_{12} m_{21} & m_{11} m_{12} + m_{12} m_{22}\\\\m_{11} m_{21} + m_{21} m_{22} & m_{12} m_{21} + m_{22}^{2}\\end{matrix}\\right]$$"
      ],
      "text/plain": [
       "⎡    2                               ⎤\n",
       "⎢ m₁₁  + m₁₂⋅m₂₁    m₁₁⋅m₁₂ + m₁₂⋅m₂₂⎥\n",
       "⎢                                    ⎥\n",
       "⎢                                 2  ⎥\n",
       "⎣m₁₁⋅m₂₁ + m₂₁⋅m₂₂   m₁₂⋅m₂₁ + m₂₂   ⎦"
      ]
     },
     "execution_count": 83,
     "metadata": {},
     "output_type": "execute_result"
    }
   ],
   "source": [
    "A**2"
   ]
  },
  {
   "cell_type": "code",
   "execution_count": 84,
   "metadata": {
    "collapsed": false
   },
   "outputs": [
    {
     "data": {
      "image/png": "[encoded data removed]",
      "text/latex": [
       "$$m_{11} m_{22} - m_{12} m_{21}$$"
      ],
      "text/plain": [
       "m₁₁⋅m₂₂ - m₁₂⋅m₂₁"
      ]
     },
     "execution_count": 84,
     "metadata": {},
     "output_type": "execute_result"
    }
   ],
   "source": [
    "A.det()"
   ]
  },
  {
   "cell_type": "code",
   "execution_count": 85,
   "metadata": {
    "collapsed": false
   },
   "outputs": [
    {
     "data": {
      "text/latex": [
       "$$\\left[\\begin{matrix}\\frac{1}{m_{11}} + \\frac{m_{12} m_{21}}{m_{11}^{2} \\left(m_{22} - \\frac{m_{12} m_{21}}{m_{11}}\\right)} & - \\frac{m_{12}}{m_{11} \\left(m_{22} - \\frac{m_{12} m_{21}}{m_{11}}\\right)}\\\\- \\frac{m_{21}}{m_{11} \\left(m_{22} - \\frac{m_{12} m_{21}}{m_{11}}\\right)} & \\frac{1}{m_{22} - \\frac{m_{12} m_{21}}{m_{11}}}\\end{matrix}\\right]$$"
      ],
      "text/plain": [
       "⎡ 1          m₁₂⋅m₂₁                -m₁₂        ⎤\n",
       "⎢─── + ────────────────────  ───────────────────⎥\n",
       "⎢m₁₁      2 ⎛      m₁₂⋅m₂₁⎞      ⎛      m₁₂⋅m₂₁⎞⎥\n",
       "⎢      m₁₁ ⋅⎜m₂₂ - ───────⎟  m₁₁⋅⎜m₂₂ - ───────⎟⎥\n",
       "⎢           ⎝        m₁₁  ⎠      ⎝        m₁₁  ⎠⎥\n",
       "⎢                                               ⎥\n",
       "⎢          -m₂₁                       1         ⎥\n",
       "⎢   ───────────────────         ─────────────   ⎥\n",
       "⎢       ⎛      m₁₂⋅m₂₁⎞               m₁₂⋅m₂₁   ⎥\n",
       "⎢   m₁₁⋅⎜m₂₂ - ───────⎟         m₂₂ - ───────   ⎥\n",
       "⎣       ⎝        m₁₁  ⎠                 m₁₁     ⎦"
      ]
     },
     "execution_count": 85,
     "metadata": {},
     "output_type": "execute_result"
    }
   ],
   "source": [
    "A.inv()"
   ]
  },
  {
   "cell_type": "code",
   "execution_count": null,
   "metadata": {
    "collapsed": true
   },
   "outputs": [],
   "source": []
  },
  {
   "cell_type": "code",
   "execution_count": null,
   "metadata": {
    "collapsed": true
   },
   "outputs": [],
   "source": []
  },
  {
   "cell_type": "code",
   "execution_count": null,
   "metadata": {
    "collapsed": true
   },
   "outputs": [],
   "source": []
  },
  {
   "cell_type": "code",
   "execution_count": null,
   "metadata": {
    "collapsed": true
   },
   "outputs": [],
   "source": []
  },
  {
   "cell_type": "code",
   "execution_count": null,
   "metadata": {
    "collapsed": true
   },
   "outputs": [],
   "source": []
  },
  {
   "cell_type": "code",
   "execution_count": null,
   "metadata": {
    "collapsed": true
   },
   "outputs": [],
   "source": []
  },
  {
   "cell_type": "markdown",
   "metadata": {},
   "source": [
    "Pythons list is a generic data storage object. it can be easily extended to a numpy array, which is specialized for numerical and scientific computation "
   ]
  },
  {
   "cell_type": "code",
   "execution_count": 88,
   "metadata": {
    "collapsed": false
   },
   "outputs": [
    {
     "data": {
      "text/plain": [
       "array([[ 0.,  0.,  0.],\n",
       "       [ 0.,  0.,  0.],\n",
       "       [ 0.,  0.,  0.],\n",
       "       [ 0.,  0.,  0.],\n",
       "       [ 0.,  0.,  0.]])"
      ]
     },
     "execution_count": 88,
     "metadata": {},
     "output_type": "execute_result"
    }
   ],
   "source": [
    "np.zeros((5,3))"
   ]
  },
  {
   "cell_type": "code",
   "execution_count": 89,
   "metadata": {
    "collapsed": false
   },
   "outputs": [
    {
     "data": {
      "text/plain": [
       "array([[1, 2],\n",
       "       [3, 4]])"
      ]
     },
     "execution_count": 89,
     "metadata": {},
     "output_type": "execute_result"
    }
   ],
   "source": [
    "np.array([[1,2],[3,4]])"
   ]
  },
  {
   "cell_type": "code",
   "execution_count": 90,
   "metadata": {
    "collapsed": false
   },
   "outputs": [
    {
     "data": {
      "text/plain": [
       "matrix([[ 0.,  0.,  0.],\n",
       "        [ 0.,  0.,  0.],\n",
       "        [ 0.,  0.,  0.],\n",
       "        [ 0.,  0.,  0.],\n",
       "        [ 0.,  0.,  0.]])"
      ]
     },
     "execution_count": 90,
     "metadata": {},
     "output_type": "execute_result"
    }
   ],
   "source": [
    "np.matrix(np.zeros((5,3)))"
   ]
  },
  {
   "cell_type": "code",
   "execution_count": 91,
   "metadata": {
    "collapsed": false
   },
   "outputs": [
    {
     "data": {
      "text/plain": [
       "matrix([[1, 2],\n",
       "        [3, 4]])"
      ]
     },
     "execution_count": 91,
     "metadata": {},
     "output_type": "execute_result"
    }
   ],
   "source": [
    "np.matrix([[1,2],[3,4]])"
   ]
  },
  {
   "cell_type": "code",
   "execution_count": 92,
   "metadata": {
    "collapsed": false
   },
   "outputs": [
    {
     "data": {
      "text/plain": [
       "array([[4, 3, 1],\n",
       "       [5, 7, 2],\n",
       "       [2, 2, 2]])"
      ]
     },
     "execution_count": 92,
     "metadata": {},
     "output_type": "execute_result"
    }
   ],
   "source": [
    "# Matrix multiplication can be achieved using the dot method\n",
    "i = [[1,0,0],[0,1,0],[0,0,1]]  # identiy matrix\n",
    "a = [[4,3,1],[5,7,2],[2,2,2]]\n",
    "np.dot(i,a)\n"
   ]
  },
  {
   "cell_type": "code",
   "execution_count": 93,
   "metadata": {
    "collapsed": false
   },
   "outputs": [
    {
     "data": {
      "text/plain": [
       "matrix([[4, 3, 1],\n",
       "        [5, 7, 2],\n",
       "        [2, 2, 2]])"
      ]
     },
     "execution_count": 93,
     "metadata": {},
     "output_type": "execute_result"
    }
   ],
   "source": [
    "#Or, matrix multiplication can be done if a matrix is explicitly defined\n",
    "np.matrix(i)*np.matrix(a)"
   ]
  },
  {
   "cell_type": "code",
   "execution_count": 94,
   "metadata": {
    "collapsed": false
   },
   "outputs": [
    {
     "data": {
      "text/plain": [
       "array([[4, 0, 0],\n",
       "       [0, 7, 0],\n",
       "       [0, 0, 2]])"
      ]
     },
     "execution_count": 94,
     "metadata": {},
     "output_type": "execute_result"
    }
   ],
   "source": [
    "# Notice, when arrays are mutliplied, we get the dot product \n",
    "np.array(i)*np.array(a)"
   ]
  },
  {
   "cell_type": "code",
   "execution_count": 95,
   "metadata": {
    "collapsed": false
   },
   "outputs": [
    {
     "data": {
      "text/plain": [
       "matrix([[4, 3, 1],\n",
       "        [5, 7, 2],\n",
       "        [2, 2, 2]])"
      ]
     },
     "execution_count": 95,
     "metadata": {},
     "output_type": "execute_result"
    }
   ],
   "source": [
    "# convert an array to a matrix\n",
    "m = np.matrix(a)\n",
    "m"
   ]
  },
  {
   "cell_type": "code",
   "execution_count": 96,
   "metadata": {
    "collapsed": false
   },
   "outputs": [
    {
     "data": {
      "text/plain": [
       "matrix([[4, 5, 2],\n",
       "        [3, 7, 2],\n",
       "        [1, 2, 2]])"
      ]
     },
     "execution_count": 96,
     "metadata": {},
     "output_type": "execute_result"
    }
   ],
   "source": [
    "m.T  # transpose"
   ]
  },
  {
   "cell_type": "code",
   "execution_count": 97,
   "metadata": {
    "collapsed": false
   },
   "outputs": [
    {
     "data": {
      "text/plain": [
       "matrix([[ 0.55555556, -0.22222222, -0.05555556],\n",
       "        [-0.33333333,  0.33333333, -0.16666667],\n",
       "        [-0.22222222, -0.11111111,  0.72222222]])"
      ]
     },
     "execution_count": 97,
     "metadata": {},
     "output_type": "execute_result"
    }
   ],
   "source": [
    "m.I  # inverse"
   ]
  },
  {
   "cell_type": "code",
   "execution_count": 98,
   "metadata": {
    "collapsed": false
   },
   "outputs": [
    {
     "data": {
      "text/plain": [
       "matrix([[33, 35, 12],\n",
       "        [59, 68, 23],\n",
       "        [22, 24, 10]])"
      ]
     },
     "execution_count": 98,
     "metadata": {},
     "output_type": "execute_result"
    }
   ],
   "source": [
    "m**2"
   ]
  },
  {
   "cell_type": "code",
   "execution_count": 99,
   "metadata": {
    "collapsed": false
   },
   "outputs": [
    {
     "data": {
      "text/plain": [
       "array([[16,  9,  1],\n",
       "       [25, 49,  4],\n",
       "       [ 4,  4,  4]])"
      ]
     },
     "execution_count": 99,
     "metadata": {},
     "output_type": "execute_result"
    }
   ],
   "source": [
    "np.array(a)**2"
   ]
  },
  {
   "cell_type": "code",
   "execution_count": 102,
   "metadata": {
    "collapsed": false
   },
   "outputs": [
    {
     "data": {
      "text/plain": [
       "matrix([[4, 3, 1],\n",
       "        [5, 7, 2],\n",
       "        [2, 2, 2]])"
      ]
     },
     "execution_count": 102,
     "metadata": {},
     "output_type": "execute_result"
    }
   ],
   "source": [
    "m"
   ]
  },
  {
   "cell_type": "code",
   "execution_count": 103,
   "metadata": {
    "collapsed": false
   },
   "outputs": [
    {
     "data": {
      "text/plain": [
       "matrix([[1],\n",
       "        [2],\n",
       "        [2]])"
      ]
     },
     "execution_count": 103,
     "metadata": {},
     "output_type": "execute_result"
    }
   ],
   "source": [
    "m[:,2]"
   ]
  },
  {
   "cell_type": "code",
   "execution_count": 104,
   "metadata": {
    "collapsed": false
   },
   "outputs": [
    {
     "data": {
      "text/plain": [
       "matrix([[2, 2, 2]])"
      ]
     },
     "execution_count": 104,
     "metadata": {},
     "output_type": "execute_result"
    }
   ],
   "source": [
    "m[2,:]"
   ]
  },
  {
   "cell_type": "code",
   "execution_count": 105,
   "metadata": {
    "collapsed": false
   },
   "outputs": [
    {
     "data": {
      "text/plain": [
       "matrix([[4, 3],\n",
       "        [5, 7]])"
      ]
     },
     "execution_count": 105,
     "metadata": {},
     "output_type": "execute_result"
    }
   ],
   "source": [
    "m[:2,:2]"
   ]
  },
  {
   "cell_type": "code",
   "execution_count": 107,
   "metadata": {
    "collapsed": false
   },
   "outputs": [
    {
     "data": {
      "text/plain": [
       "matrix([[7, 2],\n",
       "        [2, 2]])"
      ]
     },
     "execution_count": 107,
     "metadata": {},
     "output_type": "execute_result"
    }
   ],
   "source": [
    "m[1:,1:]"
   ]
  },
  {
   "cell_type": "markdown",
   "metadata": {},
   "source": [
    "## Sympy Linear Algebra"
   ]
  },
  {
   "cell_type": "code",
   "execution_count": 6,
   "metadata": {
    "collapsed": true
   },
   "outputs": [],
   "source": [
    "# import sympy\n",
    "import sympy as sp\n",
    "#from sympy.mpmath import *"
   ]
  },
  {
   "cell_type": "code",
   "execution_count": 7,
   "metadata": {
    "collapsed": false
   },
   "outputs": [
    {
     "data": {
      "text/latex": [
       "$$\\left[\\begin{matrix}2 & x\\\\x & 3\\end{matrix}\\right]$$"
      ],
      "text/plain": [
       "⎡2  x⎤\n",
       "⎢    ⎥\n",
       "⎣x  3⎦"
      ]
     },
     "execution_count": 7,
     "metadata": {},
     "output_type": "execute_result"
    }
   ],
   "source": [
    "x = sp.Symbol('x')   # x = var('x')\n",
    "M = sp.Matrix([[2,x],[x,3]])\n",
    "M"
   ]
  },
  {
   "cell_type": "code",
   "execution_count": 8,
   "metadata": {
    "collapsed": false
   },
   "outputs": [
    {
     "data": {
      "image/png": "[encoded data removed]",
      "text/latex": [
       "$$\\left \\{ - \\frac{1}{2} \\sqrt{4 x^{2} + 1} + \\frac{5}{2} : 1, \\quad \\frac{1}{2} \\sqrt{4 x^{2} + 1} + \\frac{5}{2} : 1\\right \\}$$"
      ],
      "text/plain": [
       "⎧     __________            __________       ⎫\n",
       "⎪    ╱    2                ╱    2            ⎪\n",
       "⎨  ╲╱  4⋅x  + 1    5     ╲╱  4⋅x  + 1    5   ⎬\n",
       "⎪- ───────────── + ─: 1, ───────────── + ─: 1⎪\n",
       "⎩        2         2           2         2   ⎭"
      ]
     },
     "execution_count": 8,
     "metadata": {},
     "output_type": "execute_result"
    }
   ],
   "source": [
    "M.eigenvals()"
   ]
  },
  {
   "cell_type": "code",
   "execution_count": 9,
   "metadata": {
    "collapsed": false
   },
   "outputs": [
    {
     "data": {
      "text/latex": [
       "$$\\left [ \\left ( - \\frac{1}{2} \\sqrt{4 x^{2} + 1} + \\frac{5}{2}, \\quad 1, \\quad \\left [ \\left[\\begin{matrix}- \\frac{x}{\\frac{1}{2} \\sqrt{4 x^{2} + 1} - \\frac{1}{2}}\\\\1\\end{matrix}\\right]\\right ]\\right ), \\quad \\left ( \\frac{1}{2} \\sqrt{4 x^{2} + 1} + \\frac{5}{2}, \\quad 1, \\quad \\left [ \\left[\\begin{matrix}- \\frac{x}{- \\frac{1}{2} \\sqrt{4 x^{2} + 1} - \\frac{1}{2}}\\\\1\\end{matrix}\\right]\\right ]\\right )\\right ]$$"
      ],
      "text/plain": [
       "⎡⎛     __________                              ⎞  ⎛   __________              \n",
       "⎢⎜    ╱    2                                   ⎟  ⎜  ╱    2                   \n",
       "⎢⎜  ╲╱  4⋅x  + 1    5     ⎡⎡       -x        ⎤⎤⎟  ⎜╲╱  4⋅x  + 1    5     ⎡⎡   \n",
       "⎢⎜- ───────────── + ─, 1, ⎢⎢─────────────────⎥⎥⎟, ⎜───────────── + ─, 1, ⎢⎢───\n",
       "⎢⎜        2         2     ⎢⎢   __________    ⎥⎥⎟  ⎜      2         2     ⎢⎢   \n",
       "⎢⎜                        ⎢⎢  ╱    2         ⎥⎥⎟  ⎜                      ⎢⎢   \n",
       "⎢⎜                        ⎢⎢╲╱  4⋅x  + 1    1⎥⎥⎟  ⎜                      ⎢⎢  ╲\n",
       "⎢⎜                        ⎢⎢───────────── - ─⎥⎥⎟  ⎜                      ⎢⎢- ─\n",
       "⎢⎜                        ⎢⎢      2         2⎥⎥⎟  ⎜                      ⎢⎢   \n",
       "⎢⎜                        ⎢⎢                 ⎥⎥⎟  ⎜                      ⎢⎢   \n",
       "⎣⎝                        ⎣⎣        1        ⎦⎦⎠  ⎝                      ⎣⎣   \n",
       "\n",
       "                  ⎞⎤\n",
       "                  ⎟⎥\n",
       "     -x         ⎤⎤⎟⎥\n",
       "────────────────⎥⎥⎟⎥\n",
       "  __________    ⎥⎥⎟⎥\n",
       " ╱    2         ⎥⎥⎟⎥\n",
       "╱  4⋅x  + 1    1⎥⎥⎟⎥\n",
       "──────────── - ─⎥⎥⎟⎥\n",
       "     2         2⎥⎥⎟⎥\n",
       "                ⎥⎥⎟⎥\n",
       "      1         ⎦⎦⎠⎦"
      ]
     },
     "execution_count": 9,
     "metadata": {},
     "output_type": "execute_result"
    }
   ],
   "source": [
    "M.eigenvects()"
   ]
  },
  {
   "cell_type": "code",
   "execution_count": 10,
   "metadata": {
    "collapsed": false
   },
   "outputs": [
    {
     "data": {
      "image/png": "[encoded data removed]",
      "text/latex": [
       "$$\\frac{1}{2} \\sqrt{4 x^{2} + 1} + \\frac{5}{2}$$"
      ],
      "text/plain": [
       "   __________    \n",
       "  ╱    2         \n",
       "╲╱  4⋅x  + 1    5\n",
       "───────────── + ─\n",
       "      2         2"
      ]
     },
     "execution_count": 10,
     "metadata": {},
     "output_type": "execute_result"
    }
   ],
   "source": [
    "M.eigenvects()[1][0]"
   ]
  },
  {
   "cell_type": "code",
   "execution_count": 11,
   "metadata": {
    "collapsed": false
   },
   "outputs": [
    {
     "data": {
      "image/png": "[encoded data removed]",
      "text/latex": [
       "$$5.67955971794838$$"
      ],
      "text/plain": [
       "5.67955971794838"
      ]
     },
     "execution_count": 11,
     "metadata": {},
     "output_type": "execute_result"
    }
   ],
   "source": [
    "Mval = M.eigenvects()[1][0]\n",
    "Mval.evalf(subs={x:3.14})"
   ]
  },
  {
   "cell_type": "code",
   "execution_count": 12,
   "metadata": {
    "collapsed": false
   },
   "outputs": [
    {
     "name": "stdout",
     "output_type": "stream",
     "text": [
      "\\left[\\begin{matrix}2 & x\\\\x & 3\\end{matrix}\\right]\n"
     ]
    }
   ],
   "source": [
    "print(sp.latex(M))"
   ]
  },
  {
   "cell_type": "code",
   "execution_count": 15,
   "metadata": {
    "collapsed": false
   },
   "outputs": [
    {
     "data": {
      "text/latex": [
       "$M=\\left[\\begin{matrix}2 & x\\\\x & 3\\end{matrix}\\right]$"
      ],
      "text/plain": [
       "<IPython.core.display.Latex object>"
      ]
     },
     "execution_count": 15,
     "metadata": {},
     "output_type": "execute_result"
    }
   ],
   "source": [
    "from IPython.display import Latex\n",
    "Latex('$M=' + sp.latex(M) + '$' )"
   ]
  },
  {
   "cell_type": "markdown",
   "metadata": {},
   "source": [
    "copy and paste into markdown \n",
    "\n",
    "$ \\left[\\begin{matrix}2 & x\\\\x & 3\\end{matrix}\\right] $\n"
   ]
  },
  {
   "cell_type": "markdown",
   "metadata": {},
   "source": [
    "## Signal Processing\n",
    "Page 174 Introduction for python for Science - David Pine"
   ]
  },
  {
   "cell_type": "code",
   "execution_count": 4,
   "metadata": {
    "collapsed": false
   },
   "outputs": [
    {
     "data": {
      "image/png": "[encoded data removed]",
      "text/plain": [
       "<matplotlib.figure.Figure at 0x7f168559e5f8>"
      ]
     },
     "metadata": {},
     "output_type": "display_data"
    }
   ],
   "source": [
    "import numpy as np\n",
    "from scipy import fftpack\n",
    "import matplotlib.pyplot as plt\n",
    "get_ipython().magic('matplotlib inline') # inline plotting\n",
    "width = 2.0\n",
    "freq = 0.5\n",
    "t = np.linspace(-10, 10, 101) # linearly space time array\n",
    "g = np.exp(-np.abs(t)/width)*np.sin(2.0 * np.pi * freq * t)\n",
    "dt = t[1]-t[0] # increment between times in time array\n",
    "G = fftpack.fft(g) # FFT of g\n",
    "f = fftpack.fftfreq(g.size, d=dt) # frequenies f[i] of g[i]\n",
    "f = fftpack.fftshift(f) # shift frequencies from min to max\n",
    "G = fftpack.fftshift(G) # shift G order to coorespond to f\n",
    "fig = plt.figure(1, figsize=(8,6), frameon=False)\n",
    "ax1 = fig.add_subplot(211)\n",
    "ax1.plot(t, g)\n",
    "ax1.set_xlabel('t')\n",
    "ax1.set_ylabel('g(t)')\n",
    "ax2 = fig.add_subplot(212)\n",
    "ax2.plot(f, np.real(G), color='dodgerblue', label='real part')\n",
    "ax2.plot(f, np.imag(G), color='coral', label='imaginary part')\n",
    "ax2.legend()\n",
    "ax2.set_xlabel('f')\n",
    "ax2.set_ylabel('G(f)')\n",
    "plt.show()"
   ]
  },
  {
   "cell_type": "code",
   "execution_count": 5,
   "metadata": {
    "collapsed": false
   },
   "outputs": [
    {
     "data": {
      "image/png": "[encoded data removed]",
      "text/plain": [
       "<matplotlib.figure.Figure at 0x7f1667a9e9e8>"
      ]
     },
     "metadata": {},
     "output_type": "display_data"
    }
   ],
   "source": [
    "from pylab import *\n",
    "from scipy import fft\n",
    "get_ipython().magic('matplotlib inline') # inline plotting\n",
    "N = 2**9\n",
    "F = 25\n",
    "t = arange(N)/float(N)\n",
    "x = cos(2*pi*t*F) + rand(len(t))*3\n",
    "subplot(2,1,1)\n",
    "plot(t,x)\n",
    "ylabel('x []')\n",
    "xlabel('t [seconds]')\n",
    "title('A cosine wave')\n",
    "grid()\n",
    "\n",
    "subplot(2,1,2)\n",
    "f = t*N\n",
    "xf = fft(x)\n",
    "plot(f,abs(xf))\n",
    "title('Fourier transform of a cosine wave')\n",
    "xlabel('xf []')\n",
    "ylabel('xf []')\n",
    "xlim([0,N])\n",
    "grid()\n",
    "show()\n",
    "\n",
    "# note the spike at 25 hz and 512-25"
   ]
  },
  {
   "cell_type": "markdown",
   "metadata": {
    "collapsed": true
   },
   "source": [
    "# Engineering Mathematics with Python\n",
    "[index](#Mechpy)"
   ]
  },
  {
   "cell_type": "code",
   "execution_count": 3,
   "metadata": {
    "collapsed": false
   },
   "outputs": [],
   "source": [
    "from numpy import *"
   ]
  },
  {
   "cell_type": "code",
   "execution_count": 4,
   "metadata": {
    "collapsed": false
   },
   "outputs": [
    {
     "data": {
      "text/plain": [
       "array([ 1,  2,  3,  4,  5,  6,  7,  8,  9, 10])"
      ]
     },
     "execution_count": 4,
     "metadata": {},
     "output_type": "execute_result"
    }
   ],
   "source": [
    "r_[1:11]"
   ]
  },
  {
   "cell_type": "code",
   "execution_count": 6,
   "metadata": {
    "collapsed": false
   },
   "outputs": [
    {
     "data": {
      "text/plain": [
       "array([ 1,  2,  3,  4,  5,  6,  7,  8,  9, 10])"
      ]
     },
     "execution_count": 6,
     "metadata": {},
     "output_type": "execute_result"
    }
   ],
   "source": [
    "arange(1,11)"
   ]
  },
  {
   "cell_type": "code",
   "execution_count": 9,
   "metadata": {
    "collapsed": false
   },
   "outputs": [
    {
     "data": {
      "text/plain": [
       "array([  1.,   2.,   3.,   4.,   5.,   6.,   7.,   8.,   9.,  10.])"
      ]
     },
     "execution_count": 9,
     "metadata": {},
     "output_type": "execute_result"
    }
   ],
   "source": [
    "linspace(1,10,10)"
   ]
  },
  {
   "cell_type": "code",
   "execution_count": null,
   "metadata": {
    "collapsed": true
   },
   "outputs": [],
   "source": []
  },
  {
   "cell_type": "code",
   "execution_count": null,
   "metadata": {
    "collapsed": true
   },
   "outputs": [],
   "source": []
  },
  {
   "cell_type": "markdown",
   "metadata": {},
   "source": [
    "# Engineering Python   \n",
    "[index](#Mechpy)  \n",
    "\n",
    "to plot inline in the ipython console or jupyter notebook, otherwise plots will be in the a seperate window\n",
    "\n",
    "to turn on inline plotting\n",
    "```python\n",
    "from IPython import get_ipython\n",
    "get_ipython().magic('matplotlib inline')\n",
    "#or\n",
    "%matplotlib inline\n",
    "```\n",
    "\n",
    "to turn off inline plotting\n",
    "```python\n",
    "get_ipython().magic('matplotlib')\n",
    "#or\n",
    "%matplotlib\n",
    "#or \n",
    "%matplotlib qt\n",
    "```\n"
   ]
  },
  {
   "cell_type": "markdown",
   "metadata": {},
   "source": [
    "## Symbolic mathematics with sympy"
   ]
  },
  {
   "cell_type": "code",
   "execution_count": 3,
   "metadata": {
    "collapsed": true
   },
   "outputs": [],
   "source": [
    "# import sympy library and initialize latex printing\n",
    "import sympy as sp\n",
    "#sp.init_printing()\n",
    "#sp.init_printing(use_latex='matplotlib')\n",
    "sp.init_printing(use_latex='mathjax')"
   ]
  },
  {
   "cell_type": "code",
   "execution_count": 4,
   "metadata": {
    "collapsed": true
   },
   "outputs": [],
   "source": [
    "# add a symbolic character\n",
    "x = sp.Symbol('x')"
   ]
  },
  {
   "cell_type": "code",
   "execution_count": 5,
   "metadata": {
    "collapsed": false
   },
   "outputs": [
    {
     "data": {
      "text/latex": [
       "$$\\sqrt{x^{2}}$$"
      ],
      "text/plain": [
       "   ____\n",
       "  ╱  2 \n",
       "╲╱  x  "
      ]
     },
     "execution_count": 5,
     "metadata": {},
     "output_type": "execute_result"
    }
   ],
   "source": [
    "sp.sqrt(x**2)"
   ]
  },
  {
   "cell_type": "code",
   "execution_count": 6,
   "metadata": {
    "collapsed": false
   },
   "outputs": [
    {
     "data": {
      "text/latex": [
       "$$\\frac{11}{13}$$"
      ],
      "text/plain": [
       "11\n",
       "──\n",
       "13"
      ]
     },
     "execution_count": 6,
     "metadata": {},
     "output_type": "execute_result"
    }
   ],
   "source": [
    "r = sp.Rational(11, 13)\n",
    "r"
   ]
  },
  {
   "cell_type": "code",
   "execution_count": 7,
   "metadata": {
    "collapsed": false
   },
   "outputs": [
    {
     "data": {
      "text/latex": [
       "$$0.8461538461538461$$"
      ],
      "text/plain": [
       "0.8461538461538461"
      ]
     },
     "execution_count": 7,
     "metadata": {},
     "output_type": "execute_result"
    }
   ],
   "source": [
    "float(r)"
   ]
  },
  {
   "cell_type": "code",
   "execution_count": 8,
   "metadata": {
    "collapsed": false
   },
   "outputs": [
    {
     "data": {
      "text/plain": [
       "f"
      ]
     },
     "execution_count": 8,
     "metadata": {},
     "output_type": "execute_result"
    }
   ],
   "source": [
    "f = sp.Function('f')\n",
    "f"
   ]
  },
  {
   "cell_type": "code",
   "execution_count": 9,
   "metadata": {
    "collapsed": false
   },
   "outputs": [
    {
     "data": {
      "text/latex": [
       "$$f{\\left (x \\right )}$$"
      ],
      "text/plain": [
       "f(x)"
      ]
     },
     "execution_count": 9,
     "metadata": {},
     "output_type": "execute_result"
    }
   ],
   "source": [
    "f(x)"
   ]
  },
  {
   "cell_type": "code",
   "execution_count": 10,
   "metadata": {
    "collapsed": false
   },
   "outputs": [
    {
     "data": {
      "text/latex": [
       "$$\\left( x \\mapsto x^{2} \\right)$$"
      ],
      "text/plain": [
       "     2\n",
       "x ↦ x "
      ]
     },
     "execution_count": 10,
     "metadata": {},
     "output_type": "execute_result"
    }
   ],
   "source": [
    "h = sp.Lambda(x,x**2)\n",
    "h"
   ]
  },
  {
   "cell_type": "code",
   "execution_count": 11,
   "metadata": {
    "collapsed": false
   },
   "outputs": [
    {
     "data": {
      "text/latex": [
       "$$2 x^{2} - x \\left(x + 1\\right) - 2 x$$"
      ],
      "text/plain": [
       "   2                  \n",
       "2⋅x  - x⋅(x + 1) - 2⋅x"
      ]
     },
     "execution_count": 11,
     "metadata": {},
     "output_type": "execute_result"
    }
   ],
   "source": [
    "w = 2*(x**2-x)-x*(x+1)\n",
    "w"
   ]
  },
  {
   "cell_type": "code",
   "execution_count": 12,
   "metadata": {
    "collapsed": false
   },
   "outputs": [
    {
     "data": {
      "text/latex": [
       "$$\\left ( - 2 x, \\quad 2 x^{2}, \\quad - x \\left(x + 1\\right)\\right )$$"
      ],
      "text/plain": [
       "⎛         2            ⎞\n",
       "⎝-2⋅x, 2⋅x , -x⋅(x + 1)⎠"
      ]
     },
     "execution_count": 12,
     "metadata": {},
     "output_type": "execute_result"
    }
   ],
   "source": [
    "w.args"
   ]
  },
  {
   "cell_type": "code",
   "execution_count": 13,
   "metadata": {
    "collapsed": false
   },
   "outputs": [
    {
     "data": {
      "text/latex": [
       "$$x \\left(x - 3\\right)$$"
      ],
      "text/plain": [
       "x⋅(x - 3)"
      ]
     },
     "execution_count": 13,
     "metadata": {},
     "output_type": "execute_result"
    }
   ],
   "source": [
    "sp.simplify(w)"
   ]
  },
  {
   "cell_type": "code",
   "execution_count": 14,
   "metadata": {
    "collapsed": false
   },
   "outputs": [
    {
     "data": {
      "text/latex": [
       "$$\\left(x - 1\\right) \\left(x + 1\\right)$$"
      ],
      "text/plain": [
       "(x - 1)⋅(x + 1)"
      ]
     },
     "execution_count": 14,
     "metadata": {},
     "output_type": "execute_result"
    }
   ],
   "source": [
    "sp.factor(x**2-1)"
   ]
  },
  {
   "cell_type": "code",
   "execution_count": 15,
   "metadata": {
    "collapsed": false
   },
   "outputs": [
    {
     "data": {
      "text/latex": [
       "$$\\frac{1}{x^{2} + 3 x + 2}$$"
      ],
      "text/plain": [
       "     1      \n",
       "────────────\n",
       " 2          \n",
       "x  + 3⋅x + 2"
      ]
     },
     "execution_count": 15,
     "metadata": {},
     "output_type": "execute_result"
    }
   ],
   "source": [
    "#partial fractions\n",
    "y = 1/(x**2+3*x+2)\n",
    "y"
   ]
  },
  {
   "cell_type": "code",
   "execution_count": 16,
   "metadata": {
    "collapsed": false
   },
   "outputs": [
    {
     "data": {
      "text/latex": [
       "$$- \\frac{1}{x + 2} + \\frac{1}{x + 1}$$"
      ],
      "text/plain": [
       "    1       1  \n",
       "- ───── + ─────\n",
       "  x + 2   x + 1"
      ]
     },
     "execution_count": 16,
     "metadata": {},
     "output_type": "execute_result"
    }
   ],
   "source": [
    "sp.apart(y,x)"
   ]
  },
  {
   "cell_type": "code",
   "execution_count": 17,
   "metadata": {
    "collapsed": false
   },
   "outputs": [
    {
     "data": {
      "text/latex": [
       "$$\\frac{d}{d x} f{\\left (x \\right )}$$"
      ],
      "text/plain": [
       "d       \n",
       "──(f(x))\n",
       "dx      "
      ]
     },
     "execution_count": 17,
     "metadata": {},
     "output_type": "execute_result"
    }
   ],
   "source": [
    "f = sp.Function('f')(x)\n",
    "sp.diff(f,x)"
   ]
  },
  {
   "cell_type": "code",
   "execution_count": 18,
   "metadata": {
    "collapsed": false
   },
   "outputs": [
    {
     "data": {
      "text/latex": [
       "$$\\frac{\\partial^{2}}{\\partial x\\partial y}  g{\\left (x,y \\right )}$$"
      ],
      "text/plain": [
       "   2          \n",
       "  ∂           \n",
       "─────(g(x, y))\n",
       "∂y ∂x         "
      ]
     },
     "execution_count": 18,
     "metadata": {},
     "output_type": "execute_result"
    }
   ],
   "source": [
    "y = sp.Symbol('y')\n",
    "g = sp.Function('g')(x,y)\n",
    "g.diff(x,y)"
   ]
  },
  {
   "cell_type": "code",
   "execution_count": 19,
   "metadata": {
    "collapsed": false
   },
   "outputs": [
    {
     "data": {
      "text/latex": [
       "$$\\left[\\begin{matrix}a & b\\\\c & d\\end{matrix}\\right]$$"
      ],
      "text/plain": [
       "⎡a  b⎤\n",
       "⎢    ⎥\n",
       "⎣c  d⎦"
      ]
     },
     "execution_count": 19,
     "metadata": {},
     "output_type": "execute_result"
    }
   ],
   "source": [
    "a,b,c,d = sp.symbols(\"a b c d\")\n",
    "M = sp.Matrix([[a,b],[c,d]])\n",
    "M"
   ]
  },
  {
   "cell_type": "code",
   "execution_count": 20,
   "metadata": {
    "collapsed": false
   },
   "outputs": [
    {
     "data": {
      "text/latex": [
       "$$\\left[\\begin{matrix}a^{2} + b c & a b + b d\\\\a c + c d & b c + d^{2}\\end{matrix}\\right]$$"
      ],
      "text/plain": [
       "⎡ 2                  ⎤\n",
       "⎢a  + b⋅c   a⋅b + b⋅d⎥\n",
       "⎢                    ⎥\n",
       "⎢                  2 ⎥\n",
       "⎣a⋅c + c⋅d  b⋅c + d  ⎦"
      ]
     },
     "execution_count": 20,
     "metadata": {},
     "output_type": "execute_result"
    }
   ],
   "source": [
    "M*M"
   ]
  },
  {
   "cell_type": "code",
   "execution_count": 21,
   "metadata": {
    "collapsed": false
   },
   "outputs": [
    {
     "name": "stdout",
     "output_type": "stream",
     "text": [
      "IPython console for SymPy 1.0 (Python 3.5.1-64-bit) (ground types: python)\n",
      "\n",
      "These commands were executed:\n",
      ">>> from __future__ import division\n",
      ">>> from sympy import *\n",
      ">>> x, y, z, t = symbols('x y z t')\n",
      ">>> k, m, n = symbols('k m n', integer=True)\n",
      ">>> f, g, h = symbols('f g h', cls=Function)\n",
      ">>> init_printing()\n",
      "\n",
      "Documentation can be found at http://docs.sympy.org/1.0/\n"
     ]
    }
   ],
   "source": [
    "# if ipython is to be used as a calculator initialize with \n",
    "from sympy import init_session\n",
    "init_session() "
   ]
  },
  {
   "cell_type": "code",
   "execution_count": 22,
   "metadata": {
    "collapsed": true
   },
   "outputs": [],
   "source": [
    "from sympy import oo, Function, dsolve, Eq, Derivative, sin,cos,symbols\n",
    "from sympy.abc import x\n",
    "import sympy as sp\n",
    "import numpy as np\n",
    "import matplotlib.pyplot as mp\n",
    "get_ipython().magic('matplotlib inline')\n",
    "# this will print output as unicode"
   ]
  },
  {
   "cell_type": "code",
   "execution_count": 23,
   "metadata": {
    "collapsed": false
   },
   "outputs": [
    {
     "data": {
      "image/png": "[encoded data removed]",
      "text/latex": [
       "$$x$$"
      ],
      "text/plain": [
       "x"
      ]
     },
     "execution_count": 23,
     "metadata": {},
     "output_type": "execute_result"
    }
   ],
   "source": [
    "# assign a sympy variable\n",
    "x = sp.var('x')\n",
    "x"
   ]
  },
  {
   "cell_type": "code",
   "execution_count": 24,
   "metadata": {
    "collapsed": false
   },
   "outputs": [
    {
     "data": {
      "image/png": "[encoded data removed]",
      "text/latex": [
       "$$e^{- x} \\sin{\\left (6 x \\right )}$$"
      ],
      "text/plain": [
       " -x         \n",
       "ℯ  ⋅sin(6⋅x)"
      ]
     },
     "execution_count": 24,
     "metadata": {},
     "output_type": "execute_result"
    }
   ],
   "source": [
    "#assign a function \n",
    "f =  sp.sin(6*x)*sp.exp(-x)\n",
    "f"
   ]
  },
  {
   "cell_type": "code",
   "execution_count": 25,
   "metadata": {
    "collapsed": false
   },
   "outputs": [
    {
     "data": {
      "image/png": "[encoded data removed]",
      "text/latex": [
       "$$\\frac{1}{e^{3}} \\sin{\\left (18 \\right )}$$"
      ],
      "text/plain": [
       " -3        \n",
       "ℯ  ⋅sin(18)"
      ]
     },
     "execution_count": 25,
     "metadata": {},
     "output_type": "execute_result"
    }
   ],
   "source": [
    "f.subs(x,3)"
   ]
  },
  {
   "cell_type": "code",
   "execution_count": 26,
   "metadata": {
    "collapsed": false
   },
   "outputs": [
    {
     "data": {
      "image/png": "[encoded data removed]",
      "text/latex": [
       "$$-0.037389453398415345$$"
      ],
      "text/plain": [
       "-0.037389453398415345"
      ]
     },
     "execution_count": 26,
     "metadata": {},
     "output_type": "execute_result"
    }
   ],
   "source": [
    "float(f.subs(x,3))"
   ]
  },
  {
   "cell_type": "code",
   "execution_count": 27,
   "metadata": {
    "collapsed": false
   },
   "outputs": [
    {
     "data": {
      "image/png": "[encoded data removed]",
      "text/plain": [
       "<matplotlib.figure.Figure at 0x14364a8fbe0>"
      ]
     },
     "metadata": {},
     "output_type": "display_data"
    },
    {
     "data": {
      "text/plain": [
       "<sympy.plotting.plot.Plot at 0x14364a8fc18>"
      ]
     },
     "execution_count": 27,
     "metadata": {},
     "output_type": "execute_result"
    }
   ],
   "source": [
    "sp.plot(f)"
   ]
  },
  {
   "cell_type": "code",
   "execution_count": 28,
   "metadata": {
    "collapsed": false
   },
   "outputs": [
    {
     "name": "stdout",
     "output_type": "stream",
     "text": [
      " -x         \n",
      "ℯ  ⋅sin(6⋅x)\n"
     ]
    }
   ],
   "source": [
    "# a onetime pretty print\n",
    "sp.pprint(f)"
   ]
  },
  {
   "cell_type": "code",
   "execution_count": 29,
   "metadata": {
    "collapsed": false
   },
   "outputs": [
    {
     "data": {
      "text/plain": [
       "'e^{- x} \\\\sin{\\\\left (6 x \\\\right )}'"
      ]
     },
     "execution_count": 29,
     "metadata": {},
     "output_type": "execute_result"
    }
   ],
   "source": [
    "#or we can print the latex rendering\n",
    "sp.latex(f)"
   ]
  },
  {
   "cell_type": "code",
   "execution_count": 30,
   "metadata": {
    "collapsed": false
   },
   "outputs": [
    {
     "data": {
      "image/png": "[encoded data removed]",
      "text/latex": [
       "$$- e^{- x} \\sin{\\left (6 x \\right )} + 6 e^{- x} \\cos{\\left (6 x \\right )}$$"
      ],
      "text/plain": [
       "   -x               -x         \n",
       "- ℯ  ⋅sin(6⋅x) + 6⋅ℯ  ⋅cos(6⋅x)"
      ]
     },
     "execution_count": 30,
     "metadata": {},
     "output_type": "execute_result"
    }
   ],
   "source": [
    "# first derivative\n",
    "df = f.diff()\n",
    "df"
   ]
  },
  {
   "cell_type": "code",
   "execution_count": 31,
   "metadata": {
    "collapsed": false
   },
   "outputs": [
    {
     "data": {
      "image/png": "[encoded data removed]",
      "text/latex": [
       "$$- e^{- x} \\sin{\\left (6 x \\right )} + 6 e^{- x} \\cos{\\left (6 x \\right )}$$"
      ],
      "text/plain": [
       "   -x               -x         \n",
       "- ℯ  ⋅sin(6⋅x) + 6⋅ℯ  ⋅cos(6⋅x)"
      ]
     },
     "execution_count": 31,
     "metadata": {},
     "output_type": "execute_result"
    }
   ],
   "source": [
    "# differentaite f'' wrt x\n",
    "sp.diff(f,x,1)"
   ]
  },
  {
   "cell_type": "code",
   "execution_count": 32,
   "metadata": {
    "collapsed": false
   },
   "outputs": [
    {
     "data": {
      "image/png": "[encoded data removed]",
      "text/latex": [
       "$$-3.17530720082064 \\cdot 10^{-17}$$"
      ],
      "text/plain": [
       "-3.17530720082064e-17"
      ]
     },
     "execution_count": 32,
     "metadata": {},
     "output_type": "execute_result"
    }
   ],
   "source": [
    "# substitute x with pi\n",
    "f.subs(x,np.pi)"
   ]
  },
  {
   "cell_type": "code",
   "execution_count": 33,
   "metadata": {
    "collapsed": true
   },
   "outputs": [],
   "source": [
    "#%% Numeric Computation from the documentation\n",
    "from sympy.abc import x"
   ]
  },
  {
   "cell_type": "code",
   "execution_count": 34,
   "metadata": {
    "collapsed": false
   },
   "outputs": [
    {
     "data": {
      "image/png": "[encoded data removed]",
      "text/latex": [
       "$$0.0005072143046136395$$"
      ],
      "text/plain": [
       "0.0005072143046136395"
      ]
     },
     "execution_count": 34,
     "metadata": {},
     "output_type": "execute_result"
    }
   ],
   "source": [
    "# lambdify using the math module, 10^2 faster than subs\n",
    "expr = sp.sin(x)/x\n",
    "f = sp.lambdify(x,expr)\n",
    "f(3.14)"
   ]
  },
  {
   "cell_type": "code",
   "execution_count": 35,
   "metadata": {
    "collapsed": false
   },
   "outputs": [
    {
     "data": {
      "text/plain": [
       "array([  8.41470985e-01,   8.06076119e-01,   7.67912588e-01,\n",
       "         7.27262596e-01,   6.84424864e-01,   6.39711977e-01,\n",
       "         5.93447624e-01,   5.45963742e-01,   4.97597617e-01,\n",
       "         4.48688937e-01,   3.99576866e-01,   3.50597122e-01,\n",
       "         3.02079129e-01,   2.54343238e-01,   2.07698064e-01,\n",
       "         1.62437944e-01,   1.18840569e-01,   7.71647744e-02,\n",
       "         3.76485431e-02,   5.07214305e-04])"
      ]
     },
     "execution_count": 35,
     "metadata": {},
     "output_type": "execute_result"
    }
   ],
   "source": [
    "# lambdify using numpy\n",
    "expr = sp.sin(x)/x\n",
    "f = sp.lambdify(x,expr, \"numpy\")\n",
    "f(np.linspace(1,3.14,20))"
   ]
  },
  {
   "cell_type": "code",
   "execution_count": 37,
   "metadata": {
    "collapsed": false
   },
   "outputs": [
    {
     "data": {
      "text/plain": [
       "array([ 0. ,  0.1,  0.2,  0.3,  0.4,  0.5,  0.6,  0.7,  0.8,  0.9,  1. ,\n",
       "        1.1,  1.2,  1.3,  1.4,  1.5,  1.6,  1.7,  1.8,  1.9,  2. ,  2.1,\n",
       "        2.2,  2.3,  2.4,  2.5,  2.6,  2.7,  2.8,  2.9,  3. ,  3.1,  3.2,\n",
       "        3.3,  3.4,  3.5,  3.6,  3.7,  3.8,  3.9,  4. ,  4.1,  4.2,  4.3,\n",
       "        4.4,  4.5,  4.6,  4.7,  4.8,  4.9,  5. ,  5.1,  5.2,  5.3,  5.4,\n",
       "        5.5,  5.6,  5.7,  5.8,  5.9])"
      ]
     },
     "execution_count": 37,
     "metadata": {},
     "output_type": "execute_result"
    }
   ],
   "source": [
    "z = np.arange(0,6,.1)\n",
    "z"
   ]
  },
  {
   "cell_type": "code",
   "execution_count": 39,
   "metadata": {
    "collapsed": false
   },
   "outputs": [
    {
     "data": {
      "text/plain": [
       "array([ 0.        ,  0.20689655,  0.4137931 ,  0.62068966,  0.82758621,\n",
       "        1.03448276,  1.24137931,  1.44827586,  1.65517241,  1.86206897,\n",
       "        2.06896552,  2.27586207,  2.48275862,  2.68965517,  2.89655172,\n",
       "        3.10344828,  3.31034483,  3.51724138,  3.72413793,  3.93103448,\n",
       "        4.13793103,  4.34482759,  4.55172414,  4.75862069,  4.96551724,\n",
       "        5.17241379,  5.37931034,  5.5862069 ,  5.79310345,  6.        ])"
      ]
     },
     "execution_count": 39,
     "metadata": {},
     "output_type": "execute_result"
    }
   ],
   "source": [
    "# create an array from 0 to 6 with 300 points\n",
    "z = np.linspace(0,6,30)\n",
    "z"
   ]
  },
  {
   "cell_type": "markdown",
   "metadata": {},
   "source": [
    "## Differential Equations"
   ]
  },
  {
   "cell_type": "code",
   "execution_count": 10,
   "metadata": {
    "collapsed": false
   },
   "outputs": [],
   "source": [
    "# see here for example scripts\n",
    "# C:\\Users\\Neal\\Anaconda3\\Lib\\site-packages\\sympy\\mpmath\\tests\n",
    "from sympy import Function, dsolve, Eq, Derivative, sin,cos,symbols\n",
    "from sympy.abc import x\n",
    "import numpy as np\n",
    "import sympy as sp\n",
    "import matplotlib.pyplot as mp\n",
    "import matplotlib.pyplot as plt"
   ]
  },
  {
   "cell_type": "code",
   "execution_count": 19,
   "metadata": {
    "collapsed": false
   },
   "outputs": [
    {
     "data": {
      "text/latex": [
       "$$f{\\left (x \\right )} = C_{1} \\sin{\\left (3 x \\right )} + C_{2} \\cos{\\left (3 x \\right )}$$"
      ],
      "text/plain": [
       "f(x) = C₁⋅sin(3⋅x) + C₂⋅cos(3⋅x)"
      ]
     },
     "execution_count": 19,
     "metadata": {},
     "output_type": "execute_result"
    }
   ],
   "source": [
    "f = Function('f')\n",
    "deq = dsolve(Derivative(f(x), x,x) + 9*f(x), f(x))\n",
    "deq"
   ]
  },
  {
   "cell_type": "code",
   "execution_count": 20,
   "metadata": {
    "collapsed": false
   },
   "outputs": [
    {
     "data": {
      "text/latex": [
       "$$C_{1} \\sin{\\left (3 x \\right )} + C_{2} \\cos{\\left (3 x \\right )}$$"
      ],
      "text/plain": [
       "C₁⋅sin(3⋅x) + C₂⋅cos(3⋅x)"
      ]
     },
     "execution_count": 20,
     "metadata": {},
     "output_type": "execute_result"
    }
   ],
   "source": [
    "diffeq1_sym = deq.args[1]\n",
    "diffeq1_sym"
   ]
  },
  {
   "cell_type": "code",
   "execution_count": 21,
   "metadata": {
    "collapsed": false
   },
   "outputs": [
    {
     "data": {
      "text/latex": [
       "$$\\sin{\\left (3 x \\right )} + 0.5 \\cos{\\left (3 x \\right )}$$"
      ],
      "text/plain": [
       "sin(3⋅x) + 0.5⋅cos(3⋅x)"
      ]
     },
     "execution_count": 21,
     "metadata": {},
     "output_type": "execute_result"
    }
   ],
   "source": [
    "diffeq1 = diffeq1_sym.subs({'C1':1, 'C2':0.5})\n",
    "diffeq1"
   ]
  },
  {
   "cell_type": "code",
   "execution_count": 22,
   "metadata": {
    "collapsed": false
   },
   "outputs": [
    {
     "data": {
      "text/plain": [
       "<function numpy.<lambda>>"
      ]
     },
     "execution_count": 22,
     "metadata": {},
     "output_type": "execute_result"
    }
   ],
   "source": [
    "diffeq1_f = sp.lambdify(x,diffeq1, \"numpy\")\n",
    "diffeq1_f"
   ]
  },
  {
   "cell_type": "code",
   "execution_count": 23,
   "metadata": {
    "collapsed": false
   },
   "outputs": [
    {
     "data": {
      "text/plain": [
       "array([-0.35387624, -0.68544104, -0.93948885, -1.08728921, -1.11212728,\n",
       "       -1.0111941 , -0.79590429, -0.49060511, -0.12982305,  0.24564078,\n",
       "        0.59332492,  0.87390954,  1.05566313,  1.11803104,  1.05396004,\n",
       "        0.87069598,  0.5889643 ,  0.24062625, -0.1349244 , -0.49521635])"
      ]
     },
     "execution_count": 23,
     "metadata": {},
     "output_type": "execute_result"
    }
   ],
   "source": [
    "diffeq1arr = diffeq1_f(np.linspace(1,3.14,20))\n",
    "diffeq1arr"
   ]
  },
  {
   "cell_type": "code",
   "execution_count": 24,
   "metadata": {
    "collapsed": false
   },
   "outputs": [
    {
     "data": {
      "image/png": "[encoded data removed]",
      "text/plain": [
       "<matplotlib.figure.Figure at 0x7fa4c00805f8>"
      ]
     },
     "metadata": {},
     "output_type": "display_data"
    }
   ],
   "source": [
    "plt.plot(diffeq1_f(np.linspace(-10,10,2000)));\n",
    "plt.title('plot of the numpy array');"
   ]
  },
  {
   "cell_type": "code",
   "execution_count": 25,
   "metadata": {
    "collapsed": false
   },
   "outputs": [
    {
     "data": {
      "image/png": "[encoded data removed]",
      "text/plain": [
       "<matplotlib.figure.Figure at 0x7fa4c009e978>"
      ]
     },
     "metadata": {},
     "output_type": "display_data"
    }
   ],
   "source": [
    "sp.plot(diffeq1, title='plot of the sympy function');"
   ]
  },
  {
   "cell_type": "code",
   "execution_count": 26,
   "metadata": {
    "collapsed": false
   },
   "outputs": [
    {
     "data": {
      "text/latex": [
       "$$\\left [ f{\\left (x \\right )} = - \\operatorname{acos}{\\left (\\frac{C_{1}}{\\cos{\\left (x \\right )}} \\right )} + 2 \\pi, \\quad f{\\left (x \\right )} = \\operatorname{acos}{\\left (\\frac{C_{1}}{\\cos{\\left (x \\right )}} \\right )}\\right ]$$"
      ],
      "text/plain": [
       "⎡             ⎛  C₁  ⎞                   ⎛  C₁  ⎞⎤\n",
       "⎢f(x) = - acos⎜──────⎟ + 2⋅π, f(x) = acos⎜──────⎟⎥\n",
       "⎣             ⎝cos(x)⎠                   ⎝cos(x)⎠⎦"
      ]
     },
     "execution_count": 26,
     "metadata": {},
     "output_type": "execute_result"
    }
   ],
   "source": [
    "eq = sin(x)*cos(f(x)) + cos(x)*sin(f(x))*f(x).diff(x)\n",
    "dsolve(eq, hint='1st_exact')"
   ]
  },
  {
   "cell_type": "code",
   "execution_count": 27,
   "metadata": {
    "collapsed": false
   },
   "outputs": [
    {
     "data": {
      "text/latex": [
       "$$\\left [ f{\\left (x \\right )} = - \\operatorname{acos}{\\left (\\frac{C_{1}}{\\sqrt{- \\cos^{2}{\\left (x \\right )}}} \\right )} + 2 \\pi, \\quad f{\\left (x \\right )} = \\operatorname{acos}{\\left (\\frac{C_{1}}{\\sqrt{- \\cos^{2}{\\left (x \\right )}}} \\right )}\\right ]$$"
      ],
      "text/plain": [
       "⎡             ⎛      C₁     ⎞                   ⎛      C₁     ⎞⎤\n",
       "⎢f(x) = - acos⎜─────────────⎟ + 2⋅π, f(x) = acos⎜─────────────⎟⎥\n",
       "⎢             ⎜   __________⎟                   ⎜   __________⎟⎥\n",
       "⎢             ⎜  ╱     2    ⎟                   ⎜  ╱     2    ⎟⎥\n",
       "⎣             ⎝╲╱  -cos (x) ⎠                   ⎝╲╱  -cos (x) ⎠⎦"
      ]
     },
     "execution_count": 27,
     "metadata": {},
     "output_type": "execute_result"
    }
   ],
   "source": [
    "#or\n",
    "dsolve(eq, hint='almost_linear')"
   ]
  },
  {
   "cell_type": "code",
   "execution_count": 28,
   "metadata": {
    "collapsed": true
   },
   "outputs": [],
   "source": [
    "t = symbols('t')\n",
    "x,y = symbols('x, y', function=True)"
   ]
  },
  {
   "cell_type": "code",
   "execution_count": 29,
   "metadata": {
    "collapsed": false
   },
   "outputs": [
    {
     "data": {
      "text/latex": [
       "$$\\left [ x{\\left (t \\right )} = C_{1} x_{0} + C_{2} x_{0} \\int \\frac{8}{x_{0}^{2}} \\left(e^{\\int 7 t\\, dt}\\right) e^{\\int 12 t\\, dt}\\, dt, \\quad y{\\left (t \\right )} = C_{1} y_{0} + \\operatorname{C_{2}}{\\left (y_{0} \\int \\frac{8}{x_{0}^{2}} \\left(e^{\\int 7 t\\, dt}\\right) e^{\\int 12 t\\, dt}\\, dt + \\frac{1}{x_{0}} \\left(e^{\\int 7 t\\, dt}\\right) e^{\\int 12 t\\, dt} \\right )}\\right ]$$"
      ],
      "text/plain": [
       "⎡                     ⌠                                             ⎛   ⌠     \n",
       "⎢                     ⎮    ⌠         ⌠                              ⎜   ⎮    ⌠\n",
       "⎢                     ⎮    ⎮ 7⋅t dt  ⎮ 12⋅t dt                      ⎜   ⎮    ⎮\n",
       "⎢                     ⎮    ⌡         ⌡                              ⎜   ⎮    ⌡\n",
       "⎢                     ⎮ 8⋅ℯ        ⋅ℯ                               ⎜   ⎮ 8⋅ℯ \n",
       "⎢x(t) = C₁⋅x₀ + C₂⋅x₀⋅⎮ ────────────────────── dt, y(t) = C₁⋅y₀ + C₂⎜y₀⋅⎮ ────\n",
       "⎢                     ⎮            2                                ⎜   ⎮     \n",
       "⎢                     ⎮          x₀                                 ⎜   ⎮     \n",
       "⎣                     ⌡                                             ⎝   ⌡     \n",
       "\n",
       "                                            ⎞⎤\n",
       "         ⌠               ⌠         ⌠        ⎟⎥\n",
       " 7⋅t dt  ⎮ 12⋅t dt       ⎮ 7⋅t dt  ⎮ 12⋅t dt⎟⎥\n",
       "         ⌡               ⌡         ⌡        ⎟⎥\n",
       "       ⋅ℯ               ℯ        ⋅ℯ         ⎟⎥\n",
       "────────────────── dt + ────────────────────⎟⎥\n",
       "       2                         x₀         ⎟⎥\n",
       "     x₀                                     ⎟⎥\n",
       "                                            ⎠⎦"
      ]
     },
     "execution_count": 29,
     "metadata": {},
     "output_type": "execute_result"
    }
   ],
   "source": [
    "eq = (Eq(Derivative(x(t),t), 12*t*x(t) + 8*y(t)), Eq(Derivative(y(t),t), 21*x(t) + 7*t*y(t)))\n",
    "dsolve(eq)"
   ]
  },
  {
   "cell_type": "code",
   "execution_count": 30,
   "metadata": {
    "collapsed": false
   },
   "outputs": [
    {
     "data": {
      "text/latex": [
       "$$\\left\\{x{\\left (t \\right )} = - \\frac{e^{C_{1}}}{C_{2} e^{C_{1}} - \\cos{\\left (t \\right )}}, y{\\left (t \\right )} = - \\frac{1}{C_{1} - \\cos{\\left (t \\right )}}\\right\\}$$"
      ],
      "text/plain": [
       "   ⎛⎡              C₁                          ⎤⎞\n",
       "   ⎜⎢            -ℯ                     -1     ⎥⎟\n",
       "set⎜⎢x(t) = ───────────────, y(t) = ───────────⎥⎟\n",
       "   ⎜⎢           C₁                  C₁ - cos(t)⎥⎟\n",
       "   ⎝⎣       C₂⋅ℯ   - cos(t)                    ⎦⎠"
      ]
     },
     "execution_count": 30,
     "metadata": {},
     "output_type": "execute_result"
    }
   ],
   "source": [
    "eq = (Eq(Derivative(x(t),t),x(t)*y(t)*sin(t)), Eq(Derivative(y(t),t),y(t)**2*sin(t)))\n",
    "dsolve(eq)"
   ]
  },
  {
   "cell_type": "code",
   "execution_count": null,
   "metadata": {
    "collapsed": true
   },
   "outputs": [],
   "source": []
  },
  {
   "cell_type": "code",
   "execution_count": 31,
   "metadata": {
    "collapsed": true
   },
   "outputs": [],
   "source": [
    "#pretty plots\n",
    "from sympy import sin, symbols, dsolve, pprint, Function\n",
    "from sympy.solvers.ode import odesimp\n",
    "x,u2,C1 = symbols('x,u2,C1')\n",
    "f = Function('f')\n",
    "eq = dsolve(x*f(x).diff(x) - f(x) - x*sin(f(x)/x), f(x), hint='1st_homogeneous_coeff_subs_indep_div_dep_Integral', simplify=False)\n",
    "eq2 = odesimp(eq, f(x), 1, set([C1]), hint='1st_homogeneous_coeff_subs_indep_div_dep')"
   ]
  },
  {
   "cell_type": "code",
   "execution_count": 32,
   "metadata": {
    "collapsed": false
   },
   "outputs": [
    {
     "data": {
      "text/latex": [
       "$$\\log{\\left (f{\\left (x \\right )} \\right )} = \\log{\\left (C_{1} \\right )} + \\int^{\\frac{x}{f{\\left (x \\right )}}} - \\frac{1}{u_{2}^{2}} \\left(u_{2} + \\frac{1}{\\sin{\\left (\\frac{1}{u_{2}} \\right )}}\\right)\\, du_{2}$$"
      ],
      "text/plain": [
       "                       x                         \n",
       "                      ────                       \n",
       "                      f(x)                       \n",
       "                       ⌠                         \n",
       "                       ⎮    ⎛        1   ⎞       \n",
       "                       ⎮   -⎜u₂ + ───────⎟       \n",
       "                       ⎮    ⎜        ⎛1 ⎞⎟       \n",
       "                       ⎮    ⎜     sin⎜──⎟⎟       \n",
       "                       ⎮    ⎝        ⎝u₂⎠⎠       \n",
       "log(f(x)) = log(C₁) +  ⎮   ──────────────── d(u₂)\n",
       "                       ⎮           2             \n",
       "                       ⎮         u₂              \n",
       "                       ⌡                         \n",
       "                                                 "
      ]
     },
     "execution_count": 32,
     "metadata": {},
     "output_type": "execute_result"
    }
   ],
   "source": [
    "eq"
   ]
  },
  {
   "cell_type": "code",
   "execution_count": 33,
   "metadata": {
    "collapsed": false
   },
   "outputs": [
    {
     "data": {
      "text/latex": [
       "$$f{\\left (x \\right )} = 2 x \\operatorname{atan}{\\left (C_{1} x \\right )}$$"
      ],
      "text/plain": [
       "f(x) = 2⋅x⋅atan(C₁⋅x)"
      ]
     },
     "execution_count": 33,
     "metadata": {},
     "output_type": "execute_result"
    }
   ],
   "source": [
    "eq2"
   ]
  },
  {
   "cell_type": "code",
   "execution_count": 34,
   "metadata": {
    "collapsed": false
   },
   "outputs": [
    {
     "data": {
      "text/latex": [
       "$$\\log{\\left (f{\\left (x \\right )} \\right )} = \\log{\\left (C_{1} \\right )} - \\frac{1}{3} \\log{\\left (\\frac{3 x^{2}}{f^{2}{\\left (x \\right )}} + 1 \\right )}$$"
      ],
      "text/plain": [
       "                         ⎛    2    ⎞\n",
       "                         ⎜ 3⋅x     ⎟\n",
       "                      log⎜───── + 1⎟\n",
       "                         ⎜ 2       ⎟\n",
       "                         ⎝f (x)    ⎠\n",
       "log(f(x)) = log(C₁) - ──────────────\n",
       "                            3       "
      ]
     },
     "execution_count": 34,
     "metadata": {},
     "output_type": "execute_result"
    }
   ],
   "source": [
    "f = Function('f')\n",
    "eq = dsolve(2*x*f(x) + (x**2 + f(x)**2)*f(x).diff(x), f(x), hint = '1st_homogeneous_coeff_best', simplify=False)\n",
    "eq"
   ]
  },
  {
   "cell_type": "code",
   "execution_count": null,
   "metadata": {
    "collapsed": true
   },
   "outputs": [],
   "source": []
  },
  {
   "cell_type": "code",
   "execution_count": null,
   "metadata": {
    "collapsed": false
   },
   "outputs": [],
   "source": []
  },
  {
   "cell_type": "code",
   "execution_count": null,
   "metadata": {
    "collapsed": true
   },
   "outputs": [],
   "source": []
  },
  {
   "cell_type": "code",
   "execution_count": 37,
   "metadata": {
    "collapsed": false
   },
   "outputs": [
    {
     "data": {
      "image/png": "[encoded data removed]",
      "text/plain": [
       "<matplotlib.figure.Figure at 0x7fa4c0e28e10>"
      ]
     },
     "metadata": {},
     "output_type": "display_data"
    }
   ],
   "source": [
    "f=lambda x: [x[0]**2 - 2*x[0] - x[1] + 0.5, x[0]**2 + 4*x[1]**2 - 4]\n",
    "x,y=np.mgrid[-0.5:2.5:24j,-0.5:2.5:24j]\n",
    "U,V=f([x,y])\n",
    "plt.quiver(x,y,U,V,color='r', \\\n",
    "         linewidths=(0.2,), edgecolors=('k'), \\\n",
    "         headaxislength=5)\n",
    "plt.show()"
   ]
  },
  {
   "cell_type": "code",
   "execution_count": null,
   "metadata": {
    "collapsed": true
   },
   "outputs": [],
   "source": []
  }
 ],
 "metadata": {
  "anaconda-cloud": {},
  "kernelspec": {
   "display_name": "Python [default]",
   "language": "python",
   "name": "python3"
  },
  "language_info": {
   "codemirror_mode": {
    "name": "ipython",
    "version": 3
   },
   "file_extension": ".py",
   "mimetype": "text/x-python",
   "name": "python",
   "nbconvert_exporter": "python",
   "pygments_lexer": "ipython3",
   "version": "3.5.2"
  }
 },
 "nbformat": 4,
 "nbformat_minor": 0
}
