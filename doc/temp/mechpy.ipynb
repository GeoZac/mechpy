{
 "cells": [
  {
   "cell_type": "markdown",
   "metadata": {},
   "source": [
    "- - - -\n",
    "# Mechpy\n",
    "a mechanical engineer's toolbox   \n",
    "\n",
    "To view this notebook, use the [nbviewer](http://nbviewer.jupyter.org/github/nagordon/mechpy/blob/master/mechpy.ipynb)\n",
    "- - - -\n",
    "\n",
    "##  [Getting Started with Engineering Python](#Engineering-Python)  \n",
    " * getting started\n",
    " * packages\n",
    " * math with numpy and sympy\n",
    " * plotting\n",
    " \n",
    "\n",
    "\n",
    "### Modules\n",
    "\n",
    "\n",
    "## 1) [Statics](#Statics)\n",
    "* [Example 1: A simple supported beam with shear-bending plots](#Statics-Example-1)\n",
    "* [Example 2: Vector calculation method to calculate 3-D moments](#Statics-Example-2)\n",
    "* [Distributed Loads Calculations](#Distributed-Loads-Calculations)\n",
    "\n",
    "## 2) [Materials](#Materials)\n",
    "* [composite mechanics](#Composite-Mechanics)\n",
    "* [composite plates](#Composite-Plates)  \n",
    "\n",
    "\n",
    "## 3) Kinematics\n",
    "* [double_pendulum](http://matplotlib.org/examples/animation/double_pendulum_animated.html)\n",
    "\n",
    "\n",
    "## 4) Dynamics \n",
    "* [dynamics](#Dynamics)\n",
    "* [Python Vibration Codes](http://vibrationdata.com/software.htm)\n",
    "* [Dynamics Notes](#Dynamics-Vibrations-Notes)\n",
    "\n",
    "## 5) Design\n",
    "* [Factors of Safety](#(Factors-of-Safety)  \n",
    "\n",
    "\n",
    "## Appendix A: [Engineering Mathematics with Python](#Engineering-Mathematics-with-Python)\n",
    "[Differential Equations](#Differential-Equations)  \n",
    "[Linear Algebra](#Linear-Algebra)  \n",
    "[Signal Processing](#Signal-Processing)  \n",
    "[Finite Element Method](#Finite-Element-Method)\n",
    "* [solids FEM example](#FEM-Example-1)  \n",
    "\n",
    "[Curve Fitting](#Curve-Fitting)   \n",
    "\n",
    "[Units](#Units)    \n",
    "\n",
    "\n",
    "## Appendix B: [Engineering Software APIs](Engineering-Software-APIs)\n",
    "\n",
    "[Abaqus](Abaqus)  \n",
    "[CATIA](CATIA)  \n",
    "[Excel](Excel)  \n",
    "\n",
    "\n",
    "- - - -\n"
   ]
  },
  {
   "cell_type": "code",
   "execution_count": null,
   "metadata": {
    "collapsed": false
   },
   "outputs": [],
   "source": [
    "!jupyter nbconvert --to html mechpy.ipynb"
   ]
  },
  {
   "cell_type": "markdown",
   "metadata": {},
   "source": [
    "## Python Initilaization with module imports"
   ]
  },
  {
   "cell_type": "code",
   "execution_count": null,
   "metadata": {
    "collapsed": false
   },
   "outputs": [],
   "source": [
    "# setup \n",
    "import numpy as np\n",
    "import sympy as sp\n",
    "import scipy\n",
    "from pprint import pprint\n",
    "sp.init_printing(use_latex='mathjax')\n",
    "\n",
    "import matplotlib.pyplot as plt\n",
    "plt.rcParams['figure.figsize'] = (12, 8)  # (width, height)\n",
    "plt.rcParams['font.size'] = 14\n",
    "plt.rcParams['legend.fontsize'] = 16\n",
    "from matplotlib import patches\n",
    "\n",
    "get_ipython().magic('matplotlib')  # seperate window\n",
    "get_ipython().magic('matplotlib inline') # inline plotting"
   ]
  },
  {
   "cell_type": "markdown",
   "metadata": {
    "collapsed": true
   },
   "source": [
    "- - - -\n",
    "# Statics \n",
    "[index](#Mechpy)\n",
    "- - - -\n",
    "\n",
    "The sum of the forces is zero\n",
    "$$\n",
    "\\Sigma F_x =0 , \\Sigma F_y =0 , \\Sigma F_z =0  \n",
    "$$\n",
    "The sum of the moments is zero\n",
    "$$\n",
    "\\Sigma M_x =0 , \\Sigma M_y =0 , \\Sigma M_z =0  \n",
    "$$\n",
    "\n",
    "Dot Product\n",
    "\n",
    "$$\n",
    "\\vec{A} \\bullet \\vec{B} = ABcos\\left(\\theta\\right)= A_xB_x + A_yB_y+A_zB_z\n",
    "$$\n",
    "\n",
    "Cross-Product\n",
    "\n",
    "$$\n",
    "\\vec{C}=\\vec{A} \\times \\vec{B} = \n",
    "\\begin{vmatrix}\n",
    "    \\widehat{i} & \\widehat{j} & \\widehat{k}\\\\\n",
    "    A_{x} & A_{y} & A_{z}\\\\\n",
    "    B_{x} & B_{y} & B_{z}\n",
    "\\end{vmatrix} \n",
    "$$\n",
    "\n",
    "Moment of Force\n",
    "$$\n",
    "M_0 = Fd \\\\\n",
    "\\vec{M_0}=\\vec{r}\\times \\vec{F} = \n",
    "\\begin{vmatrix}\n",
    "    \\widehat{i} & \\widehat{j} & \\widehat{k}\\\\\n",
    "    r_{x} & r_{y} & r_{z}\\\\\n",
    "    F_{x} & F_{y} & F_{z}\n",
    "\\end{vmatrix} \n",
    "$$\n",
    "\n",
    "Moment of Force about a Specified axis\n",
    "$$\n",
    "\\vec{M_a}=\\vec{u}\\bullet\\vec{r}\\times \\vec{F} = \n",
    "\\begin{vmatrix}\n",
    "    u_{x} & u_{y} & u_{z} \\\\\n",
    "    r_{x} & r_{y} & r_{z} \\\\\n",
    "    F_{x} & F_{y} & F_{z}\n",
    "\\end{vmatrix} \n",
    "$$\n"
   ]
  },
  {
   "cell_type": "markdown",
   "metadata": {
    "collapsed": true
   },
   "source": [
    "### Statics-Example 1\n",
    "#### A simple supported beam with shear-bending plots"
   ]
  },
  {
   "cell_type": "code",
   "execution_count": null,
   "metadata": {
    "collapsed": false
   },
   "outputs": [],
   "source": [
    "from mechpy.statics import simple_support\n",
    "simple_support()"
   ]
  },
  {
   "cell_type": "markdown",
   "metadata": {},
   "source": [
    "### Statics-Example 2\n",
    "### Vector calculation method to calculate 3-D moments"
   ]
  },
  {
   "cell_type": "markdown",
   "metadata": {},
   "source": [
    "$\n",
    "\\vec{M_{R_0}}=\\Sigma \\left( \\vec{r} \\times \\vec{F} \\right) = \\vec{r_A}\\times\\vec{F_1} +\\vec{r_A}\\times\\vec{F_2} + \\vec{r_B}\\times\\vec{F_3}\n",
    "$"
   ]
  },
  {
   "cell_type": "code",
   "execution_count": null,
   "metadata": {
    "collapsed": false
   },
   "outputs": [],
   "source": [
    "from mechpy.statics import moment_calc\n",
    "moment_calc()"
   ]
  },
  {
   "cell_type": "markdown",
   "metadata": {},
   "source": [
    "### Distributed Loads Calculations\n",
    "\n",
    "$\n",
    "F_R = \\Sigma F=\\int_L w(x) \\,dx  = \\int_A dA \\,dx  \n",
    "$\n",
    "\n",
    "example, hibbler, pg 187\n",
    "\n",
    "$$\n",
    "F_R=\\int_A dA \\, =  \\int_{0}^{2} \\, 60x^2 \\, dx = 160 N\n",
    "$$\n",
    "\n",
    "$$\n",
    " \\overline{x} = \\frac{\\int_A x \\, dA}{\\int_A dA} =  \\frac{\\int_{0}^{2} x60x^2 \\, dx}{\\int_{0}^{2} \\, 60x^2 \\, dx} = \\frac{240}{160}\n",
    "$$"
   ]
  },
  {
   "cell_type": "code",
   "execution_count": null,
   "metadata": {
    "collapsed": false
   },
   "outputs": [],
   "source": [
    "x = sp.var('x')\n",
    "w = 60*x**2# N/m\n",
    "sp.plot(w, (x,0,2));"
   ]
  },
  {
   "cell_type": "code",
   "execution_count": null,
   "metadata": {
    "collapsed": false
   },
   "outputs": [],
   "source": [
    "w.subs(x,2)"
   ]
  },
  {
   "cell_type": "code",
   "execution_count": null,
   "metadata": {
    "collapsed": false
   },
   "outputs": [],
   "source": [
    "sp.Integral(w,(x,0,2))"
   ]
  },
  {
   "cell_type": "code",
   "execution_count": null,
   "metadata": {
    "collapsed": false
   },
   "outputs": [],
   "source": [
    "sp.integrate(w)"
   ]
  },
  {
   "cell_type": "code",
   "execution_count": null,
   "metadata": {
    "collapsed": false
   },
   "outputs": [],
   "source": [
    "sp.integrate(w,(x,0,2))"
   ]
  },
  {
   "cell_type": "code",
   "execution_count": null,
   "metadata": {
    "collapsed": false
   },
   "outputs": [],
   "source": [
    "sp.Integral(x*w,(x,0,2))"
   ]
  },
  {
   "cell_type": "code",
   "execution_count": null,
   "metadata": {
    "collapsed": false
   },
   "outputs": [],
   "source": [
    "sp.integrate(w*x)"
   ]
  },
  {
   "cell_type": "code",
   "execution_count": null,
   "metadata": {
    "collapsed": false
   },
   "outputs": [],
   "source": [
    "sp.integrate(x*w,(x,0,2))"
   ]
  },
  {
   "cell_type": "code",
   "execution_count": null,
   "metadata": {
    "collapsed": false
   },
   "outputs": [],
   "source": [
    "FR= float(sp.integrate(w,(x,0,2)))\n",
    "xbar = float(sp.integrate(x*w,(x,0,2)))/FR\n",
    "print('center of load of an exponential distributed load is %f' % xbar)"
   ]
  },
  {
   "cell_type": "code",
   "execution_count": null,
   "metadata": {
    "collapsed": false
   },
   "outputs": [],
   "source": [
    "#hibbler pg 346\n",
    "\n",
    "import numpy as np\n",
    "\n",
    "r = np.array([    0, 3 , 5.25])\n",
    "F = np.array([-13.5, 0 ,6.376])\n",
    "M = -np.cross(r,F)\n",
    "\n",
    "# moments \n",
    "print('M_x = %f \\nM_y = %f \\nM_z = %f' % (M[0], M[1], M[2] ))"
   ]
  },
  {
   "cell_type": "markdown",
   "metadata": {},
   "source": [
    "# Materials\n",
    "[index](#Mechpy)\n",
    "\n",
    "## Stress and Strain\n",
    "Stress is a tensor that can be broken into \n",
    "\n",
    "$$\n",
    "\\overline{\\sigma}=\\begin{bmatrix}\n",
    " \\sigma_{xx} & \\sigma_{xy} & \\sigma_{xz}\\\\\n",
    " \\sigma_{yx} & \\sigma_{yy} & \\sigma_{yz}\\\\\n",
    " \\sigma_{zx} & \\sigma_{zy} & \\sigma_{zz}\n",
    " \\end{bmatrix} \n",
    "$$\n",
    "\n",
    "\n",
    "\n",
    "## Factors of safety\n",
    "In aerospace, typically 1.2 for civilian aircraft and 1.15 for military\n",
    "\n",
    "$$FS=\\frac{\\sigma_{yield}}{\\sigma}-1$$  \n",
    "\n",
    "## Fastener Notes and Formulas\n",
    "\n",
    "Finding the centroid of a bolt with coordinates, $\\overline{x},\\overline{y}$\n",
    "$$ \\overline{x}=\\frac{\\sum_{i=1}^{n_b}{A_i x_i} }{\\sum_{i=1}^{n_b}{A_i} } \\ \\ \\overline{y}=\\frac{\\sum_{i=1}^{n_b}{A_i y_i} }{\\sum_{i=1}^{n_b}{A_i}}$$\n",
    "\n",
    "Joint/Polar Moment of Inertia, $r=$ distance from centroid to fastener\n",
    "$$J= \\int{r^2dA}= \\sum_{i=1}^{n_b}{A_k r_k^2}$$\n",
    "\n",
    "Bearing Stress on a bolt\n",
    "$$\\sigma^i_{bearing}=\\frac{V_{max}}{Dt}$$\n",
    "\n",
    "Shear Stress on each bolt i due to shear force\n",
    "$$\\tau_f^i = \\frac{P}{\\sum_{i=1}^{n_b}{A_i} }$$  \n",
    "Where $A_i=$ the area of ith bolt, $n_b=$number of bolts, and $P=$ shear force\n",
    "\n",
    "Shear Stress on each bolt i due to moment\n",
    "$$\\tau_t^i = \\frac{T r_i}{J} $$  \n",
    "\n",
    "### Modes of failure of fastened Joints\n",
    "1. Tensile Plate Failure across the net section between rivets/bolts\n",
    "2. Failure of rivets through shear\n",
    "3. Compression failure between rivet and plate\n",
    "4. Edge shear-out at rivet hole\n",
    "5. Edge tearing at rivet hole\n",
    "\n",
    "#### 1.\n",
    "\n",
    "$$\\sigma_t =\\frac{F_s}{(b-nd)t}$$\n",
    "\n",
    "#### 2.\n",
    "\n",
    "#### 3.\n",
    "\n",
    "#### 4.\n",
    "\n",
    "#### 5.\n",
    "\n",
    "\n",
    "\n",
    "## Adhesive Joints\n",
    "\n",
    "With members, or adherends, joined with adhesives, either the member will fail due to tensile loads or the adhesive will fail in shear.\n",
    "\n",
    "The simple solution to finding the stress of bonded surfaces is taking the average stress\n",
    "$$\\tau_{avg}=\\frac{P}{bL}$$, is not an accurate way to model maximum stress. A good rule of thumb based on the calculations below is \n",
    "$$\\tau_{max}=2.08\\tau_{avg}$$\n",
    "\n",
    "The maximum shearing stress of an adhesive layer, $\\tau_{max}$, can be computed as \n",
    "$$\\tau_{max}=K_s\\tau_{avg}=K_s\\left(\\frac{P}{bL_L}\\right)$$\n",
    "with $P$ as applied load, $b$ as the width ofthe adhesive layer, and $L_L$ as the length ofthe adhesive layer. The stress distribution factor, $K_s$, can be defined as $K_s=\\frac{cL}{tanh(CL/2)}$ where $c=\\sqrt{\\frac{2G_a}{Et_mt_a}}$, where the shear modulus, $G_a=\\frac{\\tau}{\\gamma}$, and $E$ as the modulus of elasticity.\n",
    "\n",
    "\n",
    "The max shearing stress, $\\tau_{max}$ in a scarf joint can be found with \n",
    "$$\\tau_{max}=K_s\\tau_{avg}=K_s\\left[ \\frac{Pcos\\theta}{\\left(\\frac{bt}{sin\\theta} \\right)  } \\right] = K_s\\left(  \\frac{P}{bt} sin\\theta cos\\theta \\right)$$\n",
    "where $t$ is the thickness of the adherend members and $\\theta=tan^{-1}\\frac{t}{L_s}$ is the scarf angle\n",
    "\n",
    "*Mechanical Design of Machine Elements and Machines by Collins, Jack A., Busby, Henry R., Staab, George H. (2009)*"
   ]
  },
  {
   "cell_type": "code",
   "execution_count": null,
   "metadata": {
    "collapsed": false
   },
   "outputs": [],
   "source": []
  },
  {
   "cell_type": "code",
   "execution_count": null,
   "metadata": {
    "collapsed": true
   },
   "outputs": [],
   "source": [
    "%matplotlib inline"
   ]
  },
  {
   "cell_type": "code",
   "execution_count": null,
   "metadata": {
    "collapsed": false
   },
   "outputs": [],
   "source": [
    "## Bolted Joint Example\n",
    "\n",
    "# fastener Location\n",
    "from mechpy.design import fastened_joint\n",
    "fx = [0,1,2,3,0,1,2,3]\n",
    "fy = [0,0,0,0,1,1,1,1]\n",
    "# Force magnitude(x,y)\n",
    "P = [-300,-500]\n",
    "# Force location\n",
    "l = [2,1]\n",
    "df = fastened_joint(fx, fy, P, l)\n",
    "\n",
    "df.plot(kind='scatter', x='x', y='y');\n",
    "#df.plot(style='o', x='x', y='y')\n",
    "plt.plot(df.xbar[0],df.ybar[0],'*')\n",
    "df\n",
    "#ax = plt.gca()\n",
    "#ax.arrow(l[0], l[1], Pnorm[0],Pnorm[1], head_width=0.05, head_length=0.1, fc='k', ec='k')\n",
    "#x.arrow(xbar, ybar, Pnorm[0],0, head_width=0.05, head_length=0.1, fc='k', ec='k')\n",
    "#ax.arrow(xbar, ybar, 0,Pnorm[1], head_width=0.05, head_length=0.1, fc='k', ec='k')"
   ]
  },
  {
   "cell_type": "markdown",
   "metadata": {},
   "source": [
    "## Composite Mechanics\n",
    "[index](#Mechpy)"
   ]
  },
  {
   "cell_type": "code",
   "execution_count": null,
   "metadata": {
    "collapsed": false
   },
   "outputs": [],
   "source": [
    "from mechpy.math import T3rot, T6rot\n",
    "from mechpy.composites import laminate, material_plots, laminate_gen"
   ]
  },
  {
   "cell_type": "code",
   "execution_count": null,
   "metadata": {
    "collapsed": false
   },
   "outputs": [],
   "source": [
    "import importlib\n",
    "importlib.reload"
   ]
  },
  {
   "cell_type": "code",
   "execution_count": null,
   "metadata": {
    "collapsed": false
   },
   "outputs": [],
   "source": [
    "from mechpy.math import T2rot\n",
    "T2rot(45)"
   ]
  },
  {
   "cell_type": "code",
   "execution_count": null,
   "metadata": {
    "collapsed": false
   },
   "outputs": [],
   "source": [
    "from IPython.html.widgets import *\n",
    "\n",
    "plt.figure(figsize=(12,8))\n",
    "x = [-1,1, 0,-1,]\n",
    "y = [-1,-1,1,-1]\n",
    "xy = np.array([x,y])\n",
    "plt.xlim([-11.1,11.1])\n",
    "plt.ylim([-11.1,11.1])\n",
    "xyR = np.dot(T2rot(30),xy)\n",
    "#plt.plot(xyR[0,:],xyR[1,:])\n",
    "def rot2(th, xt,yt,zt):\n",
    "    xyR = np.dot(T2rot(th),xy*zt)\n",
    "    xyR[0,:]+=xt\n",
    "    xyR[1,:]+=yt\n",
    "    plt.plot(xyR[0,:],xyR[1,:])\n",
    "    plt.axis('square')\n",
    "    plt.xlim([-11.1,11.1])\n",
    "    plt.ylim([-11.1,11.1])    \n",
    "    plt.show()\n",
    "\n",
    "interact(rot2, th=(0,np.pi,np.pi/90), yt=(1,10,1), xt=(1,10,1), zt=(1,10,1));"
   ]
  },
  {
   "cell_type": "code",
   "execution_count": null,
   "metadata": {
    "collapsed": false
   },
   "outputs": [],
   "source": [
    "print(T6rot(45,45,45))"
   ]
  },
  {
   "cell_type": "code",
   "execution_count": null,
   "metadata": {
    "collapsed": false
   },
   "outputs": [],
   "source": [
    "help(laminate_gen)"
   ]
  },
  {
   "cell_type": "code",
   "execution_count": null,
   "metadata": {
    "collapsed": false
   },
   "outputs": [],
   "source": [
    "material_plots()"
   ]
  },
  {
   "cell_type": "code",
   "execution_count": null,
   "metadata": {
    "collapsed": false,
    "scrolled": false
   },
   "outputs": [],
   "source": [
    "laminate()"
   ]
  },
  {
   "cell_type": "markdown",
   "metadata": {},
   "source": [
    "## Composite Plates  \n",
    "[index](#Mechpy)  \n"
   ]
  },
  {
   "cell_type": "code",
   "execution_count": null,
   "metadata": {
    "collapsed": false
   },
   "outputs": [],
   "source": []
  },
  {
   "cell_type": "code",
   "execution_count": null,
   "metadata": {
    "collapsed": true
   },
   "outputs": [],
   "source": []
  },
  {
   "cell_type": "code",
   "execution_count": null,
   "metadata": {
    "collapsed": false
   },
   "outputs": [],
   "source": []
  },
  {
   "cell_type": "code",
   "execution_count": null,
   "metadata": {
    "collapsed": true
   },
   "outputs": [],
   "source": []
  },
  {
   "cell_type": "code",
   "execution_count": null,
   "metadata": {
    "collapsed": true
   },
   "outputs": [],
   "source": []
  },
  {
   "cell_type": "markdown",
   "metadata": {},
   "source": [
    "# Stress Transformations\n",
    "[index](#Mechpy)  \n",
    "\n",
    "$$\n",
    "\\overline{\\sigma}=\\begin{bmatrix}\n",
    " \\sigma_{xx} & \\sigma_{xy} & \\sigma_{xz}\\\\\n",
    " \\sigma_{yx} & \\sigma_{yy} & \\sigma_{yz}\\\\\n",
    " \\sigma_{zx} & \\sigma_{zy} & \\sigma_{zz}\n",
    " \\end{bmatrix} \n",
    "$$\n",
    "\n",
    "reduce to plane stress\n",
    "\n",
    "$$\n",
    "\\overline{\\sigma}=\\begin{bmatrix}\n",
    " \\sigma_{xx} & \\sigma_{xy} & 0 \\\\\n",
    " \\sigma_{yx} & \\sigma_{yy} & 0\\\\\n",
    " 0 &           0 &           \\sigma_{zz}\n",
    " \\end{bmatrix} \n",
    "$$\n",
    "\n",
    "or\n",
    "\n",
    "$$\n",
    "\\overline{\\sigma}=\\begin{bmatrix}\n",
    " \\sigma_{xx} & \\tau_{xy} & 0 \\\\\n",
    " \\tau_{yx} & \\sigma_{yy} & 0\\\\\n",
    " 0 &           0 &           \\sigma_{zz}\n",
    " \\end{bmatrix} \n",
    "$$\n",
    "\n",
    "\n",
    "$$\n",
    "\\overline{\\sigma}=\\begin{bmatrix}\n",
    " \\sigma_{x} & \\sigma_{xy} \\\\\n",
    " \\sigma_{yx} & \\sigma_{y} \\\\\n",
    " \\end{bmatrix} \n",
    "$$\n",
    "\n",
    "Transformation\n",
    "\n",
    "$$\n",
    "A=\\begin{bmatrix}\n",
    " cos(\\theta) & sin(\\theta) \\\\\n",
    " -sin(\\theta) & cos(\\theta) \\\\\n",
    " \\end{bmatrix} \n",
    "$$\n",
    "\n",
    "$$\n",
    "\\sigma'=A \\sigma A^T\n",
    "$$\n",
    "\n",
    "\n",
    "$$\n",
    "\\sigma_1 , \\sigma_2 = \\frac{\\sigma_{x}}{2} + \\frac{\\sigma_{y}}{2} + \\sqrt{\\tau_{xy}^{2} + \\left(\\frac{\\sigma_{x}}{2} - \\frac{\\sigma_{y}}{2}\\right)^{2}}\n",
    "$$\n",
    "\n",
    "\n",
    "$$\n",
    "T=\\left[\\begin{matrix}\\sin^{2}{\\left (\\theta \\right )} & \\cos^{2}{\\left (\\theta \\right )} & 2 \\sin{\\left (\\theta \\right )} \\cos{\\left (\\theta \\right )}\\cos^{2}{\\left (\\theta \\right )} & \\\\\n",
    "\\sin^{2}{\\left (\\theta \\right )} & - 2 \\sin{\\left (\\theta \\right )} \\cos{\\left (\\theta \\right )}\\- \\sin{\\left (\\theta \\right )} \\cos{\\left (\\theta \\right )} & \\\\\n",
    "\\sin{\\left (\\theta \\right )} \\cos{\\left (\\theta \\right )} & \\sin^{2}{\\left (\\theta \\right )} - \\cos^{2}{\\left (\\theta \\right )}\\end{matrix}\\right]\n",
    "$$"
   ]
  },
  {
   "cell_type": "code",
   "execution_count": null,
   "metadata": {
    "collapsed": true
   },
   "outputs": [],
   "source": [
    "import sympy as sp\n",
    "from sympy.abc import tau, sigma\n",
    "import numpy as np\n",
    "sp.init_printing()"
   ]
  },
  {
   "cell_type": "code",
   "execution_count": null,
   "metadata": {
    "collapsed": false
   },
   "outputs": [],
   "source": [
    "sx,sy,txy,tp = sp.symbols('sigma_x,sigma_y,tau_xy,theta_p')\n",
    "sp1 = (sx+sy)/2 + sp.sqrt( ((sx-sy)/2)**2 + txy**2 )\n",
    "sp2 = (sx+sy)/2 - sp.sqrt( ((sx-sy)/2)**2 + txy**2 )\n",
    "print(sp.latex(sp1))\n",
    "sp1"
   ]
  },
  {
   "cell_type": "code",
   "execution_count": null,
   "metadata": {
    "collapsed": false
   },
   "outputs": [],
   "source": [
    "tp = sp.atan(2*txy/(sx-sy) )/2\n",
    "tp"
   ]
  },
  {
   "cell_type": "code",
   "execution_count": null,
   "metadata": {
    "collapsed": false
   },
   "outputs": [],
   "source": [
    "tpp = tp.evalf(subs={sx:10,sy:15,txy:10})\n",
    "tpp"
   ]
  },
  {
   "cell_type": "code",
   "execution_count": null,
   "metadata": {
    "collapsed": false
   },
   "outputs": [],
   "source": [
    "#s,s11,s22,s33,s12 = sp.var('s,s11,s22,s33,s12')\n",
    "s,s11,s22,s33,s12,s13,t,t12 = sp.symbols('sigma, sigma11,sigma22,sigma33,sigma12,sigma13,tau,tau12')\n",
    "s = sp.Matrix([[s11,t12,0],[t12,s22,0],[0,0,s33]])\n",
    "s"
   ]
  },
  {
   "cell_type": "code",
   "execution_count": null,
   "metadata": {
    "collapsed": false
   },
   "outputs": [],
   "source": [
    "t = sp.symbols('theta')\n",
    "m = sp.sin(t)\n",
    "n = sp.cos(t)\n",
    "T = sp.Matrix([[m**2,n**2, 2*m*n],[n**2,m**2,-2*m*n],[-m*n,m*n,m**2-n**2]])\n",
    "T"
   ]
  },
  {
   "cell_type": "code",
   "execution_count": null,
   "metadata": {
    "collapsed": false
   },
   "outputs": [],
   "source": [
    "T1 = T.subs(t, sp.pi/4)\n",
    "T1"
   ]
  },
  {
   "cell_type": "code",
   "execution_count": null,
   "metadata": {
    "collapsed": false
   },
   "outputs": [],
   "source": [
    "sprime = T1 * s * T1.inv()\n",
    "sprime"
   ]
  },
  {
   "cell_type": "code",
   "execution_count": null,
   "metadata": {
    "collapsed": false
   },
   "outputs": [],
   "source": [
    "sprime.evalf(subs={s11:10, s22:00, s33:0, t12:0})"
   ]
  },
  {
   "cell_type": "code",
   "execution_count": null,
   "metadata": {
    "collapsed": false
   },
   "outputs": [],
   "source": [
    "s.eigenvals() "
   ]
  },
  {
   "cell_type": "code",
   "execution_count": null,
   "metadata": {
    "collapsed": false
   },
   "outputs": [],
   "source": [
    "s2 = s.evalf(subs={s11:2.2, s22:3, s33:sp.pi, s12:7.3})\n",
    "s2"
   ]
  },
  {
   "cell_type": "code",
   "execution_count": null,
   "metadata": {
    "collapsed": false
   },
   "outputs": [],
   "source": [
    "sigma = np.array([[90,60],\n",
    "                  [60,-20]])\n",
    "np.linalg.eigvals(sigma)"
   ]
  },
  {
   "cell_type": "code",
   "execution_count": null,
   "metadata": {
    "collapsed": false
   },
   "outputs": [],
   "source": [
    "# PLane Stress\n",
    "\n",
    "tauxy = 1    # lbs/in \n",
    "sigmax = 0   # lbs/in\n",
    "sigmay = 0   # lbs/in\n",
    "\n",
    "sigma = np.array([[sigmax, tauxy,0],\n",
    "                  [tauxy,   sigmay,0],\n",
    "                 [0,0,0]])\n",
    "\n",
    "sigmap = np.linalg.eig(sigma)[0]\n",
    "print(sigmap)\n",
    "\n",
    "thetap = np.linalg.eig(sigma)[1]  # degrees\n",
    "\n",
    "print('cosine angle')\n",
    "print(thetap )  # cosine angle\n",
    "\n",
    "print('plane angle')\n",
    "print(np.arccos(thetap)*180/np.pi)"
   ]
  },
  {
   "cell_type": "code",
   "execution_count": null,
   "metadata": {
    "collapsed": false
   },
   "outputs": [],
   "source": [
    "# maximum in-plane shear stress\n",
    "eps = 1e-16   # machine epsilon to avoid divide-by-zero error\n",
    "rad_to_deg = 180/np.pi\n",
    "theta1 = 0.5 * np.arctan( 2*tauxy / ((sigmax-sigmay+eps))) * rad_to_deg\n",
    "print(theta1)"
   ]
  },
  {
   "cell_type": "code",
   "execution_count": null,
   "metadata": {
    "collapsed": false
   },
   "outputs": [],
   "source": [
    "tauxy = 0    # lbs/in \n",
    "sigmax = 100   # lbs/in\n",
    "sigmay = np.linspace(0,1.100)   # lbs/in\n",
    "\n",
    "eps = 1e-16   # machine epsilon to avoid divide-by-zero error\n",
    "rad_to_deg = 180/np.pi\n",
    "theta1 = 0.5 * np.arctan( 2*tauxy / ((sigmax-sigmay+eps))) * rad_to_deg\n",
    "print(theta1)\n",
    "\n",
    "# sigmax = 100\n",
    "# sigmay = np.linspace(0,1.100)\n",
    "# tauxy = 0\n",
    "# tparray = sp.atan(2*tauxy/(sigmax-sigmay) )/2\n",
    "# tparray"
   ]
  },
  {
   "cell_type": "code",
   "execution_count": null,
   "metadata": {
    "collapsed": false
   },
   "outputs": [],
   "source": [
    "sigma"
   ]
  },
  {
   "cell_type": "code",
   "execution_count": null,
   "metadata": {
    "collapsed": false
   },
   "outputs": [],
   "source": [
    "th = np.pi/4  # 45 deg\n",
    "m = np.cos(th)\n",
    "n = np.sin(th)\n",
    "A = np.array([ [m,n],[-n,m]])\n",
    "\n",
    "tauxy = 1    # lbs/in \n",
    "sigmax = 0   # lbs/in\n",
    "sigmay = 0   # lbs/in\n",
    "\n",
    "sigma = np.array([[sigmax, tauxy],\n",
    "                  [tauxy,   sigmay]])\n",
    "\n",
    "sigmat = A @ sigma @ A.T  # transformed stress\n",
    "sigmat"
   ]
  },
  {
   "cell_type": "code",
   "execution_count": null,
   "metadata": {
    "collapsed": false
   },
   "outputs": [],
   "source": [
    "sigmap = np.linalg.eig(sigmat)[0]  # principal stresses\n",
    "print(sigmap)\n",
    "\n",
    "thetap = np.linalg.eig(sigmat)[1]  # principal planes\n",
    "print(thetap* 180/np.pi)"
   ]
  },
  {
   "cell_type": "code",
   "execution_count": null,
   "metadata": {
    "collapsed": true
   },
   "outputs": [],
   "source": []
  },
  {
   "cell_type": "code",
   "execution_count": null,
   "metadata": {
    "collapsed": true
   },
   "outputs": [],
   "source": []
  },
  {
   "cell_type": "code",
   "execution_count": null,
   "metadata": {
    "collapsed": true
   },
   "outputs": [],
   "source": []
  },
  {
   "cell_type": "code",
   "execution_count": null,
   "metadata": {
    "collapsed": true
   },
   "outputs": [],
   "source": []
  },
  {
   "cell_type": "code",
   "execution_count": null,
   "metadata": {
    "collapsed": true
   },
   "outputs": [],
   "source": []
  },
  {
   "cell_type": "code",
   "execution_count": null,
   "metadata": {
    "collapsed": true
   },
   "outputs": [],
   "source": [
    "from ipywidgets import IntSlider\n",
    "IntSlider()"
   ]
  },
  {
   "cell_type": "code",
   "execution_count": null,
   "metadata": {
    "collapsed": false
   },
   "outputs": [],
   "source": [
    "# Principal Stresses\n",
    "\n",
    "sx  = 63.66\n",
    "sy  = 0\n",
    "sz  = 0\n",
    "txy = 63.66\n",
    "txz = 0\n",
    "tyz = 0\n",
    "\n",
    "S = np.matrix([[sx, txy, txz],\n",
    "            [txy, sy, tyz],\n",
    "            [txy, txz, sz]])\n",
    "\n",
    "print(S)"
   ]
  },
  {
   "cell_type": "code",
   "execution_count": null,
   "metadata": {
    "collapsed": false
   },
   "outputs": [],
   "source": [
    "principal_stresses = np.linalg.eigvals(S)\n",
    "print(principal_stresses)"
   ]
  },
  {
   "cell_type": "code",
   "execution_count": null,
   "metadata": {
    "collapsed": false
   },
   "outputs": [],
   "source": [
    "import sympy as sp\n",
    "from sympy.abc import tau, sigma\n",
    "#s,s11,s22,s33,s12 = sp.var('s,s11,s22,s33,s12')\n",
    "s,s11,s22,s33,s12,s13 = sp.symbols('sigma, sigma11,sigma22,sigma33,sigma12,sigma13')\n",
    "s = sp.Matrix([[s11,s12,0],[s12,s22,0],[0,0,s33]])\n",
    "s"
   ]
  },
  {
   "cell_type": "code",
   "execution_count": null,
   "metadata": {
    "collapsed": false
   },
   "outputs": [],
   "source": [
    "s**2"
   ]
  },
  {
   "cell_type": "code",
   "execution_count": null,
   "metadata": {
    "collapsed": false
   },
   "outputs": [],
   "source": [
    "s.eigenvals()  # hmm looks familiar"
   ]
  },
  {
   "cell_type": "code",
   "execution_count": null,
   "metadata": {
    "collapsed": false
   },
   "outputs": [],
   "source": [
    "s1 = s.subs(s11,2.2).subs(s22,3).subs(s33,sp.pi).subs(s12,7.3)\n",
    "s1"
   ]
  },
  {
   "cell_type": "code",
   "execution_count": null,
   "metadata": {
    "collapsed": false
   },
   "outputs": [],
   "source": [
    "# or \n",
    "s2 = s.evalf(subs={s11:2.2, s22:3, s33:sp.pi, s12:7.3})\n",
    "s2"
   ]
  },
  {
   "cell_type": "code",
   "execution_count": null,
   "metadata": {
    "collapsed": false
   },
   "outputs": [],
   "source": [
    "s1.eigenvals()"
   ]
  },
  {
   "cell_type": "code",
   "execution_count": null,
   "metadata": {
    "collapsed": false
   },
   "outputs": [],
   "source": [
    "s2.eigenvals()"
   ]
  },
  {
   "cell_type": "code",
   "execution_count": null,
   "metadata": {
    "collapsed": false
   },
   "outputs": [],
   "source": [
    "s2.inv()"
   ]
  },
  {
   "cell_type": "code",
   "execution_count": null,
   "metadata": {
    "collapsed": false
   },
   "outputs": [],
   "source": [
    "C = sp.symbols('C1:100')\n",
    "C"
   ]
  },
  {
   "cell_type": "code",
   "execution_count": null,
   "metadata": {
    "collapsed": true
   },
   "outputs": [],
   "source": []
  },
  {
   "cell_type": "code",
   "execution_count": null,
   "metadata": {
    "collapsed": true
   },
   "outputs": [],
   "source": []
  },
  {
   "cell_type": "code",
   "execution_count": null,
   "metadata": {
    "collapsed": true
   },
   "outputs": [],
   "source": []
  },
  {
   "cell_type": "code",
   "execution_count": null,
   "metadata": {
    "collapsed": false
   },
   "outputs": [],
   "source": [
    "from mechpy.math import ode1\n",
    "ode1()"
   ]
  },
  {
   "cell_type": "markdown",
   "metadata": {},
   "source": [
    "## Dynamics Vibrations Notes\n",
    "**Jul 1, 2015**\n",
    "\n",
    "## Introduction\n",
    "<div id=\"sec:intro\"></div>\n",
    "\n",
    "modal analysis is similar to frequency analysis. In frequency analysis a complex signal is resolved into a set of simple sine waves with individual frequency and amplitude and phase parameters. In modal analysis, a complex deflection pattern of a vibrating structure is resolved into a set of simple mode shapes with the same individual parameters. \n",
    "\n",
    "\n",
    "## Structural Dynamics Background\n",
    "<div id=\"sec:stdybg\"></div>\n",
    "\n",
    "Most systems are actually multiple degrees of freedom (MDOF) and have some non-linearity, but can be simplified with a superposition of SDOF linear systems \n",
    "\n",
    "Newtons law states that acceleration is a function of the applied force and the mass of the object, or\n",
    "$$\n",
    "[inertial forces] + [Dissipative forces] + [Restoring Forces] = [External Forces] \\\\\n",
    "m\\ddot{x} + c\\dot{x} + kx = f(t)  \\\\\n",
    "\\zeta<1 is\\ underdamped  \\\\\n",
    "$$\n",
    "\n",
    "some other dynamic characteristics are\n",
    "$$\n",
    "\\omega = frequency  \\\\\n",
    "\\zeta = damping     \\\\\n",
    "\\{\\phi\\} = mode shape  \\\\\n",
    "\\omega^{2}_{n}=\\frac{k}{m} = natural frequency \\\\\n",
    "\\zeta = \\frac{c}{\\sqrt{2km}}    \\\\\n",
    "H(\\omega)=Frequency\\ Response \\\\\n",
    "\\phi(\\omega)=Phase\n",
    "$$\n",
    "\n",
    "## Damping Model\n",
    "\n",
    "Where there is energy dissipation, there is damping. The system can be broken into the system inputs/excitation, a system G(s), and the output response, in Laplace or space\n",
    "\n",
    "The transfer function is a math model defining the input/output relationship of a physical system. Another definition is the Laplace transform ( $\\mathcal{L}$) of the output divided by the Laplace transform of the input. \n",
    "\n",
    "The frequency response function (FRF) is defined in a similar manner such that FRF is the fourier transform ($ \\mathcal{F} $) of the input divided by the fourier transform of the output\n",
    "\n",
    "$$\n",
    "Transfer\\ Function=\\frac{Output}{Input} \\\\\n",
    "G(s) = \\frac{Y(s)}{X(s)}\n",
    "$$\n",
    "\n",
    "## Modal Testing\n",
    "\n",
    "These relationships can be further explained by the modal test process. The measurements taken during a test are frequency response function measurements. The parameter estimation routines are curve fits in the Laplace domain and result in transfer functions.\n",
    "\n",
    "Frequency Response Matrix\n",
    "\n",
    "$$\n",
    "\\begin{bmatrix}\n",
    " H_{11} & H_{12} & \\cdots & H_{1n} \\\\\n",
    " H_{21} & H_{22} & \\cdots & H_{2n} \\\\\n",
    " \\vdots  & \\vdots  & \\ddots & \\vdots  \\\\\n",
    " H_{n1} & H_{n2} & \\cdots & H_{nn} \n",
    "\\end{bmatrix}\n",
    "$$\n",
    "\n",
    "## Random Notes\n",
    "<div id=\"sec:rand\"></div>\n",
    "\n",
    "The signal-analysis approach is done by measuring vibration with accelerometers and determine the frequency spectrum. The other moethod is a system -analysis where a dual-channel FFT anlayzer is used to measure the ratio of the response to the input giving the frequency response function (FRF)\n",
    "\n",
    "a modal model allows the analysis of structural systems\n",
    "\n",
    "a mode shape is a deflection-pattern associated with a particular modal frequency or pole location. It is not tangible or easily observed. The actual displacement of the structure will be a sum of all the mode shapes. A harmonic exitation close to the modal frequency, 95% of the displacement may be due to the particular modeshape\n",
    "\n",
    "Modal Descriptions Assumes Linearity\n",
    " * Superposition of the component waves will result in the final wave. A swept sinosoid will give the same result as a broadband excitation\n",
    "\n",
    " * Homogeneity is when a measured FRF is independent of excitation level\n",
    "\n",
    " * Reciprocity implies that the FRF measured between any two DOFs is independent of which of them for excitation or response\n",
    "\n",
    " * small deflections - cannot predict buckling or catastrophic failure\n",
    "\n",
    " * casual - the structure will not vibrate before it is excited\n",
    "\n",
    " * stable - the vibrations will die out when the excitation is removd\n",
    "\n",
    " * time-invariant - the dynamic characteristics will not change during the measurments\n",
    "\n",
    "## The Lumped-Parameter Model and Modal Theory\n",
    "\n",
    "[Physical Coordinates] = [Modal Matrix][Modal Coordinates]\n",
    "\n",
    "$$\n",
    "[x] = [\\phi][q]\n",
    "$$\n",
    "\n",
    "## Keywords and Notations\n",
    "\n",
    "$$\n",
    "m=mass        \\\\\n",
    "k=stiffness   \\\\\n",
    "c = damping coefficient  \\\\\n",
    "c_c = critical damping coefficient  \\\\\n",
    "$$\n",
    "\n"
   ]
  },
  {
   "cell_type": "markdown",
   "metadata": {},
   "source": [
    "## Finite-Element-Method\n",
    "[index](#Mechpy) \n",
    "\n",
    "The element connectivty is used to assemble the global stiffness matrix, the nodal force matrix, and the displacement matrix\n",
    "\n",
    "The minimization of the potentail energy is used to solve the global equation once the boundary conditions are applied to prevent rigid body motion\n",
    "\n",
    "$ \\{F\\} = [K]\\{U\\} $\n",
    "\n",
    "where  \n",
    "\n",
    "$ \\{F\\}=nodal\\ force\\ matrix $  \n",
    "$ [K] = global\\ stiffness\\ matrix $  \n",
    "$ \\{U\\} = nodal\\ displacement\\ matrix $  \n",
    "\n",
    "Once the displacements, U are computed, the strain, $\\bar{\\varepsilon}$ is calcualted \n",
    "\n",
    "with $\\{\\varepsilon\\}=[B]\\{U\\}$\n",
    "\n",
    "where\n",
    "\n",
    "$[B]=strain-displacement\\ matrix$\n",
    "\n",
    "and stresses, $\\bar{\\sigma}$ are determined via Hookes Law and \n",
    "\n",
    "$\\{\\sigma\\}=[C]\\{\\varepsilon\\}$\n",
    "\n",
    "where  \n",
    "\n",
    "$[C] = compliance\\ matrix$\n"
   ]
  },
  {
   "cell_type": "markdown",
   "metadata": {
    "collapsed": false
   },
   "source": [
    "### FEM-Example-1"
   ]
  },
  {
   "cell_type": "code",
   "execution_count": null,
   "metadata": {
    "collapsed": false
   },
   "outputs": [],
   "source": [
    "from mechpy.fem import cst_fem\n",
    "cst_fem(structure='9node')"
   ]
  },
  {
   "cell_type": "markdown",
   "metadata": {
    "collapsed": true
   },
   "source": [
    "## Curve-Fitting \n",
    "[index](#Mechpy)  \n"
   ]
  },
  {
   "cell_type": "code",
   "execution_count": null,
   "metadata": {
    "collapsed": true
   },
   "outputs": [],
   "source": [
    "import scipy as sp\n",
    "import numpy as np\n",
    "import matplotlib.pyplot as plt\n",
    "%matplotlib inline"
   ]
  },
  {
   "cell_type": "code",
   "execution_count": null,
   "metadata": {
    "collapsed": false
   },
   "outputs": [],
   "source": [
    "#==============================================================================\n",
    "# Method 1 - polyfit\n",
    "#==============================================================================\n",
    "import numpy as np\n",
    "import matplotlib.pyplot as plt\n",
    "%matplotlib inline\n",
    "\n",
    "x = [1,2,3,4]\n",
    "y = [3,5,7,10] # 10, not 9, so the fit isn't perfect\n",
    "fit = np.polyfit(x,y,1)\n",
    "fit_fn = np.poly1d(fit) \n",
    "# fit_fn is now a function which takes in x and returns an estimate for y\n",
    "plt.text(4,4,fit_fn)\n",
    "plt.plot(x,y, 'yo', x, fit_fn(x), '--k')\n",
    "plt.xlim(0, 5)\n",
    "plt.ylim(0, 12)"
   ]
  },
  {
   "cell_type": "code",
   "execution_count": null,
   "metadata": {
    "collapsed": false
   },
   "outputs": [],
   "source": [
    "import matplotlib.pyplot as plt\n",
    "\n",
    "x = np.array([0.0, 1.0, 2.0, 3.0,  4.0,  5.0])\n",
    "y = np.array([0.0, 0.8, 0.9, 0.1, -0.8, -1.0])\n",
    "z = np.polyfit(x, y, 3)\n",
    "\n",
    "p = np.poly1d(z)\n",
    "print(p)\n",
    "\n",
    "p6 = np.poly1d(np.polyfit(x, y, 6))\n",
    "print(' ------------------------------------------ ')\n",
    "print(p6)\n",
    "\n",
    "xp = np.linspace(-2, 6, 100)\n",
    "plt.plot(x, y, '.', xp, p(xp), '-', xp, p6(xp), '--')\n",
    "plt.ylim(-2,2)\n",
    "\n",
    "plt.show()"
   ]
  },
  {
   "cell_type": "code",
   "execution_count": null,
   "metadata": {
    "collapsed": false
   },
   "outputs": [],
   "source": [
    "#==============================================================================\n",
    "# Hmk from numerical methods class\n",
    "#==============================================================================\n",
    "X = np.array([0,  1, 2, 3,  4,  5])\n",
    "Y = np.array([4, -1, 6, 1, -4, -9])\n",
    "order=3 # integer > 0\n",
    "C = np.polyfit(X,Y,order);\n",
    "C = np.flipud(C)\n",
    "\n",
    "h = 1000\n",
    "xfit = np.linspace(min(X),max(X),h);\n",
    "yfit = np.zeros(len(xfit))\n",
    "\n",
    "for i,c in enumerate(C):\n",
    "    yfit += c*xfit**i\n",
    "\n",
    "plt.plot(X,Y,'o',xfit,yfit)\n",
    "plt.title('third order polynomnial least sqaures fit')\n",
    "plt.show()"
   ]
  },
  {
   "cell_type": "code",
   "execution_count": null,
   "metadata": {
    "collapsed": false
   },
   "outputs": [],
   "source": [
    "#==============================================================================\n",
    "# non-linear least squares\n",
    "#==============================================================================\n",
    "\n",
    "from scipy.optimize import curve_fit\n",
    "X = np.array([0 ,   1 , 2 ,   3 ,   4 ,   5 ])\n",
    "Y = np.array([0.1,  1 , 1.5 , 0.8 , 0.3 , 0.25 ])\n",
    "fn = lambda a: (a[0]*X+a[1]) * np.exp(a[2]*X+a[3])\n",
    "Sn = lambda x: np.sum( (fn(x)-Y)**2 )\n",
    "A = sp.optimize.fmin(func=Sn, x0=[0,0,0,0])\n",
    "plt.plot(X, Y,'o')\n",
    "xplot = np.linspace(0,5,100)\n",
    "fnfit = lambda x,a: (a[0]*x+a[1]) * np.exp(a[2]*x+a[3])\n",
    "plt.plot(xplot, fnfit(xplot, A))"
   ]
  },
  {
   "cell_type": "code",
   "execution_count": null,
   "metadata": {
    "collapsed": false
   },
   "outputs": [],
   "source": [
    "import scipy\n",
    "import numpy as np\n",
    "import matplotlib.pyplot as plt\n",
    "import matplotlib as mpl\n",
    "%matplotlib inline\n",
    "\n",
    "plt.figure(figsize=(16,7))\n",
    "mpl.rcParams['font.size'] = 16\n",
    "\n",
    "X = np.array([1, 2,    3,   4 ,    5 ])\n",
    "Y = np.array([2, 3.25, 3.5, 3.75 , 3.8])\n",
    "\n",
    "# a[0] is the x asymptote and a[1] is the y asymptote and \n",
    "fn = lambda a: -1/(X-a[0]) + a[1]\n",
    "Sn = lambda x: np.sum( (fn(x)-Y)**2 )\n",
    "\n",
    "A = scipy.optimize.fmin(func=Sn, x0=[0,0])\n",
    "print(A)\n",
    "plt.plot(X, Y,'o')\n",
    "xplot = np.linspace(0.75 , 5,100)\n",
    "fnfit = lambda x,a: -1/(x-a[0]) + a[1]\n",
    "\n",
    "plt.subplot(1,2,1)\n",
    "eps = 1e-16\n",
    "xp = 0.5\n",
    "yp = 4\n",
    "x = np.linspace(xp,4,100)\n",
    "y = -1/(x-xp+eps)+yp\n",
    "plt.plot(x,y)\n",
    "plt.ylim([0,yp])\n",
    "plt.title('plot of how the function should look with actual parameters')\n",
    "\n",
    "\n",
    "plt.plot(xplot, fnfit(xplot, A))\n",
    "plt.plot(X,Y, 'o')\n",
    "plt.title(r'$f(x)=\\frac{-1}{x-a_0}+a_1$')\n",
    "#plt.text(2,1,r'$f(x)=\\frac{-1}{x-0.494}+3.969$')"
   ]
  },
  {
   "cell_type": "code",
   "execution_count": null,
   "metadata": {
    "collapsed": false
   },
   "outputs": [],
   "source": [
    "#==============================================================================\n",
    "# \n",
    "#==============================================================================\n",
    "import numpy as np\n",
    "from scipy.optimize import curve_fit\n",
    "def func(x, a, b, c):\n",
    "    return a * np.exp(-b * x) + c\n",
    "\n",
    "xdata = np.linspace(0, 4, 50)\n",
    "y = func(xdata, 2.5, 1.3, 0.5)\n",
    "ydata = y + np.random.normal(size=len(xdata))\n",
    "popt, pcov = curve_fit(func, xdata, ydata)\n",
    "popt, pcov = curve_fit(func, xdata, ydata, bounds=(0, [3., 2., 1.]))\n",
    "\n",
    "plt.plot(xdata, y)\n",
    "\n",
    "yfit = func(xdata, popt[0], popt[1], popt[2])\n",
    "plt.plot(xdata, yfit, 'o')"
   ]
  },
  {
   "cell_type": "markdown",
   "metadata": {},
   "source": [
    "## Linear Algebra with Python\n",
    "[index](#Mechpy)  \n",
    "\n",
    "Python's numpy package allows python, a generic computing language to perform powerful mathematical calculations. Although python's math syntax is not as obvious as MATLAB's, the functionality is comparable. This document is designed to be an intro to that syntax \n",
    "\n",
    "Some references\n",
    "\n",
    "http://nbviewer.ipython.org/github/carljv/cython_testing/blob/master/cython_linalg.ipynb\n",
    "\n",
    "We can either use scipy, which includes numpy, \n",
    "http://docs.scipy.org/doc/\n",
    "\n",
    "or use numpy directly\n",
    "http://docs.scipy.org/doc/numpy/\n",
    "\n",
    "Since there are many ways to solve linear algebra problems, (eg Octave/Matlab, julia, scipy, numpy)\n",
    "I tend to prefer the most matlabesc approaches due to the ubiquity of Matlab and the simplicity of the syntax, which frankly, python suffers with.\n",
    "\n",
    "The major difference between arrays and matrices in python is that arrays are n-dimensions, where matrices are only up to 2-dimensions  \n",
    "m"
   ]
  },
  {
   "cell_type": "code",
   "execution_count": null,
   "metadata": {
    "collapsed": true
   },
   "outputs": [],
   "source": [
    "import numpy as np\n",
    "from scipy import linalg"
   ]
  },
  {
   "cell_type": "markdown",
   "metadata": {},
   "source": [
    "Pythons list is a generic data storage object. it can be easily extended to a numpy array, which is specialized for numerical and scientific computation "
   ]
  },
  {
   "cell_type": "code",
   "execution_count": null,
   "metadata": {
    "collapsed": false
   },
   "outputs": [],
   "source": [
    "np.zeros((5,3))"
   ]
  },
  {
   "cell_type": "code",
   "execution_count": null,
   "metadata": {
    "collapsed": false
   },
   "outputs": [],
   "source": [
    "np.array([[1,2],[3,4]])"
   ]
  },
  {
   "cell_type": "code",
   "execution_count": null,
   "metadata": {
    "collapsed": false
   },
   "outputs": [],
   "source": [
    "np.matrix(np.zeros((5,3)))"
   ]
  },
  {
   "cell_type": "code",
   "execution_count": null,
   "metadata": {
    "collapsed": false
   },
   "outputs": [],
   "source": [
    "np.matrix([[1,2],[3,4]])"
   ]
  },
  {
   "cell_type": "code",
   "execution_count": null,
   "metadata": {
    "collapsed": false
   },
   "outputs": [],
   "source": [
    "# Matrix multiplication can be achieved using the dot method\n",
    "i = [[1,0,0],[0,1,0],[0,0,1]]  # identiy matrix\n",
    "a = [[4,3,1],[5,7,2],[2,2,2]]\n",
    "np.dot(i,a)\n"
   ]
  },
  {
   "cell_type": "code",
   "execution_count": null,
   "metadata": {
    "collapsed": false
   },
   "outputs": [],
   "source": [
    "#Or, matrix multiplication can be done if a matrix is explicitly defined\n",
    "np.matrix(i)*np.matrix(a)"
   ]
  },
  {
   "cell_type": "code",
   "execution_count": null,
   "metadata": {
    "collapsed": false
   },
   "outputs": [],
   "source": [
    "# Notice, when arrays are mutliplied, we get the dot product \n",
    "np.array(i)*np.array(a)"
   ]
  },
  {
   "cell_type": "code",
   "execution_count": null,
   "metadata": {
    "collapsed": false
   },
   "outputs": [],
   "source": [
    "# convert an array to a matrix\n",
    "m = np.matrix(a)\n",
    "m"
   ]
  },
  {
   "cell_type": "code",
   "execution_count": null,
   "metadata": {
    "collapsed": false
   },
   "outputs": [],
   "source": [
    "m.T  # transpose"
   ]
  },
  {
   "cell_type": "code",
   "execution_count": null,
   "metadata": {
    "collapsed": false
   },
   "outputs": [],
   "source": [
    "m.I  # inverse"
   ]
  },
  {
   "cell_type": "code",
   "execution_count": null,
   "metadata": {
    "collapsed": false
   },
   "outputs": [],
   "source": [
    "m**2"
   ]
  },
  {
   "cell_type": "code",
   "execution_count": null,
   "metadata": {
    "collapsed": false
   },
   "outputs": [],
   "source": [
    "np.array(a)**2"
   ]
  },
  {
   "cell_type": "code",
   "execution_count": null,
   "metadata": {
    "collapsed": false
   },
   "outputs": [],
   "source": [
    "m"
   ]
  },
  {
   "cell_type": "code",
   "execution_count": null,
   "metadata": {
    "collapsed": false
   },
   "outputs": [],
   "source": [
    "m[:,2]"
   ]
  },
  {
   "cell_type": "code",
   "execution_count": null,
   "metadata": {
    "collapsed": false
   },
   "outputs": [],
   "source": [
    "m[2,:]"
   ]
  },
  {
   "cell_type": "code",
   "execution_count": null,
   "metadata": {
    "collapsed": false
   },
   "outputs": [],
   "source": [
    "m[:2,:2]"
   ]
  },
  {
   "cell_type": "code",
   "execution_count": null,
   "metadata": {
    "collapsed": false
   },
   "outputs": [],
   "source": [
    "m[1:,1:]"
   ]
  },
  {
   "cell_type": "markdown",
   "metadata": {},
   "source": [
    "## Sympy Linear Algebra"
   ]
  },
  {
   "cell_type": "code",
   "execution_count": null,
   "metadata": {
    "collapsed": true
   },
   "outputs": [],
   "source": [
    "# import sympy\n",
    "import sympy as sp\n",
    "#from sympy.mpmath import *"
   ]
  },
  {
   "cell_type": "code",
   "execution_count": null,
   "metadata": {
    "collapsed": false
   },
   "outputs": [],
   "source": [
    "x = sp.Symbol('x')   # x = var('x')\n",
    "M = sp.Matrix([[2,x],[x,3]])\n",
    "M"
   ]
  },
  {
   "cell_type": "code",
   "execution_count": null,
   "metadata": {
    "collapsed": false
   },
   "outputs": [],
   "source": [
    "M.eigenvals()"
   ]
  },
  {
   "cell_type": "code",
   "execution_count": null,
   "metadata": {
    "collapsed": false
   },
   "outputs": [],
   "source": [
    "M.eigenvects()"
   ]
  },
  {
   "cell_type": "code",
   "execution_count": null,
   "metadata": {
    "collapsed": false
   },
   "outputs": [],
   "source": [
    "M.eigenvects()[1][0]"
   ]
  },
  {
   "cell_type": "code",
   "execution_count": null,
   "metadata": {
    "collapsed": false
   },
   "outputs": [],
   "source": [
    "Mval = M.eigenvects()[1][0]\n",
    "Mval.evalf(subs={x:3.14})"
   ]
  },
  {
   "cell_type": "code",
   "execution_count": null,
   "metadata": {
    "collapsed": false
   },
   "outputs": [],
   "source": [
    "print(sp.latex(M))"
   ]
  },
  {
   "cell_type": "markdown",
   "metadata": {},
   "source": [
    "copy and paste into markdown \n",
    "\n",
    "$ \\left[\\begin{matrix}2 & x\\\\x & 3\\end{matrix}\\right] $\n"
   ]
  },
  {
   "cell_type": "markdown",
   "metadata": {},
   "source": [
    "## Signal Processing\n",
    "Page 174 Introduction for python for Science - David Pine"
   ]
  },
  {
   "cell_type": "code",
   "execution_count": null,
   "metadata": {
    "collapsed": true
   },
   "outputs": [],
   "source": [
    "import numpy as np\n",
    "from scipy import fftpack\n",
    "import matplotlib.pyplot as plt\n",
    "width = 2.0\n",
    "freq = 0.5\n",
    "t = np.linspace(-10, 10, 101) # linearly space time array\n",
    "g = np.exp(-np.abs(t)/width)*np.sin(2.0 * np.pi * freq * t)\n",
    "dt = t[1]-t[0] # increment between times in time array\n",
    "G = fftpack.fft(g) # FFT of g\n",
    "f = fftpack.fftfreq(g.size, d=dt) # frequenies f[i] of g[i]\n",
    "f = fftpack.fftshift(f) # shift frequencies from min to max\n",
    "G = fftpack.fftshift(G) # shift G order to coorespond to f\n",
    "fig = plt.figure(1, figsize=(8,6), frameon=False)\n",
    "ax1 = fig.add_subplot(211)\n",
    "ax1.plot(t, g)\n",
    "ax1.set_xlabel('t')\n",
    "ax1.set_ylabel('g(t)')\n",
    "ax2 = fig.add_subplot(212)\n",
    "ax2.plot(f, np.real(G), color='dodgerblue', label='real part')\n",
    "ax2.plot(f, np.imag(G), color='coral', label='imaginary part')\n",
    "ax2.legend()\n",
    "ax2.set_xlabel('f')\n",
    "ax2.set_ylabel('G(f)')\n",
    "plt.show()"
   ]
  },
  {
   "cell_type": "markdown",
   "metadata": {},
   "source": [
    "# Design"
   ]
  },
  {
   "cell_type": "markdown",
   "metadata": {},
   "source": [
    "## Factors of Safety\n",
    "\n",
    "DLL, Design Limit Load = max force or moment expected during a mission with a given statistical probability  \n",
    "\n",
    "Al, Allowable =  allowed minimum applied load or strength of a structure at a given statistical probablity  \n",
    "\n",
    "FS, factor of safety [1, $\\infty$] = a factor applied to a DLL to decrease the chance of failure, typically around 1-3  \n",
    "\n",
    "KD, knockdown (0,1] = a percentage reduction of Allowable load to reduce the chance of failure\n",
    "\n",
    "A KD=0.8 would be applied to the allowable to reduce it by 20%, $Al_{new}=Al_{old}*KD$   \n",
    "\n",
    "MS, margin of safety = a measure of reserve strength , how much applied loda can increase before the safety of the vehicle is comprimised. $ MS\\geq0$ for a good design, $MS=\\frac{Allowable}{DLL*FS}-1$\n",
    "\n",
    "For example with a $FS=1.15$, $DLL=80$, $Al=100$, we have a margin of $MS=\\frac{100}{80*1.15}-1=\\frac{100}{92}-1=0.087$ which is passing our design checks based on the expected max load of 80\n",
    "\n",
    "Lets Assume a knockdown of 27%, so $K=1-0.27=0.73$  \n",
    "\n",
    "$$\n",
    "FS = \\frac{1}{K}\n",
    "$$\n",
    "\n",
    "\n",
    "We can also say we have a $FS = \\frac{1}{0.73}=1.3699$\n",
    "\n",
    "$$\n",
    "\\sigma_{design}=\\frac{\\sigma_{ult}}{FS} = \\sigma_{ult}*K\n",
    "$$\n"
   ]
  },
  {
   "cell_type": "code",
   "execution_count": null,
   "metadata": {
    "collapsed": true
   },
   "outputs": [],
   "source": []
  },
  {
   "cell_type": "markdown",
   "metadata": {
    "collapsed": true
   },
   "source": [
    "# Engineering Mathematics with Python\n",
    "[index](#Mechpy)"
   ]
  },
  {
   "cell_type": "code",
   "execution_count": null,
   "metadata": {
    "collapsed": false
   },
   "outputs": [],
   "source": [
    "from numpy import *"
   ]
  },
  {
   "cell_type": "code",
   "execution_count": null,
   "metadata": {
    "collapsed": false
   },
   "outputs": [],
   "source": [
    "r_[1:11]"
   ]
  },
  {
   "cell_type": "code",
   "execution_count": null,
   "metadata": {
    "collapsed": false
   },
   "outputs": [],
   "source": [
    "arange(1,11)"
   ]
  },
  {
   "cell_type": "code",
   "execution_count": null,
   "metadata": {
    "collapsed": false
   },
   "outputs": [],
   "source": [
    "linspace(1,10,10)"
   ]
  },
  {
   "cell_type": "markdown",
   "metadata": {},
   "source": [
    "## Functions\n",
    "[index](#Index) "
   ]
  },
  {
   "cell_type": "code",
   "execution_count": null,
   "metadata": {
    "collapsed": false
   },
   "outputs": [],
   "source": [
    "import sympy as sp\n",
    "s,ed = sp.symbols('s,ed')\n",
    "K = sp.Function('K')\n",
    "\n",
    "Ked = 0.4*ed+.2\n",
    "Ks = 0.105*s+0.63 \n",
    "\n",
    "Ktot = Ked*Ks\n",
    "sp.expand(Ktot)"
   ]
  },
  {
   "cell_type": "code",
   "execution_count": null,
   "metadata": {
    "collapsed": false
   },
   "outputs": [],
   "source": [
    "Ktot = sp.lambdify((ed,s), (0.4*ed+.2)*(0.105*s+0.63))\n",
    "K(2,3.54)"
   ]
  },
  {
   "cell_type": "code",
   "execution_count": null,
   "metadata": {
    "collapsed": true
   },
   "outputs": [],
   "source": [
    "di,df,t = sp.symbols('d_i,d_f,t')"
   ]
  },
  {
   "cell_type": "code",
   "execution_count": null,
   "metadata": {
    "collapsed": true
   },
   "outputs": [],
   "source": [
    "from sympy.utilities.lambdify import lambdify, implemented_function"
   ]
  },
  {
   "cell_type": "code",
   "execution_count": null,
   "metadata": {
    "collapsed": true
   },
   "outputs": [],
   "source": [
    "sb = implemented_function(sp.Function('sb'), lambda di,t: 11445*(di/t)**3 -70429*(di/t)**2 + 145552*(di/t)  )"
   ]
  },
  {
   "cell_type": "code",
   "execution_count": null,
   "metadata": {
    "collapsed": true
   },
   "outputs": [],
   "source": [
    "Kdt = implemented_function(sp.Function('Kdt'), \\\n",
    "                           lambda di,t,df: 11445/sb(di, t)*(df/t)**3 - \\\n",
    "                           70429/sb(di, t)*(df/t)**2 + 145552/sb(di, t)*(df/t)  )"
   ]
  },
  {
   "cell_type": "code",
   "execution_count": null,
   "metadata": {
    "collapsed": false
   },
   "outputs": [],
   "source": [
    "Kdt(0.1875, 0.25, 0.246)"
   ]
  },
  {
   "cell_type": "code",
   "execution_count": null,
   "metadata": {
    "collapsed": false
   },
   "outputs": [],
   "source": [
    "sb = sp.Function('sb')\n",
    "sb = 11445*(di/t)**3 -70429*(di/t)**2 + 145552*(di/t)\n",
    "sb"
   ]
  },
  {
   "cell_type": "code",
   "execution_count": null,
   "metadata": {
    "collapsed": false
   },
   "outputs": [],
   "source": [
    "Kdt = sp.Function('Kdt')\n",
    "Kdt = 11445/sb*(df/t)**3 - 70429/sb*(df/t)**2 + 145552/sb*(df/t)\n",
    "Kdt"
   ]
  },
  {
   "cell_type": "code",
   "execution_count": null,
   "metadata": {
    "collapsed": true
   },
   "outputs": [],
   "source": [
    "Kdt = sp.simplify(Kdt)"
   ]
  },
  {
   "cell_type": "code",
   "execution_count": null,
   "metadata": {
    "collapsed": false
   },
   "outputs": [],
   "source": [
    "sp.latex(Kdt)"
   ]
  },
  {
   "cell_type": "code",
   "execution_count": null,
   "metadata": {
    "collapsed": true
   },
   "outputs": [],
   "source": []
  },
  {
   "cell_type": "code",
   "execution_count": null,
   "metadata": {
    "collapsed": true
   },
   "outputs": [],
   "source": []
  },
  {
   "cell_type": "code",
   "execution_count": null,
   "metadata": {
    "collapsed": false
   },
   "outputs": [],
   "source": [
    "import numpy as np\n",
    "import matplotlib.pyplot as plt\n",
    "%matplotlib inline\n",
    "fig, ax = plt.subplots()\n",
    "\n",
    "N = 5\n",
    "ind = np.arange(N)  # the x locations for the groups\n",
    "width = 0.35       # the width of the bars\n",
    "\n",
    "Pult = (20, 35, 30, 35, 27)\n",
    "Pultstd = (2, 3, 4, 1, 2)\n",
    "rects1 = ax.bar(ind, Pult, width, color='r', yerr=Pultstd)\n",
    "\n",
    "Ppl = (25, 32, 34, 20, 25)\n",
    "Pplstd = (3, 5, 2, 3, 3)\n",
    "rects2 = ax.bar(ind + width, Ppl, width, color='y', yerr=Pplstd)\n",
    "\n",
    "# add some text for labels, title and axes ticks\n",
    "ax.set_ylabel('P, load, lbs')\n",
    "ax.set_title('Ultimate and PL Load')\n",
    "ax.set_xticks(ind + width/2)\n",
    "ax.set_xticklabels(('G1', 'G2', 'G3', 'G4', 'G5'))\n",
    "ax.legend(['Ult','Pl'])\n",
    "ax.margins(0.02)\n",
    "\n",
    "\n",
    "### OR\n",
    "\n",
    "fig, ax = plt.subplots()\n",
    "barwidth = 0.35       # the width of the bars\n",
    "specimenNames = ['Sample1', 'Sample2', 'Sample3', 'Samlpe4']\n",
    "x = np.arange(4)\n",
    "y = np.random.random_integers(1, 10 ,len(x))\n",
    "e = np.random.random_integers(0,1,len(x))\n",
    "ax.bar(x,y, width=barwidth, yerr=e)\n",
    "ax.set_xticks(x)\n",
    "plt.xticks(x+barwidth/2, specimenNames, rotation='vertical')\n",
    "plt.margins(0.05)\n",
    "#ax.margins(0.05)\n",
    "plt.show()"
   ]
  },
  {
   "cell_type": "markdown",
   "metadata": {},
   "source": [
    "## Raw Test Data"
   ]
  },
  {
   "cell_type": "code",
   "execution_count": null,
   "metadata": {
    "collapsed": false
   },
   "outputs": [],
   "source": [
    "import pandas as pd\n",
    "import numpy as np\n",
    "import glob as gb\n",
    "from matplotlib.pyplot import *\n",
    "%matplotlib inline\n",
    "\n",
    "csvdir='./examples/'"
   ]
  },
  {
   "cell_type": "code",
   "execution_count": null,
   "metadata": {
    "collapsed": false
   },
   "outputs": [],
   "source": [
    "e=[]\n",
    "y=[]\n",
    "\n",
    "for s in specimen:\n",
    "    files = gb.glob(csvdir + '*.csv')  # select all csv files\n",
    "    fig, ax = subplots()\n",
    "    title(s)\n",
    "    Pult = []\n",
    "    \n",
    "    for f in files:\n",
    "        d1 = pd.read_csv(f, skiprows=1)\n",
    "        d1 = d1[1:]  # remove first row of string\n",
    "        d1.columns = ['t', 'load', 'ext']  # rename columns\n",
    "        d1.head()\n",
    "        # remove commas in data\n",
    "        for d in d1.columns:\n",
    "            #d1.dtypes\n",
    "            d1[d] = d1[d].map(lambda x: float(str(x).replace(',','')))\n",
    "        Pult.append(np.max(d1.load))\n",
    "        plot(d1.ext, d1.load)   \n",
    "        ylabel('Pult, lbs')\n",
    "        xlabel('extension, in')\n",
    "        \n",
    "        \n",
    "    e.append(np.std(Pult))\n",
    "    y.append(np.average(Pult)     )\n",
    "    show()\n",
    "\n",
    "\n",
    "# bar chart \n",
    "barwidth = 0.35       # the width of the bars\n",
    "\n",
    "fig, ax = subplots()\n",
    "x = np.arange(len(specimen))\n",
    "ax.bar(x,  y, width=barwidth, yerr=e)\n",
    "\n",
    "#ax.set_xticks(x)\n",
    "xticks(x+barwidth/2, specimen, rotation='vertical')\n",
    "title('Pult with sample average and stdev of n=3')\n",
    "ylabel('Pult, lbs')\n",
    "margins(0.05)\n",
    "show()"
   ]
  },
  {
   "cell_type": "markdown",
   "metadata": {},
   "source": [
    "## Finding the \"first\" peak and delta-10 threshhold limit on force-displacement data\n",
    "\n",
    " http://nbviewer.jupyter.org/github/demotu/BMC/blob/master/notebooks/DataFiltering.ipynb"
   ]
  },
  {
   "cell_type": "code",
   "execution_count": null,
   "metadata": {
    "collapsed": false
   },
   "outputs": [],
   "source": [
    "\n",
    "%matplotlib inline\n",
    "from scipy import signal\n",
    "from pylab import plot, xlabel, ylabel, title, rcParams, figure\n",
    "import numpy as np\n",
    "pltwidth = 16\n",
    "pltheight = 8\n",
    "rcParams['figure.figsize'] = (pltwidth, pltheight)\n",
    "\n",
    "csv = np.genfromtxt('./examples/stress_strain1.csv', delimiter=\",\")\n",
    "disp = csv[:,0]\n",
    "force = csv[:,1]\n",
    "print('number of data points = %i' % len(disp))\n",
    "\n",
    "def moving_average(x, window):\n",
    "    \"\"\"Moving average of 'x' with window size 'window'.\"\"\"\n",
    "    y = np.empty(len(x)-window+1)\n",
    "    for i in range(len(y)):\n",
    "        y[i] = np.sum(x[i:i+window])/window\n",
    "    return y\n",
    "\n",
    "plt1 = plot(disp, force);\n",
    "xlabel('displacement');\n",
    "ylabel('force');\n"
   ]
  },
  {
   "cell_type": "code",
   "execution_count": null,
   "metadata": {
    "collapsed": false
   },
   "outputs": [],
   "source": [
    "figure()\n",
    "mywindow = 1000  # the larger the filter window, the more agressive the filtering\n",
    "force2 = moving_average(force, mywindow)\n",
    "x2 = range(len(force2))\n",
    "plot(x2,  force2);\n",
    "title('Force smoothed with moving average filter');"
   ]
  },
  {
   "cell_type": "code",
   "execution_count": null,
   "metadata": {
    "collapsed": false
   },
   "outputs": [],
   "source": [
    "\n",
    "# Find f' using diff to find the first intersection of the 0\n",
    "\n",
    "# mvavgforce = mvavgforce[:len(mvavgforce)/2]\n",
    "force2p = np.diff(force2)\n",
    "x2p = range(len(force2p))\n",
    "plot(x2p, force2p);\n",
    "title('Slope of the smoothed curve')"
   ]
  },
  {
   "cell_type": "code",
   "execution_count": null,
   "metadata": {
    "collapsed": false
   },
   "outputs": [],
   "source": [
    "i = np.argmax(force2p<0)     \n",
    "### or\n",
    "# i = where(force2p<0)[0][0]\n",
    "#### or\n",
    "# for i, f in enumerate(force2p):\n",
    "#     if f < 0:\n",
    "#         break"
   ]
  },
  {
   "cell_type": "code",
   "execution_count": null,
   "metadata": {
    "collapsed": false
   },
   "outputs": [],
   "source": [
    "plot(x2p,  force2p, i,force2p[i],'o', markersize=15);\n",
    "title('find the point at which the slope goes negative, indicating a switch in the slope direction');"
   ]
  },
  {
   "cell_type": "code",
   "execution_count": null,
   "metadata": {
    "collapsed": false
   },
   "outputs": [],
   "source": [
    "plot(x2,  force2, i,force2[i],'o',markersize=15);\n",
    "title('using that index, plot on the force-displacement curve');"
   ]
  },
  {
   "cell_type": "code",
   "execution_count": null,
   "metadata": {
    "collapsed": false
   },
   "outputs": [],
   "source": [
    "#Now, we need to find the next point from here that is 10 less.\n",
    "delta = 1\n",
    "\n",
    "i2 = np.argmax(force2[i]-delta > force2[i:])\n",
    "\n",
    "# If that point does not exist on the immediate downward sloping path, \n",
    "#then just choose the max point. In this case, 10 would exist very \n",
    "#far away from the point and not be desireable\n",
    "if i2 > i:\n",
    "    i2=0\n",
    "plot(x2,  force2, i,force2[i],'o', i2+i, force2[i2+i] ,'*', markersize=15);"
   ]
  },
  {
   "cell_type": "code",
   "execution_count": null,
   "metadata": {
    "collapsed": true
   },
   "outputs": [],
   "source": []
  },
  {
   "cell_type": "code",
   "execution_count": null,
   "metadata": {
    "collapsed": true
   },
   "outputs": [],
   "source": []
  },
  {
   "cell_type": "code",
   "execution_count": null,
   "metadata": {
    "collapsed": true
   },
   "outputs": [],
   "source": []
  },
  {
   "cell_type": "code",
   "execution_count": null,
   "metadata": {
    "collapsed": true
   },
   "outputs": [],
   "source": []
  },
  {
   "cell_type": "code",
   "execution_count": null,
   "metadata": {
    "collapsed": true
   },
   "outputs": [],
   "source": []
  },
  {
   "cell_type": "code",
   "execution_count": null,
   "metadata": {
    "collapsed": false
   },
   "outputs": [],
   "source": [
    "### Copy and past data into python\n",
    "\n",
    "y = '''62606.53409\n",
    "59989.34659\n",
    "62848.01136\n",
    "80912.28693\n",
    "79218.03977\n",
    "81242.1875\n",
    "59387.27273\n",
    "59795.68182\n",
    "58303.18182\n",
    "81184.09091\n",
    "71876.81818\n",
    "72904.77273\n",
    "115563.9205\n",
    "113099.7869\n",
    "106939.2756\n",
    "58758.11688\n",
    "57349.02597\n",
    "52614.77273\n",
    "72899.75649\n",
    "68424.51299\n",
    "73514.28571\n",
    "75549.83766\n",
    "84867.69481\n",
    "79881.41234\n",
    "55882.71104\n",
    "54156.54221\n",
    "58260.71429\n",
    "73027.5974\n",
    "69470.69805\n",
    "66843.99351\n",
    "82758.44156\n",
    "81647.72727\n",
    "77519.96753'''\n",
    "y = [float(x) for x in np.array(y.replace('\\n',',').split(','))]\n",
    "print(y, end=\" \")"
   ]
  },
  {
   "cell_type": "markdown",
   "metadata": {
    "collapsed": true
   },
   "source": [
    "# Units\n",
    "[index](#Mechpy)"
   ]
  },
  {
   "cell_type": "code",
   "execution_count": null,
   "metadata": {
    "collapsed": true
   },
   "outputs": [],
   "source": [
    "from mechunits import uc1\n",
    "# uc1 uses sympy"
   ]
  },
  {
   "cell_type": "code",
   "execution_count": null,
   "metadata": {
    "collapsed": false
   },
   "outputs": [],
   "source": [
    "uc1(1.0,'psi','kPa')"
   ]
  },
  {
   "cell_type": "code",
   "execution_count": null,
   "metadata": {
    "collapsed": false
   },
   "outputs": [],
   "source": [
    "uc1(1.0,'newton','pound')"
   ]
  },
  {
   "cell_type": "code",
   "execution_count": null,
   "metadata": {
    "collapsed": false
   },
   "outputs": [],
   "source": [
    "from mechunits import uc2\n",
    "# uses pint\n",
    "uc2(17.5,'lbf','newton')"
   ]
  },
  {
   "cell_type": "code",
   "execution_count": null,
   "metadata": {
    "collapsed": false
   },
   "outputs": [],
   "source": [
    "uc2(300,'pascal','psi')"
   ]
  },
  {
   "cell_type": "code",
   "execution_count": null,
   "metadata": {
    "collapsed": false
   },
   "outputs": [],
   "source": [
    "from mechunits import in_mm\n",
    "in_mm()"
   ]
  },
  {
   "cell_type": "markdown",
   "metadata": {},
   "source": [
    "# Engineering-Software-APIs  \n",
    "[index](#Mechpy)  "
   ]
  },
  {
   "cell_type": "markdown",
   "metadata": {},
   "source": [
    "## CATIA\n",
    "[index](#Mechpy)  "
   ]
  },
  {
   "cell_type": "code",
   "execution_count": null,
   "metadata": {
    "collapsed": false,
    "scrolled": false
   },
   "outputs": [],
   "source": [
    "from mechpy import catia\n",
    "help(catia)"
   ]
  },
  {
   "cell_type": "markdown",
   "metadata": {},
   "source": [
    "## Abaqus \n",
    "[index](#Mechpy)  \n",
    "\n"
   ]
  },
  {
   "cell_type": "markdown",
   "metadata": {},
   "source": [
    "# Engineering Python   \n",
    "[index](#Mechpy)  \n",
    "\n",
    "to plot inline in the ipython console or jupyter notebook, otherwise plots will be in the a seperate window\n",
    "\n",
    "to turn on inline plotting\n",
    "```python\n",
    "from IPython import get_ipython\n",
    "get_ipython().magic('matplotlib inline')\n",
    "#or\n",
    "%matplotlib inline\n",
    "```\n",
    "\n",
    "to turn off inline plotting\n",
    "```python\n",
    "get_ipython().magic('matplotlib')\n",
    "#or\n",
    "%matplotlib\n",
    "#or \n",
    "%matplotlib qt\n",
    "```\n"
   ]
  },
  {
   "cell_type": "markdown",
   "metadata": {},
   "source": [
    "## Symbolic mathematics with sympy"
   ]
  },
  {
   "cell_type": "code",
   "execution_count": 1,
   "metadata": {
    "collapsed": true
   },
   "outputs": [],
   "source": [
    "# import sympy library and initialize latex printing\n",
    "import sympy as sp\n",
    "#sp.init_printing()\n",
    "#sp.init_printing(use_latex='matplotlib')\n",
    "sp.init_printing(use_latex='mathjax')"
   ]
  },
  {
   "cell_type": "code",
   "execution_count": null,
   "metadata": {
    "collapsed": true
   },
   "outputs": [],
   "source": [
    "# add a symbolic character\n",
    "x = sp.Symbol('x')"
   ]
  },
  {
   "cell_type": "code",
   "execution_count": null,
   "metadata": {
    "collapsed": false
   },
   "outputs": [],
   "source": [
    "sp.sqrt(x**2)"
   ]
  },
  {
   "cell_type": "code",
   "execution_count": null,
   "metadata": {
    "collapsed": false
   },
   "outputs": [],
   "source": [
    "r = sp.Rational(11, 13)\n",
    "r"
   ]
  },
  {
   "cell_type": "code",
   "execution_count": null,
   "metadata": {
    "collapsed": false
   },
   "outputs": [],
   "source": [
    "float(r)"
   ]
  },
  {
   "cell_type": "code",
   "execution_count": null,
   "metadata": {
    "collapsed": false
   },
   "outputs": [],
   "source": [
    "f = sp.Function('f')\n",
    "f"
   ]
  },
  {
   "cell_type": "code",
   "execution_count": null,
   "metadata": {
    "collapsed": false
   },
   "outputs": [],
   "source": [
    "f(x)"
   ]
  },
  {
   "cell_type": "code",
   "execution_count": null,
   "metadata": {
    "collapsed": false
   },
   "outputs": [],
   "source": [
    "h = sp.Lambda(x,x**2)\n",
    "h"
   ]
  },
  {
   "cell_type": "code",
   "execution_count": null,
   "metadata": {
    "collapsed": false
   },
   "outputs": [],
   "source": [
    "w = 2*(x**2-x)-x*(x+1)\n",
    "w"
   ]
  },
  {
   "cell_type": "code",
   "execution_count": null,
   "metadata": {
    "collapsed": false
   },
   "outputs": [],
   "source": [
    "w.args"
   ]
  },
  {
   "cell_type": "code",
   "execution_count": null,
   "metadata": {
    "collapsed": false
   },
   "outputs": [],
   "source": [
    "sp.simplify(w)"
   ]
  },
  {
   "cell_type": "code",
   "execution_count": null,
   "metadata": {
    "collapsed": false
   },
   "outputs": [],
   "source": [
    "sp.factor(x**2-1)"
   ]
  },
  {
   "cell_type": "code",
   "execution_count": null,
   "metadata": {
    "collapsed": false
   },
   "outputs": [],
   "source": [
    "#partial fractions\n",
    "y = 1/(x**2+3*x+2)\n",
    "y"
   ]
  },
  {
   "cell_type": "code",
   "execution_count": null,
   "metadata": {
    "collapsed": false
   },
   "outputs": [],
   "source": [
    "sp.apart(y,x)"
   ]
  },
  {
   "cell_type": "code",
   "execution_count": null,
   "metadata": {
    "collapsed": false
   },
   "outputs": [],
   "source": [
    "f = sp.Function('f')(x)\n",
    "sp.diff(f,x)"
   ]
  },
  {
   "cell_type": "code",
   "execution_count": null,
   "metadata": {
    "collapsed": false
   },
   "outputs": [],
   "source": [
    "y = sp.Symbol('y')\n",
    "g = sp.Function('g')(x,y)\n",
    "g.diff(x,y)"
   ]
  },
  {
   "cell_type": "code",
   "execution_count": null,
   "metadata": {
    "collapsed": false
   },
   "outputs": [],
   "source": [
    "a,b,c,d = sp.symbols(\"a b c d\")\n",
    "M = sp.Matrix([[a,b],[c,d]])\n",
    "M"
   ]
  },
  {
   "cell_type": "code",
   "execution_count": null,
   "metadata": {
    "collapsed": false
   },
   "outputs": [],
   "source": [
    "M*M"
   ]
  },
  {
   "cell_type": "code",
   "execution_count": null,
   "metadata": {
    "collapsed": false
   },
   "outputs": [],
   "source": [
    "# if ipython is to be used as a calculator initialize with \n",
    "from sympy import init_session\n",
    "init_session() "
   ]
  },
  {
   "cell_type": "code",
   "execution_count": 2,
   "metadata": {
    "collapsed": true
   },
   "outputs": [],
   "source": [
    "from sympy import oo, Function, dsolve, Eq, Derivative, sin,cos,symbols\n",
    "from sympy.abc import x\n",
    "import sympy as sp\n",
    "import numpy as np\n",
    "import matplotlib.pyplot as mp\n",
    "get_ipython().magic('matplotlib inline')\n",
    "# this will print output as unicode"
   ]
  },
  {
   "cell_type": "code",
   "execution_count": 3,
   "metadata": {
    "collapsed": false
   },
   "outputs": [
    {
     "data": {
      "text/latex": [
       "$$x$$"
      ],
      "text/plain": [
       "x"
      ]
     },
     "execution_count": 3,
     "metadata": {},
     "output_type": "execute_result"
    }
   ],
   "source": [
    "# assign a sympy variable\n",
    "x = sp.var('x')\n",
    "x"
   ]
  },
  {
   "cell_type": "code",
   "execution_count": 4,
   "metadata": {
    "collapsed": false
   },
   "outputs": [
    {
     "data": {
      "text/latex": [
       "$$e^{- x} \\sin{\\left (6 x \\right )}$$"
      ],
      "text/plain": [
       " -x         \n",
       "ℯ  ⋅sin(6⋅x)"
      ]
     },
     "execution_count": 4,
     "metadata": {},
     "output_type": "execute_result"
    }
   ],
   "source": [
    "#assign a function \n",
    "f =  sp.sin(6*x)*sp.exp(-x)\n",
    "f"
   ]
  },
  {
   "cell_type": "code",
   "execution_count": 5,
   "metadata": {
    "collapsed": false
   },
   "outputs": [
    {
     "data": {
      "text/latex": [
       "$$\\frac{1}{e^{3}} \\sin{\\left (18 \\right )}$$"
      ],
      "text/plain": [
       " -3        \n",
       "ℯ  ⋅sin(18)"
      ]
     },
     "execution_count": 5,
     "metadata": {},
     "output_type": "execute_result"
    }
   ],
   "source": [
    "f.subs(x,3)"
   ]
  },
  {
   "cell_type": "code",
   "execution_count": 6,
   "metadata": {
    "collapsed": false
   },
   "outputs": [
    {
     "data": {
      "text/latex": [
       "$$-0.037389453398415345$$"
      ],
      "text/plain": [
       "-0.037389453398415345"
      ]
     },
     "execution_count": 6,
     "metadata": {},
     "output_type": "execute_result"
    }
   ],
   "source": [
    "float(f.subs(x,3))"
   ]
  },
  {
   "cell_type": "code",
   "execution_count": 7,
   "metadata": {
    "collapsed": false
   },
   "outputs": [
    {
     "data": {
      "image/png": "[encoded data removed]",
      "text/plain": [
       "<matplotlib.figure.Figure at 0x5b251d0>"
      ]
     },
     "metadata": {},
     "output_type": "display_data"
    },
    {
     "data": {
      "text/plain": [
       "<sympy.plotting.plot.Plot at 0x5b25198>"
      ]
     },
     "execution_count": 7,
     "metadata": {},
     "output_type": "execute_result"
    }
   ],
   "source": [
    "sp.plot(f)"
   ]
  },
  {
   "cell_type": "code",
   "execution_count": 8,
   "metadata": {
    "collapsed": false
   },
   "outputs": [
    {
     "name": "stdout",
     "output_type": "stream",
     "text": [
      " -x         \n",
      "ℯ  ⋅sin(6⋅x)\n"
     ]
    }
   ],
   "source": [
    "# a onetime pretty print\n",
    "sp.pprint(f)"
   ]
  },
  {
   "cell_type": "code",
   "execution_count": 9,
   "metadata": {
    "collapsed": false
   },
   "outputs": [
    {
     "data": {
      "text/plain": [
       "'e^{- x} \\\\sin{\\\\left (6 x \\\\right )}'"
      ]
     },
     "execution_count": 9,
     "metadata": {},
     "output_type": "execute_result"
    }
   ],
   "source": [
    "#or we can print the latex rendering\n",
    "sp.latex(f)"
   ]
  },
  {
   "cell_type": "code",
   "execution_count": 10,
   "metadata": {
    "collapsed": false
   },
   "outputs": [
    {
     "data": {
      "text/latex": [
       "$$- e^{- x} \\sin{\\left (6 x \\right )} + 6 e^{- x} \\cos{\\left (6 x \\right )}$$"
      ],
      "text/plain": [
       "   -x               -x         \n",
       "- ℯ  ⋅sin(6⋅x) + 6⋅ℯ  ⋅cos(6⋅x)"
      ]
     },
     "execution_count": 10,
     "metadata": {},
     "output_type": "execute_result"
    }
   ],
   "source": [
    "# first derivative\n",
    "df = f.diff()\n",
    "df"
   ]
  },
  {
   "cell_type": "code",
   "execution_count": 11,
   "metadata": {
    "collapsed": false
   },
   "outputs": [
    {
     "data": {
      "text/latex": [
       "$$- e^{- x} \\sin{\\left (6 x \\right )} + 6 e^{- x} \\cos{\\left (6 x \\right )}$$"
      ],
      "text/plain": [
       "   -x               -x         \n",
       "- ℯ  ⋅sin(6⋅x) + 6⋅ℯ  ⋅cos(6⋅x)"
      ]
     },
     "execution_count": 11,
     "metadata": {},
     "output_type": "execute_result"
    }
   ],
   "source": [
    "# differentaite f'' wrt x\n",
    "sp.diff(f,x,1)"
   ]
  },
  {
   "cell_type": "code",
   "execution_count": 12,
   "metadata": {
    "collapsed": false
   },
   "outputs": [
    {
     "data": {
      "text/latex": [
       "$$-3.17530720082064 \\cdot 10^{-17}$$"
      ],
      "text/plain": [
       "-3.17530720082064e-17"
      ]
     },
     "execution_count": 12,
     "metadata": {},
     "output_type": "execute_result"
    }
   ],
   "source": [
    "# substitute x with pi\n",
    "f.subs(x,np.pi)"
   ]
  },
  {
   "cell_type": "code",
   "execution_count": 13,
   "metadata": {
    "collapsed": true
   },
   "outputs": [],
   "source": [
    "#%% Numeric Computation from the documentation\n",
    "from sympy.abc import x"
   ]
  },
  {
   "cell_type": "code",
   "execution_count": 14,
   "metadata": {
    "collapsed": false
   },
   "outputs": [
    {
     "data": {
      "text/latex": [
       "$$0.0005072143046136395$$"
      ],
      "text/plain": [
       "0.0005072143046136395"
      ]
     },
     "execution_count": 14,
     "metadata": {},
     "output_type": "execute_result"
    }
   ],
   "source": [
    "# lambdify using the math module, 10^2 faster than subs\n",
    "expr = sp.sin(x)/x\n",
    "f = sp.lambdify(x,expr)\n",
    "f(3.14)"
   ]
  },
  {
   "cell_type": "code",
   "execution_count": 15,
   "metadata": {
    "collapsed": false
   },
   "outputs": [
    {
     "data": {
      "text/plain": [
       "array([  8.41470985e-01,   8.06076119e-01,   7.67912588e-01,\n",
       "         7.27262596e-01,   6.84424864e-01,   6.39711977e-01,\n",
       "         5.93447624e-01,   5.45963742e-01,   4.97597617e-01,\n",
       "         4.48688937e-01,   3.99576866e-01,   3.50597122e-01,\n",
       "         3.02079129e-01,   2.54343238e-01,   2.07698064e-01,\n",
       "         1.62437944e-01,   1.18840569e-01,   7.71647744e-02,\n",
       "         3.76485431e-02,   5.07214305e-04])"
      ]
     },
     "execution_count": 15,
     "metadata": {},
     "output_type": "execute_result"
    }
   ],
   "source": [
    "# lambdify using numpy\n",
    "expr = sp.sin(x)/x\n",
    "f = sp.lambdify(x,expr, \"numpy\")\n",
    "f(np.linspace(1,3.14,20))"
   ]
  },
  {
   "cell_type": "code",
   "execution_count": 16,
   "metadata": {
    "collapsed": false
   },
   "outputs": [
    {
     "data": {
      "text/plain": [
       "array([ 0. ,  0.1,  0.2,  0.3,  0.4,  0.5,  0.6,  0.7,  0.8,  0.9,  1. ,\n",
       "        1.1,  1.2,  1.3,  1.4,  1.5,  1.6,  1.7,  1.8,  1.9,  2. ,  2.1,\n",
       "        2.2,  2.3,  2.4,  2.5,  2.6,  2.7,  2.8,  2.9,  3. ,  3.1,  3.2,\n",
       "        3.3,  3.4,  3.5,  3.6,  3.7,  3.8,  3.9,  4. ,  4.1,  4.2,  4.3,\n",
       "        4.4,  4.5,  4.6,  4.7,  4.8,  4.9,  5. ,  5.1,  5.2,  5.3,  5.4,\n",
       "        5.5,  5.6,  5.7,  5.8,  5.9])"
      ]
     },
     "execution_count": 16,
     "metadata": {},
     "output_type": "execute_result"
    }
   ],
   "source": [
    "z = np.arange(0,6,.1)\n",
    "z"
   ]
  },
  {
   "cell_type": "code",
   "execution_count": 17,
   "metadata": {
    "collapsed": false
   },
   "outputs": [
    {
     "data": {
      "text/plain": [
       "array([ 0.        ,  0.20689655,  0.4137931 ,  0.62068966,  0.82758621,\n",
       "        1.03448276,  1.24137931,  1.44827586,  1.65517241,  1.86206897,\n",
       "        2.06896552,  2.27586207,  2.48275862,  2.68965517,  2.89655172,\n",
       "        3.10344828,  3.31034483,  3.51724138,  3.72413793,  3.93103448,\n",
       "        4.13793103,  4.34482759,  4.55172414,  4.75862069,  4.96551724,\n",
       "        5.17241379,  5.37931034,  5.5862069 ,  5.79310345,  6.        ])"
      ]
     },
     "execution_count": 17,
     "metadata": {},
     "output_type": "execute_result"
    }
   ],
   "source": [
    "# create an array from 0 to 6 with 300 points\n",
    "z = np.linspace(0,6,30)\n",
    "z"
   ]
  },
  {
   "cell_type": "code",
   "execution_count": 18,
   "metadata": {
    "collapsed": false
   },
   "outputs": [],
   "source": [
    "## ODE Sympy from documentation\n",
    "\n",
    "# see here for example scripts\n",
    "# C:\\Users\\Neal\\Anaconda3\\Lib\\site-packages\\sympy\\mpmath\\tests\n",
    "from sympy import Function, dsolve, Eq, Derivative, sin,cos,symbols\n",
    "from sympy.abc import x\n",
    "import numpy as np\n",
    "import sympy as sp\n",
    "import matplotlib.pyplot as mp"
   ]
  },
  {
   "cell_type": "code",
   "execution_count": 19,
   "metadata": {
    "collapsed": false
   },
   "outputs": [
    {
     "data": {
      "text/latex": [
       "$$f{\\left (x \\right )} = C_{1} \\sin{\\left (3 x \\right )} + C_{2} \\cos{\\left (3 x \\right )}$$"
      ],
      "text/plain": [
       "f(x) = C₁⋅sin(3⋅x) + C₂⋅cos(3⋅x)"
      ]
     },
     "execution_count": 19,
     "metadata": {},
     "output_type": "execute_result"
    }
   ],
   "source": [
    "f = Function('f')\n",
    "deq = dsolve(Derivative(f(x), x,x) + 9*f(x), f(x))\n",
    "deq"
   ]
  },
  {
   "cell_type": "code",
   "execution_count": 20,
   "metadata": {
    "collapsed": false
   },
   "outputs": [
    {
     "data": {
      "text/latex": [
       "$$C_{1} \\sin{\\left (3 x \\right )} + C_{2} \\cos{\\left (3 x \\right )}$$"
      ],
      "text/plain": [
       "C₁⋅sin(3⋅x) + C₂⋅cos(3⋅x)"
      ]
     },
     "execution_count": 20,
     "metadata": {},
     "output_type": "execute_result"
    }
   ],
   "source": [
    "diffeq1_sym = deq.args[1]\n",
    "diffeq1_sym"
   ]
  },
  {
   "cell_type": "code",
   "execution_count": 21,
   "metadata": {
    "collapsed": false
   },
   "outputs": [
    {
     "data": {
      "text/latex": [
       "$$\\sin{\\left (3 x \\right )} + 0.5 \\cos{\\left (3 x \\right )}$$"
      ],
      "text/plain": [
       "sin(3⋅x) + 0.5⋅cos(3⋅x)"
      ]
     },
     "execution_count": 21,
     "metadata": {},
     "output_type": "execute_result"
    }
   ],
   "source": [
    "diffeq1 = diffeq1_sym.subs({'C1':1, 'C2':0.5})\n",
    "diffeq1"
   ]
  },
  {
   "cell_type": "code",
   "execution_count": 22,
   "metadata": {
    "collapsed": false
   },
   "outputs": [
    {
     "data": {
      "text/plain": [
       "<function numpy.<lambda>>"
      ]
     },
     "execution_count": 22,
     "metadata": {},
     "output_type": "execute_result"
    }
   ],
   "source": [
    "diffeq1_f = sp.lambdify(x,diffeq1, \"numpy\")\n",
    "diffeq1_f"
   ]
  },
  {
   "cell_type": "code",
   "execution_count": 23,
   "metadata": {
    "collapsed": false
   },
   "outputs": [
    {
     "data": {
      "text/plain": [
       "array([-0.35387624, -0.68544104, -0.93948885, -1.08728921, -1.11212728,\n",
       "       -1.0111941 , -0.79590429, -0.49060511, -0.12982305,  0.24564078,\n",
       "        0.59332492,  0.87390954,  1.05566313,  1.11803104,  1.05396004,\n",
       "        0.87069598,  0.5889643 ,  0.24062625, -0.1349244 , -0.49521635])"
      ]
     },
     "execution_count": 23,
     "metadata": {},
     "output_type": "execute_result"
    }
   ],
   "source": [
    "diffeq1arr = diffeq1_f(np.linspace(1,3.14,20))\n",
    "diffeq1arr"
   ]
  },
  {
   "cell_type": "code",
   "execution_count": 24,
   "metadata": {
    "collapsed": false
   },
   "outputs": [
    {
     "ename": "NameError",
     "evalue": "name 'plt' is not defined",
     "output_type": "error",
     "traceback": [
      "\u001b[1;31m---------------------------------------------------------------------------\u001b[0m",
      "\u001b[1;31mNameError\u001b[0m                                 Traceback (most recent call last)",
      "\u001b[1;32m<ipython-input-24-636e1784bfdc>\u001b[0m in \u001b[0;36m<module>\u001b[1;34m()\u001b[0m\n\u001b[1;32m----> 1\u001b[1;33m \u001b[0mplt\u001b[0m\u001b[1;33m.\u001b[0m\u001b[0mplot\u001b[0m\u001b[1;33m(\u001b[0m\u001b[0mdiffeq1_f\u001b[0m\u001b[1;33m(\u001b[0m\u001b[0mnp\u001b[0m\u001b[1;33m.\u001b[0m\u001b[0mlinspace\u001b[0m\u001b[1;33m(\u001b[0m\u001b[1;33m-\u001b[0m\u001b[1;36m10\u001b[0m\u001b[1;33m,\u001b[0m\u001b[1;36m10\u001b[0m\u001b[1;33m,\u001b[0m\u001b[1;36m2000\u001b[0m\u001b[1;33m)\u001b[0m\u001b[1;33m)\u001b[0m\u001b[1;33m)\u001b[0m\u001b[1;33m;\u001b[0m\u001b[1;33m\u001b[0m\u001b[0m\n\u001b[0m\u001b[0;32m      2\u001b[0m \u001b[0mplt\u001b[0m\u001b[1;33m.\u001b[0m\u001b[0mtitle\u001b[0m\u001b[1;33m(\u001b[0m\u001b[1;34m'plot of the numpy array'\u001b[0m\u001b[1;33m)\u001b[0m\u001b[1;33m;\u001b[0m\u001b[1;33m\u001b[0m\u001b[0m\n",
      "\u001b[1;31mNameError\u001b[0m: name 'plt' is not defined"
     ]
    }
   ],
   "source": [
    "plt.plot(diffeq1_f(np.linspace(-10,10,2000)));\n",
    "plt.title('plot of the numpy array');"
   ]
  },
  {
   "cell_type": "code",
   "execution_count": null,
   "metadata": {
    "collapsed": false
   },
   "outputs": [],
   "source": [
    "sp.plot(diffeq1, title='plot of the sympy function');"
   ]
  },
  {
   "cell_type": "code",
   "execution_count": 25,
   "metadata": {
    "collapsed": false
   },
   "outputs": [
    {
     "data": {
      "text/latex": [
       "$$\\left [ f{\\left (x \\right )} = - \\operatorname{acos}{\\left (\\frac{C_{1}}{\\cos{\\left (x \\right )}} \\right )} + 2 \\pi, \\quad f{\\left (x \\right )} = \\operatorname{acos}{\\left (\\frac{C_{1}}{\\cos{\\left (x \\right )}} \\right )}\\right ]$$"
      ],
      "text/plain": [
       "⎡             ⎛  C₁  ⎞                   ⎛  C₁  ⎞⎤\n",
       "⎢f(x) = - acos⎜──────⎟ + 2⋅π, f(x) = acos⎜──────⎟⎥\n",
       "⎣             ⎝cos(x)⎠                   ⎝cos(x)⎠⎦"
      ]
     },
     "execution_count": 25,
     "metadata": {},
     "output_type": "execute_result"
    }
   ],
   "source": [
    "eq = sin(x)*cos(f(x)) + cos(x)*sin(f(x))*f(x).diff(x)\n",
    "dsolve(eq, hint='1st_exact')"
   ]
  },
  {
   "cell_type": "code",
   "execution_count": 26,
   "metadata": {
    "collapsed": false
   },
   "outputs": [
    {
     "data": {
      "text/latex": [
       "$$\\left [ f{\\left (x \\right )} = - \\operatorname{acos}{\\left (\\frac{C_{1}}{\\sqrt{- \\cos^{2}{\\left (x \\right )}}} \\right )} + 2 \\pi, \\quad f{\\left (x \\right )} = \\operatorname{acos}{\\left (\\frac{C_{1}}{\\sqrt{- \\cos^{2}{\\left (x \\right )}}} \\right )}\\right ]$$"
      ],
      "text/plain": [
       "⎡             ⎛      C₁     ⎞                   ⎛      C₁     ⎞⎤\n",
       "⎢f(x) = - acos⎜─────────────⎟ + 2⋅π, f(x) = acos⎜─────────────⎟⎥\n",
       "⎢             ⎜   __________⎟                   ⎜   __________⎟⎥\n",
       "⎢             ⎜  ╱     2    ⎟                   ⎜  ╱     2    ⎟⎥\n",
       "⎣             ⎝╲╱  -cos (x) ⎠                   ⎝╲╱  -cos (x) ⎠⎦"
      ]
     },
     "execution_count": 26,
     "metadata": {},
     "output_type": "execute_result"
    }
   ],
   "source": [
    "#or\n",
    "dsolve(eq, hint='almost_linear')"
   ]
  },
  {
   "cell_type": "code",
   "execution_count": 27,
   "metadata": {
    "collapsed": true
   },
   "outputs": [],
   "source": [
    "t = symbols('t')\n",
    "x,y = symbols('x, y', function=True)"
   ]
  },
  {
   "cell_type": "code",
   "execution_count": 28,
   "metadata": {
    "collapsed": false
   },
   "outputs": [
    {
     "data": {
      "text/latex": [
       "$$\\left [ x{\\left (t \\right )} = C_{1} x_{0} + C_{2} x_{0} \\int \\frac{8}{x_{0}^{2}} \\left(e^{\\int 7 t\\, dt}\\right) e^{\\int 12 t\\, dt}\\, dt, \\quad y{\\left (t \\right )} = C_{1} y_{0} + \\operatorname{C_{2}}{\\left (y_{0} \\int \\frac{8}{x_{0}^{2}} \\left(e^{\\int 7 t\\, dt}\\right) e^{\\int 12 t\\, dt}\\, dt + \\frac{1}{x_{0}} \\left(e^{\\int 7 t\\, dt}\\right) e^{\\int 12 t\\, dt} \\right )}\\right ]$$"
      ],
      "text/plain": [
       "⎡                     ⌠                                             ⎛   ⌠     \n",
       "⎢                     ⎮    ⌠         ⌠                              ⎜   ⎮    ⌠\n",
       "⎢                     ⎮    ⎮ 7⋅t dt  ⎮ 12⋅t dt                      ⎜   ⎮    ⎮\n",
       "⎢                     ⎮    ⌡         ⌡                              ⎜   ⎮    ⌡\n",
       "⎢                     ⎮ 8⋅ℯ        ⋅ℯ                               ⎜   ⎮ 8⋅ℯ \n",
       "⎢x(t) = C₁⋅x₀ + C₂⋅x₀⋅⎮ ────────────────────── dt, y(t) = C₁⋅y₀ + C₂⎜y₀⋅⎮ ────\n",
       "⎢                     ⎮            2                                ⎜   ⎮     \n",
       "⎢                     ⎮          x₀                                 ⎜   ⎮     \n",
       "⎣                     ⌡                                             ⎝   ⌡     \n",
       "\n",
       "                                            ⎞⎤\n",
       "         ⌠               ⌠         ⌠        ⎟⎥\n",
       " 7⋅t dt  ⎮ 12⋅t dt       ⎮ 7⋅t dt  ⎮ 12⋅t dt⎟⎥\n",
       "         ⌡               ⌡         ⌡        ⎟⎥\n",
       "       ⋅ℯ               ℯ        ⋅ℯ         ⎟⎥\n",
       "────────────────── dt + ────────────────────⎟⎥\n",
       "       2                         x₀         ⎟⎥\n",
       "     x₀                                     ⎟⎥\n",
       "                                            ⎠⎦"
      ]
     },
     "execution_count": 28,
     "metadata": {},
     "output_type": "execute_result"
    }
   ],
   "source": [
    "eq = (Eq(Derivative(x(t),t), 12*t*x(t) + 8*y(t)), Eq(Derivative(y(t),t), 21*x(t) + 7*t*y(t)))\n",
    "dsolve(eq)"
   ]
  },
  {
   "cell_type": "code",
   "execution_count": 29,
   "metadata": {
    "collapsed": false
   },
   "outputs": [
    {
     "data": {
      "text/latex": [
       "$$\\left\\{x{\\left (t \\right )} = - \\frac{e^{C_{1}}}{C_{2} e^{C_{1}} - \\cos{\\left (t \\right )}}, y{\\left (t \\right )} = - \\frac{1}{C_{1} - \\cos{\\left (t \\right )}}\\right\\}$$"
      ],
      "text/plain": [
       "   ⎛⎡              C₁                          ⎤⎞\n",
       "   ⎜⎢            -ℯ                     -1     ⎥⎟\n",
       "set⎜⎢x(t) = ───────────────, y(t) = ───────────⎥⎟\n",
       "   ⎜⎢           C₁                  C₁ - cos(t)⎥⎟\n",
       "   ⎝⎣       C₂⋅ℯ   - cos(t)                    ⎦⎠"
      ]
     },
     "execution_count": 29,
     "metadata": {},
     "output_type": "execute_result"
    }
   ],
   "source": [
    "eq = (Eq(Derivative(x(t),t),x(t)*y(t)*sin(t)), Eq(Derivative(y(t),t),y(t)**2*sin(t)))\n",
    "dsolve(eq)"
   ]
  },
  {
   "cell_type": "code",
   "execution_count": null,
   "metadata": {
    "collapsed": true
   },
   "outputs": [],
   "source": []
  },
  {
   "cell_type": "code",
   "execution_count": 30,
   "metadata": {
    "collapsed": true
   },
   "outputs": [],
   "source": [
    "#pretty plots\n",
    "from sympy import sin, symbols, dsolve, pprint, Function\n",
    "from sympy.solvers.ode import odesimp\n",
    "x,u2,C1 = symbols('x,u2,C1')\n",
    "f = Function('f')\n",
    "eq = dsolve(x*f(x).diff(x) - f(x) - x*sin(f(x)/x), f(x), hint='1st_homogeneous_coeff_subs_indep_div_dep_Integral', simplify=False)\n",
    "eq2 = odesimp(eq, f(x), 1, set([C1]), hint='1st_homogeneous_coeff_subs_indep_div_dep')"
   ]
  },
  {
   "cell_type": "code",
   "execution_count": 31,
   "metadata": {
    "collapsed": false
   },
   "outputs": [
    {
     "data": {
      "text/latex": [
       "$$\\log{\\left (f{\\left (x \\right )} \\right )} = \\log{\\left (C_{1} \\right )} + \\int^{\\frac{x}{f{\\left (x \\right )}}} - \\frac{1}{u_{2}^{2}} \\left(u_{2} + \\frac{1}{\\sin{\\left (\\frac{1}{u_{2}} \\right )}}\\right)\\, du_{2}$$"
      ],
      "text/plain": [
       "                       x                         \n",
       "                      ────                       \n",
       "                      f(x)                       \n",
       "                       ⌠                         \n",
       "                       ⎮    ⎛        1   ⎞       \n",
       "                       ⎮   -⎜u₂ + ───────⎟       \n",
       "                       ⎮    ⎜        ⎛1 ⎞⎟       \n",
       "                       ⎮    ⎜     sin⎜──⎟⎟       \n",
       "                       ⎮    ⎝        ⎝u₂⎠⎠       \n",
       "log(f(x)) = log(C₁) +  ⎮   ──────────────── d(u₂)\n",
       "                       ⎮           2             \n",
       "                       ⎮         u₂              \n",
       "                       ⌡                         \n",
       "                                                 "
      ]
     },
     "execution_count": 31,
     "metadata": {},
     "output_type": "execute_result"
    }
   ],
   "source": [
    "eq"
   ]
  },
  {
   "cell_type": "code",
   "execution_count": 32,
   "metadata": {
    "collapsed": false
   },
   "outputs": [
    {
     "data": {
      "text/latex": [
       "$$f{\\left (x \\right )} = 2 x \\operatorname{atan}{\\left (C_{1} x \\right )}$$"
      ],
      "text/plain": [
       "f(x) = 2⋅x⋅atan(C₁⋅x)"
      ]
     },
     "execution_count": 32,
     "metadata": {},
     "output_type": "execute_result"
    }
   ],
   "source": [
    "eq2"
   ]
  },
  {
   "cell_type": "code",
   "execution_count": 33,
   "metadata": {
    "collapsed": false
   },
   "outputs": [
    {
     "data": {
      "text/latex": [
       "$$\\log{\\left (f{\\left (x \\right )} \\right )} = \\log{\\left (C_{1} \\right )} - \\frac{1}{3} \\log{\\left (\\frac{3 x^{2}}{f^{2}{\\left (x \\right )}} + 1 \\right )}$$"
      ],
      "text/plain": [
       "                         ⎛    2    ⎞\n",
       "                         ⎜ 3⋅x     ⎟\n",
       "                      log⎜───── + 1⎟\n",
       "                         ⎜ 2       ⎟\n",
       "                         ⎝f (x)    ⎠\n",
       "log(f(x)) = log(C₁) - ──────────────\n",
       "                            3       "
      ]
     },
     "execution_count": 33,
     "metadata": {},
     "output_type": "execute_result"
    }
   ],
   "source": [
    "f = Function('f')\n",
    "eq = dsolve(2*x*f(x) + (x**2 + f(x)**2)*f(x).diff(x), f(x), hint = '1st_homogeneous_coeff_best', simplify=False)\n",
    "eq"
   ]
  },
  {
   "cell_type": "code",
   "execution_count": null,
   "metadata": {
    "collapsed": true
   },
   "outputs": [],
   "source": []
  },
  {
   "cell_type": "code",
   "execution_count": 34,
   "metadata": {
    "collapsed": false
   },
   "outputs": [
    {
     "ename": "NameError",
     "evalue": "name 'plt' is not defined",
     "output_type": "error",
     "traceback": [
      "\u001b[1;31m---------------------------------------------------------------------------\u001b[0m",
      "\u001b[1;31mNameError\u001b[0m                                 Traceback (most recent call last)",
      "\u001b[1;32m<ipython-input-34-2ba37914a5d7>\u001b[0m in \u001b[0;36m<module>\u001b[1;34m()\u001b[0m\n\u001b[0;32m      1\u001b[0m \u001b[1;31m# Ordinary Differential Equations\u001b[0m\u001b[1;33m\u001b[0m\u001b[1;33m\u001b[0m\u001b[0m\n\u001b[1;32m----> 2\u001b[1;33m \u001b[0mplt\u001b[0m\u001b[1;33m.\u001b[0m\u001b[0mdps\u001b[0m \u001b[1;33m=\u001b[0m \u001b[1;36m15\u001b[0m\u001b[1;33m\u001b[0m\u001b[0m\n\u001b[0m\u001b[0;32m      3\u001b[0m \u001b[0mplt\u001b[0m\u001b[1;33m.\u001b[0m\u001b[0mpretty\u001b[0m \u001b[1;33m=\u001b[0m \u001b[1;32mTrue\u001b[0m\u001b[1;33m\u001b[0m\u001b[0m\n\u001b[0;32m      4\u001b[0m \u001b[1;31m# solves ODE y'(x) =y(x), y(0)=1\u001b[0m\u001b[1;33m\u001b[0m\u001b[1;33m\u001b[0m\u001b[0m\n\u001b[0;32m      5\u001b[0m \u001b[0mf\u001b[0m \u001b[1;33m=\u001b[0m \u001b[0msympy\u001b[0m\u001b[1;33m.\u001b[0m\u001b[0mmpmath\u001b[0m\u001b[1;33m.\u001b[0m\u001b[0modefun\u001b[0m\u001b[1;33m(\u001b[0m\u001b[1;32mlambda\u001b[0m \u001b[0mx\u001b[0m\u001b[1;33m,\u001b[0m\u001b[0my\u001b[0m\u001b[1;33m:\u001b[0m\u001b[0my\u001b[0m\u001b[1;33m,\u001b[0m\u001b[1;36m0\u001b[0m\u001b[1;33m,\u001b[0m\u001b[1;36m1\u001b[0m\u001b[1;33m)\u001b[0m\u001b[1;33m\u001b[0m\u001b[0m\n",
      "\u001b[1;31mNameError\u001b[0m: name 'plt' is not defined"
     ]
    }
   ],
   "source": [
    "# Ordinary Differential Equations\n",
    "plt.dps = 15\n",
    "plt.pretty = True\n",
    "# solves ODE y'(x) =y(x), y(0)=1\n",
    "f = sympy.mpmath.odefun(lambda x,y:y,0,1)\n",
    "for x in [0,1,2.5]:\n",
    "    print(f(x), exp(x))"
   ]
  },
  {
   "cell_type": "code",
   "execution_count": null,
   "metadata": {
    "collapsed": false
   },
   "outputs": [],
   "source": []
  },
  {
   "cell_type": "code",
   "execution_count": null,
   "metadata": {
    "collapsed": true
   },
   "outputs": [],
   "source": []
  },
  {
   "cell_type": "code",
   "execution_count": 35,
   "metadata": {
    "collapsed": false
   },
   "outputs": [
    {
     "ename": "NameError",
     "evalue": "name 'fexact' is not defined",
     "output_type": "error",
     "traceback": [
      "\u001b[1;31m---------------------------------------------------------------------------\u001b[0m",
      "\u001b[1;31mNameError\u001b[0m                                 Traceback (most recent call last)",
      "\u001b[1;32m<ipython-input-35-d4afadfc3a8e>\u001b[0m in \u001b[0;36m<module>\u001b[1;34m()\u001b[0m\n\u001b[0;32m      1\u001b[0m \u001b[0mz\u001b[0m \u001b[1;33m=\u001b[0m \u001b[0mnp\u001b[0m\u001b[1;33m.\u001b[0m\u001b[0mlinspace\u001b[0m\u001b[1;33m(\u001b[0m\u001b[1;36m1\u001b[0m\u001b[1;33m,\u001b[0m\u001b[1;36m5\u001b[0m\u001b[1;33m,\u001b[0m\u001b[1;36m200\u001b[0m\u001b[1;33m)\u001b[0m\u001b[1;33m\u001b[0m\u001b[0m\n\u001b[0;32m      2\u001b[0m \u001b[0mfplot\u001b[0m \u001b[1;33m=\u001b[0m \u001b[0mnp\u001b[0m\u001b[1;33m.\u001b[0m\u001b[0marray\u001b[0m\u001b[1;33m(\u001b[0m\u001b[1;33m[\u001b[0m\u001b[0mf\u001b[0m\u001b[1;33m(\u001b[0m\u001b[0mx\u001b[0m\u001b[1;33m)\u001b[0m \u001b[1;32mfor\u001b[0m \u001b[0mx\u001b[0m \u001b[1;32min\u001b[0m \u001b[0mz\u001b[0m\u001b[1;33m]\u001b[0m\u001b[1;33m)\u001b[0m\u001b[1;33m\u001b[0m\u001b[0m\n\u001b[1;32m----> 3\u001b[1;33m \u001b[0mfexactplot\u001b[0m \u001b[1;33m=\u001b[0m \u001b[0mnp\u001b[0m\u001b[1;33m.\u001b[0m\u001b[0marray\u001b[0m\u001b[1;33m(\u001b[0m\u001b[1;33m[\u001b[0m\u001b[0mfexact\u001b[0m\u001b[1;33m(\u001b[0m\u001b[0mx\u001b[0m\u001b[1;33m)\u001b[0m \u001b[1;32mfor\u001b[0m \u001b[0mx\u001b[0m \u001b[1;32min\u001b[0m \u001b[0mz\u001b[0m\u001b[1;33m]\u001b[0m\u001b[1;33m)\u001b[0m\u001b[1;33m\u001b[0m\u001b[0m\n\u001b[0m\u001b[0;32m      4\u001b[0m \u001b[0mplt\u001b[0m\u001b[1;33m.\u001b[0m\u001b[0mplot\u001b[0m\u001b[1;33m(\u001b[0m\u001b[0mz\u001b[0m\u001b[1;33m,\u001b[0m\u001b[0mfplot\u001b[0m\u001b[1;33m,\u001b[0m \u001b[0mz\u001b[0m\u001b[1;33m,\u001b[0m \u001b[0mfexactplot\u001b[0m\u001b[1;33m)\u001b[0m\u001b[1;33m\u001b[0m\u001b[0m\n\u001b[0;32m      5\u001b[0m \u001b[0mplt\u001b[0m\u001b[1;33m.\u001b[0m\u001b[0mplot\u001b[0m\u001b[1;33m(\u001b[0m\u001b[0mz\u001b[0m\u001b[1;33m,\u001b[0m\u001b[0mfexactplot\u001b[0m\u001b[1;33m-\u001b[0m\u001b[0mfplot\u001b[0m\u001b[1;33m)\u001b[0m\u001b[1;33m\u001b[0m\u001b[0m\n",
      "\u001b[1;32m<ipython-input-35-d4afadfc3a8e>\u001b[0m in \u001b[0;36m<listcomp>\u001b[1;34m(.0)\u001b[0m\n\u001b[0;32m      1\u001b[0m \u001b[0mz\u001b[0m \u001b[1;33m=\u001b[0m \u001b[0mnp\u001b[0m\u001b[1;33m.\u001b[0m\u001b[0mlinspace\u001b[0m\u001b[1;33m(\u001b[0m\u001b[1;36m1\u001b[0m\u001b[1;33m,\u001b[0m\u001b[1;36m5\u001b[0m\u001b[1;33m,\u001b[0m\u001b[1;36m200\u001b[0m\u001b[1;33m)\u001b[0m\u001b[1;33m\u001b[0m\u001b[0m\n\u001b[0;32m      2\u001b[0m \u001b[0mfplot\u001b[0m \u001b[1;33m=\u001b[0m \u001b[0mnp\u001b[0m\u001b[1;33m.\u001b[0m\u001b[0marray\u001b[0m\u001b[1;33m(\u001b[0m\u001b[1;33m[\u001b[0m\u001b[0mf\u001b[0m\u001b[1;33m(\u001b[0m\u001b[0mx\u001b[0m\u001b[1;33m)\u001b[0m \u001b[1;32mfor\u001b[0m \u001b[0mx\u001b[0m \u001b[1;32min\u001b[0m \u001b[0mz\u001b[0m\u001b[1;33m]\u001b[0m\u001b[1;33m)\u001b[0m\u001b[1;33m\u001b[0m\u001b[0m\n\u001b[1;32m----> 3\u001b[1;33m \u001b[0mfexactplot\u001b[0m \u001b[1;33m=\u001b[0m \u001b[0mnp\u001b[0m\u001b[1;33m.\u001b[0m\u001b[0marray\u001b[0m\u001b[1;33m(\u001b[0m\u001b[1;33m[\u001b[0m\u001b[0mfexact\u001b[0m\u001b[1;33m(\u001b[0m\u001b[0mx\u001b[0m\u001b[1;33m)\u001b[0m \u001b[1;32mfor\u001b[0m \u001b[0mx\u001b[0m \u001b[1;32min\u001b[0m \u001b[0mz\u001b[0m\u001b[1;33m]\u001b[0m\u001b[1;33m)\u001b[0m\u001b[1;33m\u001b[0m\u001b[0m\n\u001b[0m\u001b[0;32m      4\u001b[0m \u001b[0mplt\u001b[0m\u001b[1;33m.\u001b[0m\u001b[0mplot\u001b[0m\u001b[1;33m(\u001b[0m\u001b[0mz\u001b[0m\u001b[1;33m,\u001b[0m\u001b[0mfplot\u001b[0m\u001b[1;33m,\u001b[0m \u001b[0mz\u001b[0m\u001b[1;33m,\u001b[0m \u001b[0mfexactplot\u001b[0m\u001b[1;33m)\u001b[0m\u001b[1;33m\u001b[0m\u001b[0m\n\u001b[0;32m      5\u001b[0m \u001b[0mplt\u001b[0m\u001b[1;33m.\u001b[0m\u001b[0mplot\u001b[0m\u001b[1;33m(\u001b[0m\u001b[0mz\u001b[0m\u001b[1;33m,\u001b[0m\u001b[0mfexactplot\u001b[0m\u001b[1;33m-\u001b[0m\u001b[0mfplot\u001b[0m\u001b[1;33m)\u001b[0m\u001b[1;33m\u001b[0m\u001b[0m\n",
      "\u001b[1;31mNameError\u001b[0m: name 'fexact' is not defined"
     ]
    }
   ],
   "source": [
    "z = np.linspace(1,5,200)\n",
    "fplot = np.array([f(x) for x in z])\n",
    "fexactplot = np.array([fexact(x) for x in z])\n",
    "plt.plot(z,fplot, z, fexactplot)\n",
    "plt.plot(z,fexactplot-fplot)"
   ]
  },
  {
   "cell_type": "code",
   "execution_count": 36,
   "metadata": {
    "collapsed": false
   },
   "outputs": [
    {
     "ename": "NameError",
     "evalue": "name 'plt' is not defined",
     "output_type": "error",
     "traceback": [
      "\u001b[1;31m---------------------------------------------------------------------------\u001b[0m",
      "\u001b[1;31mNameError\u001b[0m                                 Traceback (most recent call last)",
      "\u001b[1;32m<ipython-input-36-1770ad030487>\u001b[0m in \u001b[0;36m<module>\u001b[1;34m()\u001b[0m\n\u001b[0;32m      2\u001b[0m \u001b[0mx\u001b[0m\u001b[1;33m,\u001b[0m\u001b[0my\u001b[0m\u001b[1;33m=\u001b[0m\u001b[0mnp\u001b[0m\u001b[1;33m.\u001b[0m\u001b[0mmgrid\u001b[0m\u001b[1;33m[\u001b[0m\u001b[1;33m-\u001b[0m\u001b[1;36m0.5\u001b[0m\u001b[1;33m:\u001b[0m\u001b[1;36m2.5\u001b[0m\u001b[1;33m:\u001b[0m\u001b[1;36m24j\u001b[0m\u001b[1;33m,\u001b[0m\u001b[1;33m-\u001b[0m\u001b[1;36m0.5\u001b[0m\u001b[1;33m:\u001b[0m\u001b[1;36m2.5\u001b[0m\u001b[1;33m:\u001b[0m\u001b[1;36m24j\u001b[0m\u001b[1;33m]\u001b[0m\u001b[1;33m\u001b[0m\u001b[0m\n\u001b[0;32m      3\u001b[0m \u001b[0mU\u001b[0m\u001b[1;33m,\u001b[0m\u001b[0mV\u001b[0m\u001b[1;33m=\u001b[0m\u001b[0mf\u001b[0m\u001b[1;33m(\u001b[0m\u001b[1;33m[\u001b[0m\u001b[0mx\u001b[0m\u001b[1;33m,\u001b[0m\u001b[0my\u001b[0m\u001b[1;33m]\u001b[0m\u001b[1;33m)\u001b[0m\u001b[1;33m\u001b[0m\u001b[0m\n\u001b[1;32m----> 4\u001b[1;33m \u001b[0mplt\u001b[0m\u001b[1;33m.\u001b[0m\u001b[0mquiver\u001b[0m\u001b[1;33m(\u001b[0m\u001b[0mx\u001b[0m\u001b[1;33m,\u001b[0m\u001b[0my\u001b[0m\u001b[1;33m,\u001b[0m\u001b[0mU\u001b[0m\u001b[1;33m,\u001b[0m\u001b[0mV\u001b[0m\u001b[1;33m,\u001b[0m\u001b[0mcolor\u001b[0m\u001b[1;33m=\u001b[0m\u001b[1;34m'r'\u001b[0m\u001b[1;33m,\u001b[0m          \u001b[0mlinewidths\u001b[0m\u001b[1;33m=\u001b[0m\u001b[1;33m(\u001b[0m\u001b[1;36m0.2\u001b[0m\u001b[1;33m,\u001b[0m\u001b[1;33m)\u001b[0m\u001b[1;33m,\u001b[0m \u001b[0medgecolors\u001b[0m\u001b[1;33m=\u001b[0m\u001b[1;33m(\u001b[0m\u001b[1;34m'k'\u001b[0m\u001b[1;33m)\u001b[0m\u001b[1;33m,\u001b[0m          \u001b[0mheadaxislength\u001b[0m\u001b[1;33m=\u001b[0m\u001b[1;36m5\u001b[0m\u001b[1;33m)\u001b[0m\u001b[1;33m\u001b[0m\u001b[0m\n\u001b[0m\u001b[0;32m      5\u001b[0m \u001b[0mplt\u001b[0m\u001b[1;33m.\u001b[0m\u001b[0mshow\u001b[0m\u001b[1;33m(\u001b[0m\u001b[1;33m)\u001b[0m\u001b[1;33m\u001b[0m\u001b[0m\n",
      "\u001b[1;31mNameError\u001b[0m: name 'plt' is not defined"
     ]
    }
   ],
   "source": [
    "f=lambda x: [x[0]**2 - 2*x[0] - x[1] + 0.5, x[0]**2 + 4*x[1]**2 - 4]\n",
    "x,y=np.mgrid[-0.5:2.5:24j,-0.5:2.5:24j]\n",
    "U,V=f([x,y])\n",
    "plt.quiver(x,y,U,V,color='r', \\\n",
    "         linewidths=(0.2,), edgecolors=('k'), \\\n",
    "         headaxislength=5)\n",
    "plt.show()"
   ]
  },
  {
   "cell_type": "code",
   "execution_count": null,
   "metadata": {
    "collapsed": true
   },
   "outputs": [],
   "source": []
  },
  {
   "cell_type": "code",
   "execution_count": 37,
   "metadata": {
    "collapsed": false
   },
   "outputs": [
    {
     "ename": "NameError",
     "evalue": "name 'plt' is not defined",
     "output_type": "error",
     "traceback": [
      "\u001b[1;31m---------------------------------------------------------------------------\u001b[0m",
      "\u001b[1;31mNameError\u001b[0m                                 Traceback (most recent call last)",
      "\u001b[1;32m<ipython-input-37-8201d128c9fd>\u001b[0m in \u001b[0;36m<module>\u001b[1;34m()\u001b[0m\n\u001b[0;32m      6\u001b[0m \u001b[0mdw\u001b[0m \u001b[1;33m=\u001b[0m \u001b[0mnp\u001b[0m\u001b[1;33m.\u001b[0m\u001b[0marray\u001b[0m\u001b[1;33m(\u001b[0m\u001b[1;33m[\u001b[0m\u001b[0mdf\u001b[0m\u001b[1;33m.\u001b[0m\u001b[0msubs\u001b[0m\u001b[1;33m(\u001b[0m\u001b[0mx\u001b[0m\u001b[1;33m,\u001b[0m\u001b[0mk\u001b[0m\u001b[1;33m)\u001b[0m \u001b[1;32mfor\u001b[0m \u001b[0mk\u001b[0m \u001b[1;32min\u001b[0m \u001b[0mz\u001b[0m\u001b[1;33m]\u001b[0m\u001b[1;33m)\u001b[0m\u001b[1;33m\u001b[0m\u001b[0m\n\u001b[0;32m      7\u001b[0m \u001b[1;33m\u001b[0m\u001b[0m\n\u001b[1;32m----> 8\u001b[1;33m \u001b[0mplt\u001b[0m\u001b[1;33m.\u001b[0m\u001b[0mplot\u001b[0m\u001b[1;33m(\u001b[0m\u001b[0mz\u001b[0m\u001b[1;33m,\u001b[0m\u001b[0mw\u001b[0m\u001b[1;33m,\u001b[0m\u001b[0mz\u001b[0m\u001b[1;33m,\u001b[0m\u001b[0mdw\u001b[0m\u001b[1;33m)\u001b[0m\u001b[1;33m;\u001b[0m\u001b[1;33m\u001b[0m\u001b[0m\n\u001b[0m",
      "\u001b[1;31mNameError\u001b[0m: name 'plt' is not defined"
     ]
    }
   ],
   "source": [
    "# one way to plot using symbolic math\n",
    "x = sp.var('x')\n",
    "f =  sp.sin(6*x)*sp.exp(-x)\n",
    "df = f.diff()\n",
    "w = np.array([f.subs(x,k) for k in z])\n",
    "dw = np.array([df.subs(x,k) for k in z])\n",
    "\n",
    "plt.plot(z,w,z,dw);"
   ]
  },
  {
   "cell_type": "code",
   "execution_count": null,
   "metadata": {
    "collapsed": false
   },
   "outputs": [],
   "source": [
    "#%% Sympy Plotting\n",
    "\n",
    "# shows two plots together\n",
    "from sympy import symbols\n",
    "from sympy.plotting import plot\n",
    "x = symbols('x')\n",
    "p1 = plot(x*x)\n",
    "p2 = plot(x)\n",
    "p1.extend(p2)\n",
    "p1.show()"
   ]
  },
  {
   "cell_type": "code",
   "execution_count": null,
   "metadata": {
    "collapsed": false
   },
   "outputs": [],
   "source": [
    "#single plot with range\n",
    "plot(x**2, (x,-5,5));"
   ]
  },
  {
   "cell_type": "code",
   "execution_count": null,
   "metadata": {
    "collapsed": false
   },
   "outputs": [],
   "source": [
    "#multiple plots with range\n",
    "plot(x,x**2,x**3, (x,-5,5))"
   ]
  },
  {
   "cell_type": "code",
   "execution_count": 38,
   "metadata": {
    "collapsed": false
   },
   "outputs": [
    {
     "ename": "NameError",
     "evalue": "name 'plot' is not defined",
     "output_type": "error",
     "traceback": [
      "\u001b[1;31m---------------------------------------------------------------------------\u001b[0m",
      "\u001b[1;31mNameError\u001b[0m                                 Traceback (most recent call last)",
      "\u001b[1;32m<ipython-input-38-701ebfed20dc>\u001b[0m in \u001b[0;36m<module>\u001b[1;34m()\u001b[0m\n\u001b[0;32m      1\u001b[0m \u001b[1;31m#multiple plots with different ranges\u001b[0m\u001b[1;33m\u001b[0m\u001b[1;33m\u001b[0m\u001b[0m\n\u001b[1;32m----> 2\u001b[1;33m plot( (x, (x,-5,5)), (x**2, (x,-2,2)), (x**3, (x,-3,3)), \n\u001b[0m\u001b[0;32m      3\u001b[0m      \u001b[0mtitle\u001b[0m\u001b[1;33m=\u001b[0m\u001b[1;34m'testing multiple plots'\u001b[0m\u001b[1;33m,\u001b[0m\u001b[1;33m\u001b[0m\u001b[0m\n\u001b[0;32m      4\u001b[0m      \u001b[0mxlabel\u001b[0m\u001b[1;33m=\u001b[0m\u001b[1;34m'x-label'\u001b[0m\u001b[1;33m,\u001b[0m\u001b[1;33m\u001b[0m\u001b[0m\n\u001b[0;32m      5\u001b[0m      ylabel='ylabel')\n",
      "\u001b[1;31mNameError\u001b[0m: name 'plot' is not defined"
     ]
    }
   ],
   "source": [
    "#multiple plots with different ranges\n",
    "plot( (x, (x,-5,5)), (x**2, (x,-2,2)), (x**3, (x,-3,3)), \n",
    "     title='testing multiple plots',\n",
    "     xlabel='x-label',\n",
    "     ylabel='ylabel')"
   ]
  },
  {
   "cell_type": "code",
   "execution_count": 39,
   "metadata": {
    "collapsed": false
   },
   "outputs": [
    {
     "data": {
      "image/png": "[encoded data removed]",
      "text/plain": [
       "<matplotlib.figure.Figure at 0xa1ca160>"
      ]
     },
     "metadata": {},
     "output_type": "display_data"
    },
    {
     "data": {
      "text/plain": [
       "<sympy.plotting.plot.Plot at 0xa1ca358>"
      ]
     },
     "execution_count": 39,
     "metadata": {},
     "output_type": "execute_result"
    }
   ],
   "source": [
    "# parametric plots\n",
    "from sympy import symbols, cos,sin\n",
    "from sympy.plotting import plot_parametric\n",
    "u = symbols('x')\n",
    "plot_parametric(cos(u), sin(u), (u,-5,5))"
   ]
  },
  {
   "cell_type": "code",
   "execution_count": 40,
   "metadata": {
    "collapsed": false
   },
   "outputs": [
    {
     "data": {
      "image/png": "[encoded data removed]",
      "text/plain": [
       "<matplotlib.figure.Figure at 0xa1bbcc0>"
      ]
     },
     "metadata": {},
     "output_type": "display_data"
    },
    {
     "data": {
      "text/plain": [
       "<sympy.plotting.plot.Plot at 0xa1bb5c0>"
      ]
     },
     "execution_count": 40,
     "metadata": {},
     "output_type": "execute_result"
    }
   ],
   "source": [
    "#multiple parametric plots with a single range\n",
    "plot_parametric((cos(u), sin(u)), (u,cos(u)))"
   ]
  },
  {
   "cell_type": "code",
   "execution_count": 41,
   "metadata": {
    "collapsed": false
   },
   "outputs": [
    {
     "data": {
      "image/png": "[encoded data removed]",
      "text/plain": [
       "<matplotlib.figure.Figure at 0xa33e9b0>"
      ]
     },
     "metadata": {},
     "output_type": "display_data"
    },
    {
     "data": {
      "text/plain": [
       "<sympy.plotting.plot.Plot at 0xa333668>"
      ]
     },
     "execution_count": 41,
     "metadata": {},
     "output_type": "execute_result"
    }
   ],
   "source": [
    "# multiple parametric plots with multiple ranges\n",
    "plot_parametric((cos(u), sin(u), (u,-5,5)), (cos(u), u, (u,-10,10)))"
   ]
  },
  {
   "cell_type": "code",
   "execution_count": 42,
   "metadata": {
    "collapsed": false
   },
   "outputs": [
    {
     "data": {
      "image/png": "[encoded data removed]",
      "text/plain": [
       "<matplotlib.figure.Figure at 0xa38e9b0>"
      ]
     },
     "metadata": {},
     "output_type": "display_data"
    },
    {
     "data": {
      "text/plain": [
       "<sympy.plotting.plot.Plot at 0xa383ba8>"
      ]
     },
     "execution_count": 42,
     "metadata": {},
     "output_type": "execute_result"
    }
   ],
   "source": [
    "# 3d plots\n",
    "from sympy import symbols\n",
    "from sympy.plotting import plot3d\n",
    "x,y = symbols('x,y')\n",
    "plot3d(x*y, (x,-5,5), (y,-5,5))"
   ]
  },
  {
   "cell_type": "code",
   "execution_count": 43,
   "metadata": {
    "collapsed": false
   },
   "outputs": [
    {
     "data": {
      "image/png": "[encoded data removed]",
      "text/plain": [
       "<matplotlib.figure.Figure at 0xa3e5588>"
      ]
     },
     "metadata": {},
     "output_type": "display_data"
    },
    {
     "data": {
      "text/plain": [
       "<sympy.plotting.plot.Plot at 0xa3a5470>"
      ]
     },
     "execution_count": 43,
     "metadata": {},
     "output_type": "execute_result"
    }
   ],
   "source": [
    "# multiple plots with multiple ranges\n",
    "plot3d((x**2+y**2, (x,-5,5), (y,-5,5)) , (x*y, (x,-3,3), (y,-3,3)))"
   ]
  },
  {
   "cell_type": "code",
   "execution_count": 44,
   "metadata": {
    "collapsed": false
   },
   "outputs": [
    {
     "data": {
      "image/png": "[encoded data removed]",
      "text/plain": [
       "<matplotlib.figure.Figure at 0xa3a5c88>"
      ]
     },
     "metadata": {},
     "output_type": "display_data"
    },
    {
     "data": {
      "text/plain": [
       "<sympy.plotting.plot.Plot at 0xa685828>"
      ]
     },
     "execution_count": 44,
     "metadata": {},
     "output_type": "execute_result"
    }
   ],
   "source": [
    "# 3d parametric plots\n",
    "from sympy import symbols, sin,cos\n",
    "from sympy.plotting import plot3d_parametric_line\n",
    "u = symbols('u')\n",
    "plot3d_parametric_line(cos(u), sin(u), u, (u,-5,5))"
   ]
  },
  {
   "cell_type": "code",
   "execution_count": 45,
   "metadata": {
    "collapsed": false
   },
   "outputs": [
    {
     "ename": "NameError",
     "evalue": "name 'plot_implicit' is not defined",
     "output_type": "error",
     "traceback": [
      "\u001b[1;31m---------------------------------------------------------------------------\u001b[0m",
      "\u001b[1;31mNameError\u001b[0m                                 Traceback (most recent call last)",
      "\u001b[1;32m<ipython-input-45-f2ca4285adc8>\u001b[0m in \u001b[0;36m<module>\u001b[1;34m()\u001b[0m\n\u001b[0;32m      1\u001b[0m \u001b[1;31m#plotting regions\u001b[0m\u001b[1;33m\u001b[0m\u001b[1;33m\u001b[0m\u001b[0m\n\u001b[1;32m----> 2\u001b[1;33m \u001b[0mp6\u001b[0m \u001b[1;33m=\u001b[0m \u001b[0mplot_implicit\u001b[0m\u001b[1;33m(\u001b[0m\u001b[0my\u001b[0m\u001b[1;33m>\u001b[0m\u001b[0mx\u001b[0m\u001b[1;33m**\u001b[0m\u001b[1;36m2\u001b[0m\u001b[1;33m)\u001b[0m\u001b[1;33m\u001b[0m\u001b[0m\n\u001b[0m",
      "\u001b[1;31mNameError\u001b[0m: name 'plot_implicit' is not defined"
     ]
    }
   ],
   "source": [
    "#plotting regions\n",
    "p6 = plot_implicit(y>x**2)"
   ]
  },
  {
   "cell_type": "code",
   "execution_count": null,
   "metadata": {
    "collapsed": false
   },
   "outputs": [],
   "source": [
    "#plotting using boolean\n",
    "p7 = plot_implicit(And(y>x, y >=-x))"
   ]
  },
  {
   "cell_type": "code",
   "execution_count": null,
   "metadata": {
    "collapsed": false
   },
   "outputs": [],
   "source": [
    "from numpy import pi, sin\n",
    "I = np.arange(0, 2*pi+0.1, 0.1)\n",
    "plt.plot(I,sin(I), label='sin(I)')\n",
    "plt.title('y=sin(x)')\n",
    "plt.xlabel('x [rad]')\n",
    "plt.ylabel(' Function y = sin(x)')\n",
    "plt.text(pi/2,1, 'Max value', ha = 'center', va='bottom')\n",
    "plt.text(3*pi/2,-1, 'Min value', ha = 'center', va='top')\n",
    "plt.xticks(np.arange(0, 2*pi, pi/2), \n",
    "       ('0', r'$\\frac{\\pi}{2}$', r'$\\pi$',r'$\\frac{3\\pi}{2}$'))\n",
    "plt.xlim([0, 2*pi])\n",
    "plt.ylim([-1.2, 1.2])\n",
    "plt.grid() "
   ]
  },
  {
   "cell_type": "markdown",
   "metadata": {},
   "source": [
    "# Drawing and Diagrams\n",
    "[index](#Mechpy)\n",
    "\n",
    "to install pysketcher run these commands for a windows machine\n",
    "\n",
    "check out tutorials\n",
    "http://hplgit.github.io/pysketcher/doc/pub/tutorial/._pysketcher002.html  \n",
    "\n",
    "\n",
    "```bash  \n",
    "pip install future\n",
    "choco install imagemagick -y # make sure to run as admin\n",
    "git clone https://github.com/hplgit/pysketcher\n",
    "cd pysketcher/\n",
    "python setup.py install\n",
    "```"
   ]
  },
  {
   "cell_type": "code",
   "execution_count": null,
   "metadata": {
    "collapsed": true
   },
   "outputs": [],
   "source": [
    "get_ipython().magic('matplotlib')  # seperate window\n",
    "\n",
    "from pysketcher import *\n",
    "\n",
    "L = 8.0\n",
    "H = 1.0\n",
    "xpos = 2.0\n",
    "ypos = 3.0\n",
    "\n",
    "drawing_tool.set_coordinate_system(xmin=0, xmax=xpos+1.2*L,\n",
    "                                   ymin=0, ymax=ypos+5*H,\n",
    "                                   axis=True)\n",
    "drawing_tool.set_linecolor('blue')\n",
    "drawing_tool.set_grid(True)\n",
    "drawing_tool.set_fontsize(22)\n",
    "\n",
    "P0 = point(xpos,ypos)\n",
    "main = Rectangle(P0, L, H)\n",
    "h = L/16  # size of support, clamped wall etc\n",
    "support = SimplySupportedBeam(P0, h)\n",
    "clamped = Rectangle(P0 + point(L, 0) - point(0,2*h), h, 6*h).set_filled_curves(pattern='/')\n",
    "F_pt = point(P0[0]+L/2, P0[1]+H)\n",
    "force = Force(F_pt + point(0,2*H), F_pt, '$F$').set_linewidth(3)\n",
    "L_dim = Distance_wText((xpos,P0[1]-3*h), (xpos+L,P0[1]-3*h), '$L$')\n",
    "beam = Composition({'main': main, 'simply supported end': support,\n",
    "                    'clamped end': clamped, 'force': force,\n",
    "                    'L': L_dim})\n",
    "beam.draw()\n",
    "beam.draw_dimensions()\n",
    "drawing_tool.display()\n",
    "\n",
    "get_ipython().magic('matplotlib inline') # inline plotting"
   ]
  },
  {
   "cell_type": "code",
   "execution_count": null,
   "metadata": {
    "collapsed": true
   },
   "outputs": [],
   "source": [
    "get_ipython().magic('matplotlib')  # seperate window\n",
    "\n",
    "from pysketcher import *\n",
    "\n",
    "L = 8.0\n",
    "H = 1.0\n",
    "xpos = 2.0\n",
    "ypos = 3.0\n",
    "\n",
    "drawing_tool.set_coordinate_system(xmin=0, xmax=xpos+1.2*L,\n",
    "                                   ymin=0, ymax=ypos+5*H,\n",
    "                                   axis=True)\n",
    "drawing_tool.set_linecolor('blue')\n",
    "drawing_tool.set_grid(True)\n",
    "drawing_tool.set_fontsize(22)\n",
    "\n",
    "P0 = point(xpos,ypos)\n",
    "main = Rectangle(P0, L, H)\n",
    "h = L/16  # size of support, clamped wall etc\n",
    "support = SimplySupportedBeam(P0, h)\n",
    "clamped = Rectangle(P0 + point(L, 0) - point(0,2*h), h, 6*h).set_filled_curves(pattern='/')\n",
    "F_pt = point(P0[0]+L/2, P0[1]+H)\n",
    "force = Force(F_pt + point(0,2*H), F_pt, '$F$').set_linewidth(3)\n",
    "L_dim = Distance_wText((xpos,P0[1]-3*h), (xpos+L,P0[1]-3*h), '$L$')\n",
    "beam = Composition({'main': main, 'simply supported end': support,\n",
    "                    'clamped end': clamped, 'force': force,\n",
    "                    'L': L_dim})\n",
    "beam.draw()\n",
    "beam.draw_dimensions()\n",
    "drawing_tool.display()\n",
    "\n",
    "get_ipython().magic('matplotlib inline') # inline plotting"
   ]
  },
  {
   "cell_type": "markdown",
   "metadata": {},
   "source": [
    "## PLotting"
   ]
  },
  {
   "cell_type": "code",
   "execution_count": null,
   "metadata": {
    "collapsed": true
   },
   "outputs": [],
   "source": [
    "import matplotlib.pyplot as plt"
   ]
  },
  {
   "cell_type": "code",
   "execution_count": null,
   "metadata": {
    "collapsed": true
   },
   "outputs": [],
   "source": [
    "%matplotlib inline"
   ]
  },
  {
   "cell_type": "code",
   "execution_count": null,
   "metadata": {
    "collapsed": false
   },
   "outputs": [],
   "source": [
    "fig, ax = plt.subplots(figsize=(12, 3))\n",
    "\n",
    "ax.set_yticks([])\n",
    "ax.set_xticks([])\n",
    "ax.set_xlim(-0.5, 3.5)\n",
    "ax.set_ylim(-0.05, 0.25)\n",
    "ax.axhline(0)\n",
    "\n",
    "ax.text(0, 0.1, \"Text label\", fontsize=14, family=\"serif\")\n",
    "\n",
    "ax.plot(1, 0, 'o')\n",
    "ax.annotate(\"Annotation\",\n",
    "            fontsize=14, family=\"serif\",\n",
    "            xy=(1, 0), xycoords='data',\n",
    "            xytext=(+20, +50), textcoords='offset points', \n",
    "            arrowprops=dict(arrowstyle=\"->\", connectionstyle=\"arc3, rad=1.5\"))\n",
    "\n",
    "ax.text(2, 0.1, r\"Equation: $i\\hbar\\partial_t \\Psi = \\hat{H}\\Psi$\", fontsize=14, family=\"serif\")\n",
    "\n",
    "ax.annotate('arc3', xy=(0.5, -1), xycoords='data',\n",
    "            xytext=(-30, -30), textcoords='offset points',\n",
    "            arrowprops=dict(arrowstyle=\"->\",\n",
    "                            connectionstyle=\"arc3,rad=.2\")\n",
    "            )\n",
    "\n",
    "ax.annotate('arc', xy=(1., 1), xycoords='data',\n",
    "            xytext=(-40, 30), textcoords='offset points',\n",
    "            arrowprops=dict(arrowstyle=\"->\",\n",
    "                            connectionstyle=\"arc,angleA=0,armA=30,rad=10\"),\n",
    "            )\n",
    "\n",
    "ax.annotate('arc', xy=(1.5, -1), xycoords='data',\n",
    "            xytext=(-40, -30), textcoords='offset points',\n",
    "            arrowprops=dict(arrowstyle=\"->\",\n",
    "                            connectionstyle=\"arc,angleA=0,armA=20,angleB=-90,armB=15,rad=7\"),\n",
    "            )\n",
    "plt.show()"
   ]
  },
  {
   "cell_type": "code",
   "execution_count": null,
   "metadata": {
    "collapsed": false
   },
   "outputs": [],
   "source": [
    "fig, ax = plt.subplots(figsize=(12, 3))\n",
    "\n",
    "ax.set_yticks([])\n",
    "ax.set_xticks([])\n",
    "ax.set_xlim(-1, 3.5)\n",
    "ax.set_ylim(-0.1, 1)\n",
    "ax.axhline(0)\n",
    "\n",
    "ax.text(0, 0.1, \"Text label\", fontsize=14, family=\"serif\")\n",
    "\n",
    "ax.text(2, 0.1, r\"Equation: $i\\hbar\\partial_t \\Psi = \\hat{H}\\Psi$\", fontsize=14, family=\"serif\")\n",
    "\n",
    "plt.annotate(\"Important Value\", (.5,.5), xycoords='data',xytext=(1,.2), arrowprops=dict(arrowstyle='->'))\n",
    "\n",
    "\n",
    "ax.plot([1,0],marker=r'$\\circlearrowleft$',ms=50)\n",
    "ax.plot([0,.5],marker=r'$\\downarrow$',ms=100)\n",
    "\n",
    "ax.plot(1, 0, 'o')"
   ]
  },
  {
   "cell_type": "code",
   "execution_count": null,
   "metadata": {
    "collapsed": true
   },
   "outputs": [],
   "source": [
    "from pylab import *\n",
    "from scipy import fft\n",
    "N = 2**9\n",
    "F = 25\n",
    "t = arange(N)/float(N)\n",
    "x = cos(2*pi*t*F) + rand(len(t))*3\n",
    "subplot(2,1,1)\n",
    "plot(t,x)\n",
    "ylabel('x []')\n",
    "xlabel('t [seconds]')\n",
    "title('A cosine wave')\n",
    "grid()\n",
    "\n",
    "subplot(2,1,2)\n",
    "f = t*N\n",
    "xf = fft(x)\n",
    "plot(f,abs(xf))\n",
    "title('Fourier transform of a cosine wave')\n",
    "xlabel('xf []')\n",
    "ylabel('xf []')\n",
    "xlim([0,N])\n",
    "grid()\n",
    "show()\n",
    "\n",
    "# note the spike at 25 hz and 512-25"
   ]
  }
 ],
 "metadata": {
  "kernelspec": {
   "display_name": "Python 3",
   "language": "python",
   "name": "python3"
  },
  "language_info": {
   "codemirror_mode": {
    "name": "ipython",
    "version": 3
   },
   "file_extension": ".py",
   "mimetype": "text/x-python",
   "name": "python",
   "nbconvert_exporter": "python",
   "pygments_lexer": "ipython3",
   "version": "3.5.2"
  }
 },
 "nbformat": 4,
 "nbformat_minor": 0
}
