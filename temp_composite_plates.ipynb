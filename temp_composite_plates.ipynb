{
 "cells": [
  {
   "cell_type": "code",
   "execution_count": 1,
   "metadata": {
    "collapsed": false
   },
   "outputs": [
    {
     "name": "stdout",
     "output_type": "stream",
     "text": [
      "Using matplotlib backend: Qt4Agg\n"
     ]
    }
   ],
   "source": [
    "# setup \n",
    "import numpy as np\n",
    "from sympy import *\n",
    "from pprint import pprint\n",
    "init_printing(use_latex='mathjax')\n",
    "\n",
    "get_ipython().magic('matplotlib')  # seperate window\n",
    "get_ipython().magic('matplotlib inline') # inline plotting"
   ]
  },
  {
   "cell_type": "code",
   "execution_count": 23,
   "metadata": {
    "collapsed": false
   },
   "outputs": [],
   "source": [
    "# hyer page 584\n",
    "# Equations of equilibrium\n",
    "Nx = Function('N_x')(x,y)\n",
    "Ny = Function('N_y')(x,y)\n",
    "Nxy = Function('N_xy')(x,y)\n",
    "Mx = Function('M_x')(x,y)\n",
    "My = Function('M_y')(x,y)\n",
    "Mxy = Function('M_xy')(x,y)"
   ]
  },
  {
   "cell_type": "code",
   "execution_count": 24,
   "metadata": {
    "collapsed": false
   },
   "outputs": [
    {
     "data": {
      "text/latex": [
       "$$0 = \\frac{\\partial}{\\partial x} \\operatorname{N_{x}}{\\left (x,y \\right )} + \\frac{\\partial}{\\partial y} \\operatorname{N_{xy}}{\\left (x,y \\right )}$$"
      ],
      "text/plain": [
       "    ∂              ∂             \n",
       "0 = ──(Nₓ(x, y)) + ──(N_xy(x, y))\n",
       "    ∂x             ∂y            "
      ]
     },
     "execution_count": 24,
     "metadata": {},
     "output_type": "execute_result"
    }
   ],
   "source": [
    "Eq(0,diff(Nx, x)+diff(Nxy,y))"
   ]
  },
  {
   "cell_type": "code",
   "execution_count": 25,
   "metadata": {
    "collapsed": false
   },
   "outputs": [
    {
     "data": {
      "text/latex": [
       "$$0 = \\frac{\\partial}{\\partial x} \\operatorname{N_{xy}}{\\left (x,y \\right )} + \\frac{\\partial}{\\partial y} \\operatorname{N_{y}}{\\left (x,y \\right )}$$"
      ],
      "text/plain": [
       "    ∂                ∂            \n",
       "0 = ──(N_xy(x, y)) + ──(N_y(x, y))\n",
       "    ∂x               ∂y           "
      ]
     },
     "execution_count": 25,
     "metadata": {},
     "output_type": "execute_result"
    }
   ],
   "source": [
    "Eq(0,diff(Nxy, x)+diff(Ny,y))"
   ]
  },
  {
   "cell_type": "code",
   "execution_count": 26,
   "metadata": {
    "collapsed": false
   },
   "outputs": [
    {
     "data": {
      "text/latex": [
       "$$0 = q + \\frac{\\partial^{2}}{\\partial x^{2}}  \\operatorname{M_{x}}{\\left (x,y \\right )} + 2 \\frac{\\partial^{2}}{\\partial x\\partial y}  \\operatorname{M_{xy}}{\\left (x,y \\right )} + \\frac{\\partial^{2}}{\\partial y^{2}}  \\operatorname{M_{y}}{\\left (x,y \\right )}$$"
      ],
      "text/plain": [
       "          2                  2                  2           \n",
       "         ∂                  ∂                  ∂            \n",
       "0 = q + ───(Mₓ(x, y)) + 2⋅─────(M_xy(x, y)) + ───(M_y(x, y))\n",
       "          2               ∂y ∂x                 2           \n",
       "        ∂x                                    ∂y            "
      ]
     },
     "execution_count": 26,
     "metadata": {},
     "output_type": "execute_result"
    }
   ],
   "source": [
    "Eq(0,  diff(Mx,x,2) + 2*diff(Mxy,x,y) + diff(My,y,2)+ q  )"
   ]
  },
  {
   "cell_type": "code",
   "execution_count": null,
   "metadata": {
    "collapsed": true
   },
   "outputs": [],
   "source": []
  },
  {
   "cell_type": "code",
   "execution_count": 45,
   "metadata": {
    "collapsed": false
   },
   "outputs": [],
   "source": [
    "# declare symbols for equation generation\n",
    "th,x,y,z,q,C1,C2,C3,C4,C5,C6,C7 = symbols('th,x,y,z,q,C1,C2,C3,C4,C5,C6,C7')\n",
    "\n",
    "A11,A22,A66,A12,A16,A26,A66 = symbols('A11,A22,A66,A12,A16,A26,A66')\n",
    "B11,B22,B66,B12,B16,B26,B66 = symbols('B11,B22,B66,B12,B16,B26,B66')\n",
    "D11,D22,D66,D12,D16,D26,D66 = symbols('D11,D22,D66,D12,D16,D26,D66')\n",
    "Nx,Ny,Nxy,Mx,My,Mxy = symbols('Nx,Ny,Nxy,Mx,My,Mxy')\n",
    "\n",
    "#u0 = Function('u0')\n",
    "#v0 = Function('v0')\n",
    "#w0 = Function('w0')\n",
    "##if use this, then reference  the function as u0(x), example  diff(u0(x),x,2)\n",
    "\n",
    "u0 = Function('u0')(x,y)\n",
    "v0 = Function('v0')(x,y)\n",
    "w0 = Function('w0')(x,y)"
   ]
  },
  {
   "cell_type": "code",
   "execution_count": 46,
   "metadata": {
    "collapsed": false
   },
   "outputs": [],
   "source": [
    "# displacement governing conditions"
   ]
  },
  {
   "cell_type": "code",
   "execution_count": 47,
   "metadata": {
    "collapsed": false
   },
   "outputs": [
    {
     "data": {
      "text/latex": [
       "$$Nx = A_{11} \\frac{\\partial}{\\partial x} \\operatorname{u_{0}}{\\left (x,y \\right )} + A_{12} \\frac{\\partial}{\\partial y} \\operatorname{v_{0}}{\\left (x,y \\right )} + A_{16} \\left(\\frac{\\partial}{\\partial y} \\operatorname{u_{0}}{\\left (x,y \\right )} + \\frac{\\partial}{\\partial x} \\operatorname{v_{0}}{\\left (x,y \\right )}\\right) - B_{11} \\frac{\\partial^{2}}{\\partial x^{2}}  \\operatorname{w_{0}}{\\left (x,y \\right )} - B_{12} \\frac{\\partial^{2}}{\\partial y^{2}}  \\operatorname{w_{0}}{\\left (x,y \\right )} - 2 B_{16} \\frac{\\partial^{2}}{\\partial x\\partial y}  \\operatorname{w_{0}}{\\left (x,y \\right )}$$"
      ],
      "text/plain": [
       "                                                                              \n",
       "         ∂                  ∂                  ⎛∂              ∂           ⎞  \n",
       "Nx = A₁₁⋅──(u₀(x, y)) + A₁₂⋅──(v₀(x, y)) + A₁₆⋅⎜──(u₀(x, y)) + ──(v₀(x, y))⎟ -\n",
       "         ∂x                 ∂y                 ⎝∂y             ∂x          ⎠  \n",
       "                                                                              \n",
       "\n",
       "       2                   2                      2           \n",
       "      ∂                   ∂                      ∂            \n",
       " B₁₁⋅───(w₀(x, y)) - B₁₂⋅───(w₀(x, y)) - 2⋅B₁₆⋅─────(w₀(x, y))\n",
       "       2                   2                   ∂y ∂x          \n",
       "     ∂x                  ∂y                                   "
      ]
     },
     "execution_count": 47,
     "metadata": {},
     "output_type": "execute_result"
    }
   ],
   "source": [
    "Nxf = A11*diff(u0,x) + A12*diff(v0,y) + A16*(diff(u0,y) + diff(v0,x)) - B11*diff(w0,x,2) - B12*diff(w0,y,2) - 2*B16*diff(w0,x,y)\n",
    "Eq(Nx, Nxf)"
   ]
  },
  {
   "cell_type": "code",
   "execution_count": 48,
   "metadata": {
    "collapsed": false
   },
   "outputs": [
    {
     "data": {
      "text/latex": [
       "$$Ny = A_{12} \\frac{\\partial}{\\partial x} \\operatorname{u_{0}}{\\left (x,y \\right )} + A_{22} \\frac{\\partial}{\\partial y} \\operatorname{v_{0}}{\\left (x,y \\right )} + A_{26} \\left(\\frac{\\partial}{\\partial y} \\operatorname{u_{0}}{\\left (x,y \\right )} + \\frac{\\partial}{\\partial x} \\operatorname{v_{0}}{\\left (x,y \\right )}\\right) - B_{12} \\frac{\\partial^{2}}{\\partial x^{2}}  \\operatorname{w_{0}}{\\left (x,y \\right )} - B_{22} \\frac{\\partial^{2}}{\\partial y^{2}}  \\operatorname{w_{0}}{\\left (x,y \\right )} - 2 B_{26} \\frac{\\partial^{2}}{\\partial x\\partial y}  \\operatorname{w_{0}}{\\left (x,y \\right )}$$"
      ],
      "text/plain": [
       "                                                                              \n",
       "         ∂                  ∂                  ⎛∂              ∂           ⎞  \n",
       "Ny = A₁₂⋅──(u₀(x, y)) + A₂₂⋅──(v₀(x, y)) + A₂₆⋅⎜──(u₀(x, y)) + ──(v₀(x, y))⎟ -\n",
       "         ∂x                 ∂y                 ⎝∂y             ∂x          ⎠  \n",
       "                                                                              \n",
       "\n",
       "       2                   2                      2           \n",
       "      ∂                   ∂                      ∂            \n",
       " B₁₂⋅───(w₀(x, y)) - B₂₂⋅───(w₀(x, y)) - 2⋅B₂₆⋅─────(w₀(x, y))\n",
       "       2                   2                   ∂y ∂x          \n",
       "     ∂x                  ∂y                                   "
      ]
     },
     "execution_count": 48,
     "metadata": {},
     "output_type": "execute_result"
    }
   ],
   "source": [
    "Nyf = A12*diff(u0,x) + A22*diff(v0,y) + A26*(diff(u0,y) + diff(v0,x)) - B12*diff(w0,x,2) - B22*diff(w0,y,2) - 2*B26*diff(w0,x,y)\n",
    "Eq(Ny,Nyf)"
   ]
  },
  {
   "cell_type": "code",
   "execution_count": 49,
   "metadata": {
    "collapsed": false
   },
   "outputs": [
    {
     "data": {
      "text/latex": [
       "$$Nxy$$"
      ],
      "text/plain": [
       "Nxy"
      ]
     },
     "execution_count": 49,
     "metadata": {},
     "output_type": "execute_result"
    }
   ],
   "source": [
    "Nxy"
   ]
  },
  {
   "cell_type": "code",
   "execution_count": 33,
   "metadata": {
    "collapsed": false
   },
   "outputs": [
    {
     "data": {
      "text/latex": [
       "$$\\operatorname{M_{x}}{\\left (x,y \\right )}$$"
      ],
      "text/plain": [
       "Mₓ(x, y)"
      ]
     },
     "execution_count": 33,
     "metadata": {},
     "output_type": "execute_result"
    }
   ],
   "source": [
    "Mx"
   ]
  },
  {
   "cell_type": "code",
   "execution_count": 35,
   "metadata": {
    "collapsed": false
   },
   "outputs": [
    {
     "data": {
      "text/latex": [
       "$$\\operatorname{M_{y}}{\\left (x,y \\right )}$$"
      ],
      "text/plain": [
       "M_y(x, y)"
      ]
     },
     "execution_count": 35,
     "metadata": {},
     "output_type": "execute_result"
    }
   ],
   "source": [
    "My"
   ]
  },
  {
   "cell_type": "code",
   "execution_count": 36,
   "metadata": {
    "collapsed": false
   },
   "outputs": [
    {
     "data": {
      "text/latex": [
       "$$\\operatorname{M_{xy}}{\\left (x,y \\right )}$$"
      ],
      "text/plain": [
       "M_xy(x, y)"
      ]
     },
     "execution_count": 36,
     "metadata": {},
     "output_type": "execute_result"
    }
   ],
   "source": [
    "Mxy"
   ]
  },
  {
   "cell_type": "code",
   "execution_count": null,
   "metadata": {
    "collapsed": true
   },
   "outputs": [],
   "source": []
  },
  {
   "cell_type": "code",
   "execution_count": null,
   "metadata": {
    "collapsed": true
   },
   "outputs": [],
   "source": [
    "#dsolve(diff(Nxf,x)+x , u0)"
   ]
  },
  {
   "cell_type": "code",
   "execution_count": null,
   "metadata": {
    "collapsed": true
   },
   "outputs": [],
   "source": []
  },
  {
   "cell_type": "code",
   "execution_count": null,
   "metadata": {
    "collapsed": true
   },
   "outputs": [],
   "source": [
    "th,x,y,z,q0,C1,C2,C3,C4,C5,C6,C7,A11,B11,D11,A16,B16 = symbols('th x y z q0 C1 C2 C3 C4 C5 C6 C7 A11 B11 D11 A16 B16')\n",
    "\n",
    "wfun = Function('wfun')\n",
    "ufun = Function('ufun')\n",
    "\n",
    "## EQ 4.4.1a\n",
    "eq1 = A11*ufun(x).diff(x,2) - B11*wfun(x).diff(x,3)\n",
    "#eq1   = A11*diff(ufun,x,2) - B11*diff(wfun,x,3); # C5 C1\n",
    "\n",
    "## EQ 4.4.1b\n",
    "#eq2   = A16*diff(ufun,x,2) - B16*diff(wfun,x,3); # C5 C1\n",
    "eq2 = A16*ufun(x).diff(x,2) - B16*wfun(x).diff(x,3)\n",
    "\n",
    "## EQ 4.4.1c\n",
    "#eq3 = B11*diff(ufun,x,3) - D11*diff(wfun,x,4) + q0;\n",
    "eq3 = B11*ufun(x).diff(x,3) - D11*wfun(x).diff(x,4) + q0\n",
    "\n",
    "################## python conversion eded here ################################\n",
    "\n",
    "# solve eq1 eq2 and eq3 to get the w and u functions\n",
    "\n",
    "# displacement in w (z direction) from eq1,eq2,eq3\n",
    "wfun = A11*q0*x**4 / (4*(6*B11**2-6*A11*D11)) + C1 + C2*x + C3*x**2 + C4*x**3 #  C1 C2 C3 C4\n",
    "\n",
    "# displacement in u (x direction) from eq1,eq2,eq3\n",
    "ufun = B11*q0*x**3 / (6*(B11**2-A11*D11)) + C7 + x*C6 + 3*B11*x**2*C5/A11 # C5 C6 C7\n",
    "\n",
    "# Cij6.evalf(subs={th:plyangle[i]}) * (z_[i+1]**3-z_[i]**3)\n",
    "\n",
    "# cond1 -> w(0)=0 at x(0), roller\n",
    "C1sol = sp.solve(wfun.subs(x,0), C1)[0] # = 0\n",
    "# cond2 -> angle at dw/dx at x(0) is 0, cantilever\n",
    "C2sol = sp.solve(wfun.diff(x).subs(x,0),C2)[0]  # =  0\n",
    "# cond3 -> w(z) = 0 at x(a), roller\n",
    "C4sol1 =  sp.solve(wfun.subs({x:a,C1:C1sol,C2:C2sol}),C4)[0] # C3\n",
    "# cond4 u = 0 at x = 0\n",
    "C7sol = sp.solve(ufun.subs(x,0),C7)[0] #=0\n",
    "# u=0 at x = a\n",
    "C5sol1 = sp.solve(ufun.subs({x:a, C7:C7sol}),C5)[0] #C6\n",
    "# cond 5 EQ 4.4.14a Myy = 0 @ x(a) (Mxx , B11 D11) (Myy, B12 D12) roller no moment\n",
    "C6sol1 = sp.solve( ( ((B11*ufun.diff(x)+0.5*wfun.diff(x)**2 ) - D11*wfun.diff(x,2)).subs({x:a, C1:C1sol, C2:C2sol, C4:C4sol1, C5:C5sol1, C7:C7sol})), C6)[0] # C6 C3 \n",
    "# EQ 4.4.13a, Nxx = 0 @ x(0) roller has no Nxx\n",
    "C6sol2 = sp.solve( ((A11* ufun.diff(x) + 0.5*wfun.diff(x)**2)-B11*wfun.diff(x,2)).subs({x:a, C1:C1sol, C2:C2sol, C4:C4sol1, C5:C5sol1, C7:C7sol}),C6)[0] # C6 C3 \n",
    "C3sol = sp.solve(C6sol1 - C6sol2,C3)[0]\n",
    "C4sol = C4sol1.subs(C3,C3sol)\n",
    "C6sol = sp.simplify(C6sol2.subs(C3,C3sol))\n",
    "C5sol = sp.simplify(C5sol1.subs(C6,C6sol))\n",
    "# substitute integration constants with actual values( _ is actual number)\n",
    "C1_ = copy(C1sol)\n",
    "C2_ = copy(C2sol)\n",
    "C7_ = copy(C7sol)\n",
    "C3_ = C3sol.subs({q0:q0_, A11:Aij[0,0], B11:Bij[0,0], D11:Dij[0,0]})\n",
    "C4_ = C4sol.subs({q0:q0_, A11:Aij[0,0], B11:Bij[0,0], D11:Dij[0,0]})\n",
    "C5_ = C5sol.subs({q0:q0_, A11:Aij[0,0], B11:Bij[0,0], D11:Dij[0,0]})\n",
    "C6_ = C6sol.subs({q0:q0_, A11:Aij[0,0], B11:Bij[0,0], D11:Dij[0,0]})\n",
    "\n",
    "# function w(x) vertical displacement w along z with actual vaules\n",
    "wsol = wfun.subs({q0:q0_, C1:C1_, C2:C2_, C3:C3_, C4:C4_,  A11:Aij[0,0], B11:Bij[0,0], D11:Dij[0,0]}) \n",
    "# function u(x) horizontal displacement u along x with actual vaules\n",
    "usol = ufun.subs({q0:q0_, C5:C5_, C6:C6_, C7:C7_,  A11:Aij[0,0], B11:Bij[0,0], D11:Dij[0,0]}) "
   ]
  }
 ],
 "metadata": {
  "kernelspec": {
   "display_name": "Python 3",
   "language": "python",
   "name": "python3"
  },
  "language_info": {
   "codemirror_mode": {
    "name": "ipython",
    "version": 3
   },
   "file_extension": ".py",
   "mimetype": "text/x-python",
   "name": "python",
   "nbconvert_exporter": "python",
   "pygments_lexer": "ipython3",
   "version": "3.5.1"
  }
 },
 "nbformat": 4,
 "nbformat_minor": 0
}
