{
 "cells": [
  {
   "cell_type": "code",
   "execution_count": 108,
   "metadata": {
    "collapsed": false
   },
   "outputs": [
    {
     "name": "stdout",
     "output_type": "stream",
     "text": [
      "Using matplotlib backend: Qt4Agg\n"
     ]
    }
   ],
   "source": [
    "# setup \n",
    "import numpy as np\n",
    "import sympy as sp\n",
    "from sympy import *\n",
    "from pprint import pprint\n",
    "init_printing(use_latex='mathjax')\n",
    "\n",
    "get_ipython().magic('matplotlib')  # seperate window\n",
    "get_ipython().magic('matplotlib inline') # inline plotting\n",
    "\n",
    "th,x,y,q = symbols('th,x,y,q')"
   ]
  },
  {
   "cell_type": "code",
   "execution_count": 109,
   "metadata": {
    "collapsed": false
   },
   "outputs": [],
   "source": [
    "# hyer page 584\n",
    "# Equations of equilibrium\n",
    "Nx = Function('N_x')(x,y)\n",
    "Ny = Function('N_y')(x,y)\n",
    "Nxy = Function('N_xy')(x,y)\n",
    "Mx = Function('M_x')(x,y)\n",
    "My = Function('M_y')(x,y)\n",
    "Mxy = Function('M_xy')(x,y)"
   ]
  },
  {
   "cell_type": "code",
   "execution_count": 110,
   "metadata": {
    "collapsed": false
   },
   "outputs": [
    {
     "data": {
      "text/latex": [
       "$$0 = \\frac{\\partial}{\\partial x} \\operatorname{N_{x}}{\\left (x,y \\right )} + \\frac{\\partial}{\\partial y} \\operatorname{N_{xy}}{\\left (x,y \\right )}$$"
      ],
      "text/plain": [
       "    ∂              ∂             \n",
       "0 = ──(Nₓ(x, y)) + ──(N_xy(x, y))\n",
       "    ∂x             ∂y            "
      ]
     },
     "execution_count": 110,
     "metadata": {},
     "output_type": "execute_result"
    }
   ],
   "source": [
    "Eq(0,diff(Nx, x)+diff(Nxy,y))"
   ]
  },
  {
   "cell_type": "code",
   "execution_count": 111,
   "metadata": {
    "collapsed": false
   },
   "outputs": [
    {
     "data": {
      "text/latex": [
       "$$0 = \\frac{\\partial}{\\partial x} \\operatorname{N_{xy}}{\\left (x,y \\right )} + \\frac{\\partial}{\\partial y} \\operatorname{N_{y}}{\\left (x,y \\right )}$$"
      ],
      "text/plain": [
       "    ∂                ∂            \n",
       "0 = ──(N_xy(x, y)) + ──(N_y(x, y))\n",
       "    ∂x               ∂y           "
      ]
     },
     "execution_count": 111,
     "metadata": {},
     "output_type": "execute_result"
    }
   ],
   "source": [
    "Eq(0,diff(Nxy, x)+diff(Ny,y))"
   ]
  },
  {
   "cell_type": "code",
   "execution_count": 112,
   "metadata": {
    "collapsed": false
   },
   "outputs": [
    {
     "data": {
      "text/latex": [
       "$$0 = q + \\frac{\\partial^{2}}{\\partial x^{2}}  \\operatorname{M_{x}}{\\left (x,y \\right )} + 2 \\frac{\\partial^{2}}{\\partial x\\partial y}  \\operatorname{M_{xy}}{\\left (x,y \\right )} + \\frac{\\partial^{2}}{\\partial y^{2}}  \\operatorname{M_{y}}{\\left (x,y \\right )}$$"
      ],
      "text/plain": [
       "          2                  2                  2           \n",
       "         ∂                  ∂                  ∂            \n",
       "0 = q + ───(Mₓ(x, y)) + 2⋅─────(M_xy(x, y)) + ───(M_y(x, y))\n",
       "          2               ∂y ∂x                 2           \n",
       "        ∂x                                    ∂y            "
      ]
     },
     "execution_count": 112,
     "metadata": {},
     "output_type": "execute_result"
    }
   ],
   "source": [
    "Eq(0,  diff(Mx,x,2) + 2*diff(Mxy,x,y) + diff(My,y,2)+ q  )"
   ]
  },
  {
   "cell_type": "code",
   "execution_count": 113,
   "metadata": {
    "collapsed": false
   },
   "outputs": [],
   "source": [
    "# declare symbols for equation generation\n",
    "th,x,y,z,q,a,b,C1,C2,C3,C4,C5,C6 = symbols('th,x,y,z,q,a,b,C1,C2,C3,C4,C5,C6')\n",
    "\n",
    "A11,A22,A66,A12,A16,A26,A66 = symbols('A11,A22,A66,A12,A16,A26,A66')\n",
    "B11,B22,B66,B12,B16,B26,B66 = symbols('B11,B22,B66,B12,B16,B26,B66')\n",
    "D11,D22,D66,D12,D16,D26,D66 = symbols('D11,D22,D66,D12,D16,D26,D66')\n",
    "Nx,Ny,Nxy,Mx,My,Mxy = symbols('Nx,Ny,Nxy,Mx,My,Mxy')\n",
    "\n",
    "##if use this, then reference  the function as u0(x), example  diff(u0(x),x,2)\n",
    "\n",
    "u0 = Function('u0')(x,y)\n",
    "v0 = Function('v0')(x,y)\n",
    "w0 = Function('w0')(x,y)"
   ]
  },
  {
   "cell_type": "code",
   "execution_count": 114,
   "metadata": {
    "collapsed": false
   },
   "outputs": [],
   "source": [
    "# displacement governing conditions"
   ]
  },
  {
   "cell_type": "code",
   "execution_count": 115,
   "metadata": {
    "collapsed": false
   },
   "outputs": [
    {
     "data": {
      "text/latex": [
       "$$Nx = A_{11} \\frac{\\partial}{\\partial x} \\operatorname{u_{0}}{\\left (x,y \\right )} + A_{12} \\frac{\\partial}{\\partial y} \\operatorname{v_{0}}{\\left (x,y \\right )} + A_{16} \\left(\\frac{\\partial}{\\partial y} \\operatorname{u_{0}}{\\left (x,y \\right )} + \\frac{\\partial}{\\partial x} \\operatorname{v_{0}}{\\left (x,y \\right )}\\right) - B_{11} \\frac{\\partial^{2}}{\\partial x^{2}}  \\operatorname{w_{0}}{\\left (x,y \\right )} - B_{12} \\frac{\\partial^{2}}{\\partial y^{2}}  \\operatorname{w_{0}}{\\left (x,y \\right )} - 2 B_{16} \\frac{\\partial^{2}}{\\partial x\\partial y}  \\operatorname{w_{0}}{\\left (x,y \\right )}$$"
      ],
      "text/plain": [
       "                                                                              \n",
       "         ∂                  ∂                  ⎛∂              ∂           ⎞  \n",
       "Nx = A₁₁⋅──(u₀(x, y)) + A₁₂⋅──(v₀(x, y)) + A₁₆⋅⎜──(u₀(x, y)) + ──(v₀(x, y))⎟ -\n",
       "         ∂x                 ∂y                 ⎝∂y             ∂x          ⎠  \n",
       "                                                                              \n",
       "\n",
       "       2                   2                      2           \n",
       "      ∂                   ∂                      ∂            \n",
       " B₁₁⋅───(w₀(x, y)) - B₁₂⋅───(w₀(x, y)) - 2⋅B₁₆⋅─────(w₀(x, y))\n",
       "       2                   2                   ∂y ∂x          \n",
       "     ∂x                  ∂y                                   "
      ]
     },
     "execution_count": 115,
     "metadata": {},
     "output_type": "execute_result"
    }
   ],
   "source": [
    "Nxf = A11*diff(u0,x) + A12*diff(v0,y) + A16*(diff(u0,y) + diff(v0,x)) - B11*diff(w0,x,2) - B12*diff(w0,y,2) - 2*B16*diff(w0,x,y)\n",
    "Eq(Nx, Nxf)"
   ]
  },
  {
   "cell_type": "code",
   "execution_count": 116,
   "metadata": {
    "collapsed": false
   },
   "outputs": [
    {
     "data": {
      "text/latex": [
       "$$Ny = A_{12} \\frac{\\partial}{\\partial x} \\operatorname{u_{0}}{\\left (x,y \\right )} + A_{22} \\frac{\\partial}{\\partial y} \\operatorname{v_{0}}{\\left (x,y \\right )} + A_{26} \\left(\\frac{\\partial}{\\partial y} \\operatorname{u_{0}}{\\left (x,y \\right )} + \\frac{\\partial}{\\partial x} \\operatorname{v_{0}}{\\left (x,y \\right )}\\right) - B_{12} \\frac{\\partial^{2}}{\\partial x^{2}}  \\operatorname{w_{0}}{\\left (x,y \\right )} - B_{22} \\frac{\\partial^{2}}{\\partial y^{2}}  \\operatorname{w_{0}}{\\left (x,y \\right )} - 2 B_{26} \\frac{\\partial^{2}}{\\partial x\\partial y}  \\operatorname{w_{0}}{\\left (x,y \\right )}$$"
      ],
      "text/plain": [
       "                                                                              \n",
       "         ∂                  ∂                  ⎛∂              ∂           ⎞  \n",
       "Ny = A₁₂⋅──(u₀(x, y)) + A₂₂⋅──(v₀(x, y)) + A₂₆⋅⎜──(u₀(x, y)) + ──(v₀(x, y))⎟ -\n",
       "         ∂x                 ∂y                 ⎝∂y             ∂x          ⎠  \n",
       "                                                                              \n",
       "\n",
       "       2                   2                      2           \n",
       "      ∂                   ∂                      ∂            \n",
       " B₁₂⋅───(w₀(x, y)) - B₂₂⋅───(w₀(x, y)) - 2⋅B₂₆⋅─────(w₀(x, y))\n",
       "       2                   2                   ∂y ∂x          \n",
       "     ∂x                  ∂y                                   "
      ]
     },
     "execution_count": 116,
     "metadata": {},
     "output_type": "execute_result"
    }
   ],
   "source": [
    "Nyf = A12*diff(u0,x) + A22*diff(v0,y) + A26*(diff(u0,y) + diff(v0,x)) - B12*diff(w0,x,2) - B22*diff(w0,y,2) - 2*B26*diff(w0,x,y)\n",
    "Eq(Ny,Nyf)"
   ]
  },
  {
   "cell_type": "code",
   "execution_count": 117,
   "metadata": {
    "collapsed": false
   },
   "outputs": [
    {
     "data": {
      "text/latex": [
       "$$Nxy = A_{16} \\frac{\\partial}{\\partial x} \\operatorname{u_{0}}{\\left (x,y \\right )} + A_{26} \\frac{\\partial}{\\partial y} \\operatorname{v_{0}}{\\left (x,y \\right )} + A_{66} \\left(\\frac{\\partial}{\\partial y} \\operatorname{u_{0}}{\\left (x,y \\right )} + \\frac{\\partial}{\\partial x} \\operatorname{v_{0}}{\\left (x,y \\right )}\\right) - B_{16} \\frac{\\partial^{2}}{\\partial x^{2}}  \\operatorname{w_{0}}{\\left (x,y \\right )} - B_{26} \\frac{\\partial^{2}}{\\partial y^{2}}  \\operatorname{w_{0}}{\\left (x,y \\right )} - 2 B_{66} \\frac{\\partial^{2}}{\\partial x\\partial y}  \\operatorname{w_{0}}{\\left (x,y \\right )}$$"
      ],
      "text/plain": [
       "                                                                              \n",
       "          ∂                  ∂                  ⎛∂              ∂           ⎞ \n",
       "Nxy = A₁₆⋅──(u₀(x, y)) + A₂₆⋅──(v₀(x, y)) + A₆₆⋅⎜──(u₀(x, y)) + ──(v₀(x, y))⎟ \n",
       "          ∂x                 ∂y                 ⎝∂y             ∂x          ⎠ \n",
       "                                                                              \n",
       "\n",
       "        2                   2                      2           \n",
       "       ∂                   ∂                      ∂            \n",
       "- B₁₆⋅───(w₀(x, y)) - B₂₆⋅───(w₀(x, y)) - 2⋅B₆₆⋅─────(w₀(x, y))\n",
       "        2                   2                   ∂y ∂x          \n",
       "      ∂x                  ∂y                                   "
      ]
     },
     "execution_count": 117,
     "metadata": {},
     "output_type": "execute_result"
    }
   ],
   "source": [
    "Nxyf = A16*diff(u0,x) + A26*diff(v0,y) + A66*(diff(u0,y) + diff(v0,x)) - B16*diff(w0,x,2) - B26*diff(w0,y,2) - 2*B66*diff(w0,x,y) \n",
    "Eq(Nxy,Nxyf)"
   ]
  },
  {
   "cell_type": "code",
   "execution_count": 118,
   "metadata": {
    "collapsed": false
   },
   "outputs": [
    {
     "data": {
      "text/latex": [
       "$$Mx = B_{11} \\frac{\\partial}{\\partial x} \\operatorname{u_{0}}{\\left (x,y \\right )} + B_{12} \\frac{\\partial}{\\partial y} \\operatorname{v_{0}}{\\left (x,y \\right )} + B_{16} \\left(\\frac{\\partial}{\\partial y} \\operatorname{u_{0}}{\\left (x,y \\right )} + \\frac{\\partial}{\\partial x} \\operatorname{v_{0}}{\\left (x,y \\right )}\\right) - D_{11} \\frac{\\partial^{2}}{\\partial x^{2}}  \\operatorname{w_{0}}{\\left (x,y \\right )} - D_{12} \\frac{\\partial^{2}}{\\partial y^{2}}  \\operatorname{w_{0}}{\\left (x,y \\right )} - 2 D_{16} \\frac{\\partial^{2}}{\\partial x\\partial y}  \\operatorname{w_{0}}{\\left (x,y \\right )}$$"
      ],
      "text/plain": [
       "                                                                              \n",
       "         ∂                  ∂                  ⎛∂              ∂           ⎞  \n",
       "Mx = B₁₁⋅──(u₀(x, y)) + B₁₂⋅──(v₀(x, y)) + B₁₆⋅⎜──(u₀(x, y)) + ──(v₀(x, y))⎟ -\n",
       "         ∂x                 ∂y                 ⎝∂y             ∂x          ⎠  \n",
       "                                                                              \n",
       "\n",
       "       2                   2                      2           \n",
       "      ∂                   ∂                      ∂            \n",
       " D₁₁⋅───(w₀(x, y)) - D₁₂⋅───(w₀(x, y)) - 2⋅D₁₆⋅─────(w₀(x, y))\n",
       "       2                   2                   ∂y ∂x          \n",
       "     ∂x                  ∂y                                   "
      ]
     },
     "execution_count": 118,
     "metadata": {},
     "output_type": "execute_result"
    }
   ],
   "source": [
    "Mxf = B11*diff(u0,x) + B12*diff(v0,y) + B16*(diff(u0,y) + diff(v0,x)) - D11*diff(w0,x,2) - D12*diff(w0,y,2) - 2*D16*diff(w0,x,y)\n",
    "Eq(Mx,Mxf)"
   ]
  },
  {
   "cell_type": "code",
   "execution_count": 119,
   "metadata": {
    "collapsed": false
   },
   "outputs": [
    {
     "data": {
      "text/latex": [
       "$$My = B_{12} \\frac{\\partial}{\\partial x} \\operatorname{u_{0}}{\\left (x,y \\right )} + B_{22} \\frac{\\partial}{\\partial y} \\operatorname{v_{0}}{\\left (x,y \\right )} + B_{26} \\left(\\frac{\\partial}{\\partial y} \\operatorname{u_{0}}{\\left (x,y \\right )} + \\frac{\\partial}{\\partial x} \\operatorname{v_{0}}{\\left (x,y \\right )}\\right) - D_{12} \\frac{\\partial^{2}}{\\partial x^{2}}  \\operatorname{w_{0}}{\\left (x,y \\right )} - D_{22} \\frac{\\partial^{2}}{\\partial y^{2}}  \\operatorname{w_{0}}{\\left (x,y \\right )} - 2 D_{26} \\frac{\\partial^{2}}{\\partial x\\partial y}  \\operatorname{w_{0}}{\\left (x,y \\right )}$$"
      ],
      "text/plain": [
       "                                                                              \n",
       "         ∂                  ∂                  ⎛∂              ∂           ⎞  \n",
       "My = B₁₂⋅──(u₀(x, y)) + B₂₂⋅──(v₀(x, y)) + B₂₆⋅⎜──(u₀(x, y)) + ──(v₀(x, y))⎟ -\n",
       "         ∂x                 ∂y                 ⎝∂y             ∂x          ⎠  \n",
       "                                                                              \n",
       "\n",
       "       2                   2                      2           \n",
       "      ∂                   ∂                      ∂            \n",
       " D₁₂⋅───(w₀(x, y)) - D₂₂⋅───(w₀(x, y)) - 2⋅D₂₆⋅─────(w₀(x, y))\n",
       "       2                   2                   ∂y ∂x          \n",
       "     ∂x                  ∂y                                   "
      ]
     },
     "execution_count": 119,
     "metadata": {},
     "output_type": "execute_result"
    }
   ],
   "source": [
    "Myf = B12*diff(u0,x) + B22*diff(v0,y) + B26*(diff(u0,y) + diff(v0,x)) - D12*diff(w0,x,2) - D22*diff(w0,y,2) - 2*D26*diff(w0,x,y)\n",
    "Eq(My,Myf)"
   ]
  },
  {
   "cell_type": "code",
   "execution_count": 120,
   "metadata": {
    "collapsed": false
   },
   "outputs": [
    {
     "data": {
      "text/latex": [
       "$$Mxy = B_{16} \\frac{\\partial}{\\partial x} \\operatorname{u_{0}}{\\left (x,y \\right )} + B_{26} \\frac{\\partial}{\\partial y} \\operatorname{v_{0}}{\\left (x,y \\right )} + B_{66} \\left(\\frac{\\partial}{\\partial y} \\operatorname{u_{0}}{\\left (x,y \\right )} + \\frac{\\partial}{\\partial x} \\operatorname{v_{0}}{\\left (x,y \\right )}\\right) - D_{16} \\frac{\\partial^{2}}{\\partial x^{2}}  \\operatorname{w_{0}}{\\left (x,y \\right )} - D_{26} \\frac{\\partial^{2}}{\\partial y^{2}}  \\operatorname{w_{0}}{\\left (x,y \\right )} - 2 D_{66} \\frac{\\partial^{2}}{\\partial x\\partial y}  \\operatorname{w_{0}}{\\left (x,y \\right )}$$"
      ],
      "text/plain": [
       "                                                                              \n",
       "          ∂                  ∂                  ⎛∂              ∂           ⎞ \n",
       "Mxy = B₁₆⋅──(u₀(x, y)) + B₂₆⋅──(v₀(x, y)) + B₆₆⋅⎜──(u₀(x, y)) + ──(v₀(x, y))⎟ \n",
       "          ∂x                 ∂y                 ⎝∂y             ∂x          ⎠ \n",
       "                                                                              \n",
       "\n",
       "        2                   2                      2           \n",
       "       ∂                   ∂                      ∂            \n",
       "- D₁₆⋅───(w₀(x, y)) - D₂₆⋅───(w₀(x, y)) - 2⋅D₆₆⋅─────(w₀(x, y))\n",
       "        2                   2                   ∂y ∂x          \n",
       "      ∂x                  ∂y                                   "
      ]
     },
     "execution_count": 120,
     "metadata": {},
     "output_type": "execute_result"
    }
   ],
   "source": [
    "Mxyf = B16*diff(u0,x) + B26*diff(v0,y) + B66*(diff(u0,y) + diff(v0,x)) - D16*diff(w0,x,2) - D26*diff(w0,y,2) - 2*D66*diff(w0,x,y)\n",
    "Eq(Mxy,Mxyf)"
   ]
  },
  {
   "cell_type": "code",
   "execution_count": 121,
   "metadata": {
    "collapsed": false
   },
   "outputs": [
    {
     "data": {
      "text/latex": [
       "$$A_{11} \\frac{\\partial^{2}}{\\partial x^{2}}  \\operatorname{u_{0}}{\\left (x,y \\right )} + A_{11} \\frac{\\partial^{2}}{\\partial x\\partial y}  \\operatorname{u_{0}}{\\left (x,y \\right )} + A_{12} \\frac{\\partial^{2}}{\\partial x\\partial y}  \\operatorname{v_{0}}{\\left (x,y \\right )} + A_{12} \\frac{\\partial^{2}}{\\partial y^{2}}  \\operatorname{v_{0}}{\\left (x,y \\right )} + A_{16} \\left(\\frac{\\partial^{2}}{\\partial x\\partial y}  \\operatorname{u_{0}}{\\left (x,y \\right )} + \\frac{\\partial^{2}}{\\partial x^{2}}  \\operatorname{v_{0}}{\\left (x,y \\right )}\\right) + A_{16} \\left(\\frac{\\partial^{2}}{\\partial y^{2}}  \\operatorname{u_{0}}{\\left (x,y \\right )} + \\frac{\\partial^{2}}{\\partial x\\partial y}  \\operatorname{v_{0}}{\\left (x,y \\right )}\\right) - B_{11} \\frac{\\partial^{3}}{\\partial x^{3}}  \\operatorname{w_{0}}{\\left (x,y \\right )} - B_{11} \\frac{\\partial^{3}}{\\partial x^{2}\\partial y}  \\operatorname{w_{0}}{\\left (x,y \\right )} - B_{12} \\frac{\\partial^{3}}{\\partial x\\partial y^{2}}  \\operatorname{w_{0}}{\\left (x,y \\right )} - B_{12} \\frac{\\partial^{3}}{\\partial y^{3}}  \\operatorname{w_{0}}{\\left (x,y \\right )} - 2 B_{16} \\frac{\\partial^{3}}{\\partial x^{2}\\partial y}  \\operatorname{w_{0}}{\\left (x,y \\right )} - 2 B_{16} \\frac{\\partial^{3}}{\\partial x\\partial y^{2}}  \\operatorname{w_{0}}{\\left (x,y \\right )}$$"
      ],
      "text/plain": [
       "      2                    2                     2                    2       \n",
       "     ∂                    ∂                     ∂                    ∂        \n",
       "A₁₁⋅───(u₀(x, y)) + A₁₁⋅─────(u₀(x, y)) + A₁₂⋅─────(v₀(x, y)) + A₁₂⋅───(v₀(x, \n",
       "      2                 ∂y ∂x                 ∂y ∂x                   2       \n",
       "    ∂x                                                              ∂y        \n",
       "\n",
       "          ⎛   2                2          ⎞       ⎛  2                2       \n",
       "          ⎜  ∂                ∂           ⎟       ⎜ ∂                ∂        \n",
       "y)) + A₁₆⋅⎜─────(u₀(x, y)) + ───(v₀(x, y))⎟ + A₁₆⋅⎜───(u₀(x, y)) + ─────(v₀(x,\n",
       "          ⎜∂y ∂x               2          ⎟       ⎜  2             ∂y ∂x      \n",
       "          ⎝                  ∂x           ⎠       ⎝∂y                         \n",
       "\n",
       "    ⎞         3                    3                      3                   \n",
       "    ⎟        ∂                    ∂                      ∂                    \n",
       " y))⎟ - B₁₁⋅───(w₀(x, y)) - B₁₁⋅──────(w₀(x, y)) - B₁₂⋅──────(w₀(x, y)) - B₁₂⋅\n",
       "    ⎟         3                      2                   2                    \n",
       "    ⎠       ∂x                  ∂y ∂x                  ∂y  ∂x                 \n",
       "\n",
       "  3                      3                        3            \n",
       " ∂                      ∂                        ∂             \n",
       "───(w₀(x, y)) - 2⋅B₁₆⋅──────(w₀(x, y)) - 2⋅B₁₆⋅──────(w₀(x, y))\n",
       "  3                        2                     2             \n",
       "∂y                    ∂y ∂x                    ∂y  ∂x          "
      ]
     },
     "execution_count": 121,
     "metadata": {},
     "output_type": "execute_result"
    }
   ],
   "source": [
    "eq1 = diff(Nxf,x) + diff(Nxf,y)\n",
    "eq1"
   ]
  },
  {
   "cell_type": "code",
   "execution_count": 122,
   "metadata": {
    "collapsed": false
   },
   "outputs": [
    {
     "data": {
      "text/latex": [
       "$$A_{12} \\frac{\\partial^{2}}{\\partial x\\partial y}  \\operatorname{u_{0}}{\\left (x,y \\right )} + A_{16} \\frac{\\partial^{2}}{\\partial x^{2}}  \\operatorname{u_{0}}{\\left (x,y \\right )} + A_{22} \\frac{\\partial^{2}}{\\partial y^{2}}  \\operatorname{v_{0}}{\\left (x,y \\right )} + A_{26} \\left(\\frac{\\partial^{2}}{\\partial y^{2}}  \\operatorname{u_{0}}{\\left (x,y \\right )} + \\frac{\\partial^{2}}{\\partial x\\partial y}  \\operatorname{v_{0}}{\\left (x,y \\right )}\\right) + A_{26} \\frac{\\partial^{2}}{\\partial x\\partial y}  \\operatorname{v_{0}}{\\left (x,y \\right )} + A_{66} \\left(\\frac{\\partial^{2}}{\\partial x\\partial y}  \\operatorname{u_{0}}{\\left (x,y \\right )} + \\frac{\\partial^{2}}{\\partial x^{2}}  \\operatorname{v_{0}}{\\left (x,y \\right )}\\right) - B_{12} \\frac{\\partial^{3}}{\\partial x^{2}\\partial y}  \\operatorname{w_{0}}{\\left (x,y \\right )} - B_{16} \\frac{\\partial^{3}}{\\partial x^{3}}  \\operatorname{w_{0}}{\\left (x,y \\right )} - B_{22} \\frac{\\partial^{3}}{\\partial y^{3}}  \\operatorname{w_{0}}{\\left (x,y \\right )} - 3 B_{26} \\frac{\\partial^{3}}{\\partial x\\partial y^{2}}  \\operatorname{w_{0}}{\\left (x,y \\right )} - 2 B_{66} \\frac{\\partial^{3}}{\\partial x^{2}\\partial y}  \\operatorname{w_{0}}{\\left (x,y \\right )}$$"
      ],
      "text/plain": [
       "       2                    2                   2                 ⎛  2        \n",
       "      ∂                    ∂                   ∂                  ⎜ ∂         \n",
       "A₁₂⋅─────(u₀(x, y)) + A₁₆⋅───(u₀(x, y)) + A₂₂⋅───(v₀(x, y)) + A₂₆⋅⎜───(u₀(x, y\n",
       "    ∂y ∂x                   2                   2                 ⎜  2        \n",
       "                          ∂x                  ∂y                  ⎝∂y         \n",
       "\n",
       "        2           ⎞          2                  ⎛   2                2      \n",
       "       ∂            ⎟         ∂                   ⎜  ∂                ∂       \n",
       ")) + ─────(v₀(x, y))⎟ + A₂₆⋅─────(v₀(x, y)) + A₆₆⋅⎜─────(u₀(x, y)) + ───(v₀(x,\n",
       "     ∂y ∂x          ⎟       ∂y ∂x                 ⎜∂y ∂x               2      \n",
       "                    ⎠                             ⎝                  ∂x       \n",
       "\n",
       "    ⎞          3                     3                   3                    \n",
       "    ⎟         ∂                     ∂                   ∂                     \n",
       " y))⎟ - B₁₂⋅──────(w₀(x, y)) - B₁₆⋅───(w₀(x, y)) - B₂₂⋅───(w₀(x, y)) - 3⋅B₂₆⋅─\n",
       "    ⎟            2                   3                   3                    \n",
       "    ⎠       ∂y ∂x                  ∂x                  ∂y                    ∂\n",
       "\n",
       "  3                        3            \n",
       " ∂                        ∂             \n",
       "─────(w₀(x, y)) - 2⋅B₆₆⋅──────(w₀(x, y))\n",
       " 2                           2          \n",
       "y  ∂x                   ∂y ∂x           "
      ]
     },
     "execution_count": 122,
     "metadata": {},
     "output_type": "execute_result"
    }
   ],
   "source": [
    "eq2 = diff(Nxyf,x) + diff(Nyf,y)\n",
    "eq2"
   ]
  },
  {
   "cell_type": "code",
   "execution_count": 123,
   "metadata": {
    "collapsed": false
   },
   "outputs": [
    {
     "data": {
      "text/latex": [
       "$$B_{11} \\frac{\\partial^{3}}{\\partial x^{3}}  \\operatorname{u_{0}}{\\left (x,y \\right )} + B_{12} \\frac{\\partial^{3}}{\\partial x\\partial y^{2}}  \\operatorname{u_{0}}{\\left (x,y \\right )} + B_{12} \\frac{\\partial^{3}}{\\partial x^{2}\\partial y}  \\operatorname{v_{0}}{\\left (x,y \\right )} + B_{16} \\left(\\frac{\\partial^{3}}{\\partial x^{2}\\partial y}  \\operatorname{u_{0}}{\\left (x,y \\right )} + \\frac{\\partial^{3}}{\\partial x^{3}}  \\operatorname{v_{0}}{\\left (x,y \\right )}\\right) + 2 B_{16} \\frac{\\partial^{3}}{\\partial x^{2}\\partial y}  \\operatorname{u_{0}}{\\left (x,y \\right )} + B_{22} \\frac{\\partial^{3}}{\\partial y^{3}}  \\operatorname{v_{0}}{\\left (x,y \\right )} + B_{26} \\left(\\frac{\\partial^{3}}{\\partial y^{3}}  \\operatorname{u_{0}}{\\left (x,y \\right )} + \\frac{\\partial^{3}}{\\partial x\\partial y^{2}}  \\operatorname{v_{0}}{\\left (x,y \\right )}\\right) + 2 B_{26} \\frac{\\partial^{3}}{\\partial x\\partial y^{2}}  \\operatorname{v_{0}}{\\left (x,y \\right )} + 2 B_{66} \\left(\\frac{\\partial^{3}}{\\partial x\\partial y^{2}}  \\operatorname{u_{0}}{\\left (x,y \\right )} + \\frac{\\partial^{3}}{\\partial x^{2}\\partial y}  \\operatorname{v_{0}}{\\left (x,y \\right )}\\right) - D_{11} \\frac{\\partial^{4}}{\\partial x^{4}}  \\operatorname{w_{0}}{\\left (x,y \\right )} - 2 D_{12} \\frac{\\partial^{4}}{\\partial x^{2}\\partial y^{2}}  \\operatorname{w_{0}}{\\left (x,y \\right )} - 4 D_{16} \\frac{\\partial^{4}}{\\partial x^{3}\\partial y}  \\operatorname{w_{0}}{\\left (x,y \\right )} - D_{22} \\frac{\\partial^{4}}{\\partial y^{4}}  \\operatorname{w_{0}}{\\left (x,y \\right )} - 4 D_{26} \\frac{\\partial^{4}}{\\partial x\\partial y^{3}}  \\operatorname{w_{0}}{\\left (x,y \\right )} - 4 D_{66} \\frac{\\partial^{4}}{\\partial x^{2}\\partial y^{2}}  \\operatorname{w_{0}}{\\left (x,y \\right )} + q$$"
      ],
      "text/plain": [
       "      3                    3                      3                   ⎛   3   \n",
       "     ∂                    ∂                      ∂                    ⎜  ∂    \n",
       "B₁₁⋅───(u₀(x, y)) + B₁₂⋅──────(u₀(x, y)) + B₁₂⋅──────(v₀(x, y)) + B₁₆⋅⎜──────(\n",
       "      3                   2                         2                 ⎜     2 \n",
       "    ∂x                  ∂y  ∂x                 ∂y ∂x                  ⎝∂y ∂x  \n",
       "\n",
       "              3          ⎞            3                     3                 \n",
       "             ∂           ⎟           ∂                     ∂                  \n",
       "u₀(x, y)) + ───(v₀(x, y))⎟ + 2⋅B₁₆⋅──────(u₀(x, y)) + B₂₂⋅───(v₀(x, y)) + B₂₆⋅\n",
       "              3          ⎟              2                   3                 \n",
       "            ∂x           ⎠         ∂y ∂x                  ∂y                  \n",
       "\n",
       "⎛  3                3            ⎞            3                     ⎛   3     \n",
       "⎜ ∂                ∂             ⎟           ∂                      ⎜  ∂      \n",
       "⎜───(u₀(x, y)) + ──────(v₀(x, y))⎟ + 2⋅B₂₆⋅──────(v₀(x, y)) + 2⋅B₆₆⋅⎜──────(u₀\n",
       "⎜  3               2             ⎟           2                      ⎜  2      \n",
       "⎝∂y              ∂y  ∂x          ⎠         ∂y  ∂x                   ⎝∂y  ∂x   \n",
       "\n",
       "             3            ⎞         4                       4                 \n",
       "            ∂             ⎟        ∂                       ∂                  \n",
       "(x, y)) + ──────(v₀(x, y))⎟ - D₁₁⋅───(w₀(x, y)) - 2⋅D₁₂⋅───────(w₀(x, y)) - 4⋅\n",
       "               2          ⎟         4                     2   2               \n",
       "          ∂y ∂x           ⎠       ∂x                    ∂y  ∂x                \n",
       "\n",
       "       4                     4                      4                         \n",
       "      ∂                     ∂                      ∂                         ∂\n",
       "D₁₆⋅──────(w₀(x, y)) - D₂₂⋅───(w₀(x, y)) - 4⋅D₂₆⋅──────(w₀(x, y)) - 4⋅D₆₆⋅────\n",
       "         3                   4                     3                        2 \n",
       "    ∂y ∂x                  ∂y                    ∂y  ∂x                   ∂y  \n",
       "\n",
       "4                \n",
       "                 \n",
       "───(w₀(x, y)) + q\n",
       "  2              \n",
       "∂x               "
      ]
     },
     "execution_count": 123,
     "metadata": {},
     "output_type": "execute_result"
    }
   ],
   "source": [
    "eq3 = diff(Mxf,x,2) + 2*diff(Mxyf,x,y) + diff(Myf,y,2) + q\n",
    "eq3"
   ]
  },
  {
   "cell_type": "code",
   "execution_count": 124,
   "metadata": {
    "collapsed": false
   },
   "outputs": [],
   "source": [
    "# Cross Ply Equations unsymmetric plate, Hyer pg 616\n",
    "# A16=A26=D16=D26=B16=B26=B12=B66=0\n",
    "\n",
    "u0 = Function('u0')(x)\n",
    "v0 = Function('v0')(x)\n",
    "w0 = Function('w0')(x)"
   ]
  },
  {
   "cell_type": "code",
   "execution_count": 125,
   "metadata": {
    "collapsed": false
   },
   "outputs": [
    {
     "data": {
      "text/latex": [
       "$$Nx = A_{11} \\frac{d}{d x} \\operatorname{u_{0}}{\\left (x \\right )} - B_{11} \\frac{d^{2}}{d x^{2}}  \\operatorname{w_{0}}{\\left (x \\right )}$$"
      ],
      "text/plain": [
       "                           2       \n",
       "         d                d        \n",
       "Nx = A₁₁⋅──(u₀(x)) - B₁₁⋅───(w₀(x))\n",
       "         dx                2       \n",
       "                         dx        "
      ]
     },
     "execution_count": 125,
     "metadata": {},
     "output_type": "execute_result"
    }
   ],
   "source": [
    "Nxf = A11*diff(u0,x) + A12*diff(v0,y) - B11*diff(w0,x,2)\n",
    "Eq(Nx, Nxf)"
   ]
  },
  {
   "cell_type": "code",
   "execution_count": 126,
   "metadata": {
    "collapsed": false
   },
   "outputs": [
    {
     "data": {
      "text/latex": [
       "$$Ny = A_{12} \\frac{d}{d x} \\operatorname{u_{0}}{\\left (x \\right )}$$"
      ],
      "text/plain": [
       "         d        \n",
       "Ny = A₁₂⋅──(u₀(x))\n",
       "         dx       "
      ]
     },
     "execution_count": 126,
     "metadata": {},
     "output_type": "execute_result"
    }
   ],
   "source": [
    "Nyf = A12*diff(u0,x) + A22*diff(v0,y) - B22*diff(w0,y,2)\n",
    "Eq(Ny,Nyf)"
   ]
  },
  {
   "cell_type": "code",
   "execution_count": 127,
   "metadata": {
    "collapsed": false
   },
   "outputs": [
    {
     "data": {
      "text/latex": [
       "$$Nxy = A_{66} \\frac{d}{d x} \\operatorname{v_{0}}{\\left (x \\right )}$$"
      ],
      "text/plain": [
       "          d        \n",
       "Nxy = A₆₆⋅──(v₀(x))\n",
       "          dx       "
      ]
     },
     "execution_count": 127,
     "metadata": {},
     "output_type": "execute_result"
    }
   ],
   "source": [
    "Nxyf = A66*(diff(u0,y) + diff(v0,x))\n",
    "Eq(Nxy,Nxyf)"
   ]
  },
  {
   "cell_type": "code",
   "execution_count": 128,
   "metadata": {
    "collapsed": false
   },
   "outputs": [
    {
     "data": {
      "text/latex": [
       "$$Mx = B_{11} \\frac{d}{d x} \\operatorname{u_{0}}{\\left (x \\right )} - D_{11} \\frac{d^{2}}{d x^{2}}  \\operatorname{w_{0}}{\\left (x \\right )}$$"
      ],
      "text/plain": [
       "                           2       \n",
       "         d                d        \n",
       "Mx = B₁₁⋅──(u₀(x)) - D₁₁⋅───(w₀(x))\n",
       "         dx                2       \n",
       "                         dx        "
      ]
     },
     "execution_count": 128,
     "metadata": {},
     "output_type": "execute_result"
    }
   ],
   "source": [
    "Mxf = B11*diff(u0,x) - D11*diff(w0,x,2) - D12*diff(w0,y,2)\n",
    "Eq(Mx,Mxf)"
   ]
  },
  {
   "cell_type": "code",
   "execution_count": 129,
   "metadata": {
    "collapsed": false
   },
   "outputs": [
    {
     "data": {
      "text/latex": [
       "$$My = - D_{12} \\frac{d^{2}}{d x^{2}}  \\operatorname{w_{0}}{\\left (x \\right )}$$"
      ],
      "text/plain": [
       "            2       \n",
       "           d        \n",
       "My = -D₁₂⋅───(w₀(x))\n",
       "            2       \n",
       "          dx        "
      ]
     },
     "execution_count": 129,
     "metadata": {},
     "output_type": "execute_result"
    }
   ],
   "source": [
    "Myf = B22*diff(v0,y) - D12*diff(w0,x,2) - D22*diff(w0,y,2)\n",
    "Eq(My,Myf)"
   ]
  },
  {
   "cell_type": "code",
   "execution_count": 130,
   "metadata": {
    "collapsed": false
   },
   "outputs": [
    {
     "data": {
      "text/latex": [
       "$$Mxy = 0$$"
      ],
      "text/plain": [
       "Mxy = 0"
      ]
     },
     "execution_count": 130,
     "metadata": {},
     "output_type": "execute_result"
    }
   ],
   "source": [
    "Mxyf = 0\n",
    "Eq(Mxy,Mxyf)"
   ]
  },
  {
   "cell_type": "code",
   "execution_count": 131,
   "metadata": {
    "collapsed": true
   },
   "outputs": [],
   "source": [
    "# Solve the Equilibrium equations"
   ]
  },
  {
   "cell_type": "code",
   "execution_count": 132,
   "metadata": {
    "collapsed": false
   },
   "outputs": [
    {
     "data": {
      "text/latex": [
       "$$\\operatorname{Nx}{\\left (x \\right )} = C_{1}$$"
      ],
      "text/plain": [
       "Nx(x) = C₁"
      ]
     },
     "execution_count": 132,
     "metadata": {},
     "output_type": "execute_result"
    }
   ],
   "source": [
    "dsolve(diff(Nx(x)))"
   ]
  },
  {
   "cell_type": "code",
   "execution_count": 133,
   "metadata": {
    "collapsed": false
   },
   "outputs": [
    {
     "data": {
      "text/latex": [
       "$$\\operatorname{Mx}{\\left (x \\right )} = C_{1} + C_{2} x - \\frac{q x^{2}}{2}$$"
      ],
      "text/plain": [
       "                       2\n",
       "                    q⋅x \n",
       "Mx(x) = C₁ + C₂⋅x - ────\n",
       "                     2  "
      ]
     },
     "execution_count": 133,
     "metadata": {},
     "output_type": "execute_result"
    }
   ],
   "source": [
    "dsolve(diff(Mx(x),x,2)+q)"
   ]
  },
  {
   "cell_type": "code",
   "execution_count": 134,
   "metadata": {
    "collapsed": false
   },
   "outputs": [
    {
     "data": {
      "text/latex": [
       "$$A_{11} \\frac{d}{d x} \\operatorname{u_{0}}{\\left (x \\right )} - B_{11} \\frac{d^{2}}{d x^{2}}  \\operatorname{w_{0}}{\\left (x \\right )} - C_{1}$$"
      ],
      "text/plain": [
       "                      2            \n",
       "    d                d             \n",
       "A₁₁⋅──(u₀(x)) - B₁₁⋅───(w₀(x)) - C₁\n",
       "    dx                2            \n",
       "                    dx             "
      ]
     },
     "execution_count": 134,
     "metadata": {},
     "output_type": "execute_result"
    }
   ],
   "source": [
    "eq4 = (Nxf-C1)\n",
    "eq4"
   ]
  },
  {
   "cell_type": "code",
   "execution_count": 135,
   "metadata": {
    "collapsed": false
   },
   "outputs": [
    {
     "data": {
      "text/latex": [
       "$$B_{11} \\frac{d}{d x} \\operatorname{u_{0}}{\\left (x \\right )} - C_{2} x - C_{3} - D_{11} \\frac{d^{2}}{d x^{2}}  \\operatorname{w_{0}}{\\left (x \\right )} + q x^{2}$$"
      ],
      "text/plain": [
       "                                  2              \n",
       "    d                            d              2\n",
       "B₁₁⋅──(u₀(x)) - C₂⋅x - C₃ - D₁₁⋅───(w₀(x)) + q⋅x \n",
       "    dx                            2              \n",
       "                                dx               "
      ]
     },
     "execution_count": 135,
     "metadata": {},
     "output_type": "execute_result"
    }
   ],
   "source": [
    "eq5 = Mxf -( -q*x**2 + C2*x + C3 )\n",
    "eq5"
   ]
  },
  {
   "cell_type": "code",
   "execution_count": 136,
   "metadata": {
    "collapsed": false
   },
   "outputs": [
    {
     "data": {
      "text/latex": [
       "$$\\frac{1}{A_{11}} \\left(B_{11} \\frac{d^{2}}{d x^{2}}  \\operatorname{w_{0}}{\\left (x \\right )} + C_{1}\\right) = \\frac{1}{B_{11}} \\left(C_{2} x + C_{3} + D_{11} \\frac{d^{2}}{d x^{2}}  \\operatorname{w_{0}}{\\left (x \\right )} - q x^{2}\\right)$$"
      ],
      "text/plain": [
       "      2                                 2              \n",
       "     d                                 d              2\n",
       "B₁₁⋅───(w₀(x)) + C₁   C₂⋅x + C₃ + D₁₁⋅───(w₀(x)) - q⋅x \n",
       "      2                                 2              \n",
       "    dx                                dx               \n",
       "─────────────────── = ─────────────────────────────────\n",
       "        A₁₁                          B₁₁               "
      ]
     },
     "execution_count": 136,
     "metadata": {},
     "output_type": "execute_result"
    }
   ],
   "source": [
    "eq6 = Eq(solve(eq4,diff(u0,x))[0] , solve(eq5, diff(u0,x))[0])\n",
    "eq6"
   ]
  },
  {
   "cell_type": "code",
   "execution_count": 137,
   "metadata": {
    "collapsed": false
   },
   "outputs": [
    {
     "data": {
      "text/latex": [
       "$$\\operatorname{w_{0}}{\\left (x \\right )} = - \\frac{A_{11} C_{2} x^{3}}{6 A_{11} D_{11} - 6 B_{11}^{2}} + \\frac{A_{11} q x^{4}}{12 A_{11} D_{11} - 12 B_{11}^{2}} + C_{1} + C_{5} x + \\frac{x^{2} \\left(- A_{11} C_{3} + B_{11} C_{4}\\right)}{2 A_{11} D_{11} - 2 B_{11}^{2}}$$"
      ],
      "text/plain": [
       "                      3                     4                     2           \n",
       "              A₁₁⋅C₂⋅x               A₁₁⋅q⋅x                     x ⋅(-A₁₁⋅C₃ +\n",
       "w₀(x) = - ────────────────── + ─────────────────── + C₁ + C₅⋅x + ─────────────\n",
       "            ⎛             2⎞      ⎛             2⎞                   ⎛        \n",
       "          6⋅⎝A₁₁⋅D₁₁ - B₁₁ ⎠   12⋅⎝A₁₁⋅D₁₁ - B₁₁ ⎠                 2⋅⎝A₁₁⋅D₁₁ \n",
       "\n",
       "        \n",
       " B₁₁⋅C₄)\n",
       "────────\n",
       "     2⎞ \n",
       "- B₁₁ ⎠ "
      ]
     },
     "execution_count": 137,
     "metadata": {},
     "output_type": "execute_result"
    }
   ],
   "source": [
    "w0f = dsolve(eq6, w0)\n",
    "w0f"
   ]
  },
  {
   "cell_type": "code",
   "execution_count": 138,
   "metadata": {
    "collapsed": false
   },
   "outputs": [],
   "source": [
    "eq7 = Eq(solve(eq6, diff(w0,x,2))[0] , solve(eq4,diff(w0,x,2))[0])"
   ]
  },
  {
   "cell_type": "code",
   "execution_count": 139,
   "metadata": {
    "collapsed": false
   },
   "outputs": [
    {
     "data": {
      "text/latex": [
       "$$\\operatorname{u_{0}}{\\left (x \\right )} = \\frac{1}{A_{11} D_{11} - B_{11}^{2}} \\left(- \\frac{B_{11} C_{1}}{2} x^{2} - B_{11} C_{3} x - B_{11} C_{4} D_{11} + \\frac{B_{11} q}{3} x^{3} + C_{2} D_{11} x + \\frac{B_{11}^{3} C_{4}}{A_{11}}\\right)$$"
      ],
      "text/plain": [
       "                  2                                  3                 3   \n",
       "          B₁₁⋅C₁⋅x                            B₁₁⋅q⋅x               B₁₁ ⋅C₄\n",
       "        - ───────── - B₁₁⋅C₃⋅x - B₁₁⋅C₄⋅D₁₁ + ──────── + C₂⋅D₁₁⋅x + ───────\n",
       "              2                                  3                    A₁₁  \n",
       "u₀(x) = ───────────────────────────────────────────────────────────────────\n",
       "                                                2                          \n",
       "                                   A₁₁⋅D₁₁ - B₁₁                           "
      ]
     },
     "execution_count": 139,
     "metadata": {},
     "output_type": "execute_result"
    }
   ],
   "source": [
    "u0f = dsolve(eq7)\n",
    "u0f"
   ]
  },
  {
   "cell_type": "code",
   "execution_count": null,
   "metadata": {
    "collapsed": false
   },
   "outputs": [],
   "source": []
  },
  {
   "cell_type": "code",
   "execution_count": null,
   "metadata": {
    "collapsed": true
   },
   "outputs": [],
   "source": []
  }
 ],
 "metadata": {
  "kernelspec": {
   "display_name": "Python 3",
   "language": "python",
   "name": "python3"
  },
  "language_info": {
   "codemirror_mode": {
    "name": "ipython",
    "version": 3
   },
   "file_extension": ".py",
   "mimetype": "text/x-python",
   "name": "python",
   "nbconvert_exporter": "python",
   "pygments_lexer": "ipython3",
   "version": "3.5.1"
  }
 },
 "nbformat": 4,
 "nbformat_minor": 0
}
