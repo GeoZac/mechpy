{
 "cells": [
  {
   "cell_type": "code",
   "execution_count": 1,
   "metadata": {
    "collapsed": true
   },
   "outputs": [],
   "source": [
    "import sympy as sp"
   ]
  },
  {
   "cell_type": "code",
   "execution_count": 2,
   "metadata": {
    "collapsed": true
   },
   "outputs": [],
   "source": [
    "x = sp.Symbol('x')"
   ]
  },
  {
   "cell_type": "code",
   "execution_count": 4,
   "metadata": {
    "collapsed": true
   },
   "outputs": [],
   "source": [
    "sp.init_printing()"
   ]
  },
  {
   "cell_type": "code",
   "execution_count": 5,
   "metadata": {
    "collapsed": false
   },
   "outputs": [
    {
     "data": {
      "image/png": "[encoded data removed]",
      "text/latex": [
       "$$\\sqrt{x^{2}}$$"
      ],
      "text/plain": [
       "   ____\n",
       "  ╱  2 \n",
       "╲╱  x  "
      ]
     },
     "execution_count": 5,
     "metadata": {},
     "output_type": "execute_result"
    }
   ],
   "source": [
    "sp.sqrt(x**2)"
   ]
  },
  {
   "cell_type": "code",
   "execution_count": 9,
   "metadata": {
    "collapsed": false
   },
   "outputs": [
    {
     "data": {
      "image/png": "[encoded data removed]",
      "text/latex": [
       "$$\\frac{11}{13}$$"
      ],
      "text/plain": [
       "11\n",
       "──\n",
       "13"
      ]
     },
     "execution_count": 9,
     "metadata": {},
     "output_type": "execute_result"
    }
   ],
   "source": [
    "r = sp.Rational(11, 13)\n",
    "r"
   ]
  },
  {
   "cell_type": "code",
   "execution_count": 10,
   "metadata": {
    "collapsed": false
   },
   "outputs": [
    {
     "data": {
      "image/png": "[encoded data removed]",
      "text/latex": [
       "$$0.8461538461538461$$"
      ],
      "text/plain": [
       "0.8461538461538461"
      ]
     },
     "execution_count": 10,
     "metadata": {},
     "output_type": "execute_result"
    }
   ],
   "source": [
    "float(r)"
   ]
  },
  {
   "cell_type": "code",
   "execution_count": 11,
   "metadata": {
    "collapsed": false
   },
   "outputs": [
    {
     "data": {
      "text/plain": [
       "f"
      ]
     },
     "execution_count": 11,
     "metadata": {},
     "output_type": "execute_result"
    }
   ],
   "source": [
    "f = sp.Function('f')\n",
    "f"
   ]
  },
  {
   "cell_type": "code",
   "execution_count": 12,
   "metadata": {
    "collapsed": false
   },
   "outputs": [
    {
     "data": {
      "image/png": "[encoded data removed]",
      "text/latex": [
       "$$f{\\left (x \\right )}$$"
      ],
      "text/plain": [
       "f(x)"
      ]
     },
     "execution_count": 12,
     "metadata": {},
     "output_type": "execute_result"
    }
   ],
   "source": [
    "f(x)"
   ]
  },
  {
   "cell_type": "code",
   "execution_count": 13,
   "metadata": {
    "collapsed": false
   },
   "outputs": [
    {
     "data": {
      "image/png": "[encoded data removed]",
      "text/latex": [
       "$$\\left( x \\mapsto x^{2} \\right)$$"
      ],
      "text/plain": [
       "     2\n",
       "x ↦ x "
      ]
     },
     "execution_count": 13,
     "metadata": {},
     "output_type": "execute_result"
    }
   ],
   "source": [
    "h = sp.Lambda(x,x**2)\n",
    "h"
   ]
  },
  {
   "cell_type": "code",
   "execution_count": 14,
   "metadata": {
    "collapsed": false
   },
   "outputs": [
    {
     "data": {
      "image/png": "[encoded data removed]",
      "text/latex": [
       "$$3 x^{3} + 2 x^{2} + 1$$"
      ],
      "text/plain": [
       "   3      2    \n",
       "3⋅x  + 2⋅x  + 1"
      ]
     },
     "execution_count": 14,
     "metadata": {},
     "output_type": "execute_result"
    }
   ],
   "source": [
    "w = 1+2*x**2+3*x**3\n",
    "w"
   ]
  },
  {
   "cell_type": "code",
   "execution_count": 15,
   "metadata": {
    "collapsed": false
   },
   "outputs": [
    {
     "data": {
      "image/png": "[encoded data removed]",
      "text/latex": [
       "$$\\left ( 1, \\quad 2 x^{2}, \\quad 3 x^{3}\\right )$$"
      ],
      "text/plain": [
       "⎛      2     3⎞\n",
       "⎝1, 2⋅x , 3⋅x ⎠"
      ]
     },
     "execution_count": 15,
     "metadata": {},
     "output_type": "execute_result"
    }
   ],
   "source": [
    "w.args"
   ]
  },
  {
   "cell_type": "code",
   "execution_count": 16,
   "metadata": {
    "collapsed": false
   },
   "outputs": [
    {
     "data": {
      "image/png": "[encoded data removed]",
      "text/latex": [
       "$$2 x^{2} - x \\left(x + 1\\right) - 2 x$$"
      ],
      "text/plain": [
       "   2                  \n",
       "2⋅x  - x⋅(x + 1) - 2⋅x"
      ]
     },
     "execution_count": 16,
     "metadata": {},
     "output_type": "execute_result"
    }
   ],
   "source": [
    "w = 2*(x**2-x)-x*(x+1)\n",
    "w"
   ]
  },
  {
   "cell_type": "code",
   "execution_count": 17,
   "metadata": {
    "collapsed": false
   },
   "outputs": [
    {
     "data": {
      "image/png": "[encoded data removed]",
      "text/latex": [
       "$$x \\left(x - 3\\right)$$"
      ],
      "text/plain": [
       "x⋅(x - 3)"
      ]
     },
     "execution_count": 17,
     "metadata": {},
     "output_type": "execute_result"
    }
   ],
   "source": [
    "sp.simplify(w)"
   ]
  },
  {
   "cell_type": "code",
   "execution_count": 18,
   "metadata": {
    "collapsed": false
   },
   "outputs": [
    {
     "data": {
      "image/png": "[encoded data removed]",
      "text/latex": [
       "$$\\left(x - 1\\right) \\left(x + 1\\right)$$"
      ],
      "text/plain": [
       "(x - 1)⋅(x + 1)"
      ]
     },
     "execution_count": 18,
     "metadata": {},
     "output_type": "execute_result"
    }
   ],
   "source": [
    "sp.factor(x**2-1)"
   ]
  },
  {
   "cell_type": "code",
   "execution_count": 23,
   "metadata": {
    "collapsed": false
   },
   "outputs": [
    {
     "data": {
      "image/png": "[encoded data removed]",
      "text/latex": [
       "$$\\frac{1}{x^{2} + 3 x + 2}$$"
      ],
      "text/plain": [
       "     1      \n",
       "────────────\n",
       " 2          \n",
       "x  + 3⋅x + 2"
      ]
     },
     "execution_count": 23,
     "metadata": {},
     "output_type": "execute_result"
    }
   ],
   "source": [
    "#partial ractions\n",
    "y = 1/(x**2+3*x+2)\n",
    "y"
   ]
  },
  {
   "cell_type": "code",
   "execution_count": 26,
   "metadata": {
    "collapsed": false
   },
   "outputs": [
    {
     "data": {
      "image/png": "[encoded data removed]",
      "text/latex": [
       "$$- \\frac{1}{x + 2} + \\frac{1}{x + 1}$$"
      ],
      "text/plain": [
       "    1       1  \n",
       "- ───── + ─────\n",
       "  x + 2   x + 1"
      ]
     },
     "execution_count": 26,
     "metadata": {},
     "output_type": "execute_result"
    }
   ],
   "source": [
    "sp.apart(y,x)"
   ]
  },
  {
   "cell_type": "code",
   "execution_count": 34,
   "metadata": {
    "collapsed": false
   },
   "outputs": [
    {
     "data": {
      "image/png": "[encoded data removed]",
      "text/latex": [
       "$$\\frac{d}{d x} f{\\left (x \\right )}$$"
      ],
      "text/plain": [
       "d       \n",
       "──(f(x))\n",
       "dx      "
      ]
     },
     "execution_count": 34,
     "metadata": {},
     "output_type": "execute_result"
    }
   ],
   "source": [
    "f = sp.Function('f')(x)\n",
    "sp.diff(f,x)"
   ]
  },
  {
   "cell_type": "code",
   "execution_count": 36,
   "metadata": {
    "collapsed": false
   },
   "outputs": [
    {
     "data": {
      "image/png": "[encoded data removed]",
      "text/latex": [
       "$$\\frac{\\partial^{2}}{\\partial x\\partial y}  g{\\left (x,y \\right )}$$"
      ],
      "text/plain": [
       "   2          \n",
       "  ∂           \n",
       "─────(g(x, y))\n",
       "∂y ∂x         "
      ]
     },
     "execution_count": 36,
     "metadata": {},
     "output_type": "execute_result"
    }
   ],
   "source": [
    "y = sp.Symbol('y')\n",
    "g = sp.Function('g')(x,y)\n",
    "g.diff(x,y)\n"
   ]
  },
  {
   "cell_type": "code",
   "execution_count": 39,
   "metadata": {
    "collapsed": false
   },
   "outputs": [
    {
     "data": {
      "image/png": "[encoded data removed]",
      "text/latex": [
       "$$\\left[\\begin{matrix}a & b\\\\c & d\\end{matrix}\\right]$$"
      ],
      "text/plain": [
       "⎡a  b⎤\n",
       "⎢    ⎥\n",
       "⎣c  d⎦"
      ]
     },
     "execution_count": 39,
     "metadata": {},
     "output_type": "execute_result"
    }
   ],
   "source": [
    "a,b,c,d = sp.symbols('a,b,c,d')\n",
    "M = sp.Matrix([[a,b],[c,d]])\n",
    "M"
   ]
  },
  {
   "cell_type": "code",
   "execution_count": 41,
   "metadata": {
    "collapsed": false
   },
   "outputs": [
    {
     "data": {
      "image/png": "[encoded data removed]",
      "text/latex": [
       "$$\\left[\\begin{matrix}a^{2} + b c & a b + b d\\\\a c + c d & b c + d^{2}\\end{matrix}\\right]$$"
      ],
      "text/plain": [
       "⎡ 2                  ⎤\n",
       "⎢a  + b⋅c   a⋅b + b⋅d⎥\n",
       "⎢                    ⎥\n",
       "⎢                  2 ⎥\n",
       "⎣a⋅c + c⋅d  b⋅c + d  ⎦"
      ]
     },
     "execution_count": 41,
     "metadata": {},
     "output_type": "execute_result"
    }
   ],
   "source": [
    "M*M"
   ]
  },
  {
   "cell_type": "code",
   "execution_count": 42,
   "metadata": {
    "collapsed": false
   },
   "outputs": [
    {
     "data": {
      "image/png": "[encoded data removed]",
      "text/latex": [
       "$$\\left[\\begin{matrix}x_{1}\\\\x_{2}\\end{matrix}\\right]$$"
      ],
      "text/plain": [
       "⎡x₁⎤\n",
       "⎢  ⎥\n",
       "⎣x₂⎦"
      ]
     },
     "execution_count": 42,
     "metadata": {},
     "output_type": "execute_result"
    }
   ],
   "source": [
    "x = sp.Matrix(sp.symbols('x_1,x_2'))\n",
    "x"
   ]
  },
  {
   "cell_type": "code",
   "execution_count": 43,
   "metadata": {
    "collapsed": false
   },
   "outputs": [
    {
     "data": {
      "image/png": "[encoded data removed]",
      "text/latex": [
       "$$\\left[\\begin{matrix}a x_{1} + b x_{2}\\\\c x_{1} + d x_{2}\\end{matrix}\\right]$$"
      ],
      "text/plain": [
       "⎡a⋅x₁ + b⋅x₂⎤\n",
       "⎢           ⎥\n",
       "⎣c⋅x₁ + d⋅x₂⎦"
      ]
     },
     "execution_count": 43,
     "metadata": {},
     "output_type": "execute_result"
    }
   ],
   "source": [
    "M*x"
   ]
  },
  {
   "cell_type": "code",
   "execution_count": 44,
   "metadata": {
    "collapsed": false
   },
   "outputs": [
    {
     "data": {
      "image/png": "[encoded data removed]",
      "text/latex": [
       "$$\\left[\\begin{matrix}a & c\\\\b & d\\end{matrix}\\right]$$"
      ],
      "text/plain": [
       "⎡a  c⎤\n",
       "⎢    ⎥\n",
       "⎣b  d⎦"
      ]
     },
     "execution_count": 44,
     "metadata": {},
     "output_type": "execute_result"
    }
   ],
   "source": [
    "M.T"
   ]
  },
  {
   "cell_type": "code",
   "execution_count": 45,
   "metadata": {
    "collapsed": false
   },
   "outputs": [
    {
     "data": {
      "image/png": "[encoded data removed]",
      "text/latex": [
       "$$a d - b c$$"
      ],
      "text/plain": [
       "a⋅d - b⋅c"
      ]
     },
     "execution_count": 45,
     "metadata": {},
     "output_type": "execute_result"
    }
   ],
   "source": [
    "M.det()"
   ]
  },
  {
   "cell_type": "code",
   "execution_count": 46,
   "metadata": {
    "collapsed": false
   },
   "outputs": [
    {
     "data": {
      "image/png": "[encoded data removed]",
      "text/latex": [
       "$$\\left[\\begin{matrix}\\frac{1}{a} + \\frac{b c}{a^{2} \\left(d - \\frac{b c}{a}\\right)} & - \\frac{b}{a \\left(d - \\frac{b c}{a}\\right)}\\\\- \\frac{c}{a \\left(d - \\frac{b c}{a}\\right)} & \\frac{1}{d - \\frac{b c}{a}}\\end{matrix}\\right]$$"
      ],
      "text/plain": [
       "⎡1       b⋅c           -b     ⎤\n",
       "⎢─ + ────────────  ───────────⎥\n",
       "⎢a    2 ⎛    b⋅c⎞    ⎛    b⋅c⎞⎥\n",
       "⎢    a ⋅⎜d - ───⎟  a⋅⎜d - ───⎟⎥\n",
       "⎢       ⎝     a ⎠    ⎝     a ⎠⎥\n",
       "⎢                             ⎥\n",
       "⎢      -c               1     ⎥\n",
       "⎢  ───────────       ───────  ⎥\n",
       "⎢    ⎛    b⋅c⎞           b⋅c  ⎥\n",
       "⎢  a⋅⎜d - ───⎟       d - ───  ⎥\n",
       "⎣    ⎝     a ⎠            a   ⎦"
      ]
     },
     "execution_count": 46,
     "metadata": {},
     "output_type": "execute_result"
    }
   ],
   "source": [
    "M.inv()"
   ]
  },
  {
   "cell_type": "code",
   "execution_count": 47,
   "metadata": {
    "collapsed": false
   },
   "outputs": [
    {
     "data": {
      "image/png": "[encoded data removed]",
      "text/latex": [
       "$$\\left[\\begin{matrix}1 & p\\\\q & 1\\end{matrix}\\right]$$"
      ],
      "text/plain": [
       "⎡1  p⎤\n",
       "⎢    ⎥\n",
       "⎣q  1⎦"
      ]
     },
     "execution_count": 47,
     "metadata": {},
     "output_type": "execute_result"
    }
   ],
   "source": [
    "p,q = sp.symbols('p,q')\n",
    "M = sp.Matrix([[1,p],[q,1]])\n",
    "M"
   ]
  },
  {
   "cell_type": "code",
   "execution_count": 48,
   "metadata": {
    "collapsed": false
   },
   "outputs": [
    {
     "data": {
      "image/png": "[encoded data removed]",
      "text/latex": [
       "$$\\left[\\begin{matrix}b_{1}\\\\b_{2}\\end{matrix}\\right]$$"
      ],
      "text/plain": [
       "⎡b₁⎤\n",
       "⎢  ⎥\n",
       "⎣b₂⎦"
      ]
     },
     "execution_count": 48,
     "metadata": {},
     "output_type": "execute_result"
    }
   ],
   "source": [
    "b = sp.Matrix(sp.symbols('b_1,b_2'))\n",
    "b"
   ]
  },
  {
   "cell_type": "code",
   "execution_count": 50,
   "metadata": {
    "collapsed": false
   },
   "outputs": [
    {
     "data": {
      "image/png": "[encoded data removed]",
      "text/latex": [
       "$$\\left[\\begin{matrix}b_{1} - \\frac{p \\left(- b_{1} q + b_{2}\\right)}{- p q + 1}\\\\\\frac{- b_{1} q + b_{2}}{- p q + 1}\\end{matrix}\\right]$$"
      ],
      "text/plain": [
       "⎡     p⋅(-b₁⋅q + b₂)⎤\n",
       "⎢b₁ - ──────────────⎥\n",
       "⎢        -p⋅q + 1   ⎥\n",
       "⎢                   ⎥\n",
       "⎢    -b₁⋅q + b₂     ⎥\n",
       "⎢    ──────────     ⎥\n",
       "⎣     -p⋅q + 1      ⎦"
      ]
     },
     "execution_count": 50,
     "metadata": {},
     "output_type": "execute_result"
    }
   ],
   "source": [
    "x = M.LUsolve(b)\n",
    "x"
   ]
  },
  {
   "cell_type": "code",
   "execution_count": 51,
   "metadata": {
    "collapsed": false
   },
   "outputs": [
    {
     "data": {
      "image/png": "[encoded data removed]",
      "text/latex": [
       "$$\\left[\\begin{matrix}b_{1} \\left(\\frac{p q}{- p q + 1} + 1\\right) - \\frac{b_{2} p}{- p q + 1}\\\\- \\frac{b_{1} q}{- p q + 1} + \\frac{b_{2}}{- p q + 1}\\end{matrix}\\right]$$"
      ],
      "text/plain": [
       "⎡   ⎛  p⋅q       ⎞     b₂⋅p  ⎤\n",
       "⎢b₁⋅⎜──────── + 1⎟ - ────────⎥\n",
       "⎢   ⎝-p⋅q + 1    ⎠   -p⋅q + 1⎥\n",
       "⎢                            ⎥\n",
       "⎢       b₁⋅q        b₂       ⎥\n",
       "⎢   - ──────── + ────────    ⎥\n",
       "⎣     -p⋅q + 1   -p⋅q + 1    ⎦"
      ]
     },
     "execution_count": 51,
     "metadata": {},
     "output_type": "execute_result"
    }
   ],
   "source": [
    "x = M.inv()*b\n",
    "x"
   ]
  },
  {
   "cell_type": "code",
   "execution_count": 1,
   "metadata": {
    "collapsed": false
   },
   "outputs": [],
   "source": [
    "import matplotlib as mpl\n",
    "import matplotlib.pyplot as plt\n",
    "import numpy as np"
   ]
  },
  {
   "cell_type": "code",
   "execution_count": 2,
   "metadata": {
    "collapsed": true
   },
   "outputs": [],
   "source": [
    "%matplotlib inline"
   ]
  },
  {
   "cell_type": "code",
   "execution_count": 4,
   "metadata": {
    "collapsed": false
   },
   "outputs": [
    {
     "name": "stderr",
     "output_type": "stream",
     "text": [
      "C:\\Users\\Neal\\Anaconda3\\lib\\site-packages\\matplotlib\\figure.py:397: UserWarning: matplotlib is currently using a non-GUI backend, so cannot show the figure\n",
      "  \"matplotlib is currently using a non-GUI backend, \"\n"
     ]
    },
    {
     "data": {
      "image/png": "[encoded data removed]",
      "text/plain": [
       "<matplotlib.figure.Figure at 0x29a4694b898>"
      ]
     },
     "metadata": {},
     "output_type": "display_data"
    }
   ],
   "source": [
    "fig = plt.figure(figsize=(8,2.5))\n",
    "ax = fig.add_axes((0.1,0.1,0.8,0.8))\n",
    "x = np.linspace(-2,2,1000)\n",
    "y1 = np.cos(40*x)\n",
    "y2 = np.exp(-x**2)\n",
    "ax.plot(x,y1*y2)\n",
    "ax.plot(x,y2,'g')\n",
    "ax.plot(x,-y2,'g')\n",
    "ax.set_ylabel('x')\n",
    "ax.set_ylabel('y')\n",
    "fig.show()"
   ]
  },
  {
   "cell_type": "code",
   "execution_count": 6,
   "metadata": {
    "collapsed": false
   },
   "outputs": [
    {
     "data": {
      "image/png": "[encoded data removed]",
      "text/plain": [
       "<matplotlib.figure.Figure at 0x29a46a0c080>"
      ]
     },
     "metadata": {},
     "output_type": "display_data"
    }
   ],
   "source": [
    "fig,axes = plt.subplots(nrows=3,ncols=2)"
   ]
  },
  {
   "cell_type": "code",
   "execution_count": 15,
   "metadata": {
    "collapsed": false
   },
   "outputs": [
    {
     "data": {
      "text/plain": [
       "<matplotlib.text.Annotation at 0x29a4765feb8>"
      ]
     },
     "execution_count": 15,
     "metadata": {},
     "output_type": "execute_result"
    },
    {
     "data": {
      "image/png": "[encoded data removed]",
      "text/plain": [
       "<matplotlib.figure.Figure at 0x29a47248b38>"
      ]
     },
     "metadata": {},
     "output_type": "display_data"
    }
   ],
   "source": [
    "fig, ax = plt.subplots(figsize=(12, 3))\n",
    "\n",
    "ax.set_yticks([])\n",
    "ax.set_xticks([])\n",
    "ax.set_xlim(-0.5, 3.5)\n",
    "ax.set_ylim(-0.05, 0.25)\n",
    "ax.axhline(0)\n",
    "\n",
    "ax.text(0, 0.1, \"Text label\", fontsize=14, family=\"serif\")\n",
    "\n",
    "ax.plot(1, 0, 'o')\n",
    "ax.annotate(\"Annotation\",\n",
    "            fontsize=14, family=\"serif\",\n",
    "            xy=(1, 0), xycoords='data',\n",
    "            xytext=(+20, +50), textcoords='offset points', \n",
    "            arrowprops=dict(arrowstyle=\"->\", connectionstyle=\"arc3, rad=1.5\"))\n",
    "\n",
    "ax.text(2, 0.1, r\"Equation: $i\\hbar\\partial_t \\Psi = \\hat{H}\\Psi$\", fontsize=14, family=\"serif\")\n",
    "\n",
    "ax.annotate('arc3', xy=(0.5, -1), xycoords='data',\n",
    "            xytext=(-30, -30), textcoords='offset points',\n",
    "            arrowprops=dict(arrowstyle=\"->\",\n",
    "                            connectionstyle=\"arc3,rad=.2\")\n",
    "            )\n",
    "\n",
    "ax.annotate('arc', xy=(1., 1), xycoords='data',\n",
    "            xytext=(-40, 30), textcoords='offset points',\n",
    "            arrowprops=dict(arrowstyle=\"->\",\n",
    "                            connectionstyle=\"arc,angleA=0,armA=30,rad=10\"),\n",
    "            )\n",
    "\n",
    "ax.annotate('arc', xy=(1.5, -1), xycoords='data',\n",
    "            xytext=(-40, -30), textcoords='offset points',\n",
    "            arrowprops=dict(arrowstyle=\"->\",\n",
    "                            connectionstyle=\"arc,angleA=0,armA=20,angleB=-90,armB=15,rad=7\"),\n",
    "            )\n"
   ]
  },
  {
   "cell_type": "code",
   "execution_count": 46,
   "metadata": {
    "collapsed": false
   },
   "outputs": [
    {
     "data": {
      "text/plain": [
       "[<matplotlib.lines.Line2D at 0x29a54dc18d0>]"
      ]
     },
     "execution_count": 46,
     "metadata": {},
     "output_type": "execute_result"
    },
    {
     "data": {
      "image/png": "[encoded data removed]",
      "text/plain": [
       "<matplotlib.figure.Figure at 0x29a47690978>"
      ]
     },
     "metadata": {},
     "output_type": "display_data"
    }
   ],
   "source": [
    "fig, ax = plt.subplots(figsize=(12, 3))\n",
    "\n",
    "ax.set_yticks([])\n",
    "ax.set_xticks([])\n",
    "ax.set_xlim(-1, 3.5)\n",
    "ax.set_ylim(-0.1, 1)\n",
    "ax.axhline(0)\n",
    "\n",
    "ax.text(0, 0.1, \"Text label\", fontsize=14, family=\"serif\")\n",
    "\n",
    "ax.text(2, 0.1, r\"Equation: $i\\hbar\\partial_t \\Psi = \\hat{H}\\Psi$\", fontsize=14, family=\"serif\")\n",
    "\n",
    "plt.annotate(\"Important Value\", (.5,.5), xycoords='data',xytext=(1,.2), arrowprops=dict(arrowstyle='->'))\n",
    "\n",
    "\n",
    "ax.plot([1,0],marker=r'$\\circlearrowleft$',ms=50)\n",
    "ax.plot([0,.5],marker=r'$\\downarrow$',ms=100)\n",
    "\n",
    "ax.plot(1, 0, 'o')"
   ]
  },
  {
   "cell_type": "code",
   "execution_count": 49,
   "metadata": {
    "collapsed": false
   },
   "outputs": [
    {
     "data": {
      "image/png": "[encoded data removed]",
      "text/plain": [
       "<matplotlib.figure.Figure at 0x29a472524e0>"
      ]
     },
     "metadata": {},
     "output_type": "display_data"
    }
   ],
   "source": [
    "from pylab import *\n",
    "from scipy import fft\n",
    "N = 2**9\n",
    "F = 25\n",
    "t = arange(N)/float(N)\n",
    "x = cos(2*pi*t*F) + rand(len(t))*3\n",
    "subplot(2,1,1)\n",
    "plot(t,x)\n",
    "ylabel('x []')\n",
    "xlabel('t [seconds]')\n",
    "title('A cosine wave')\n",
    "grid()\n",
    "\n",
    "subplot(2,1,2)\n",
    "f = t*N\n",
    "xf = fft(x)\n",
    "plot(f,abs(xf))\n",
    "title('Fourier transform of a cosine wave')\n",
    "xlabel('xf []')\n",
    "ylabel('xf []')\n",
    "xlim([0,N])\n",
    "grid()\n",
    "show()\n",
    "\n",
    "# note the spike at 25 hz and 512-25"
   ]
  },
  {
   "cell_type": "code",
   "execution_count": 54,
   "metadata": {
    "collapsed": true
   },
   "outputs": [],
   "source": [
    "import sys, time"
   ]
  },
  {
   "cell_type": "code",
   "execution_count": 55,
   "metadata": {
    "collapsed": false
   },
   "outputs": [
    {
     "name": "stdout",
     "output_type": "stream",
     "text": [
      "9\n"
     ]
    }
   ],
   "source": [
    "from IPython.display import display, clear_output\n",
    "for i in range(10):\n",
    "    time.sleep(0.25)\n",
    "    clear_output(wait=True)\n",
    "    print(i)\n",
    "    sys.stdout.flush()"
   ]
  },
  {
   "cell_type": "code",
   "execution_count": 58,
   "metadata": {
    "collapsed": false
   },
   "outputs": [
    {
     "data": {
      "image/png": "[encoded data removed]",
      "text/plain": [
       "<matplotlib.figure.Figure at 0x29a567417f0>"
      ]
     },
     "metadata": {},
     "output_type": "display_data"
    }
   ],
   "source": [
    "import numpy as np\n",
    "import time\n",
    "import matplotlib as mpl\n",
    "import matplotlib.pyplot as plt\n",
    "from scipy.special import jn\n",
    "x = np.linspace(0,5)\n",
    "f, ax = plt.subplots()\n",
    "ax.set_title(\"Bessel functions\")\n",
    "\n",
    "for n in range(1,10):\n",
    "    time.sleep(.2)\n",
    "    ax.plot(x, jn(x,n))\n",
    "    clear_output(wait=True)\n",
    "    display(f)\n",
    "\n",
    "# close the figure at the end, so we don't get a duplicate\n",
    "# of the last plot\n",
    "plt.close()"
   ]
  },
  {
   "cell_type": "code",
   "execution_count": 59,
   "metadata": {
    "collapsed": false
   },
   "outputs": [
    {
     "data": {
      "image/png": "[encoded data removed]",
      "text/plain": [
       "<matplotlib.figure.Figure at 0x29a54cfd908>"
      ]
     },
     "metadata": {},
     "output_type": "display_data"
    }
   ],
   "source": [
    "fig = plt.figure(figsize=(8, 4))\n",
    "\n",
    "def f(x):\n",
    "    return 1/(1 + x**2) + 0.1/(1 + ((3 - x)/0.1)**2)\n",
    "\n",
    "def plot_and_format_axes(ax, x, f, fontsize):\n",
    "    ax.plot(x, f(x), linewidth=2)\n",
    "    ax.xaxis.set_major_locator(mpl.ticker.MaxNLocator(5))\n",
    "    ax.yaxis.set_major_locator(mpl.ticker.MaxNLocator(4))\n",
    "    ax.set_xlabel(r\"$x$\", fontsize=fontsize)\n",
    "    ax.set_ylabel(r\"$f(x)$\", fontsize=fontsize)\n",
    "    \n",
    "# main graph\n",
    "ax = fig.add_axes([0.1, 0.15, 0.8, 0.8], axisbg=\"#f5f5f5\")\n",
    "x = np.linspace(-4, 14, 1000)\n",
    "plot_and_format_axes(ax, x, f, 18)\n",
    "\n",
    "# inset\n",
    "x0, x1 = 2.5, 3.5\n",
    "ax.axvline(x0, ymax=0.3, color=\"grey\", linestyle=\":\")\n",
    "ax.axvline(x1, ymax=0.3, color=\"grey\", linestyle=\":\")\n",
    "\n",
    "ax = fig.add_axes([0.5, 0.5, 0.38, 0.42], axisbg='none')\n",
    "x = np.linspace(x0, x1, 1000)\n",
    "plot_and_format_axes(ax, x, f, 14)\n",
    "\n",
    "fig.savefig(\"ch4-advanced-axes-inset.pdf\")"
   ]
  },
  {
   "cell_type": "code",
   "execution_count": 1,
   "metadata": {
    "collapsed": false
   },
   "outputs": [
    {
     "name": "stderr",
     "output_type": "stream",
     "text": [
      "C:\\Users\\neal\\Anaconda3\\lib\\site-packages\\IPython\\html.py:14: ShimWarning: The `IPython.html` package has been deprecated. You should import from `notebook` instead. `IPython.html.widgets` has moved to `ipywidgets`.\n",
      "  \"`IPython.html.widgets` has moved to `ipywidgets`.\", ShimWarning)\n"
     ]
    }
   ],
   "source": [
    "from IPython.html.widgets import interact\n",
    "from IPython.display import display\n",
    "from sympy import Symbol, Eq, factor, init_printing\n",
    "init_printing(use_latex='mathjax')\n",
    "x = Symbol('x')\n",
    "def factorit(n):\n",
    "    display(Eq(x**n-1, factor(x**n-1)))"
   ]
  },
  {
   "cell_type": "code",
   "execution_count": 2,
   "metadata": {
    "collapsed": false
   },
   "outputs": [
    {
     "data": {
      "text/latex": [
       "$$x^{12} - 1 = \\left(x - 1\\right) \\left(x + 1\\right) \\left(x^{2} + 1\\right) \\left(x^{2} - x + 1\\right) \\left(x^{2} + x + 1\\right) \\left(x^{4} - x^{2} + 1\\right)$$"
      ],
      "text/plain": [
       " 12                       ⎛ 2    ⎞ ⎛ 2        ⎞ ⎛ 2        ⎞ ⎛ 4    2    ⎞\n",
       "x   - 1 = (x - 1)⋅(x + 1)⋅⎝x  + 1⎠⋅⎝x  - x + 1⎠⋅⎝x  + x + 1⎠⋅⎝x  - x  + 1⎠"
      ]
     },
     "metadata": {},
     "output_type": "display_data"
    }
   ],
   "source": [
    "factorit(12)"
   ]
  },
  {
   "cell_type": "code",
   "execution_count": 3,
   "metadata": {
    "collapsed": false
   },
   "outputs": [
    {
     "data": {
      "text/latex": [
       "$$x^{38} - 1 = \\left(x - 1\\right) \\left(x + 1\\right) \\left(x^{18} - x^{17} + x^{16} - x^{15} + x^{14} - x^{13} + x^{12} - x^{11} + x^{10} - x^{9} + x^{8} - x^{7} + x^{6} - x^{5} + x^{4} - x^{3} + x^{2} - x + 1\\right) \\left(x^{18} + x^{17} + x^{16} + x^{15} + x^{14} + x^{13} + x^{12} + x^{11} + x^{10} + x^{9} + x^{8} + x^{7} + x^{6} + x^{5} + x^{4} + x^{3} + x^{2} + x + 1\\right)$$"
      ],
      "text/plain": [
       " 38                       ⎛ 18    17    16    15    14    13    12    11    10\n",
       "x   - 1 = (x - 1)⋅(x + 1)⋅⎝x   - x   + x   - x   + x   - x   + x   - x   + x  \n",
       "\n",
       "    9    8    7    6    5    4    3    2        ⎞ ⎛ 18    17    16    15    14\n",
       " - x  + x  - x  + x  - x  + x  - x  + x  - x + 1⎠⋅⎝x   + x   + x   + x   + x  \n",
       "\n",
       "    13    12    11    10    9    8    7    6    5    4    3    2        ⎞\n",
       " + x   + x   + x   + x   + x  + x  + x  + x  + x  + x  + x  + x  + x + 1⎠"
      ]
     },
     "metadata": {},
     "output_type": "display_data"
    }
   ],
   "source": [
    "interact(factorit, n=(2,40));"
   ]
  },
  {
   "cell_type": "code",
   "execution_count": 40,
   "metadata": {
    "collapsed": false
   },
   "outputs": [
    {
     "data": {
      "image/png": "[encoded data removed]",
      "text/plain": [
       "<matplotlib.figure.Figure at 0x29a53b90518>"
      ]
     },
     "metadata": {},
     "output_type": "display_data"
    }
   ],
   "source": [
    "fig = plt.figure()\n",
    "\n",
    "def clear_ticklabels(ax):\n",
    "    ax.set_yticklabels([])\n",
    "    ax.set_xticklabels([])\n",
    "\n",
    "ax0 = plt.subplot2grid((3, 3), (0, 0))\n",
    "ax1 = plt.subplot2grid((3, 3), (0, 1))\n",
    "ax2 = plt.subplot2grid((3, 3), (1, 0), colspan=2)\n",
    "ax3 = plt.subplot2grid((3, 3), (2, 0), colspan=3)\n",
    "ax4 = plt.subplot2grid((3, 3), (0, 2), rowspan=2)\n",
    "\n",
    "axes = [ax0, ax1, ax2, ax3, ax4]\n",
    "[ax.text(0.5, 0.5, \"ax%d\" % n, horizontalalignment='center') for n, ax in enumerate(axes)]\n",
    "[clear_ticklabels(ax) for ax in axes]\n",
    "\n",
    "fig.savefig(\"ch4-advanced-axes-subplot2grid.pdf\")"
   ]
  },
  {
   "cell_type": "markdown",
   "metadata": {},
   "source": []
  }
 ],
 "metadata": {
  "kernelspec": {
   "display_name": "Python 3",
   "language": "python",
   "name": "python3"
  },
  "language_info": {
   "codemirror_mode": {
    "name": "ipython",
    "version": 3
   },
   "file_extension": ".py",
   "mimetype": "text/x-python",
   "name": "python",
   "nbconvert_exporter": "python",
   "pygments_lexer": "ipython3",
   "version": "3.5.1"
  }
 },
 "nbformat": 4,
 "nbformat_minor": 0
}
