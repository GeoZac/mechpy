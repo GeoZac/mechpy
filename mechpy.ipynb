{
 "cells": [
  {
   "cell_type": "markdown",
   "metadata": {},
   "source": [
    "- - - -\n",
    "# Mechpy\n",
    "a mechanical engineer's toolbox   \n",
    "\n",
    "To view this notebook, use the [nbviewer](http://nbviewer.jupyter.org/github/nagordon/mechpy/blob/master/mechpy.ipynb)\n",
    "- - - -\n",
    "\n",
    "##  [Notes on Python](#Notes-on-Python)  \n",
    " * getting started\n",
    " * packages\n",
    " * plotting\n",
    " \n",
    "\n",
    "\n",
    "### Modules\n",
    "\n",
    "\n",
    "## 1) [Statics](#Statics)\n",
    "* [Example 1: A simple supported beam with shear-bending plots](#Statics-Example-1)\n",
    "* [Example 2: Vector calculation method to calculate 3-D moments](#Statics-Example-2)\n",
    "* [Distributed Loads Calculations](#Distributed-Loads-Calculations)\n",
    "\n",
    "## 2) [Materials](#Materials)\n",
    "* [composite mechanics](#Composite-Mechanics)\n",
    "\n",
    "\n",
    "## 3) Kinematics\n",
    "* [double_pendulum](http://matplotlib.org/examples/animation/double_pendulum_animated.html)\n",
    "\n",
    "\n",
    "## 4) Dynamics \n",
    "* [dynamics](#Dynamics)\n",
    "* [Python Vibration Codes](http://vibrationdata.com/software.htm)\n",
    "* [Dynamics Notes](#Dynamics-Vibrations-Notes)\n",
    "\n",
    "## 5) Design\n",
    "* [Factors of Safety](#(Factors-of-Safety)  \n",
    "\n",
    "\n",
    "## Appendix A: [Engineering Mathematics with Python](#Engineering-Mathematics-with-Python)\n",
    "[Differential Equations](#Differential-Equations)  \n",
    "[Linear Algebra](#Linear-Algebra)  \n",
    "[Signal Processing](#Signal-Processing)  \n",
    "[Finite Element Method](#Finite-Element-Method)\n",
    "* [solids FEM example](#FEM-Example-1)  \n",
    "\n",
    "[Curve Fitting](#Curve-Fitting)   \n",
    "\n",
    "[Units](#Units)    \n",
    "\n",
    "\n",
    "## Appendix B: [Engineering Software APIs](Engineering-Software-APIs)\n",
    "\n",
    "[Abaqus](Abaqus)  \n",
    "[CATIA](CATIA)  \n",
    "[Excel](Excel)  \n",
    "\n",
    "\n",
    "- - - -\n",
    "\n",
    "## References\n",
    "Hibbler - Statics  \n",
    "Hibbler - Mechanics of Materials  \n",
    "Mechanical Design of Machine Elements and Machines - Collins et al\n",
    "Practical Stress Analysis for Design Engineers - Flabel\n",
    "Aircraft Structures - Peery\n",
    "Airframe Stress Analysis and Sizing - Niu\n",
    "\n",
    "## Resources to check out  \n",
    "\n",
    "### General Python\n",
    "http://scipy-cookbook.readthedocs.io/index.html    \n",
    "https://wiki.python.org/moin/NumericAndScientific  \n",
    "\n",
    "\n",
    "### Math\n",
    "[Numerical Python - A Practical Techniques Approach for Industry](http://www.apress.com/9781484205549) with [source code](http://www.apress.com/downloadable/download/sample/sample_id/1732/)  \n",
    "\n",
    "[Python Numerical MOOC](https://github.com/numerical-mooc/numerical-mooc) and the [course](http://openedx.seas.gwu.edu/courses/GW/MAE6286/2014_fall/about)\n",
    "\n",
    "[ode solver](http://hplgit.github.io/odespy/doc/web/index.html  )  \n",
    "\n",
    "[pint units](http://pint.readthedocs.io/en/0.7.2/  )\n",
    "\n",
    "http://matplotlib.org/examples/animation/double_pendulum_animated.html\n",
    "\n",
    "#Link and Resources\n",
    "\n",
    "[Differential Equations with Python](#Differential-Equations-with-Python)\n",
    "\n",
    "[Sympy Plotting](#Sympy-Plotting)  \n",
    "\n",
    "[matplotlib plotting](#Matplotlib-Plotting)\n",
    "\n",
    "[Linear Algebra with Python](#Linear-Algebra-with-Python)  \n",
    " * [Numpy Linear Algebra](#Numpy-Linear-Algebra)  \n",
    " * [Sympy Linear Algebra](#Sympy-Linear-Algebra)  \n",
    "\n",
    "[Signal Processing](#Signal-Processing)\n",
    "\n",
    "\n",
    "\n",
    "### Dynamics  \n",
    "http://www.siue.edu/~rkrauss/python_intro.html  \n",
    "https://pypi.python.org/pypi/control/0.7.0  \n",
    "https://www.cds.caltech.edu/~murray/wiki/Control_Systems_Library_for_Python  \n",
    "https://github.com/bblais/pyndamics   \n",
    "http://python-control.sourceforge.net/manual/  \n",
    "http://www.pydy.org/  \n",
    "http://www.vibrationdata.com/python/   \n",
    "http://www.gribblelab.org/compneuro/index.html  \n",
    "http://scipy.github.io/old-wiki/pages/Cookbook/CoupledSpringMassSystem  \n",
    "https://ics.wofford-ecs.org/  \n",
    "\n",
    "### Aero\n",
    "http://aeropy.readthedocs.io/en/latest/   \n",
    "\n",
    "### Materials\n",
    "https://github.com/nagordon/ME701  \n",
    "https://github.com/nagordon/mcgill_mech_530_selimb  \n",
    "https://github.com/elainecraigie/MechanicsOfCompositesProject_ECraigie  \n",
    "\n",
    "### Open source FEA  \n",
    "Trying to find an eopn-source alternative for stress, thermal fea  \n",
    "[getfem++](http://download.gna.org/getfem/html/homepage/)  \n",
    "[elmer](https://csc.fi/web/elmer/application-examples)  \n",
    "[freefem++](https://www.ljll.math.upmc.fr/lehyaric/ffjs/15.6/ffjs.htm)  \n",
    "[calculix]()  \n",
    "[pycalculix](http://justinablack.com/pycalculix/)  \n",
    "[precisesimulation](http://www.precisesimulation.com/)  \n",
    "[fenics](http://fenicsproject.org/)  \n",
    "```\n",
    "sudo apt-get install fenics\n",
    "```\n",
    "[featool](http://www.precisesimulation.com/featool/)  \n",
    "[wikipedia list](https://en.wikipedia.org/wiki/List_of_finite_element_software_packages)  \n",
    "\n",
    "\n",
    "\n",
    "\n",
    "## Math with Software\n",
    "\n",
    "Scipy Notes and references\n",
    "https://docs.scipy.org/doc/numpy-dev/user/numpy-for-matlab-users.html\n",
    "http://www.davekuhlman.org/scipy_guide_01.html\n",
    "http://hplgit.github.io/bumpy/doc/pub/._bumpy010.html#app:resources\n",
    "https://github.com/hplgit/bumpy/blob/master/doc/src/fig-bumpy/bumpy_road_fig.py\n",
    "\n",
    "\n",
    "\n",
    "python beam integrals\n",
    "https://pypi.python.org/pypi/beam_integrals/1.1.0\n",
    "\n",
    "Sage - http://wiki.sagemath.org/quickref  \n",
    "http://www.gregorybard.com/SAGE.html  \n",
    "http://www.people.vcu.edu/~clarson/bard-sage-for-undergraduates-2014.pdf  \n",
    "http://www.wolframalpha.com/  \n",
    "http://www.sympy.org/en/features.html  \n",
    "http://scipy-lectures.github.io/advanced/sympy.html  \n",
    "http://docs.sympy.org/dev/tutorial/calculus.html  \n",
    "http://arachnoid.com/IPython/differential_equations.html  \n",
    "  \n",
    "test   \n",
    "http://www.usna.edu/Users/math/wdj/_files/documents/teach/sm212/DiffyQ/des-book-2009-11-24.pdf  \n",
    "\n",
    "Linear Algebra  \n",
    "http://www.scipy-lectures.org/advanced/sympy.html  \n",
    "https://wiki.python.org/moin/NumericAndScientific  \n",
    "\n",
    "\n",
    "## Books\n",
    "Learning SciPy for Numerical and Scientific Computing  \n",
    "[Elementary Mechanics Using Python](http://www.springer.com/us/book/9783319195957#aboutBook)  \n",
    "\n",
    "\n",
    "# mechanical-engineering-notes\n",
    "my random notes on various mechanical engineering disciplines\n",
    "\n",
    "Random Python Scripts\n",
    "\n",
    "[Cornell](http://pages.physics.cornell.edu/~sethna/StatMech/ComputerExercises/PythonSoftware/)\n",
    "\n",
    "Python Books\n",
    "\n",
    "Beginning Python Visualization - Shai Vaingast  \n",
    "\n",
    "A Primer on Scientific Programming With Python - Hans Petter Langtangen\n",
    "\n",
    "[scipy](http://docs.scipy.org/doc/scipy/reference/tutorial/)  \n",
    "[sympy](http://docs.sympy.org/dev/tutorial/intro.html)  \n",
    "[python fea](http://justinablack.com/pycalculix/)  \n",
    "[aero python](http://lorenabarba.com/blog/announcing-aeropython/)  \n",
    "[libre mechanics](http://www.libremechanics.com/)  \n",
    "[pygear](http://sourceforge.net/projects/pygear/)  \n",
    "[materia abaqus plugin](http://sourceforge.net/projects/materia/?source=directory)  \n",
    "[pyaero](http://pyaero.sourceforge.net/)  \n",
    "[kinematics](http://matplotlib.org/examples/animation/double_pendulum_animated.html)  \n",
    "http://vibrationdata.com/software.htm  \n",
    "http://central.scipy.org/item/84/1/simple-interactive-matplotlib-plots  \n",
    "https://github.com/rougier/matplotlib-tutorial  \n",
    "http://www.scipy-lectures.org/index.html  \n",
    "https://github.com/rougier/numpy-100  \n",
    "https://github.com/rojassergio/Learning-Scipy  \n",
    "[Python numerical methods mooc](http://openedx.seas.gwu.edu/courses/GW/MAE6286/2014_fall/about)  \n",
    "\n",
    "SImulation\n",
    "http://www.petercollingridge.co.uk/pygame-physics-simulation  \n",
    "http://www-personal.umich.edu/~mejn/computational-physics/  \n",
    "\n",
    "Newton Game Dynamics\n",
    "Chipmunk\n",
    "Bullet\n",
    "Box2D\n",
    "ODE (Open Dynamics Engine)\n",
    "There are also ports of most of the engines:\n",
    "\n",
    "Pymunk   http://www.pymunk.org/en/latest/readme.html     http://chipmunk-physics.net/  \n",
    "PyBullet\n",
    "PyBox2D   https://github.com/pybox2d/pybox2d\n",
    "PyODE     http://pyode.sourceforge.net/tutorials/tutorial2.html\n",
    "\n",
    "\n",
    "Mastering scipy - pg 198\n",
    "\n",
    "\n",
    "Learning Scipy for Numerical Computation\n",
    "hippodraw\n",
    "biggles\n",
    "pip instal pudb  # debugger\n",
    "audio processing\n",
    "\n",
    "Numerical Python\n",
    "http://wiki.python.org/moin/NumericAndScientific.\n",
    "\n",
    "\n",
    "FEM - NUmerical Python pg 690/1311\n",
    "\n",
    "\n",
    "\n",
    "\n",
    "Other neat engineering python modules \n",
    " * [pyndamics]() with [example](http://nbviewer.ipython.org/gist/bblais/7321928)\n",
    " * [control-systems](https://github.com/python-control/python-control)\n",
    " * [grid solvers](http://pyamg.org/) with [example)[https://code.google.com/p/pyamg/wiki/Examples]\n",
    " * [python dynamics](http://www.pydy.org/),(https://pypi.python.org/pypi/pydy/), [examples](#http://nbviewer.jupyter.org/github/pydy/pydy-tutorial-human-standing/tree/online-read/notebooks/)\n",
    " * [sympy classical mechanics](http://docs.sympy.org/latest/modules/physics/mechanics/index.html)\n",
    "\n",
    "http://docs.sympy.org/latest/modules/physics/mechanics/index.html\n",
    "https://github.com/cdsousa/sympybotics\n",
    "https://pypi.python.org/pypi/Hamilton\n",
    "https://pypi.python.org/pypi/arboris\n",
    "https://pypi.python.org/pypi/PyODE\n",
    "https://pypi.python.org/pypi/odeViz\n",
    "https://pypi.python.org/pypi/ARS\n",
    "https://pypi.python.org/pypi/pymunk\n",
    "http://scipy.github.io/old-wiki/pages/NumPy_for_Matlab_Users.html\n",
    " \n",
    " https://docs.scipy.org/doc/numpy-dev/user/numpy-for-matlab-users.html\n",
    " \n",
    "TODO\n",
    " - [ ] Add OOP model to generate Free Body Diagrams\n",
    " - [ ] add shear-bending diagrams \n",
    " \n",
    "## Link Dump\n",
    "http://compmech.lab.asu.edu/data/pyfem.py\n",
    "http://www.math.pitt.edu/~sussmanm/3040Summer14/math3040.html\n",
    "http://bendingmomentdiagram.com/solve/\n",
    "http://www.toysrus.com/product/index.jsp?productId=57582136&cp=2255956.2273442.2255971.2257762.4036204&parentPage=family\n",
    "http://www.grc.nasa.gov/WWW/StructuresMaterials/MLP/software/mac-gmc/\n",
    "http://www.alphastarcorp.com/intro/index.jsp\n",
    "http://analyswift.com/products/gebt-geometrically-exact-beam-theory-for-composite-slender-structures/\n",
    "http://hypersizer.com/\n",
    "http://www.espcomposites.com/software/software.html\n",
    "http://en.cadec-online.com/\n",
    "http://www.mathworks.com/matlabcentral/fileexchange/?search_submit=fileexchange&query=composites&term=composites\n",
    " \n",
    "Akron composite fortran code\n",
    "https://forceeffect.autodesk.com/frontend/fe.html\n",
    "http://www.jetaerospace.org/Gallery/askance_layout_calc.htm\n",
    "http://documen.tician.de/meshpy/\n",
    "http://mathema.tician.de/software/meshpy/\n",
    "http://fenicsproject.org/documentation/dolfin/1.4.0/python/demo/documented/mesh-generation/python/documentation.html\n",
    "https://wiki.scilab.org/Finite%20Elements%20in%20Scilab\n",
    "http://pyamg.org/\n",
    "\n",
    "\n",
    "units in python\n",
    "https://pypi.python.org/pypi/Unum\n",
    "\n",
    "Check out the dependencies of mechpy for specific examples and documentation\n",
    " * Scipy\n",
    "   * numpy\n",
    "   * sympy\n",
    "   * matplotlib\n",
    "   * pandas\n",
    " * pyndamics"
   ]
  },
  {
   "cell_type": "markdown",
   "metadata": {},
   "source": [
    "# Notes on Python\n",
    "\n",
    "to plot inline in the ipython console or jupyter notebook, otherwise plots will be in the a seperate window\n",
    "\n",
    "to turn on inline plotting\n",
    "```python\n",
    "from IPython import get_ipython\n",
    "get_ipython().magic('matplotlib inline')\n",
    "#or\n",
    "%matplotlib inline\n",
    "```\n",
    "\n",
    "to turn off inline plotting\n",
    "```python\n",
    "get_ipython().magic('matplotlib')\n",
    "#or\n",
    "%matplotlib\n",
    "#or \n",
    "%matplotlib qt\n",
    "```"
   ]
  },
  {
   "cell_type": "code",
   "execution_count": 69,
   "metadata": {
    "collapsed": false
   },
   "outputs": [
    {
     "name": "stderr",
     "output_type": "stream",
     "text": [
      "[NbConvertApp] Converting notebook mechpy.ipynb to html\n",
      "[NbConvertApp] Writing 1207968 bytes to mechpy.html\n"
     ]
    }
   ],
   "source": [
    "!jupyter nbconvert --to html mechpy.ipynb"
   ]
  },
  {
   "cell_type": "markdown",
   "metadata": {},
   "source": [
    "## Python Initilaization with module imports"
   ]
  },
  {
   "cell_type": "code",
   "execution_count": 6,
   "metadata": {
    "collapsed": false
   },
   "outputs": [
    {
     "name": "stdout",
     "output_type": "stream",
     "text": [
      "Using matplotlib backend: Qt4Agg\n"
     ]
    }
   ],
   "source": [
    "# setup \n",
    "import numpy as np\n",
    "import sympy as sp\n",
    "import scipy\n",
    "from pprint import pprint\n",
    "sp.init_printing(use_latex='mathjax')\n",
    "\n",
    "import matplotlib.pyplot as plt\n",
    "plt.rcParams['figure.figsize'] = (12, 8)  # (width, height)\n",
    "plt.rcParams['font.size'] = 14\n",
    "plt.rcParams['legend.fontsize'] = 16\n",
    "from matplotlib import patches\n",
    "\n",
    "get_ipython().magic('matplotlib')  # seperate window\n",
    "get_ipython().magic('matplotlib inline') # inline plotting"
   ]
  },
  {
   "cell_type": "markdown",
   "metadata": {
    "collapsed": true
   },
   "source": [
    "- - - -\n",
    "# Statics \n",
    "[index](#Mechpy)\n",
    "- - - -\n",
    "\n",
    "The sum of the forces is zero\n",
    "$$\n",
    "\\Sigma F_x =0 , \\Sigma F_y =0 , \\Sigma F_z =0  \n",
    "$$\n",
    "The sum of the moments is zero\n",
    "$$\n",
    "\\Sigma M_x =0 , \\Sigma M_y =0 , \\Sigma M_z =0  \n",
    "$$\n",
    "\n",
    "Dot Product\n",
    "\n",
    "$$\n",
    "\\vec{A} \\bullet \\vec{B} = ABcos\\left(\\theta\\right)= A_xB_x + A_yB_y+A_zB_z\n",
    "$$\n",
    "\n",
    "Cross-Product\n",
    "\n",
    "$$\n",
    "\\vec{C}=\\vec{A} \\times \\vec{B} = \n",
    "\\begin{vmatrix}\n",
    "    \\widehat{i} & \\widehat{j} & \\widehat{k}\\\\\n",
    "    A_{x} & A_{y} & A_{z}\\\\\n",
    "    B_{x} & B_{y} & B_{z}\n",
    "\\end{vmatrix} \n",
    "$$\n",
    "\n",
    "Moment of Force\n",
    "$$\n",
    "M_0 = Fd \\\\\n",
    "\\vec{M_0}=\\vec{r}\\times \\vec{F} = \n",
    "\\begin{vmatrix}\n",
    "    \\widehat{i} & \\widehat{j} & \\widehat{k}\\\\\n",
    "    r_{x} & r_{y} & r_{z}\\\\\n",
    "    F_{x} & F_{y} & F_{z}\n",
    "\\end{vmatrix} \n",
    "$$\n",
    "\n",
    "Moment of Force about a Specified axis\n",
    "$$\n",
    "\\vec{M_a}=\\vec{u}\\bullet\\vec{r}\\times \\vec{F} = \n",
    "\\begin{vmatrix}\n",
    "    u_{x} & u_{y} & u_{z} \\\\\n",
    "    r_{x} & r_{y} & r_{z} \\\\\n",
    "    F_{x} & F_{y} & F_{z}\n",
    "\\end{vmatrix} \n",
    "$$\n"
   ]
  },
  {
   "cell_type": "markdown",
   "metadata": {
    "collapsed": true
   },
   "source": [
    "### Statics-Example 1\n",
    "#### A simple supported beam with shear-bending plots"
   ]
  },
  {
   "cell_type": "code",
   "execution_count": 7,
   "metadata": {
    "collapsed": false
   },
   "outputs": [
    {
     "data": {
      "image/png": "[encoded data removed]",
      "text/plain": [
       "<matplotlib.figure.Figure at 0x1edd2fdbd30>"
      ]
     },
     "metadata": {},
     "output_type": "display_data"
    }
   ],
   "source": [
    "from mechpy.statics import simple_support\n",
    "simple_support()"
   ]
  },
  {
   "cell_type": "markdown",
   "metadata": {},
   "source": [
    "### Statics-Example 2\n",
    "### Vector calculation method to calculate 3-D moments"
   ]
  },
  {
   "cell_type": "markdown",
   "metadata": {},
   "source": [
    "$\n",
    "\\vec{M_{R_0}}=\\Sigma \\left( \\vec{r} \\times \\vec{F} \\right) = \\vec{r_A}\\times\\vec{F_1} +\\vec{r_A}\\times\\vec{F_2} + \\vec{r_B}\\times\\vec{F_3}\n",
    "$"
   ]
  },
  {
   "cell_type": "code",
   "execution_count": 8,
   "metadata": {
    "collapsed": false
   },
   "outputs": [
    {
     "name": "stdout",
     "output_type": "stream",
     "text": [
      "Total Moment vector\n",
      "[ 30 -40  60]\n",
      "Total Force Vector about point O\n",
      "[ 20 130 -10]\n",
      "unit vector of the moment\n",
      "[ 0.38411064 -0.51214752  0.76822128]\n",
      "angles at which the moments react\n",
      "[  67.41146121  120.80698112   39.80557109]\n"
     ]
    },
    {
     "data": {
      "image/png": "[encoded data removed]",
      "text/plain": [
       "<matplotlib.figure.Figure at 0x1edd3828b70>"
      ]
     },
     "metadata": {},
     "output_type": "display_data"
    }
   ],
   "source": [
    "from mechpy.statics import moment_calc\n",
    "moment_calc()"
   ]
  },
  {
   "cell_type": "markdown",
   "metadata": {},
   "source": [
    "### Distributed Loads Calculations\n",
    "\n",
    "$\n",
    "F_R = \\Sigma F=\\int_L w(x) \\,dx  = \\int_A dA \\,dx  \n",
    "$\n",
    "\n",
    "example, hibbler, pg 187\n",
    "\n",
    "$$\n",
    "F_R=\\int_A dA \\, =  \\int_{0}^{2} \\, 60x^2 \\, dx = 160 N\n",
    "$$\n",
    "\n",
    "$$\n",
    " \\overline{x} = \\frac{\\int_A x \\, dA}{\\int_A dA} =  \\frac{\\int_{0}^{2} x60x^2 \\, dx}{\\int_{0}^{2} \\, 60x^2 \\, dx} = \\frac{240}{160}\n",
    "$$"
   ]
  },
  {
   "cell_type": "code",
   "execution_count": 9,
   "metadata": {
    "collapsed": false
   },
   "outputs": [
    {
     "data": {
      "image/png": "[encoded data removed]",
      "text/plain": [
       "<matplotlib.figure.Figure at 0x1edd50ada58>"
      ]
     },
     "metadata": {},
     "output_type": "display_data"
    }
   ],
   "source": [
    "x = sp.var('x')\n",
    "w = 60*x**2# N/m\n",
    "sp.plot(w, (x,0,2));"
   ]
  },
  {
   "cell_type": "code",
   "execution_count": 6,
   "metadata": {
    "collapsed": false
   },
   "outputs": [
    {
     "data": {
      "text/latex": [
       "$$240$$"
      ],
      "text/plain": [
       "240"
      ]
     },
     "execution_count": 6,
     "metadata": {},
     "output_type": "execute_result"
    }
   ],
   "source": [
    "w.subs(x,2)"
   ]
  },
  {
   "cell_type": "code",
   "execution_count": 7,
   "metadata": {
    "collapsed": false
   },
   "outputs": [
    {
     "data": {
      "text/latex": [
       "$$\\int_{0}^{2} 60 x^{2}\\, dx$$"
      ],
      "text/plain": [
       "2         \n",
       "⌠         \n",
       "⎮     2   \n",
       "⎮ 60⋅x  dx\n",
       "⌡         \n",
       "0         "
      ]
     },
     "execution_count": 7,
     "metadata": {},
     "output_type": "execute_result"
    }
   ],
   "source": [
    "sp.Integral(w,(x,0,2))"
   ]
  },
  {
   "cell_type": "code",
   "execution_count": 8,
   "metadata": {
    "collapsed": false
   },
   "outputs": [
    {
     "data": {
      "text/latex": [
       "$$20 x^{3}$$"
      ],
      "text/plain": [
       "    3\n",
       "20⋅x "
      ]
     },
     "execution_count": 8,
     "metadata": {},
     "output_type": "execute_result"
    }
   ],
   "source": [
    "sp.integrate(w)"
   ]
  },
  {
   "cell_type": "code",
   "execution_count": 9,
   "metadata": {
    "collapsed": false
   },
   "outputs": [
    {
     "data": {
      "text/latex": [
       "$$160$$"
      ],
      "text/plain": [
       "160"
      ]
     },
     "execution_count": 9,
     "metadata": {},
     "output_type": "execute_result"
    }
   ],
   "source": [
    "sp.integrate(w,(x,0,2))"
   ]
  },
  {
   "cell_type": "code",
   "execution_count": 10,
   "metadata": {
    "collapsed": false
   },
   "outputs": [
    {
     "data": {
      "text/latex": [
       "$$\\int_{0}^{2} 60 x^{3}\\, dx$$"
      ],
      "text/plain": [
       "2         \n",
       "⌠         \n",
       "⎮     3   \n",
       "⎮ 60⋅x  dx\n",
       "⌡         \n",
       "0         "
      ]
     },
     "execution_count": 10,
     "metadata": {},
     "output_type": "execute_result"
    }
   ],
   "source": [
    "sp.Integral(x*w,(x,0,2))"
   ]
  },
  {
   "cell_type": "code",
   "execution_count": 11,
   "metadata": {
    "collapsed": false
   },
   "outputs": [
    {
     "data": {
      "text/latex": [
       "$$15 x^{4}$$"
      ],
      "text/plain": [
       "    4\n",
       "15⋅x "
      ]
     },
     "execution_count": 11,
     "metadata": {},
     "output_type": "execute_result"
    }
   ],
   "source": [
    "sp.integrate(w*x)"
   ]
  },
  {
   "cell_type": "code",
   "execution_count": 12,
   "metadata": {
    "collapsed": false
   },
   "outputs": [
    {
     "data": {
      "text/latex": [
       "$$240$$"
      ],
      "text/plain": [
       "240"
      ]
     },
     "execution_count": 12,
     "metadata": {},
     "output_type": "execute_result"
    }
   ],
   "source": [
    "sp.integrate(x*w,(x,0,2))"
   ]
  },
  {
   "cell_type": "code",
   "execution_count": 13,
   "metadata": {
    "collapsed": false
   },
   "outputs": [
    {
     "name": "stdout",
     "output_type": "stream",
     "text": [
      "center of load of an exponential distributed load is 1.500000\n"
     ]
    }
   ],
   "source": [
    "FR= float(sp.integrate(w,(x,0,2)))\n",
    "xbar = float(sp.integrate(x*w,(x,0,2)))/FR\n",
    "print('center of load of an exponential distributed load is %f' % xbar)"
   ]
  },
  {
   "cell_type": "code",
   "execution_count": 14,
   "metadata": {
    "collapsed": false
   },
   "outputs": [
    {
     "name": "stdout",
     "output_type": "stream",
     "text": [
      "M_x = -19.128000 \n",
      "M_y = 70.875000 \n",
      "M_z = -40.500000\n"
     ]
    }
   ],
   "source": [
    "#hibbler pg 346\n",
    "\n",
    "import numpy as np\n",
    "\n",
    "r = np.array([    0, 3 , 5.25])\n",
    "F = np.array([-13.5, 0 ,6.376])\n",
    "M = -np.cross(r,F)\n",
    "\n",
    "# moments \n",
    "print('M_x = %f \\nM_y = %f \\nM_z = %f' % (M[0], M[1], M[2] ))"
   ]
  },
  {
   "cell_type": "markdown",
   "metadata": {},
   "source": [
    "# Materials\n",
    "[index](#Mechpy)\n",
    "\n",
    "## Stress and Strain\n",
    "Stress is a tensor that can be broken into \n",
    "\n",
    "$$\n",
    "\\overline{\\sigma}=\\begin{bmatrix}\n",
    " \\sigma_{xx} & \\sigma_{xy} & \\sigma_{xz}\\\\\n",
    " \\sigma_{yx} & \\sigma_{yy} & \\sigma_{yz}\\\\\n",
    " \\sigma_{zx} & \\sigma_{zy} & \\sigma_{zz}\n",
    " \\end{bmatrix} \n",
    "$$\n",
    "\n",
    "\n",
    "\n",
    "## Factors of safety\n",
    "In aerospace, typically 1.2 for civilian aircraft and 1.15 for military\n",
    "\n",
    "$$FS=\\frac{\\sigma_{yield}}{\\sigma}-1$$  \n",
    "\n",
    "## Fastener Notes and Formulas\n",
    "\n",
    "Finding the centroid of a bolt with coordinates, $\\overline{x},\\overline{y}$\n",
    "$$ \\overline{x}=\\frac{\\sum_{i=1}^{n_b}{A_i x_i} }{\\sum_{i=1}^{n_b}{A_i} } \\ \\ \\overline{y}=\\frac{\\sum_{i=1}^{n_b}{A_i y_i} }{\\sum_{i=1}^{n_b}{A_i}}$$\n",
    "\n",
    "Joint/Polar Moment of Inertia, $r=$ distance from centroid to fastener\n",
    "$$J= \\int{r^2dA}= \\sum_{i=1}^{n_b}{A_k r_k^2}$$\n",
    "\n",
    "Bearing Stress on a bolt\n",
    "$$\\sigma^i_{bearing}=\\frac{V_{max}}{Dt}$$\n",
    "\n",
    "Shear Stress on each bolt i due to shear force\n",
    "$$\\tau_f^i = \\frac{P}{\\sum_{i=1}^{n_b}{A_i} }$$  \n",
    "Where $A_i=$ the area of ith bolt, $n_b=$number of bolts, and $P=$ shear force\n",
    "\n",
    "Shear Stress on each bolt i due to moment\n",
    "$$\\tau_t^i = \\frac{T r_i}{J} $$  \n",
    "\n",
    "### Modes of failure of fastened Joints\n",
    "1. Tensile Plate Failure across the net section between rivets/bolts\n",
    "2. Failure of rivets through shear\n",
    "3. Compression failure between rivet and plate\n",
    "4. Edge shear-out at rivet hole\n",
    "5. Edge tearing at rivet hole\n",
    "\n",
    "#### 1.\n",
    "\n",
    "$$\\sigma_t =\\frac{F_s}{(b-nd)t}$$\n",
    "\n",
    "#### 2.\n",
    "\n",
    "#### 3.\n",
    "\n",
    "#### 4.\n",
    "\n",
    "#### 5.\n",
    "\n",
    "\n",
    "\n",
    "## Adhesive Joints\n",
    "\n",
    "With members, or adherends, joined with adhesives, either the member will fail due to tensile loads or the adhesive will fail in shear.\n",
    "\n",
    "The simple solution to finding the stress of bonded surfaces is taking the average stress\n",
    "$$\\tau_{avg}=\\frac{P}{bL}$$, is not an accurate way to model maximum stress. A good rule of thumb based on the calculations below is \n",
    "$$\\tau_{max}=2.08\\tau_{avg}$$\n",
    "\n",
    "The maximum shearing stress of an adhesive layer, $\\tau_{max}$, can be computed as \n",
    "$$\\tau_{max}=K_s\\tau_{avg}=K_s\\left(\\frac{P}{bL_L}\\right)$$\n",
    "with $P$ as applied load, $b$ as the width ofthe adhesive layer, and $L_L$ as the length ofthe adhesive layer. The stress distribution factor, $K_s$, can be defined as $K_s=\\frac{cL}{tanh(CL/2)}$ where $c=\\sqrt{\\frac{2G_a}{Et_mt_a}}$, where the shear modulus, $G_a=\\frac{\\tau}{\\gamma}$, and $E$ as the modulus of elasticity.\n",
    "\n",
    "\n",
    "The max shearing stress, $\\tau_{max}$ in a scarf joint can be found with \n",
    "$$\\tau_{max}=K_s\\tau_{avg}=K_s\\left[ \\frac{Pcos\\theta}{\\left(\\frac{bt}{sin\\theta} \\right)  } \\right] = K_s\\left(  \\frac{P}{bt} sin\\theta cos\\theta \\right)$$\n",
    "where $t$ is the thickness of the adherend members and $\\theta=tan^{-1}\\frac{t}{L_s}$ is the scarf angle\n",
    "\n",
    "*Mechanical Design of Machine Elements and Machines by Collins, Jack A., Busby, Henry R., Staab, George H. (2009)*"
   ]
  },
  {
   "cell_type": "code",
   "execution_count": null,
   "metadata": {
    "collapsed": false
   },
   "outputs": [],
   "source": []
  },
  {
   "cell_type": "code",
   "execution_count": 8,
   "metadata": {
    "collapsed": true
   },
   "outputs": [],
   "source": [
    "%matplotlib inline"
   ]
  },
  {
   "cell_type": "code",
   "execution_count": 7,
   "metadata": {
    "collapsed": false
   },
   "outputs": [
    {
     "data": {
      "text/html": [
       "<div>\n",
       "<table border=\"1\" class=\"dataframe\">\n",
       "  <thead>\n",
       "    <tr style=\"text-align: right;\">\n",
       "      <th></th>\n",
       "      <th>Fastener</th>\n",
       "      <th>x</th>\n",
       "      <th>y</th>\n",
       "      <th>x^2</th>\n",
       "      <th>y^2</th>\n",
       "      <th>xbar</th>\n",
       "      <th>ybar</th>\n",
       "    </tr>\n",
       "  </thead>\n",
       "  <tbody>\n",
       "    <tr>\n",
       "      <th>0</th>\n",
       "      <td>0</td>\n",
       "      <td>0</td>\n",
       "      <td>0</td>\n",
       "      <td>0</td>\n",
       "      <td>0</td>\n",
       "      <td>1.5</td>\n",
       "      <td>0.5</td>\n",
       "    </tr>\n",
       "    <tr>\n",
       "      <th>1</th>\n",
       "      <td>1</td>\n",
       "      <td>1</td>\n",
       "      <td>0</td>\n",
       "      <td>1</td>\n",
       "      <td>0</td>\n",
       "      <td>1.5</td>\n",
       "      <td>0.5</td>\n",
       "    </tr>\n",
       "    <tr>\n",
       "      <th>2</th>\n",
       "      <td>2</td>\n",
       "      <td>2</td>\n",
       "      <td>0</td>\n",
       "      <td>4</td>\n",
       "      <td>0</td>\n",
       "      <td>1.5</td>\n",
       "      <td>0.5</td>\n",
       "    </tr>\n",
       "    <tr>\n",
       "      <th>3</th>\n",
       "      <td>3</td>\n",
       "      <td>3</td>\n",
       "      <td>0</td>\n",
       "      <td>9</td>\n",
       "      <td>0</td>\n",
       "      <td>1.5</td>\n",
       "      <td>0.5</td>\n",
       "    </tr>\n",
       "    <tr>\n",
       "      <th>4</th>\n",
       "      <td>4</td>\n",
       "      <td>0</td>\n",
       "      <td>1</td>\n",
       "      <td>0</td>\n",
       "      <td>1</td>\n",
       "      <td>1.5</td>\n",
       "      <td>0.5</td>\n",
       "    </tr>\n",
       "    <tr>\n",
       "      <th>5</th>\n",
       "      <td>5</td>\n",
       "      <td>1</td>\n",
       "      <td>1</td>\n",
       "      <td>1</td>\n",
       "      <td>1</td>\n",
       "      <td>1.5</td>\n",
       "      <td>0.5</td>\n",
       "    </tr>\n",
       "    <tr>\n",
       "      <th>6</th>\n",
       "      <td>6</td>\n",
       "      <td>2</td>\n",
       "      <td>1</td>\n",
       "      <td>4</td>\n",
       "      <td>1</td>\n",
       "      <td>1.5</td>\n",
       "      <td>0.5</td>\n",
       "    </tr>\n",
       "    <tr>\n",
       "      <th>7</th>\n",
       "      <td>7</td>\n",
       "      <td>3</td>\n",
       "      <td>1</td>\n",
       "      <td>9</td>\n",
       "      <td>1</td>\n",
       "      <td>1.5</td>\n",
       "      <td>0.5</td>\n",
       "    </tr>\n",
       "  </tbody>\n",
       "</table>\n",
       "</div>"
      ],
      "text/plain": [
       "   Fastener  x  y  x^2  y^2  xbar  ybar\n",
       "0         0  0  0    0    0   1.5   0.5\n",
       "1         1  1  0    1    0   1.5   0.5\n",
       "2         2  2  0    4    0   1.5   0.5\n",
       "3         3  3  0    9    0   1.5   0.5\n",
       "4         4  0  1    0    1   1.5   0.5\n",
       "5         5  1  1    1    1   1.5   0.5\n",
       "6         6  2  1    4    1   1.5   0.5\n",
       "7         7  3  1    9    1   1.5   0.5"
      ]
     },
     "execution_count": 7,
     "metadata": {},
     "output_type": "execute_result"
    },
    {
     "name": "stderr",
     "output_type": "stream",
     "text": [
      "C:\\Users\\ngordon\\AppData\\Local\\Continuum\\Anaconda3\\lib\\site-packages\\matplotlib\\collections.py:590: FutureWarning: elementwise comparison failed; returning scalar instead, but in the future will perform elementwise comparison\n",
      "  if self._edgecolors == str('face'):\n"
     ]
    },
    {
     "data": {
      "image/png": "[encoded data removed]",
      "text/plain": [
       "<matplotlib.figure.Figure at 0xb49cc88>"
      ]
     },
     "metadata": {},
     "output_type": "display_data"
    }
   ],
   "source": [
    "## Bolted Joint Example\n",
    "\n",
    "# fastener Location\n",
    "from mechpy.design import fastened_joint\n",
    "fx = [0,1,2,3,0,1,2,3]\n",
    "fy = [0,0,0,0,1,1,1,1]\n",
    "# Force magnitude(x,y)\n",
    "P = [-300,-500]\n",
    "# Force location\n",
    "l = [2,1]\n",
    "df = fastened_joint(fx, fy, P, l)\n",
    "\n",
    "df.plot(kind='scatter', x='x', y='y');\n",
    "#df.plot(style='o', x='x', y='y')\n",
    "plt.plot(df.xbar[0],df.ybar[0],'*')\n",
    "df\n",
    "#ax = plt.gca()\n",
    "#ax.arrow(l[0], l[1], Pnorm[0],Pnorm[1], head_width=0.05, head_length=0.1, fc='k', ec='k')\n",
    "#x.arrow(xbar, ybar, Pnorm[0],0, head_width=0.05, head_length=0.1, fc='k', ec='k')\n",
    "#ax.arrow(xbar, ybar, 0,Pnorm[1], head_width=0.05, head_length=0.1, fc='k', ec='k')"
   ]
  },
  {
   "cell_type": "markdown",
   "metadata": {},
   "source": [
    "## Composite Mechanics\n",
    "[index](#Mechpy)"
   ]
  },
  {
   "cell_type": "code",
   "execution_count": 61,
   "metadata": {
    "collapsed": false
   },
   "outputs": [],
   "source": [
    "from mechpy.math import T3rot, T6rot\n",
    "from mechpy.composites import laminate1, material_plots, laminate_gen\n",
    "%matplotlib inline"
   ]
  },
  {
   "cell_type": "code",
   "execution_count": 62,
   "metadata": {
    "collapsed": false
   },
   "outputs": [
    {
     "data": {
      "text/plain": [
       "<function importlib.reload>"
      ]
     },
     "execution_count": 62,
     "metadata": {},
     "output_type": "execute_result"
    }
   ],
   "source": [
    "import importlib\n",
    "importlib.reload"
   ]
  },
  {
   "cell_type": "code",
   "execution_count": 63,
   "metadata": {
    "collapsed": false
   },
   "outputs": [
    {
     "data": {
      "text/plain": [
       "array([[ 0.525, -0.851],\n",
       "       [ 0.851,  0.525]])"
      ]
     },
     "execution_count": 63,
     "metadata": {},
     "output_type": "execute_result"
    }
   ],
   "source": [
    "from mechpy.math import T2rot\n",
    "T2rot(45)"
   ]
  },
  {
   "cell_type": "code",
   "execution_count": 64,
   "metadata": {
    "collapsed": false
   },
   "outputs": [
    {
     "data": {
      "image/png": "[encoded data removed]",
      "text/plain": [
       "<matplotlib.figure.Figure at 0x2927c0fb0f0>"
      ]
     },
     "metadata": {},
     "output_type": "display_data"
    }
   ],
   "source": [
    "from IPython.html.widgets import *\n",
    "\n",
    "plt.figure(figsize=(12,8))\n",
    "x = [-1,1, 0,-1,]\n",
    "y = [-1,-1,1,-1]\n",
    "xy = np.array([x,y])\n",
    "plt.xlim([-11.1,11.1])\n",
    "plt.ylim([-11.1,11.1])\n",
    "xyR = np.dot(T2rot(30),xy)\n",
    "#plt.plot(xyR[0,:],xyR[1,:])\n",
    "def rot2(th, xt,yt,zt):\n",
    "    xyR = np.dot(T2rot(th),xy*zt)\n",
    "    xyR[0,:]+=xt\n",
    "    xyR[1,:]+=yt\n",
    "    plt.plot(xyR[0,:],xyR[1,:])\n",
    "    plt.axis('square')\n",
    "    plt.xlim([-11.1,11.1])\n",
    "    plt.ylim([-11.1,11.1])    \n",
    "    plt.show()\n",
    "\n",
    "interact(rot2, th=(0,np.pi,np.pi/90), yt=(1,10,1), xt=(1,10,1), zt=(1,10,1));"
   ]
  },
  {
   "cell_type": "code",
   "execution_count": 65,
   "metadata": {
    "collapsed": false
   },
   "outputs": [
    {
     "name": "stdout",
     "output_type": "stream",
     "text": [
      "[[ 0.25   0.25   0.5   -0.354 -0.354  0.25 ]\n",
      " [ 0.021  0.729  0.25   0.427 -0.073 -0.125]\n",
      " [ 0.729  0.021  0.25  -0.073  0.427 -0.125]\n",
      " [-0.25  -0.25   0.5    0.354  0.354  0.75 ]\n",
      " [ 0.854 -0.146 -0.707  0.354 -0.354  0.354]\n",
      " [-0.146  0.854 -0.707 -0.354  0.354  0.354]]\n"
     ]
    }
   ],
   "source": [
    "print(T6rot(45,45,45))"
   ]
  },
  {
   "cell_type": "code",
   "execution_count": 67,
   "metadata": {
    "collapsed": false
   },
   "outputs": [
    {
     "name": "stdout",
     "output_type": "stream",
     "text": [
      "Help on function laminate_gen in module mechpy.composites:\n",
      "\n",
      "laminate_gen(lamthk=1.5, symang=[45, 0, 90], plyratio=2.0, matrixlayers=False, balancedsymmetric=True)\n",
      "    ## function created to quickly create laminates based on given parameters\n",
      "    lamthk=1.5    # total #thickness of laminate\n",
      "    symang = [45,0,90, 30]  #symmertic ply angle\n",
      "    plyratio=2.0  # lamina/matrix ratio\n",
      "    matrixlayers=False  # add matrix layers between lamina plys\n",
      "    nonsym=False    # symmetric\n",
      "    mat = material type, as in different plies, matrix layer, uni tapes, etc\n",
      "    #ply ratio can be used to vary the ratio of thickness between a matrix ply\n",
      "         and lamina ply. if the same thickness is desired, plyratio = 1, \n",
      "         if lamina is 2x as thick as matrix plyratio = 2\n",
      "\n"
     ]
    }
   ],
   "source": [
    "help(laminate_gen)"
   ]
  },
  {
   "cell_type": "code",
   "execution_count": 68,
   "metadata": {
    "collapsed": false
   },
   "outputs": [
    {
     "data": {
      "text/latex": [
       "$$\\left ( \\left [ 0.25, \\quad 0.25, \\quad 0.25, \\quad 0.25, \\quad 0.25, \\quad 0.25\\right ], \\quad \\left [ 45, \\quad 0, \\quad 90, \\quad 90, \\quad 0, \\quad 45\\right ], \\quad \\left [ 3.0, \\quad 3.0, \\quad 3.0, \\quad 3.0, \\quad 3.0, \\quad 3.0\\right ], \\quad \\left [ 45, \\quad 0, \\quad 90, \\quad 90, \\quad 0, \\quad 45\\right ]\\right )$$"
      ],
      "text/plain": [
       "([0.25, 0.25, 0.25, 0.25, 0.25, 0.25], [45, 0, 90, 90, 0, 45], [3.0, 3.0, 3.0,\n",
       " 3.0, 3.0, 3.0], [45, 0, 90, 90, 0, 45])"
      ]
     },
     "execution_count": 68,
     "metadata": {},
     "output_type": "execute_result"
    }
   ],
   "source": [
    "laminate_gen()"
   ]
  },
  {
   "cell_type": "code",
   "execution_count": 70,
   "metadata": {
    "collapsed": false
   },
   "outputs": [
    {
     "name": "stdout",
     "output_type": "stream",
     "text": [
      "Using matplotlib backend: Qt4Agg\n"
     ]
    },
    {
     "ename": "OSError",
     "evalue": "File b'compositematerials.csv' does not exist",
     "output_type": "error",
     "traceback": [
      "\u001b[1;31m---------------------------------------------------------------------------\u001b[0m",
      "\u001b[1;31mOSError\u001b[0m                                   Traceback (most recent call last)",
      "\u001b[1;32m<ipython-input-70-023b8d09c671>\u001b[0m in \u001b[0;36m<module>\u001b[1;34m()\u001b[0m\n\u001b[1;32m----> 1\u001b[1;33m \u001b[0mlaminate1\u001b[0m\u001b[1;33m(\u001b[0m\u001b[1;33m)\u001b[0m\u001b[1;33m\u001b[0m\u001b[0m\n\u001b[0m",
      "\u001b[1;32mC:\\Users\\neal\\Desktop\\mechpy\\mechpy\\composites.py\u001b[0m in \u001b[0;36mlaminate1\u001b[1;34m()\u001b[0m\n\u001b[0;32m    321\u001b[0m \u001b[1;33m\u001b[0m\u001b[0m\n\u001b[0;32m    322\u001b[0m     \u001b[0mmat\u001b[0m  \u001b[1;33m=\u001b[0m \u001b[0mimport_matprops\u001b[0m\u001b[1;33m(\u001b[0m\u001b[1;34m'T300_5208'\u001b[0m\u001b[1;33m)\u001b[0m\u001b[1;33m\u001b[0m\u001b[0m\n\u001b[1;32m--> 323\u001b[1;33m     \u001b[0malpha\u001b[0m \u001b[1;33m=\u001b[0m \u001b[0marray\u001b[0m\u001b[1;33m(\u001b[0m\u001b[1;33m[\u001b[0m\u001b[1;33m[\u001b[0m\u001b[0mmat\u001b[0m\u001b[1;33m.\u001b[0m\u001b[0malpha1\u001b[0m\u001b[1;33m]\u001b[0m\u001b[1;33m,\u001b[0m \u001b[1;33m[\u001b[0m\u001b[0mmat\u001b[0m\u001b[1;33m.\u001b[0m\u001b[0malpha2\u001b[0m\u001b[1;33m]\u001b[0m\u001b[1;33m,\u001b[0m \u001b[1;33m[\u001b[0m\u001b[1;36m0\u001b[0m\u001b[1;33m]\u001b[0m\u001b[1;33m]\u001b[0m\u001b[1;33m)\u001b[0m\u001b[1;33m\u001b[0m\u001b[0m\n\u001b[0m\u001b[0;32m    324\u001b[0m \u001b[1;33m\u001b[0m\u001b[0m\n\u001b[0;32m    325\u001b[0m     \u001b[0mW\u001b[0m \u001b[1;33m=\u001b[0m   \u001b[1;36m10\u001b[0m  \u001b[1;31m# plate width\u001b[0m\u001b[1;33m\u001b[0m\u001b[0m\n",
      "\u001b[1;32mC:\\Users\\neal\\Desktop\\mechpy\\mechpy\\composites.py\u001b[0m in \u001b[0;36mimport_matprops\u001b[1;34m(mymaterial)\u001b[0m\n\u001b[0;32m     41\u001b[0m     \u001b[1;32mimport\u001b[0m \u001b[0mmaterial\u001b[0m \u001b[0mproperties\u001b[0m\u001b[1;33m\u001b[0m\u001b[0m\n\u001b[0;32m     42\u001b[0m     '''\n\u001b[1;32m---> 43\u001b[1;33m     \u001b[0mmatprops\u001b[0m \u001b[1;33m=\u001b[0m \u001b[0mpd\u001b[0m\u001b[1;33m.\u001b[0m\u001b[0mread_csv\u001b[0m\u001b[1;33m(\u001b[0m\u001b[1;34m'./mechpy/compositematerials.csv'\u001b[0m\u001b[1;33m,\u001b[0m \u001b[0mindex_col\u001b[0m\u001b[1;33m=\u001b[0m\u001b[1;36m0\u001b[0m\u001b[1;33m)\u001b[0m\u001b[1;33m\u001b[0m\u001b[0m\n\u001b[0m\u001b[0;32m     44\u001b[0m     \u001b[0mmat\u001b[0m \u001b[1;33m=\u001b[0m \u001b[0mmatprops\u001b[0m\u001b[1;33m[\u001b[0m\u001b[0mmymaterial\u001b[0m\u001b[1;33m]\u001b[0m\u001b[1;33m\u001b[0m\u001b[0m\n\u001b[0;32m     45\u001b[0m     \u001b[1;32mreturn\u001b[0m \u001b[0mmat\u001b[0m\u001b[1;33m\u001b[0m\u001b[0m\n",
      "\u001b[1;32mC:\\Users\\neal\\Anaconda3\\lib\\site-packages\\pandas\\io\\parsers.py\u001b[0m in \u001b[0;36mparser_f\u001b[1;34m(filepath_or_buffer, sep, delimiter, header, names, index_col, usecols, squeeze, prefix, mangle_dupe_cols, dtype, engine, converters, true_values, false_values, skipinitialspace, skiprows, skipfooter, nrows, na_values, keep_default_na, na_filter, verbose, skip_blank_lines, parse_dates, infer_datetime_format, keep_date_col, date_parser, dayfirst, iterator, chunksize, compression, thousands, decimal, lineterminator, quotechar, quoting, escapechar, comment, encoding, dialect, tupleize_cols, error_bad_lines, warn_bad_lines, skip_footer, doublequote, delim_whitespace, as_recarray, compact_ints, use_unsigned, low_memory, buffer_lines, memory_map, float_precision)\u001b[0m\n\u001b[0;32m    527\u001b[0m                     skip_blank_lines=skip_blank_lines)\n\u001b[0;32m    528\u001b[0m \u001b[1;33m\u001b[0m\u001b[0m\n\u001b[1;32m--> 529\u001b[1;33m         \u001b[1;32mreturn\u001b[0m \u001b[0m_read\u001b[0m\u001b[1;33m(\u001b[0m\u001b[0mfilepath_or_buffer\u001b[0m\u001b[1;33m,\u001b[0m \u001b[0mkwds\u001b[0m\u001b[1;33m)\u001b[0m\u001b[1;33m\u001b[0m\u001b[0m\n\u001b[0m\u001b[0;32m    530\u001b[0m \u001b[1;33m\u001b[0m\u001b[0m\n\u001b[0;32m    531\u001b[0m     \u001b[0mparser_f\u001b[0m\u001b[1;33m.\u001b[0m\u001b[0m__name__\u001b[0m \u001b[1;33m=\u001b[0m \u001b[0mname\u001b[0m\u001b[1;33m\u001b[0m\u001b[0m\n",
      "\u001b[1;32mC:\\Users\\neal\\Anaconda3\\lib\\site-packages\\pandas\\io\\parsers.py\u001b[0m in \u001b[0;36m_read\u001b[1;34m(filepath_or_buffer, kwds)\u001b[0m\n\u001b[0;32m    293\u001b[0m \u001b[1;33m\u001b[0m\u001b[0m\n\u001b[0;32m    294\u001b[0m     \u001b[1;31m# Create the parser.\u001b[0m\u001b[1;33m\u001b[0m\u001b[1;33m\u001b[0m\u001b[0m\n\u001b[1;32m--> 295\u001b[1;33m     \u001b[0mparser\u001b[0m \u001b[1;33m=\u001b[0m \u001b[0mTextFileReader\u001b[0m\u001b[1;33m(\u001b[0m\u001b[0mfilepath_or_buffer\u001b[0m\u001b[1;33m,\u001b[0m \u001b[1;33m**\u001b[0m\u001b[0mkwds\u001b[0m\u001b[1;33m)\u001b[0m\u001b[1;33m\u001b[0m\u001b[0m\n\u001b[0m\u001b[0;32m    296\u001b[0m \u001b[1;33m\u001b[0m\u001b[0m\n\u001b[0;32m    297\u001b[0m     \u001b[1;32mif\u001b[0m \u001b[1;33m(\u001b[0m\u001b[0mnrows\u001b[0m \u001b[1;32mis\u001b[0m \u001b[1;32mnot\u001b[0m \u001b[1;32mNone\u001b[0m\u001b[1;33m)\u001b[0m \u001b[1;32mand\u001b[0m \u001b[1;33m(\u001b[0m\u001b[0mchunksize\u001b[0m \u001b[1;32mis\u001b[0m \u001b[1;32mnot\u001b[0m \u001b[1;32mNone\u001b[0m\u001b[1;33m)\u001b[0m\u001b[1;33m:\u001b[0m\u001b[1;33m\u001b[0m\u001b[0m\n",
      "\u001b[1;32mC:\\Users\\neal\\Anaconda3\\lib\\site-packages\\pandas\\io\\parsers.py\u001b[0m in \u001b[0;36m__init__\u001b[1;34m(self, f, engine, **kwds)\u001b[0m\n\u001b[0;32m    610\u001b[0m             \u001b[0mself\u001b[0m\u001b[1;33m.\u001b[0m\u001b[0moptions\u001b[0m\u001b[1;33m[\u001b[0m\u001b[1;34m'has_index_names'\u001b[0m\u001b[1;33m]\u001b[0m \u001b[1;33m=\u001b[0m \u001b[0mkwds\u001b[0m\u001b[1;33m[\u001b[0m\u001b[1;34m'has_index_names'\u001b[0m\u001b[1;33m]\u001b[0m\u001b[1;33m\u001b[0m\u001b[0m\n\u001b[0;32m    611\u001b[0m \u001b[1;33m\u001b[0m\u001b[0m\n\u001b[1;32m--> 612\u001b[1;33m         \u001b[0mself\u001b[0m\u001b[1;33m.\u001b[0m\u001b[0m_make_engine\u001b[0m\u001b[1;33m(\u001b[0m\u001b[0mself\u001b[0m\u001b[1;33m.\u001b[0m\u001b[0mengine\u001b[0m\u001b[1;33m)\u001b[0m\u001b[1;33m\u001b[0m\u001b[0m\n\u001b[0m\u001b[0;32m    613\u001b[0m \u001b[1;33m\u001b[0m\u001b[0m\n\u001b[0;32m    614\u001b[0m     \u001b[1;32mdef\u001b[0m \u001b[0m_get_options_with_defaults\u001b[0m\u001b[1;33m(\u001b[0m\u001b[0mself\u001b[0m\u001b[1;33m,\u001b[0m \u001b[0mengine\u001b[0m\u001b[1;33m)\u001b[0m\u001b[1;33m:\u001b[0m\u001b[1;33m\u001b[0m\u001b[0m\n",
      "\u001b[1;32mC:\\Users\\neal\\Anaconda3\\lib\\site-packages\\pandas\\io\\parsers.py\u001b[0m in \u001b[0;36m_make_engine\u001b[1;34m(self, engine)\u001b[0m\n\u001b[0;32m    745\u001b[0m     \u001b[1;32mdef\u001b[0m \u001b[0m_make_engine\u001b[0m\u001b[1;33m(\u001b[0m\u001b[0mself\u001b[0m\u001b[1;33m,\u001b[0m \u001b[0mengine\u001b[0m\u001b[1;33m=\u001b[0m\u001b[1;34m'c'\u001b[0m\u001b[1;33m)\u001b[0m\u001b[1;33m:\u001b[0m\u001b[1;33m\u001b[0m\u001b[0m\n\u001b[0;32m    746\u001b[0m         \u001b[1;32mif\u001b[0m \u001b[0mengine\u001b[0m \u001b[1;33m==\u001b[0m \u001b[1;34m'c'\u001b[0m\u001b[1;33m:\u001b[0m\u001b[1;33m\u001b[0m\u001b[0m\n\u001b[1;32m--> 747\u001b[1;33m             \u001b[0mself\u001b[0m\u001b[1;33m.\u001b[0m\u001b[0m_engine\u001b[0m \u001b[1;33m=\u001b[0m \u001b[0mCParserWrapper\u001b[0m\u001b[1;33m(\u001b[0m\u001b[0mself\u001b[0m\u001b[1;33m.\u001b[0m\u001b[0mf\u001b[0m\u001b[1;33m,\u001b[0m \u001b[1;33m**\u001b[0m\u001b[0mself\u001b[0m\u001b[1;33m.\u001b[0m\u001b[0moptions\u001b[0m\u001b[1;33m)\u001b[0m\u001b[1;33m\u001b[0m\u001b[0m\n\u001b[0m\u001b[0;32m    748\u001b[0m         \u001b[1;32melse\u001b[0m\u001b[1;33m:\u001b[0m\u001b[1;33m\u001b[0m\u001b[0m\n\u001b[0;32m    749\u001b[0m             \u001b[1;32mif\u001b[0m \u001b[0mengine\u001b[0m \u001b[1;33m==\u001b[0m \u001b[1;34m'python'\u001b[0m\u001b[1;33m:\u001b[0m\u001b[1;33m\u001b[0m\u001b[0m\n",
      "\u001b[1;32mC:\\Users\\neal\\Anaconda3\\lib\\site-packages\\pandas\\io\\parsers.py\u001b[0m in \u001b[0;36m__init__\u001b[1;34m(self, src, **kwds)\u001b[0m\n\u001b[0;32m   1117\u001b[0m         \u001b[0mkwds\u001b[0m\u001b[1;33m[\u001b[0m\u001b[1;34m'allow_leading_cols'\u001b[0m\u001b[1;33m]\u001b[0m \u001b[1;33m=\u001b[0m \u001b[0mself\u001b[0m\u001b[1;33m.\u001b[0m\u001b[0mindex_col\u001b[0m \u001b[1;32mis\u001b[0m \u001b[1;32mnot\u001b[0m \u001b[1;32mFalse\u001b[0m\u001b[1;33m\u001b[0m\u001b[0m\n\u001b[0;32m   1118\u001b[0m \u001b[1;33m\u001b[0m\u001b[0m\n\u001b[1;32m-> 1119\u001b[1;33m         \u001b[0mself\u001b[0m\u001b[1;33m.\u001b[0m\u001b[0m_reader\u001b[0m \u001b[1;33m=\u001b[0m \u001b[0m_parser\u001b[0m\u001b[1;33m.\u001b[0m\u001b[0mTextReader\u001b[0m\u001b[1;33m(\u001b[0m\u001b[0msrc\u001b[0m\u001b[1;33m,\u001b[0m \u001b[1;33m**\u001b[0m\u001b[0mkwds\u001b[0m\u001b[1;33m)\u001b[0m\u001b[1;33m\u001b[0m\u001b[0m\n\u001b[0m\u001b[0;32m   1120\u001b[0m \u001b[1;33m\u001b[0m\u001b[0m\n\u001b[0;32m   1121\u001b[0m         \u001b[1;31m# XXX\u001b[0m\u001b[1;33m\u001b[0m\u001b[1;33m\u001b[0m\u001b[0m\n",
      "\u001b[1;32mpandas\\parser.pyx\u001b[0m in \u001b[0;36mpandas.parser.TextReader.__cinit__ (pandas\\parser.c:3246)\u001b[1;34m()\u001b[0m\n",
      "\u001b[1;32mpandas\\parser.pyx\u001b[0m in \u001b[0;36mpandas.parser.TextReader._setup_parser_source (pandas\\parser.c:6111)\u001b[1;34m()\u001b[0m\n",
      "\u001b[1;31mOSError\u001b[0m: File b'compositematerials.csv' does not exist"
     ]
    }
   ],
   "source": [
    "laminate1()"
   ]
  },
  {
   "cell_type": "markdown",
   "metadata": {},
   "source": [
    "# Stress Transformations\n",
    "[index](#Index)  \n",
    "\n",
    "$$\n",
    "\\overline{\\sigma}=\\begin{bmatrix}\n",
    " \\sigma_{xx} & \\sigma_{xy} & \\sigma_{xz}\\\\\n",
    " \\sigma_{yx} & \\sigma_{yy} & \\sigma_{yz}\\\\\n",
    " \\sigma_{zx} & \\sigma_{zy} & \\sigma_{zz}\n",
    " \\end{bmatrix} \n",
    "$$\n",
    "\n",
    "reduce to plane stress\n",
    "\n",
    "$$\n",
    "\\overline{\\sigma}=\\begin{bmatrix}\n",
    " \\sigma_{xx} & \\sigma_{xy} & 0 \\\\\n",
    " \\sigma_{yx} & \\sigma_{yy} & 0\\\\\n",
    " 0 &           0 &           \\sigma_{zz}\n",
    " \\end{bmatrix} \n",
    "$$\n",
    "\n",
    "or\n",
    "\n",
    "$$\n",
    "\\overline{\\sigma}=\\begin{bmatrix}\n",
    " \\sigma_{xx} & \\tau_{xy} & 0 \\\\\n",
    " \\tau_{yx} & \\sigma_{yy} & 0\\\\\n",
    " 0 &           0 &           \\sigma_{zz}\n",
    " \\end{bmatrix} \n",
    "$$\n",
    "\n",
    "\n",
    "$$\n",
    "\\overline{\\sigma}=\\begin{bmatrix}\n",
    " \\sigma_{x} & \\sigma_{xy} \\\\\n",
    " \\sigma_{yx} & \\sigma_{y} \\\\\n",
    " \\end{bmatrix} \n",
    "$$\n",
    "\n",
    "Transformation\n",
    "\n",
    "$$\n",
    "A=\\begin{bmatrix}\n",
    " cos(\\theta) & sin(\\theta) \\\\\n",
    " -sin(\\theta) & cos(\\theta) \\\\\n",
    " \\end{bmatrix} \n",
    "$$\n",
    "\n",
    "$$\n",
    "\\sigma'=A \\sigma A^T\n",
    "$$\n",
    "\n",
    "\n",
    "$$\n",
    "\\sigma_1 , \\sigma_2 = \\frac{\\sigma_{x}}{2} + \\frac{\\sigma_{y}}{2} + \\sqrt{\\tau_{xy}^{2} + \\left(\\frac{\\sigma_{x}}{2} - \\frac{\\sigma_{y}}{2}\\right)^{2}}\n",
    "$$\n",
    "\n",
    "\n",
    "$$\n",
    "T=\\left[\\begin{matrix}\\sin^{2}{\\left (\\theta \\right )} & \\cos^{2}{\\left (\\theta \\right )} & 2 \\sin{\\left (\\theta \\right )} \\cos{\\left (\\theta \\right )}\\cos^{2}{\\left (\\theta \\right )} & \\\\\n",
    "\\sin^{2}{\\left (\\theta \\right )} & - 2 \\sin{\\left (\\theta \\right )} \\cos{\\left (\\theta \\right )}\\- \\sin{\\left (\\theta \\right )} \\cos{\\left (\\theta \\right )} & \\\\\n",
    "\\sin{\\left (\\theta \\right )} \\cos{\\left (\\theta \\right )} & \\sin^{2}{\\left (\\theta \\right )} - \\cos^{2}{\\left (\\theta \\right )}\\end{matrix}\\right]\n",
    "$$"
   ]
  },
  {
   "cell_type": "code",
   "execution_count": 3,
   "metadata": {
    "collapsed": true
   },
   "outputs": [],
   "source": [
    "import sympy as sp\n",
    "from sympy.abc import tau, sigma\n",
    "import numpy as np\n",
    "sp.init_printing()"
   ]
  },
  {
   "cell_type": "code",
   "execution_count": 4,
   "metadata": {
    "collapsed": false
   },
   "outputs": [
    {
     "name": "stdout",
     "output_type": "stream",
     "text": [
      "\\frac{\\sigma_{x}}{2} + \\frac{\\sigma_{y}}{2} + \\sqrt{\\tau_{xy}^{2} + \\left(\\frac{\\sigma_{x}}{2} - \\frac{\\sigma_{y}}{2}\\right)^{2}}\n"
     ]
    },
    {
     "data": {
      "image/png": "[encoded data removed]",
      "text/latex": [
       "$$\\frac{\\sigma_{x}}{2} + \\frac{\\sigma_{y}}{2} + \\sqrt{\\tau_{xy}^{2} + \\left(\\frac{\\sigma_{x}}{2} - \\frac{\\sigma_{y}}{2}\\right)^{2}}$$"
      ],
      "text/plain": [
       "                _____________________\n",
       "               ╱                   2 \n",
       "σₓ   σ_y      ╱      2   ⎛σₓ   σ_y⎞  \n",
       "── + ─── +   ╱   τ_xy  + ⎜── - ───⎟  \n",
       "2     2    ╲╱            ⎝2     2 ⎠  "
      ]
     },
     "execution_count": 4,
     "metadata": {},
     "output_type": "execute_result"
    }
   ],
   "source": [
    "sx,sy,txy,tp = sp.symbols('sigma_x,sigma_y,tau_xy,theta_p')\n",
    "sp1 = (sx+sy)/2 + sp.sqrt( ((sx-sy)/2)**2 + txy**2 )\n",
    "sp2 = (sx+sy)/2 - sp.sqrt( ((sx-sy)/2)**2 + txy**2 )\n",
    "print(sp.latex(sp1))\n",
    "sp1"
   ]
  },
  {
   "cell_type": "code",
   "execution_count": 5,
   "metadata": {
    "collapsed": false
   },
   "outputs": [
    {
     "data": {
      "image/png": "[encoded data removed]",
      "text/latex": [
       "$$\\frac{1}{2} \\operatorname{atan}{\\left (\\frac{2 \\tau_{xy}}{\\sigma_{x} - \\sigma_{y}} \\right )}$$"
      ],
      "text/plain": [
       "    ⎛ 2⋅τ_xy ⎞\n",
       "atan⎜────────⎟\n",
       "    ⎝σₓ - σ_y⎠\n",
       "──────────────\n",
       "      2       "
      ]
     },
     "execution_count": 5,
     "metadata": {},
     "output_type": "execute_result"
    }
   ],
   "source": [
    "tp = sp.atan(2*txy/(sx-sy) )/2\n",
    "tp"
   ]
  },
  {
   "cell_type": "code",
   "execution_count": 6,
   "metadata": {
    "collapsed": false
   },
   "outputs": [
    {
     "data": {
      "image/png": "[encoded data removed]",
      "text/latex": [
       "$$-0.662908831834016$$"
      ],
      "text/plain": [
       "-0.662908831834016"
      ]
     },
     "execution_count": 6,
     "metadata": {},
     "output_type": "execute_result"
    }
   ],
   "source": [
    "tpp = tp.evalf(subs={sx:10,sy:15,txy:10})\n",
    "tpp"
   ]
  },
  {
   "cell_type": "code",
   "execution_count": 7,
   "metadata": {
    "collapsed": false
   },
   "outputs": [
    {
     "data": {
      "image/png": "[encoded data removed]",
      "text/latex": [
       "$$\\left[\\begin{matrix}\\sigma_{11} & \\tau_{12} & 0\\\\\\tau_{12} & \\sigma_{22} & 0\\\\0 & 0 & \\sigma_{33}\\end{matrix}\\right]$$"
      ],
      "text/plain": [
       "⎡σ₁₁  τ₁₂   0 ⎤\n",
       "⎢             ⎥\n",
       "⎢τ₁₂  σ₂₂   0 ⎥\n",
       "⎢             ⎥\n",
       "⎣ 0    0   σ₃₃⎦"
      ]
     },
     "execution_count": 7,
     "metadata": {},
     "output_type": "execute_result"
    }
   ],
   "source": [
    "#s,s11,s22,s33,s12 = sp.var('s,s11,s22,s33,s12')\n",
    "s,s11,s22,s33,s12,s13,t,t12 = sp.symbols('sigma, sigma11,sigma22,sigma33,sigma12,sigma13,tau,tau12')\n",
    "s = sp.Matrix([[s11,t12,0],[t12,s22,0],[0,0,s33]])\n",
    "s"
   ]
  },
  {
   "cell_type": "code",
   "execution_count": 8,
   "metadata": {
    "collapsed": false
   },
   "outputs": [
    {
     "data": {
      "image/png": "[encoded data removed]",
      "text/latex": [
       "$$\\left[\\begin{matrix}\\sin^{2}{\\left (\\theta \\right )} & \\cos^{2}{\\left (\\theta \\right )} & 2 \\sin{\\left (\\theta \\right )} \\cos{\\left (\\theta \\right )}\\\\\\cos^{2}{\\left (\\theta \\right )} & \\sin^{2}{\\left (\\theta \\right )} & - 2 \\sin{\\left (\\theta \\right )} \\cos{\\left (\\theta \\right )}\\\\- \\sin{\\left (\\theta \\right )} \\cos{\\left (\\theta \\right )} & \\sin{\\left (\\theta \\right )} \\cos{\\left (\\theta \\right )} & \\sin^{2}{\\left (\\theta \\right )} - \\cos^{2}{\\left (\\theta \\right )}\\end{matrix}\\right]$$"
      ],
      "text/plain": [
       "⎡      2               2                         ⎤\n",
       "⎢   sin (θ)         cos (θ)      2⋅sin(θ)⋅cos(θ) ⎥\n",
       "⎢                                                ⎥\n",
       "⎢      2               2                         ⎥\n",
       "⎢   cos (θ)         sin (θ)     -2⋅sin(θ)⋅cos(θ) ⎥\n",
       "⎢                                                ⎥\n",
       "⎢                                  2         2   ⎥\n",
       "⎣-sin(θ)⋅cos(θ)  sin(θ)⋅cos(θ)  sin (θ) - cos (θ)⎦"
      ]
     },
     "execution_count": 8,
     "metadata": {},
     "output_type": "execute_result"
    }
   ],
   "source": [
    "t = sp.symbols('theta')\n",
    "m = sp.sin(t)\n",
    "n = sp.cos(t)\n",
    "T = sp.Matrix([[m**2,n**2, 2*m*n],[n**2,m**2,-2*m*n],[-m*n,m*n,m**2-n**2]])\n",
    "T"
   ]
  },
  {
   "cell_type": "code",
   "execution_count": 9,
   "metadata": {
    "collapsed": false
   },
   "outputs": [
    {
     "data": {
      "image/png": "[encoded data removed]",
      "text/latex": [
       "$$\\left[\\begin{matrix}\\frac{1}{2} & \\frac{1}{2} & 1\\\\\\frac{1}{2} & \\frac{1}{2} & -1\\\\- \\frac{1}{2} & \\frac{1}{2} & 0\\end{matrix}\\right]$$"
      ],
      "text/plain": [
       "⎡1/2   1/2  1 ⎤\n",
       "⎢             ⎥\n",
       "⎢1/2   1/2  -1⎥\n",
       "⎢             ⎥\n",
       "⎣-1/2  1/2  0 ⎦"
      ]
     },
     "execution_count": 9,
     "metadata": {},
     "output_type": "execute_result"
    }
   ],
   "source": [
    "T1 = T.subs(t, sp.pi/4)\n",
    "T1"
   ]
  },
  {
   "cell_type": "code",
   "execution_count": 10,
   "metadata": {
    "collapsed": false
   },
   "outputs": [
    {
     "data": {
      "image/png": "[encoded data removed]",
      "text/latex": [
       "$$\\left[\\begin{matrix}\\frac{\\sigma_{11}}{4} + \\frac{\\sigma_{22}}{4} + \\frac{\\sigma_{33}}{2} + \\frac{\\tau_{12}}{2} & \\frac{\\sigma_{11}}{4} + \\frac{\\sigma_{22}}{4} - \\frac{\\sigma_{33}}{2} + \\frac{\\tau_{12}}{2} & - \\frac{\\sigma_{11}}{2} + \\frac{\\sigma_{22}}{2}\\\\\\frac{\\sigma_{11}}{4} + \\frac{\\sigma_{22}}{4} - \\frac{\\sigma_{33}}{2} + \\frac{\\tau_{12}}{2} & \\frac{\\sigma_{11}}{4} + \\frac{\\sigma_{22}}{4} + \\frac{\\sigma_{33}}{2} + \\frac{\\tau_{12}}{2} & - \\frac{\\sigma_{11}}{2} + \\frac{\\sigma_{22}}{2}\\\\- \\frac{\\sigma_{11}}{4} + \\frac{\\sigma_{22}}{4} & - \\frac{\\sigma_{11}}{4} + \\frac{\\sigma_{22}}{4} & \\frac{\\sigma_{11}}{2} + \\frac{\\sigma_{22}}{2} - \\tau_{12}\\end{matrix}\\right]$$"
      ],
      "text/plain": [
       "⎡σ₁₁   σ₂₂   σ₃₃   τ₁₂  σ₁₁   σ₂₂   σ₃₃   τ₁₂      σ₁₁   σ₂₂  ⎤\n",
       "⎢─── + ─── + ─── + ───  ─── + ─── - ─── + ───    - ─── + ───  ⎥\n",
       "⎢ 4     4     2     2    4     4     2     2        2     2   ⎥\n",
       "⎢                                                             ⎥\n",
       "⎢σ₁₁   σ₂₂   σ₃₃   τ₁₂  σ₁₁   σ₂₂   σ₃₃   τ₁₂      σ₁₁   σ₂₂  ⎥\n",
       "⎢─── + ─── - ─── + ───  ─── + ─── + ─── + ───    - ─── + ───  ⎥\n",
       "⎢ 4     4     2     2    4     4     2     2        2     2   ⎥\n",
       "⎢                                                             ⎥\n",
       "⎢       σ₁₁   σ₂₂              σ₁₁   σ₂₂       σ₁₁   σ₂₂      ⎥\n",
       "⎢     - ─── + ───            - ─── + ───       ─── + ─── - τ₁₂⎥\n",
       "⎣        4     4                4     4         2     2       ⎦"
      ]
     },
     "execution_count": 10,
     "metadata": {},
     "output_type": "execute_result"
    }
   ],
   "source": [
    "sprime = T1 * s * T1.inv()\n",
    "sprime"
   ]
  },
  {
   "cell_type": "code",
   "execution_count": 11,
   "metadata": {
    "collapsed": false
   },
   "outputs": [
    {
     "data": {
      "image/png": "[encoded data removed]",
      "text/latex": [
       "$$\\left[\\begin{matrix}2.5 & 2.5 & -5.0\\\\2.5 & 2.5 & -5.0\\\\-2.5 & -2.5 & 5.0\\end{matrix}\\right]$$"
      ],
      "text/plain": [
       "⎡2.5   2.5   -5.0⎤\n",
       "⎢                ⎥\n",
       "⎢2.5   2.5   -5.0⎥\n",
       "⎢                ⎥\n",
       "⎣-2.5  -2.5  5.0 ⎦"
      ]
     },
     "execution_count": 11,
     "metadata": {},
     "output_type": "execute_result"
    }
   ],
   "source": [
    "sprime.evalf(subs={s11:10, s22:00, s33:0, t12:0})"
   ]
  },
  {
   "cell_type": "code",
   "execution_count": 12,
   "metadata": {
    "collapsed": false
   },
   "outputs": [
    {
     "data": {
      "image/png": "[encoded data removed]",
      "text/latex": [
       "$$\\left \\{ \\sigma_{33} : 1, \\quad \\frac{\\sigma_{11}}{2} + \\frac{\\sigma_{22}}{2} - \\frac{1}{2} \\sqrt{\\sigma_{11}^{2} - 2 \\sigma_{11} \\sigma_{22} + \\sigma_{22}^{2} + 4 \\tau_{12}^{2}} : 1, \\quad \\frac{\\sigma_{11}}{2} + \\frac{\\sigma_{22}}{2} + \\frac{1}{2} \\sqrt{\\sigma_{11}^{2} - 2 \\sigma_{11} \\sigma_{22} + \\sigma_{22}^{2} + 4 \\tau_{12}^{2}} : 1\\right \\}$$"
      ],
      "text/plain": [
       "⎧                       __________________________________                    \n",
       "⎪                      ╱    2                  2        2                    ╱\n",
       "⎨        σ₁₁   σ₂₂   ╲╱  σ₁₁  - 2⋅σ₁₁⋅σ₂₂ + σ₂₂  + 4⋅τ₁₂       σ₁₁   σ₂₂   ╲╱ \n",
       "⎪σ₃₃: 1, ─── + ─── - ─────────────────────────────────────: 1, ─── + ─── + ───\n",
       "⎩         2     2                      2                        2     2       \n",
       "\n",
       "__________________________________   ⎫\n",
       "    2                  2        2    ⎪\n",
       " σ₁₁  - 2⋅σ₁₁⋅σ₂₂ + σ₂₂  + 4⋅τ₁₂     ⎬\n",
       "──────────────────────────────────: 1⎪\n",
       "               2                     ⎭"
      ]
     },
     "execution_count": 12,
     "metadata": {},
     "output_type": "execute_result"
    }
   ],
   "source": [
    "s.eigenvals() "
   ]
  },
  {
   "cell_type": "code",
   "execution_count": 13,
   "metadata": {
    "collapsed": false
   },
   "outputs": [
    {
     "data": {
      "image/png": "[encoded data removed]",
      "text/latex": [
       "$$\\left[\\begin{matrix}2.2 & \\tau_{12} & 0\\\\\\tau_{12} & 3.0 & 0\\\\0 & 0 & 3.14159265358979\\end{matrix}\\right]$$"
      ],
      "text/plain": [
       "⎡2.2  τ₁₂         0        ⎤\n",
       "⎢                          ⎥\n",
       "⎢τ₁₂  3.0         0        ⎥\n",
       "⎢                          ⎥\n",
       "⎣ 0    0   3.14159265358979⎦"
      ]
     },
     "execution_count": 13,
     "metadata": {},
     "output_type": "execute_result"
    }
   ],
   "source": [
    "s2 = s.evalf(subs={s11:2.2, s22:3, s33:sp.pi, s12:7.3})\n",
    "s2"
   ]
  },
  {
   "cell_type": "code",
   "execution_count": 14,
   "metadata": {
    "collapsed": false
   },
   "outputs": [
    {
     "data": {
      "text/plain": [
       "array([ 116.39410298,  -46.39410298])"
      ]
     },
     "execution_count": 14,
     "metadata": {},
     "output_type": "execute_result"
    }
   ],
   "source": [
    "sigma = np.array([[90,60],\n",
    "                  [60,-20]])\n",
    "np.linalg.eigvals(sigma)"
   ]
  },
  {
   "cell_type": "code",
   "execution_count": 15,
   "metadata": {
    "collapsed": false
   },
   "outputs": [
    {
     "name": "stdout",
     "output_type": "stream",
     "text": [
      "[ 1. -1.  0.]\n",
      "cosine angle\n",
      "[[ 0.70710678 -0.70710678  0.        ]\n",
      " [ 0.70710678  0.70710678  0.        ]\n",
      " [ 0.          0.          1.        ]]\n",
      "plane angle\n",
      "[[  45.  135.   90.]\n",
      " [  45.   45.   90.]\n",
      " [  90.   90.    0.]]\n"
     ]
    }
   ],
   "source": [
    "# PLane Stress\n",
    "\n",
    "tauxy = 1    # lbs/in \n",
    "sigmax = 0   # lbs/in\n",
    "sigmay = 0   # lbs/in\n",
    "\n",
    "sigma = np.array([[sigmax, tauxy,0],\n",
    "                  [tauxy,   sigmay,0],\n",
    "                 [0,0,0]])\n",
    "\n",
    "sigmap = np.linalg.eig(sigma)[0]\n",
    "print(sigmap)\n",
    "\n",
    "thetap = np.linalg.eig(sigma)[1]  # degrees\n",
    "\n",
    "print('cosine angle')\n",
    "print(thetap )  # cosine angle\n",
    "\n",
    "print('plane angle')\n",
    "print(np.arccos(thetap)*180/np.pi)"
   ]
  },
  {
   "cell_type": "code",
   "execution_count": 16,
   "metadata": {
    "collapsed": false
   },
   "outputs": [
    {
     "name": "stdout",
     "output_type": "stream",
     "text": [
      "45.0\n"
     ]
    }
   ],
   "source": [
    "# maximum in-plane shear stress\n",
    "eps = 1e-16   # machine epsilon to avoid divide-by-zero error\n",
    "rad_to_deg = 180/np.pi\n",
    "theta1 = 0.5 * np.arctan( 2*tauxy / ((sigmax-sigmay+eps))) * rad_to_deg\n",
    "print(theta1)"
   ]
  },
  {
   "cell_type": "code",
   "execution_count": 17,
   "metadata": {
    "collapsed": false
   },
   "outputs": [
    {
     "name": "stdout",
     "output_type": "stream",
     "text": [
      "[ 0.  0.  0.  0.  0.  0.  0.  0.  0.  0.  0.  0.  0.  0.  0.  0.  0.  0.\n",
      "  0.  0.  0.  0.  0.  0.  0.  0.  0.  0.  0.  0.  0.  0.  0.  0.  0.  0.\n",
      "  0.  0.  0.  0.  0.  0.  0.  0.  0.  0.  0.  0.  0.  0.]\n"
     ]
    }
   ],
   "source": [
    "tauxy = 0    # lbs/in \n",
    "sigmax = 100   # lbs/in\n",
    "sigmay = np.linspace(0,1.100)   # lbs/in\n",
    "\n",
    "eps = 1e-16   # machine epsilon to avoid divide-by-zero error\n",
    "rad_to_deg = 180/np.pi\n",
    "theta1 = 0.5 * np.arctan( 2*tauxy / ((sigmax-sigmay+eps))) * rad_to_deg\n",
    "print(theta1)\n",
    "\n",
    "# sigmax = 100\n",
    "# sigmay = np.linspace(0,1.100)\n",
    "# tauxy = 0\n",
    "# tparray = sp.atan(2*tauxy/(sigmax-sigmay) )/2\n",
    "# tparray"
   ]
  },
  {
   "cell_type": "code",
   "execution_count": 25,
   "metadata": {
    "collapsed": false
   },
   "outputs": [
    {
     "data": {
      "text/plain": [
       "array([[0, 1, 0],\n",
       "       [1, 0, 0]])"
      ]
     },
     "execution_count": 25,
     "metadata": {},
     "output_type": "execute_result"
    }
   ],
   "source": [
    "sigma"
   ]
  },
  {
   "cell_type": "code",
   "execution_count": 26,
   "metadata": {
    "collapsed": false
   },
   "outputs": [
    {
     "data": {
      "text/plain": [
       "array([[ 1.,  0.],\n",
       "       [ 0., -1.]])"
      ]
     },
     "execution_count": 26,
     "metadata": {},
     "output_type": "execute_result"
    }
   ],
   "source": [
    "th = np.pi/4  # 45 deg\n",
    "m = np.cos(th)\n",
    "n = np.sin(th)\n",
    "A = np.array([ [m,n],[-n,m]])\n",
    "\n",
    "tauxy = 1    # lbs/in \n",
    "sigmax = 0   # lbs/in\n",
    "sigmay = 0   # lbs/in\n",
    "\n",
    "sigma = np.array([[sigmax, tauxy],\n",
    "                  [tauxy,   sigmay]])\n",
    "\n",
    "sigmat = A @ sigma @ A.T  # transformed stress\n",
    "sigmat"
   ]
  },
  {
   "cell_type": "code",
   "execution_count": 27,
   "metadata": {
    "collapsed": false
   },
   "outputs": [
    {
     "name": "stdout",
     "output_type": "stream",
     "text": [
      "[ 1. -1.]\n",
      "[[ 57.29577951   0.        ]\n",
      " [  0.          57.29577951]]\n"
     ]
    }
   ],
   "source": [
    "sigmap = np.linalg.eig(sigmat)[0]  # principal stresses\n",
    "print(sigmap)\n",
    "\n",
    "thetap = np.linalg.eig(sigmat)[1]  # principal planes\n",
    "print(thetap* 180/np.pi)"
   ]
  },
  {
   "cell_type": "code",
   "execution_count": null,
   "metadata": {
    "collapsed": true
   },
   "outputs": [],
   "source": []
  },
  {
   "cell_type": "code",
   "execution_count": null,
   "metadata": {
    "collapsed": true
   },
   "outputs": [],
   "source": []
  },
  {
   "cell_type": "code",
   "execution_count": null,
   "metadata": {
    "collapsed": true
   },
   "outputs": [],
   "source": []
  },
  {
   "cell_type": "code",
   "execution_count": null,
   "metadata": {
    "collapsed": true
   },
   "outputs": [],
   "source": []
  },
  {
   "cell_type": "code",
   "execution_count": null,
   "metadata": {
    "collapsed": true
   },
   "outputs": [],
   "source": []
  },
  {
   "cell_type": "code",
   "execution_count": 1,
   "metadata": {
    "collapsed": true
   },
   "outputs": [],
   "source": [
    "from ipywidgets import IntSlider\n",
    "IntSlider()"
   ]
  },
  {
   "cell_type": "code",
   "execution_count": 2,
   "metadata": {
    "collapsed": false
   },
   "outputs": [
    {
     "ename": "NameError",
     "evalue": "name 'np' is not defined",
     "output_type": "error",
     "traceback": [
      "\u001b[1;31m---------------------------------------------------------------------------\u001b[0m",
      "\u001b[1;31mNameError\u001b[0m                                 Traceback (most recent call last)",
      "\u001b[1;32m<ipython-input-2-afcfef3f49b2>\u001b[0m in \u001b[0;36m<module>\u001b[1;34m()\u001b[0m\n\u001b[0;32m      8\u001b[0m \u001b[0mtyz\u001b[0m \u001b[1;33m=\u001b[0m \u001b[1;36m0\u001b[0m\u001b[1;33m\u001b[0m\u001b[0m\n\u001b[0;32m      9\u001b[0m \u001b[1;33m\u001b[0m\u001b[0m\n\u001b[1;32m---> 10\u001b[1;33m S = np.matrix([[sx, txy, txz],\n\u001b[0m\u001b[0;32m     11\u001b[0m             \u001b[1;33m[\u001b[0m\u001b[0mtxy\u001b[0m\u001b[1;33m,\u001b[0m \u001b[0msy\u001b[0m\u001b[1;33m,\u001b[0m \u001b[0mtyz\u001b[0m\u001b[1;33m]\u001b[0m\u001b[1;33m,\u001b[0m\u001b[1;33m\u001b[0m\u001b[0m\n\u001b[0;32m     12\u001b[0m             [txy, txz, sz]])\n",
      "\u001b[1;31mNameError\u001b[0m: name 'np' is not defined"
     ]
    }
   ],
   "source": [
    "# Principal Stresses\n",
    "\n",
    "sx  = 63.66\n",
    "sy  = 0\n",
    "sz  = 0\n",
    "txy = 63.66\n",
    "txz = 0\n",
    "tyz = 0\n",
    "\n",
    "S = np.matrix([[sx, txy, txz],\n",
    "            [txy, sy, tyz],\n",
    "            [txy, txz, sz]])\n",
    "\n",
    "print(S)"
   ]
  },
  {
   "cell_type": "code",
   "execution_count": 130,
   "metadata": {
    "collapsed": false
   },
   "outputs": [
    {
     "name": "stdout",
     "output_type": "stream",
     "text": [
      "[   0.          -39.34404372  103.00404372]\n"
     ]
    }
   ],
   "source": [
    "principal_stresses = np.linalg.eigvals(S)\n",
    "print(principal_stresses)"
   ]
  },
  {
   "cell_type": "code",
   "execution_count": 132,
   "metadata": {
    "collapsed": false
   },
   "outputs": [
    {
     "data": {
      "text/latex": [
       "$$\\left[\\begin{matrix}\\sigma_{11} & \\sigma_{12} & 0\\\\\\sigma_{12} & \\sigma_{22} & 0\\\\0 & 0 & \\sigma_{33}\\end{matrix}\\right]$$"
      ],
      "text/plain": [
       "⎡σ₁₁  σ₁₂   0 ⎤\n",
       "⎢             ⎥\n",
       "⎢σ₁₂  σ₂₂   0 ⎥\n",
       "⎢             ⎥\n",
       "⎣ 0    0   σ₃₃⎦"
      ]
     },
     "execution_count": 132,
     "metadata": {},
     "output_type": "execute_result"
    }
   ],
   "source": [
    "import sympy as sp\n",
    "from sympy.abc import tau, sigma\n",
    "#s,s11,s22,s33,s12 = sp.var('s,s11,s22,s33,s12')\n",
    "s,s11,s22,s33,s12,s13 = sp.symbols('sigma, sigma11,sigma22,sigma33,sigma12,sigma13')\n",
    "s = sp.Matrix([[s11,s12,0],[s12,s22,0],[0,0,s33]])\n",
    "s"
   ]
  },
  {
   "cell_type": "code",
   "execution_count": 133,
   "metadata": {
    "collapsed": false
   },
   "outputs": [
    {
     "data": {
      "text/latex": [
       "$$\\left[\\begin{matrix}\\sigma_{11}^{2} + \\sigma_{12}^{2} & \\sigma_{11} \\sigma_{12} + \\sigma_{12} \\sigma_{22} & 0\\\\\\sigma_{11} \\sigma_{12} + \\sigma_{12} \\sigma_{22} & \\sigma_{12}^{2} + \\sigma_{22}^{2} & 0\\\\0 & 0 & \\sigma_{33}^{2}\\end{matrix}\\right]$$"
      ],
      "text/plain": [
       "⎡      2      2                            ⎤\n",
       "⎢   σ₁₁  + σ₁₂      σ₁₁⋅σ₁₂ + σ₁₂⋅σ₂₂   0  ⎥\n",
       "⎢                                          ⎥\n",
       "⎢                         2      2         ⎥\n",
       "⎢σ₁₁⋅σ₁₂ + σ₁₂⋅σ₂₂     σ₁₂  + σ₂₂       0  ⎥\n",
       "⎢                                          ⎥\n",
       "⎢                                         2⎥\n",
       "⎣        0                  0          σ₃₃ ⎦"
      ]
     },
     "execution_count": 133,
     "metadata": {},
     "output_type": "execute_result"
    }
   ],
   "source": [
    "s**2"
   ]
  },
  {
   "cell_type": "code",
   "execution_count": 134,
   "metadata": {
    "collapsed": false
   },
   "outputs": [
    {
     "data": {
      "text/latex": [
       "$$\\left \\{ \\sigma_{33} : 1, \\quad \\frac{\\sigma_{11}}{2} + \\frac{\\sigma_{22}}{2} - \\frac{1}{2} \\sqrt{\\sigma_{11}^{2} - 2 \\sigma_{11} \\sigma_{22} + 4 \\sigma_{12}^{2} + \\sigma_{22}^{2}} : 1, \\quad \\frac{\\sigma_{11}}{2} + \\frac{\\sigma_{22}}{2} + \\frac{1}{2} \\sqrt{\\sigma_{11}^{2} - 2 \\sigma_{11} \\sigma_{22} + 4 \\sigma_{12}^{2} + \\sigma_{22}^{2}} : 1\\right \\}$$"
      ],
      "text/plain": [
       "⎧                       __________________________________                    \n",
       "⎪                      ╱    2                    2      2                    ╱\n",
       "⎨        σ₁₁   σ₂₂   ╲╱  σ₁₁  - 2⋅σ₁₁⋅σ₂₂ + 4⋅σ₁₂  + σ₂₂       σ₁₁   σ₂₂   ╲╱ \n",
       "⎪σ₃₃: 1, ─── + ─── - ─────────────────────────────────────: 1, ─── + ─── + ───\n",
       "⎩         2     2                      2                        2     2       \n",
       "\n",
       "__________________________________   ⎫\n",
       "    2                    2      2    ⎪\n",
       " σ₁₁  - 2⋅σ₁₁⋅σ₂₂ + 4⋅σ₁₂  + σ₂₂     ⎬\n",
       "──────────────────────────────────: 1⎪\n",
       "               2                     ⎭"
      ]
     },
     "execution_count": 134,
     "metadata": {},
     "output_type": "execute_result"
    }
   ],
   "source": [
    "s.eigenvals()  # hmm looks familiar"
   ]
  },
  {
   "cell_type": "code",
   "execution_count": 138,
   "metadata": {
    "collapsed": false
   },
   "outputs": [
    {
     "data": {
      "text/latex": [
       "$$\\left[\\begin{matrix}2.2 & 7.3 & 0\\\\7.3 & 3 & 0\\\\0 & 0 & \\pi\\end{matrix}\\right]$$"
      ],
      "text/plain": [
       "⎡2.2  7.3  0⎤\n",
       "⎢           ⎥\n",
       "⎢7.3   3   0⎥\n",
       "⎢           ⎥\n",
       "⎣ 0    0   π⎦"
      ]
     },
     "execution_count": 138,
     "metadata": {},
     "output_type": "execute_result"
    }
   ],
   "source": [
    "s1 = s.subs(s11,2.2).subs(s22,3).subs(s33,sp.pi).subs(s12,7.3)\n",
    "s1"
   ]
  },
  {
   "cell_type": "code",
   "execution_count": 140,
   "metadata": {
    "collapsed": false
   },
   "outputs": [
    {
     "data": {
      "text/latex": [
       "$$\\left[\\begin{matrix}2.2 & 7.3 & 0\\\\7.3 & 3.0 & 0\\\\0 & 0 & 3.14159265358979\\end{matrix}\\right]$$"
      ],
      "text/plain": [
       "⎡2.2  7.3         0        ⎤\n",
       "⎢                          ⎥\n",
       "⎢7.3  3.0         0        ⎥\n",
       "⎢                          ⎥\n",
       "⎣ 0    0   3.14159265358979⎦"
      ]
     },
     "execution_count": 140,
     "metadata": {},
     "output_type": "execute_result"
    }
   ],
   "source": [
    "# or \n",
    "s2 = s.evalf(subs={s11:2.2, s22:3, s33:sp.pi, s12:7.3})\n",
    "s2"
   ]
  },
  {
   "cell_type": "code",
   "execution_count": 142,
   "metadata": {
    "collapsed": false
   },
   "outputs": [
    {
     "data": {
      "text/latex": [
       "$$\\left \\{ \\pi : 1, \\quad \\frac{13}{5} + \\frac{\\sqrt{5345}}{10} : 1, \\quad - \\frac{\\sqrt{5345}}{10} + \\frac{13}{5} : 1\\right \\}$$"
      ],
      "text/plain": [
       "⎧             ______         ______        ⎫\n",
       "⎪      13   ╲╱ 5345        ╲╱ 5345    13   ⎪\n",
       "⎨π: 1, ── + ────────: 1, - ──────── + ──: 1⎬\n",
       "⎪      5       10             10      5    ⎪\n",
       "⎩                                          ⎭"
      ]
     },
     "execution_count": 142,
     "metadata": {},
     "output_type": "execute_result"
    }
   ],
   "source": [
    "s1.eigenvals()"
   ]
  },
  {
   "cell_type": "code",
   "execution_count": 143,
   "metadata": {
    "collapsed": false
   },
   "outputs": [
    {
     "data": {
      "text/latex": [
       "$$\\left \\{ \\frac{314159265358979}{100000000000000} : 1, \\quad \\frac{13}{5} + \\frac{\\sqrt{5345}}{10} : 1, \\quad - \\frac{\\sqrt{5345}}{10} + \\frac{13}{5} : 1\\right \\}$$"
      ],
      "text/plain": [
       "⎧                           ______         ______        ⎫\n",
       "⎪314159265358979     13   ╲╱ 5345        ╲╱ 5345    13   ⎪\n",
       "⎨───────────────: 1, ── + ────────: 1, - ──────── + ──: 1⎬\n",
       "⎪100000000000000     5       10             10      5    ⎪\n",
       "⎩                                                        ⎭"
      ]
     },
     "execution_count": 143,
     "metadata": {},
     "output_type": "execute_result"
    }
   ],
   "source": [
    "s2.eigenvals()"
   ]
  },
  {
   "cell_type": "code",
   "execution_count": 144,
   "metadata": {
    "collapsed": false
   },
   "outputs": [
    {
     "data": {
      "text/latex": [
       "$$\\left[\\begin{matrix}-0.0642535874919684 & 0.156350396230456 & 0\\\\0.156350396230456 & -0.0471192974941101 & 0\\\\0 & 0 & 0.318309886183791\\end{matrix}\\right]$$"
      ],
      "text/plain": [
       "⎡-0.0642535874919684   0.156350396230456           0        ⎤\n",
       "⎢                                                           ⎥\n",
       "⎢ 0.156350396230456   -0.0471192974941101          0        ⎥\n",
       "⎢                                                           ⎥\n",
       "⎣         0                    0           0.318309886183791⎦"
      ]
     },
     "execution_count": 144,
     "metadata": {},
     "output_type": "execute_result"
    }
   ],
   "source": [
    "s2.inv()"
   ]
  },
  {
   "cell_type": "code",
   "execution_count": 145,
   "metadata": {
    "collapsed": false
   },
   "outputs": [
    {
     "data": {
      "text/latex": [
       "$$\\left ( C_{1}, \\quad C_{2}, \\quad C_{3}, \\quad C_{4}, \\quad C_{5}, \\quad C_{6}, \\quad C_{7}, \\quad C_{8}, \\quad C_{9}, \\quad C_{10}, \\quad C_{11}, \\quad C_{12}, \\quad C_{13}, \\quad C_{14}, \\quad C_{15}, \\quad C_{16}, \\quad C_{17}, \\quad C_{18}, \\quad C_{19}, \\quad C_{20}, \\quad C_{21}, \\quad C_{22}, \\quad C_{23}, \\quad C_{24}, \\quad C_{25}, \\quad C_{26}, \\quad C_{27}, \\quad C_{28}, \\quad C_{29}, \\quad C_{30}, \\quad C_{31}, \\quad C_{32}, \\quad C_{33}, \\quad C_{34}, \\quad C_{35}, \\quad C_{36}, \\quad C_{37}, \\quad C_{38}, \\quad C_{39}, \\quad C_{40}, \\quad C_{41}, \\quad C_{42}, \\quad C_{43}, \\quad C_{44}, \\quad C_{45}, \\quad C_{46}, \\quad C_{47}, \\quad C_{48}, \\quad C_{49}, \\quad C_{50}, \\quad C_{51}, \\quad C_{52}, \\quad C_{53}, \\quad C_{54}, \\quad C_{55}, \\quad C_{56}, \\quad C_{57}, \\quad C_{58}, \\quad C_{59}, \\quad C_{60}, \\quad C_{61}, \\quad C_{62}, \\quad C_{63}, \\quad C_{64}, \\quad C_{65}, \\quad C_{66}, \\quad C_{67}, \\quad C_{68}, \\quad C_{69}, \\quad C_{70}, \\quad C_{71}, \\quad C_{72}, \\quad C_{73}, \\quad C_{74}, \\quad C_{75}, \\quad C_{76}, \\quad C_{77}, \\quad C_{78}, \\quad C_{79}, \\quad C_{80}, \\quad C_{81}, \\quad C_{82}, \\quad C_{83}, \\quad C_{84}, \\quad C_{85}, \\quad C_{86}, \\quad C_{87}, \\quad C_{88}, \\quad C_{89}, \\quad C_{90}, \\quad C_{91}, \\quad C_{92}, \\quad C_{93}, \\quad C_{94}, \\quad C_{95}, \\quad C_{96}, \\quad C_{97}, \\quad C_{98}, \\quad C_{99}\\right )$$"
      ],
      "text/plain": [
       "(C₁, C₂, C₃, C₄, C₅, C₆, C₇, C₈, C₉, C₁₀, C₁₁, C₁₂, C₁₃, C₁₄, C₁₅, C₁₆, C₁₇, C\n",
       "₁₈, C₁₉, C₂₀, C₂₁, C₂₂, C₂₃, C₂₄, C₂₅, C₂₆, C₂₇, C₂₈, C₂₉, C₃₀, C₃₁, C₃₂, C₃₃,\n",
       " C₃₄, C₃₅, C₃₆, C₃₇, C₃₈, C₃₉, C₄₀, C₄₁, C₄₂, C₄₃, C₄₄, C₄₅, C₄₆, C₄₇, C₄₈, C₄\n",
       "₉, C₅₀, C₅₁, C₅₂, C₅₃, C₅₄, C₅₅, C₅₆, C₅₇, C₅₈, C₅₉, C₆₀, C₆₁, C₆₂, C₆₃, C₆₄, \n",
       "C₆₅, C₆₆, C₆₇, C₆₈, C₆₉, C₇₀, C₇₁, C₇₂, C₇₃, C₇₄, C₇₅, C₇₆, C₇₇, C₇₈, C₇₉, C₈₀\n",
       ", C₈₁, C₈₂, C₈₃, C₈₄, C₈₅, C₈₆, C₈₇, C₈₈, C₈₉, C₉₀, C₉₁, C₉₂, C₉₃, C₉₄, C₉₅, C\n",
       "₉₆, C₉₇, C₉₈, C₉₉)"
      ]
     },
     "execution_count": 145,
     "metadata": {},
     "output_type": "execute_result"
    }
   ],
   "source": [
    "C = sp.symbols('C1:100')\n",
    "C"
   ]
  },
  {
   "cell_type": "code",
   "execution_count": null,
   "metadata": {
    "collapsed": true
   },
   "outputs": [],
   "source": []
  },
  {
   "cell_type": "code",
   "execution_count": null,
   "metadata": {
    "collapsed": true
   },
   "outputs": [],
   "source": []
  },
  {
   "cell_type": "code",
   "execution_count": null,
   "metadata": {
    "collapsed": true
   },
   "outputs": [],
   "source": []
  },
  {
   "cell_type": "code",
   "execution_count": 32,
   "metadata": {
    "collapsed": false
   },
   "outputs": [
    {
     "name": "stdout",
     "output_type": "stream",
     "text": [
      "0 [ 1.] 1.0\n",
      "0.1 [ 0.1353353] 0.135335283237\n",
      "0.2 [ 0.01831564] 0.0183156388887\n",
      "0.30000000000000004 [ 0.00247875] 0.00247875217667\n",
      "0.4 [ 0.00033546] 0.000335462627903\n",
      "0.5 [  4.53999512e-05] 4.53999297625e-05\n",
      "0.6 [  6.14421567e-06] 6.14421235333e-06\n",
      "0.7 [  8.31529279e-07] 8.31528719104e-07\n",
      "0.7999999999999999 [  1.12535271e-07] 1.12535174719e-07\n",
      "0.8999999999999999 [  1.52300000e-08] 1.52299797447e-08\n",
      "0.9999999999999999 [  2.06116213e-09] 2.06115362244e-09\n",
      "1.0999999999999999 [  2.78957342e-10] 2.78946809287e-10\n"
     ]
    }
   ],
   "source": [
    "from mechpy.math import ode1\n",
    "ode1()"
   ]
  },
  {
   "cell_type": "markdown",
   "metadata": {},
   "source": [
    "## Dynamics Vibrations Notes\n",
    "**Jul 1, 2015**\n",
    "\n",
    "## Introduction\n",
    "<div id=\"sec:intro\"></div>\n",
    "\n",
    "modal analysis is similar to frequency analysis. In frequency analysis a complex signal is resolved into a set of simple sine waves with individual frequency and amplitude and phase parameters. In modal analysis, a complex deflection pattern of a vibrating structure is resolved into a set of simple mode shapes with the same individual parameters. \n",
    "\n",
    "\n",
    "## Structural Dynamics Background\n",
    "<div id=\"sec:stdybg\"></div>\n",
    "\n",
    "Most systems are actually multiple degrees of freedom (MDOF) and have some non-linearity, but can be simplified with a superposition of SDOF linear systems \n",
    "\n",
    "Newtons law states that acceleration is a function of the applied force and the mass of the object, or\n",
    "$$\n",
    "[inertial forces] + [Dissipative forces] + [Restoring Forces] = [External Forces] \\\\\n",
    "m\\ddot{x} + c\\dot{x} + kx = f(t)  \\\\\n",
    "\\zeta<1 is\\ underdamped  \\\\\n",
    "$$\n",
    "\n",
    "some other dynamic characteristics are\n",
    "$$\n",
    "\\omega = frequency  \\\\\n",
    "\\zeta = damping     \\\\\n",
    "\\{\\phi\\} = mode shape  \\\\\n",
    "\\omega^{2}_{n}=\\frac{k}{m} = natural frequency \\\\\n",
    "\\zeta = \\frac{c}{\\sqrt{2km}}    \\\\\n",
    "H(\\omega)=Frequency\\ Response \\\\\n",
    "\\phi(\\omega)=Phase\n",
    "$$\n",
    "\n",
    "## Damping Model\n",
    "\n",
    "Where there is energy dissipation, there is damping. The system can be broken into the system inputs/excitation, a system G(s), and the output response, in Laplace or space\n",
    "\n",
    "The transfer function is a math model defining the input/output relationship of a physical system. Another definition is the Laplace transform ( $\\mathcal{L}$) of the output divided by the Laplace transform of the input. \n",
    "\n",
    "The frequency response function (FRF) is defined in a similar manner such that FRF is the fourier transform ($ \\mathcal{F} $) of the input divided by the fourier transform of the output\n",
    "\n",
    "$$\n",
    "Transfer\\ Function=\\frac{Output}{Input} \\\\\n",
    "G(s) = \\frac{Y(s)}{X(s)}\n",
    "$$\n",
    "\n",
    "## Modal Testing\n",
    "\n",
    "These relationships can be further explained by the modal test process. The measurements taken during a test are frequency response function measurements. The parameter estimation routines are curve fits in the Laplace domain and result in transfer functions.\n",
    "\n",
    "Frequency Response Matrix\n",
    "\n",
    "$$\n",
    "\\begin{bmatrix}\n",
    " H_{11} & H_{12} & \\cdots & H_{1n} \\\\\n",
    " H_{21} & H_{22} & \\cdots & H_{2n} \\\\\n",
    " \\vdots  & \\vdots  & \\ddots & \\vdots  \\\\\n",
    " H_{n1} & H_{n2} & \\cdots & H_{nn} \n",
    "\\end{bmatrix}\n",
    "$$\n",
    "\n",
    "## Random Notes\n",
    "<div id=\"sec:rand\"></div>\n",
    "\n",
    "The signal-analysis approach is done by measuring vibration with accelerometers and determine the frequency spectrum. The other moethod is a system -analysis where a dual-channel FFT anlayzer is used to measure the ratio of the response to the input giving the frequency response function (FRF)\n",
    "\n",
    "a modal model allows the analysis of structural systems\n",
    "\n",
    "a mode shape is a deflection-pattern associated with a particular modal frequency or pole location. It is not tangible or easily observed. The actual displacement of the structure will be a sum of all the mode shapes. A harmonic exitation close to the modal frequency, 95% of the displacement may be due to the particular modeshape\n",
    "\n",
    "Modal Descriptions Assumes Linearity\n",
    " * Superposition of the component waves will result in the final wave. A swept sinosoid will give the same result as a broadband excitation\n",
    "\n",
    " * Homogeneity is when a measured FRF is independent of excitation level\n",
    "\n",
    " * Reciprocity implies that the FRF measured between any two DOFs is independent of which of them for excitation or response\n",
    "\n",
    " * small deflections - cannot predict buckling or catastrophic failure\n",
    "\n",
    " * casual - the structure will not vibrate before it is excited\n",
    "\n",
    " * stable - the vibrations will die out when the excitation is removd\n",
    "\n",
    " * time-invariant - the dynamic characteristics will not change during the measurments\n",
    "\n",
    "## The Lumped-Parameter Model and Modal Theory\n",
    "\n",
    "[Physical Coordinates] = [Modal Matrix][Modal Coordinates]\n",
    "\n",
    "$$\n",
    "[x] = [\\phi][q]\n",
    "$$\n",
    "\n",
    "## Keywords and Notations\n",
    "\n",
    "$$\n",
    "m=mass        \\\\\n",
    "k=stiffness   \\\\\n",
    "c = damping coefficient  \\\\\n",
    "c_c = critical damping coefficient  \\\\\n",
    "$$\n",
    "\n"
   ]
  },
  {
   "cell_type": "markdown",
   "metadata": {},
   "source": [
    "## Finite-Element-Method\n",
    "[index](#Mechpy) \n",
    "\n",
    "The element connectivty is used to assemble the global stiffness matrix, the nodal force matrix, and the displacement matrix\n",
    "\n",
    "The minimization of the potentail energy is used to solve the global equation once the boundary conditions are applied to prevent rigid body motion\n",
    "\n",
    "$ \\{F\\} = [K]\\{U\\} $\n",
    "\n",
    "where  \n",
    "\n",
    "$ \\{F\\}=nodal\\ force\\ matrix $  \n",
    "$ [K] = global\\ stiffness\\ matrix $  \n",
    "$ \\{U\\} = nodal\\ displacement\\ matrix $  \n",
    "\n",
    "Once the displacements, U are computed, the strain, $\\bar{\\varepsilon}$ is calcualted \n",
    "\n",
    "with $\\{\\varepsilon\\}=[B]\\{U\\}$\n",
    "\n",
    "where\n",
    "\n",
    "$[B]=strain-displacement\\ matrix$\n",
    "\n",
    "and stresses, $\\bar{\\sigma}$ are determined via Hookes Law and \n",
    "\n",
    "$\\{\\sigma\\}=[C]\\{\\varepsilon\\}$\n",
    "\n",
    "where  \n",
    "\n",
    "$[C] = compliance\\ matrix$\n"
   ]
  },
  {
   "cell_type": "markdown",
   "metadata": {
    "collapsed": false
   },
   "source": [
    "### FEM-Example-1"
   ]
  },
  {
   "cell_type": "code",
   "execution_count": 87,
   "metadata": {
    "collapsed": false
   },
   "outputs": [
    {
     "name": "stdout",
     "output_type": "stream",
     "text": [
      "plane stress condition\n"
     ]
    },
    {
     "data": {
      "image/png": "[encoded data removed]",
      "text/plain": [
       "<matplotlib.figure.Figure at 0xe7d62e8>"
      ]
     },
     "metadata": {},
     "output_type": "display_data"
    },
    {
     "data": {
      "image/png": "[encoded data removed]",
      "text/plain": [
       "<matplotlib.figure.Figure at 0xeaf8908>"
      ]
     },
     "metadata": {},
     "output_type": "display_data"
    },
    {
     "data": {
      "text/plain": [
       "<matplotlib.figure.Figure at 0xee6cf98>"
      ]
     },
     "metadata": {},
     "output_type": "display_data"
    },
    {
     "data": {
      "image/png": "[encoded data removed]",
      "text/plain": [
       "<matplotlib.figure.Figure at 0xe7b8278>"
      ]
     },
     "metadata": {},
     "output_type": "display_data"
    }
   ],
   "source": [
    "from mechpy.fem import cst_fem\n",
    "cst_fem(structure='9node')"
   ]
  },
  {
   "cell_type": "markdown",
   "metadata": {
    "collapsed": true
   },
   "source": [
    "## Curve-Fitting \n",
    "[index](#Mechpy)  \n"
   ]
  },
  {
   "cell_type": "code",
   "execution_count": 1,
   "metadata": {
    "collapsed": true
   },
   "outputs": [],
   "source": [
    "import scipy as sp\n",
    "import numpy as np\n",
    "import matplotlib.pyplot as plt\n",
    "%matplotlib inline"
   ]
  },
  {
   "cell_type": "code",
   "execution_count": 2,
   "metadata": {
    "collapsed": false
   },
   "outputs": [
    {
     "data": {
      "text/plain": [
       "(0, 12)"
      ]
     },
     "execution_count": 2,
     "metadata": {},
     "output_type": "execute_result"
    },
    {
     "data": {
      "image/png": "[encoded data removed]",
      "text/plain": [
       "<matplotlib.figure.Figure at 0x120f5180a20>"
      ]
     },
     "metadata": {},
     "output_type": "display_data"
    }
   ],
   "source": [
    "#==============================================================================\n",
    "# Method 1 - polyfit\n",
    "#==============================================================================\n",
    "import numpy as np\n",
    "import matplotlib.pyplot as plt\n",
    "%matplotlib inline\n",
    "\n",
    "x = [1,2,3,4]\n",
    "y = [3,5,7,10] # 10, not 9, so the fit isn't perfect\n",
    "fit = np.polyfit(x,y,1)\n",
    "fit_fn = np.poly1d(fit) \n",
    "# fit_fn is now a function which takes in x and returns an estimate for y\n",
    "plt.text(4,4,fit_fn)\n",
    "plt.plot(x,y, 'yo', x, fit_fn(x), '--k')\n",
    "plt.xlim(0, 5)\n",
    "plt.ylim(0, 12)"
   ]
  },
  {
   "cell_type": "code",
   "execution_count": 3,
   "metadata": {
    "collapsed": false
   },
   "outputs": [
    {
     "name": "stdout",
     "output_type": "stream",
     "text": [
      "         3          2\n",
      "0.08704 x - 0.8135 x + 1.693 x - 0.03968\n",
      " ------------------------------------------ \n",
      "           6           5           4          3          2\n",
      "-0.001269 x + 0.01071 x + 0.01711 x - 0.2894 x + 0.2772 x + 0.7857 x\n"
     ]
    },
    {
     "name": "stderr",
     "output_type": "stream",
     "text": [
      "C:\\Users\\nealio\\Anaconda3\\lib\\site-packages\\numpy\\lib\\polynomial.py:594: RankWarning: Polyfit may be poorly conditioned\n",
      "  warnings.warn(msg, RankWarning)\n"
     ]
    },
    {
     "data": {
      "image/png": "[encoded data removed]",
      "text/plain": [
       "<matplotlib.figure.Figure at 0x120f54fc400>"
      ]
     },
     "metadata": {},
     "output_type": "display_data"
    }
   ],
   "source": [
    "import matplotlib.pyplot as plt\n",
    "\n",
    "x = np.array([0.0, 1.0, 2.0, 3.0,  4.0,  5.0])\n",
    "y = np.array([0.0, 0.8, 0.9, 0.1, -0.8, -1.0])\n",
    "z = np.polyfit(x, y, 3)\n",
    "\n",
    "p = np.poly1d(z)\n",
    "print(p)\n",
    "\n",
    "p6 = np.poly1d(np.polyfit(x, y, 6))\n",
    "print(' ------------------------------------------ ')\n",
    "print(p6)\n",
    "\n",
    "xp = np.linspace(-2, 6, 100)\n",
    "plt.plot(x, y, '.', xp, p(xp), '-', xp, p6(xp), '--')\n",
    "plt.ylim(-2,2)\n",
    "\n",
    "plt.show()"
   ]
  },
  {
   "cell_type": "code",
   "execution_count": 4,
   "metadata": {
    "collapsed": false
   },
   "outputs": [
    {
     "data": {
      "image/png": "[encoded data removed]",
      "text/plain": [
       "<matplotlib.figure.Figure at 0x120f5abc1d0>"
      ]
     },
     "metadata": {},
     "output_type": "display_data"
    }
   ],
   "source": [
    "#==============================================================================\n",
    "# Hmk from numerical methods class\n",
    "#==============================================================================\n",
    "X = np.array([0,  1, 2, 3,  4,  5])\n",
    "Y = np.array([4, -1, 6, 1, -4, -9])\n",
    "order=3 # integer > 0\n",
    "C = np.polyfit(X,Y,order);\n",
    "C = np.flipud(C)\n",
    "\n",
    "h = 1000\n",
    "xfit = np.linspace(min(X),max(X),h);\n",
    "yfit = np.zeros(len(xfit))\n",
    "\n",
    "for i,c in enumerate(C):\n",
    "    yfit += c*xfit**i\n",
    "\n",
    "plt.plot(X,Y,'o',xfit,yfit)\n",
    "plt.title('third order polynomnial least sqaures fit')\n",
    "plt.show()"
   ]
  },
  {
   "cell_type": "code",
   "execution_count": 5,
   "metadata": {
    "collapsed": false
   },
   "outputs": [
    {
     "name": "stdout",
     "output_type": "stream",
     "text": [
      "Warning: Maximum number of function evaluations has been exceeded.\n"
     ]
    },
    {
     "data": {
      "text/plain": [
       "[<matplotlib.lines.Line2D at 0x120f5ad8d68>]"
      ]
     },
     "execution_count": 5,
     "metadata": {},
     "output_type": "execute_result"
    },
    {
     "data": {
      "image/png": "[encoded data removed]",
      "text/plain": [
       "<matplotlib.figure.Figure at 0x120f5ad8668>"
      ]
     },
     "metadata": {},
     "output_type": "display_data"
    }
   ],
   "source": [
    "#==============================================================================\n",
    "# non-linear least squares\n",
    "#==============================================================================\n",
    "\n",
    "from scipy.optimize import curve_fit\n",
    "X = np.array([0 ,   1 , 2 ,   3 ,   4 ,   5 ])\n",
    "Y = np.array([0.1,  1 , 1.5 , 0.8 , 0.3 , 0.25 ])\n",
    "fn = lambda a: (a[0]*X+a[1]) * np.exp(a[2]*X+a[3])\n",
    "Sn = lambda x: np.sum( (fn(x)-Y)**2 )\n",
    "A = sp.optimize.fmin(func=Sn, x0=[0,0,0,0])\n",
    "plt.plot(X, Y,'o')\n",
    "xplot = np.linspace(0,5,100)\n",
    "fnfit = lambda x,a: (a[0]*x+a[1]) * np.exp(a[2]*x+a[3])\n",
    "plt.plot(xplot, fnfit(xplot, A))"
   ]
  },
  {
   "cell_type": "code",
   "execution_count": 6,
   "metadata": {
    "collapsed": false
   },
   "outputs": [
    {
     "name": "stdout",
     "output_type": "stream",
     "text": [
      "Optimization terminated successfully.\n",
      "         Current function value: 0.015158\n",
      "         Iterations: 109\n",
      "         Function evaluations: 208\n",
      "[ 0.49404038  3.96935945]\n"
     ]
    },
    {
     "data": {
      "text/plain": [
       "<matplotlib.text.Text at 0x120f5f92860>"
      ]
     },
     "execution_count": 6,
     "metadata": {},
     "output_type": "execute_result"
    },
    {
     "data": {
      "image/png": "[encoded data removed]",
      "text/plain": [
       "<matplotlib.figure.Figure at 0x120f5180908>"
      ]
     },
     "metadata": {},
     "output_type": "display_data"
    }
   ],
   "source": [
    "import scipy\n",
    "import numpy as np\n",
    "import matplotlib.pyplot as plt\n",
    "import matplotlib as mpl\n",
    "%matplotlib inline\n",
    "\n",
    "plt.figure(figsize=(16,7))\n",
    "mpl.rcParams['font.size'] = 16\n",
    "\n",
    "X = np.array([1, 2,    3,   4 ,    5 ])\n",
    "Y = np.array([2, 3.25, 3.5, 3.75 , 3.8])\n",
    "\n",
    "# a[0] is the x asymptote and a[1] is the y asymptote and \n",
    "fn = lambda a: -1/(X-a[0]) + a[1]\n",
    "Sn = lambda x: np.sum( (fn(x)-Y)**2 )\n",
    "\n",
    "A = scipy.optimize.fmin(func=Sn, x0=[0,0])\n",
    "print(A)\n",
    "plt.plot(X, Y,'o')\n",
    "xplot = np.linspace(0.75 , 5,100)\n",
    "fnfit = lambda x,a: -1/(x-a[0]) + a[1]\n",
    "\n",
    "plt.subplot(1,2,1)\n",
    "eps = 1e-16\n",
    "xp = 0.5\n",
    "yp = 4\n",
    "x = np.linspace(xp,4,100)\n",
    "y = -1/(x-xp+eps)+yp\n",
    "plt.plot(x,y)\n",
    "plt.ylim([0,yp])\n",
    "plt.title('plot of how the function should look with actual parameters')\n",
    "\n",
    "\n",
    "plt.plot(xplot, fnfit(xplot, A))\n",
    "plt.plot(X,Y, 'o')\n",
    "plt.title(r'$f(x)=\\frac{-1}{x-a_0}+a_1$')\n",
    "#plt.text(2,1,r'$f(x)=\\frac{-1}{x-0.494}+3.969$')"
   ]
  },
  {
   "cell_type": "code",
   "execution_count": 7,
   "metadata": {
    "collapsed": false
   },
   "outputs": [
    {
     "data": {
      "text/plain": [
       "[<matplotlib.lines.Line2D at 0x120f7619dd8>]"
      ]
     },
     "execution_count": 7,
     "metadata": {},
     "output_type": "execute_result"
    },
    {
     "data": {
      "image/png": "[encoded data removed]",
      "text/plain": [
       "<matplotlib.figure.Figure at 0x120f65c4518>"
      ]
     },
     "metadata": {},
     "output_type": "display_data"
    }
   ],
   "source": [
    "#==============================================================================\n",
    "# \n",
    "#==============================================================================\n",
    "import numpy as np\n",
    "from scipy.optimize import curve_fit\n",
    "def func(x, a, b, c):\n",
    "    return a * np.exp(-b * x) + c\n",
    "\n",
    "xdata = np.linspace(0, 4, 50)\n",
    "y = func(xdata, 2.5, 1.3, 0.5)\n",
    "ydata = y + np.random.normal(size=len(xdata))\n",
    "popt, pcov = curve_fit(func, xdata, ydata)\n",
    "popt, pcov = curve_fit(func, xdata, ydata, bounds=(0, [3., 2., 1.]))\n",
    "\n",
    "plt.plot(xdata, y)\n",
    "\n",
    "yfit = func(xdata, popt[0], popt[1], popt[2])\n",
    "plt.plot(xdata, yfit, 'o')"
   ]
  },
  {
   "cell_type": "markdown",
   "metadata": {},
   "source": [
    "## Linear Algebra with Python\n",
    "[index](#Mechpy)  \n",
    "\n",
    "Python's numpy package allows python, a generic computing language to perform powerful mathematical calculations. Although python's math syntax is not as obvious as MATLAB's, the functionality is comparable. This document is designed to be an intro to that syntax \n",
    "\n",
    "Some references\n",
    "\n",
    "http://nbviewer.ipython.org/github/carljv/cython_testing/blob/master/cython_linalg.ipynb\n",
    "\n",
    "We can either use scipy, which includes numpy, \n",
    "http://docs.scipy.org/doc/\n",
    "\n",
    "or use numpy directly\n",
    "http://docs.scipy.org/doc/numpy/\n",
    "\n",
    "Since there are many ways to solve linear algebra problems, (eg Octave/Matlab, julia, scipy, numpy)\n",
    "I tend to prefer the most matlabesc approaches due to the ubiquity of Matlab and the simplicity of the syntax, which frankly, python suffers with.\n",
    "\n",
    "The major difference between arrays and matrices in python is that arrays are n-dimensions, where matrices are only up to 2-dimensions  \n",
    "m"
   ]
  },
  {
   "cell_type": "code",
   "execution_count": null,
   "metadata": {
    "collapsed": true
   },
   "outputs": [],
   "source": [
    "import numpy as np\n",
    "from scipy import linalg"
   ]
  },
  {
   "cell_type": "markdown",
   "metadata": {},
   "source": [
    "Pythons list is a generic data storage object. it can be easily extended to a numpy array, which is specialized for numerical and scientific computation "
   ]
  },
  {
   "cell_type": "code",
   "execution_count": 88,
   "metadata": {
    "collapsed": false
   },
   "outputs": [
    {
     "data": {
      "text/plain": [
       "array([[ 0.,  0.,  0.],\n",
       "       [ 0.,  0.,  0.],\n",
       "       [ 0.,  0.,  0.],\n",
       "       [ 0.,  0.,  0.],\n",
       "       [ 0.,  0.,  0.]])"
      ]
     },
     "execution_count": 88,
     "metadata": {},
     "output_type": "execute_result"
    }
   ],
   "source": [
    "np.zeros((5,3))"
   ]
  },
  {
   "cell_type": "code",
   "execution_count": 89,
   "metadata": {
    "collapsed": false
   },
   "outputs": [
    {
     "data": {
      "text/plain": [
       "array([[1, 2],\n",
       "       [3, 4]])"
      ]
     },
     "execution_count": 89,
     "metadata": {},
     "output_type": "execute_result"
    }
   ],
   "source": [
    "np.array([[1,2],[3,4]])"
   ]
  },
  {
   "cell_type": "code",
   "execution_count": 90,
   "metadata": {
    "collapsed": false
   },
   "outputs": [
    {
     "data": {
      "text/plain": [
       "matrix([[ 0.,  0.,  0.],\n",
       "        [ 0.,  0.,  0.],\n",
       "        [ 0.,  0.,  0.],\n",
       "        [ 0.,  0.,  0.],\n",
       "        [ 0.,  0.,  0.]])"
      ]
     },
     "execution_count": 90,
     "metadata": {},
     "output_type": "execute_result"
    }
   ],
   "source": [
    "np.matrix(np.zeros((5,3)))"
   ]
  },
  {
   "cell_type": "code",
   "execution_count": 91,
   "metadata": {
    "collapsed": false
   },
   "outputs": [
    {
     "data": {
      "text/plain": [
       "matrix([[1, 2],\n",
       "        [3, 4]])"
      ]
     },
     "execution_count": 91,
     "metadata": {},
     "output_type": "execute_result"
    }
   ],
   "source": [
    "np.matrix([[1,2],[3,4]])"
   ]
  },
  {
   "cell_type": "code",
   "execution_count": 92,
   "metadata": {
    "collapsed": false
   },
   "outputs": [
    {
     "data": {
      "text/plain": [
       "array([[4, 3, 1],\n",
       "       [5, 7, 2],\n",
       "       [2, 2, 2]])"
      ]
     },
     "execution_count": 92,
     "metadata": {},
     "output_type": "execute_result"
    }
   ],
   "source": [
    "# Matrix multiplication can be achieved using the dot method\n",
    "i = [[1,0,0],[0,1,0],[0,0,1]]  # identiy matrix\n",
    "a = [[4,3,1],[5,7,2],[2,2,2]]\n",
    "np.dot(i,a)\n"
   ]
  },
  {
   "cell_type": "code",
   "execution_count": 93,
   "metadata": {
    "collapsed": false
   },
   "outputs": [
    {
     "data": {
      "text/plain": [
       "matrix([[4, 3, 1],\n",
       "        [5, 7, 2],\n",
       "        [2, 2, 2]])"
      ]
     },
     "execution_count": 93,
     "metadata": {},
     "output_type": "execute_result"
    }
   ],
   "source": [
    "#Or, matrix multiplication can be done if a matrix is explicitly defined\n",
    "np.matrix(i)*np.matrix(a)"
   ]
  },
  {
   "cell_type": "code",
   "execution_count": 94,
   "metadata": {
    "collapsed": false
   },
   "outputs": [
    {
     "data": {
      "text/plain": [
       "array([[4, 0, 0],\n",
       "       [0, 7, 0],\n",
       "       [0, 0, 2]])"
      ]
     },
     "execution_count": 94,
     "metadata": {},
     "output_type": "execute_result"
    }
   ],
   "source": [
    "# Notice, when arrays are mutliplied, we get the dot product \n",
    "np.array(i)*np.array(a)"
   ]
  },
  {
   "cell_type": "code",
   "execution_count": 95,
   "metadata": {
    "collapsed": false
   },
   "outputs": [
    {
     "data": {
      "text/plain": [
       "matrix([[4, 3, 1],\n",
       "        [5, 7, 2],\n",
       "        [2, 2, 2]])"
      ]
     },
     "execution_count": 95,
     "metadata": {},
     "output_type": "execute_result"
    }
   ],
   "source": [
    "# convert an array to a matrix\n",
    "m = np.matrix(a)\n",
    "m"
   ]
  },
  {
   "cell_type": "code",
   "execution_count": 96,
   "metadata": {
    "collapsed": false
   },
   "outputs": [
    {
     "data": {
      "text/plain": [
       "matrix([[4, 5, 2],\n",
       "        [3, 7, 2],\n",
       "        [1, 2, 2]])"
      ]
     },
     "execution_count": 96,
     "metadata": {},
     "output_type": "execute_result"
    }
   ],
   "source": [
    "m.T  # transpose"
   ]
  },
  {
   "cell_type": "code",
   "execution_count": 97,
   "metadata": {
    "collapsed": false
   },
   "outputs": [
    {
     "data": {
      "text/plain": [
       "matrix([[ 0.55555556, -0.22222222, -0.05555556],\n",
       "        [-0.33333333,  0.33333333, -0.16666667],\n",
       "        [-0.22222222, -0.11111111,  0.72222222]])"
      ]
     },
     "execution_count": 97,
     "metadata": {},
     "output_type": "execute_result"
    }
   ],
   "source": [
    "m.I  # inverse"
   ]
  },
  {
   "cell_type": "code",
   "execution_count": 98,
   "metadata": {
    "collapsed": false
   },
   "outputs": [
    {
     "data": {
      "text/plain": [
       "matrix([[33, 35, 12],\n",
       "        [59, 68, 23],\n",
       "        [22, 24, 10]])"
      ]
     },
     "execution_count": 98,
     "metadata": {},
     "output_type": "execute_result"
    }
   ],
   "source": [
    "m**2"
   ]
  },
  {
   "cell_type": "code",
   "execution_count": 99,
   "metadata": {
    "collapsed": false
   },
   "outputs": [
    {
     "data": {
      "text/plain": [
       "array([[16,  9,  1],\n",
       "       [25, 49,  4],\n",
       "       [ 4,  4,  4]])"
      ]
     },
     "execution_count": 99,
     "metadata": {},
     "output_type": "execute_result"
    }
   ],
   "source": [
    "np.array(a)**2"
   ]
  },
  {
   "cell_type": "code",
   "execution_count": 102,
   "metadata": {
    "collapsed": false
   },
   "outputs": [
    {
     "data": {
      "text/plain": [
       "matrix([[4, 3, 1],\n",
       "        [5, 7, 2],\n",
       "        [2, 2, 2]])"
      ]
     },
     "execution_count": 102,
     "metadata": {},
     "output_type": "execute_result"
    }
   ],
   "source": [
    "m"
   ]
  },
  {
   "cell_type": "code",
   "execution_count": 103,
   "metadata": {
    "collapsed": false
   },
   "outputs": [
    {
     "data": {
      "text/plain": [
       "matrix([[1],\n",
       "        [2],\n",
       "        [2]])"
      ]
     },
     "execution_count": 103,
     "metadata": {},
     "output_type": "execute_result"
    }
   ],
   "source": [
    "m[:,2]"
   ]
  },
  {
   "cell_type": "code",
   "execution_count": 104,
   "metadata": {
    "collapsed": false
   },
   "outputs": [
    {
     "data": {
      "text/plain": [
       "matrix([[2, 2, 2]])"
      ]
     },
     "execution_count": 104,
     "metadata": {},
     "output_type": "execute_result"
    }
   ],
   "source": [
    "m[2,:]"
   ]
  },
  {
   "cell_type": "code",
   "execution_count": 105,
   "metadata": {
    "collapsed": false
   },
   "outputs": [
    {
     "data": {
      "text/plain": [
       "matrix([[4, 3],\n",
       "        [5, 7]])"
      ]
     },
     "execution_count": 105,
     "metadata": {},
     "output_type": "execute_result"
    }
   ],
   "source": [
    "m[:2,:2]"
   ]
  },
  {
   "cell_type": "code",
   "execution_count": 107,
   "metadata": {
    "collapsed": false
   },
   "outputs": [
    {
     "data": {
      "text/plain": [
       "matrix([[7, 2],\n",
       "        [2, 2]])"
      ]
     },
     "execution_count": 107,
     "metadata": {},
     "output_type": "execute_result"
    }
   ],
   "source": [
    "m[1:,1:]"
   ]
  },
  {
   "cell_type": "markdown",
   "metadata": {},
   "source": [
    "## Sympy Linear Algebra"
   ]
  },
  {
   "cell_type": "code",
   "execution_count": 4,
   "metadata": {
    "collapsed": true
   },
   "outputs": [],
   "source": [
    "# import sympy\n",
    "import sympy as sp\n",
    "#from sympy.mpmath import *"
   ]
  },
  {
   "cell_type": "code",
   "execution_count": 5,
   "metadata": {
    "collapsed": false
   },
   "outputs": [
    {
     "data": {
      "text/latex": [
       "$$\\left[\\begin{matrix}2 & x\\\\x & 3\\end{matrix}\\right]$$"
      ],
      "text/plain": [
       "⎡2  x⎤\n",
       "⎢    ⎥\n",
       "⎣x  3⎦"
      ]
     },
     "execution_count": 5,
     "metadata": {},
     "output_type": "execute_result"
    }
   ],
   "source": [
    "x = sp.Symbol('x')   # x = var('x')\n",
    "M = sp.Matrix([[2,x],[x,3]])\n",
    "M"
   ]
  },
  {
   "cell_type": "code",
   "execution_count": 4,
   "metadata": {
    "collapsed": false
   },
   "outputs": [
    {
     "data": {
      "text/latex": [
       "$$\\left \\{ - \\frac{1}{2} \\sqrt{4 x^{2} + 1} + \\frac{5}{2} : 1, \\quad \\frac{1}{2} \\sqrt{4 x^{2} + 1} + \\frac{5}{2} : 1\\right \\}$$"
      ],
      "text/plain": [
       "⎧     __________            __________       ⎫\n",
       "⎪    ╱    2                ╱    2            ⎪\n",
       "⎨  ╲╱  4⋅x  + 1    5     ╲╱  4⋅x  + 1    5   ⎬\n",
       "⎪- ───────────── + ─: 1, ───────────── + ─: 1⎪\n",
       "⎩        2         2           2         2   ⎭"
      ]
     },
     "execution_count": 4,
     "metadata": {},
     "output_type": "execute_result"
    }
   ],
   "source": [
    "M.eigenvals()"
   ]
  },
  {
   "cell_type": "code",
   "execution_count": 6,
   "metadata": {
    "collapsed": false
   },
   "outputs": [
    {
     "data": {
      "text/latex": [
       "$$\\left [ \\left ( - \\frac{1}{2} \\sqrt{4 x^{2} + 1} + \\frac{5}{2}, \\quad 1, \\quad \\left [ \\left[\\begin{matrix}- \\frac{x}{\\frac{1}{2} \\sqrt{4 x^{2} + 1} - \\frac{1}{2}}\\\\1\\end{matrix}\\right]\\right ]\\right ), \\quad \\left ( \\frac{1}{2} \\sqrt{4 x^{2} + 1} + \\frac{5}{2}, \\quad 1, \\quad \\left [ \\left[\\begin{matrix}- \\frac{x}{- \\frac{1}{2} \\sqrt{4 x^{2} + 1} - \\frac{1}{2}}\\\\1\\end{matrix}\\right]\\right ]\\right )\\right ]$$"
      ],
      "text/plain": [
       "⎡⎛     __________                              ⎞  ⎛   __________              \n",
       "⎢⎜    ╱    2                                   ⎟  ⎜  ╱    2                   \n",
       "⎢⎜  ╲╱  4⋅x  + 1    5     ⎡⎡       -x        ⎤⎤⎟  ⎜╲╱  4⋅x  + 1    5     ⎡⎡   \n",
       "⎢⎜- ───────────── + ─, 1, ⎢⎢─────────────────⎥⎥⎟, ⎜───────────── + ─, 1, ⎢⎢───\n",
       "⎢⎜        2         2     ⎢⎢   __________    ⎥⎥⎟  ⎜      2         2     ⎢⎢   \n",
       "⎢⎜                        ⎢⎢  ╱    2         ⎥⎥⎟  ⎜                      ⎢⎢   \n",
       "⎢⎜                        ⎢⎢╲╱  4⋅x  + 1    1⎥⎥⎟  ⎜                      ⎢⎢  ╲\n",
       "⎢⎜                        ⎢⎢───────────── - ─⎥⎥⎟  ⎜                      ⎢⎢- ─\n",
       "⎢⎜                        ⎢⎢      2         2⎥⎥⎟  ⎜                      ⎢⎢   \n",
       "⎢⎜                        ⎢⎢                 ⎥⎥⎟  ⎜                      ⎢⎢   \n",
       "⎣⎝                        ⎣⎣        1        ⎦⎦⎠  ⎝                      ⎣⎣   \n",
       "\n",
       "                  ⎞⎤\n",
       "                  ⎟⎥\n",
       "     -x         ⎤⎤⎟⎥\n",
       "────────────────⎥⎥⎟⎥\n",
       "  __________    ⎥⎥⎟⎥\n",
       " ╱    2         ⎥⎥⎟⎥\n",
       "╱  4⋅x  + 1    1⎥⎥⎟⎥\n",
       "──────────── - ─⎥⎥⎟⎥\n",
       "     2         2⎥⎥⎟⎥\n",
       "                ⎥⎥⎟⎥\n",
       "      1         ⎦⎦⎠⎦"
      ]
     },
     "execution_count": 6,
     "metadata": {},
     "output_type": "execute_result"
    }
   ],
   "source": [
    "M.eigenvects()"
   ]
  },
  {
   "cell_type": "code",
   "execution_count": 7,
   "metadata": {
    "collapsed": false
   },
   "outputs": [
    {
     "data": {
      "text/latex": [
       "$$\\frac{1}{2} \\sqrt{4 x^{2} + 1} + \\frac{5}{2}$$"
      ],
      "text/plain": [
       "   __________    \n",
       "  ╱    2         \n",
       "╲╱  4⋅x  + 1    5\n",
       "───────────── + ─\n",
       "      2         2"
      ]
     },
     "execution_count": 7,
     "metadata": {},
     "output_type": "execute_result"
    }
   ],
   "source": [
    "M.eigenvects()[1][0]"
   ]
  },
  {
   "cell_type": "code",
   "execution_count": 8,
   "metadata": {
    "collapsed": false
   },
   "outputs": [
    {
     "data": {
      "text/latex": [
       "$$5.67955971794838$$"
      ],
      "text/plain": [
       "5.67955971794838"
      ]
     },
     "execution_count": 8,
     "metadata": {},
     "output_type": "execute_result"
    }
   ],
   "source": [
    "Mval = M.eigenvects()[1][0]\n",
    "Mval.evalf(subs={x:3.14})"
   ]
  },
  {
   "cell_type": "code",
   "execution_count": 10,
   "metadata": {
    "collapsed": false
   },
   "outputs": [
    {
     "name": "stdout",
     "output_type": "stream",
     "text": [
      "\\left[\\begin{matrix}2 & x\\\\x & 3\\end{matrix}\\right]\n"
     ]
    }
   ],
   "source": [
    "print(sp.latex(M))"
   ]
  },
  {
   "cell_type": "markdown",
   "metadata": {},
   "source": [
    "copy and paste into markdown \n",
    "\n",
    "$ \\left[\\begin{matrix}2 & x\\\\x & 3\\end{matrix}\\right] $\n"
   ]
  },
  {
   "cell_type": "markdown",
   "metadata": {},
   "source": [
    "## Signal Processing\n",
    "Page 174 Introduction for python for Science - David Pine"
   ]
  },
  {
   "cell_type": "code",
   "execution_count": 11,
   "metadata": {
    "collapsed": true
   },
   "outputs": [],
   "source": [
    "import numpy as np\n",
    "from scipy import fftpack\n",
    "import matplotlib.pyplot as plt\n",
    "width = 2.0\n",
    "freq = 0.5\n",
    "t = np.linspace(-10, 10, 101) # linearly space time array\n",
    "g = np.exp(-np.abs(t)/width)*np.sin(2.0 * np.pi * freq * t)\n",
    "dt = t[1]-t[0] # increment between times in time array\n",
    "G = fftpack.fft(g) # FFT of g\n",
    "f = fftpack.fftfreq(g.size, d=dt) # frequenies f[i] of g[i]\n",
    "f = fftpack.fftshift(f) # shift frequencies from min to max\n",
    "G = fftpack.fftshift(G) # shift G order to coorespond to f\n",
    "fig = plt.figure(1, figsize=(8,6), frameon=False)\n",
    "ax1 = fig.add_subplot(211)\n",
    "ax1.plot(t, g)\n",
    "ax1.set_xlabel('t')\n",
    "ax1.set_ylabel('g(t)')\n",
    "ax2 = fig.add_subplot(212)\n",
    "ax2.plot(f, np.real(G), color='dodgerblue', label='real part')\n",
    "ax2.plot(f, np.imag(G), color='coral', label='imaginary part')\n",
    "ax2.legend()\n",
    "ax2.set_xlabel('f')\n",
    "ax2.set_ylabel('G(f)')\n",
    "plt.show()"
   ]
  },
  {
   "cell_type": "markdown",
   "metadata": {},
   "source": [
    "# Design"
   ]
  },
  {
   "cell_type": "markdown",
   "metadata": {},
   "source": [
    "## Factors of Safety\n",
    "\n",
    "DLL, Design Limit Load = max force or moment expected during a mission with a given statistical probability  \n",
    "\n",
    "Al, Allowable =  allowed minimum applied load or strength of a structure at a given statistical probablity  \n",
    "\n",
    "FS, factor of safety [1, $\\infty$] = a factor applied to a DLL to decrease the chance of failure, typically around 1-3  \n",
    "\n",
    "KD, knockdown (0,1] = a percentage reduction of Allowable load to reduce the chance of failure\n",
    "\n",
    "A KD=0.8 would be applied to the allowable to reduce it by 20%, $Al_{new}=Al_{old}*KD$   \n",
    "\n",
    "MS, margin of safety = a measure of reserve strength , how much applied loda can increase before the safety of the vehicle is comprimised. $ MS\\geq0$ for a good design, $MS=\\frac{Allowable}{DLL*FS}-1$\n",
    "\n",
    "For example with a $FS=1.15$, $DLL=80$, $Al=100$, we have a margin of $MS=\\frac{100}{80*1.15}-1=\\frac{100}{92}-1=0.087$ which is passing our design checks based on the expected max load of 80\n",
    "\n",
    "Lets Assume a knockdown of 27%, so $K=1-0.27=0.73$  \n",
    "\n",
    "$$\n",
    "FS = \\frac{1}{K}\n",
    "$$\n",
    "\n",
    "\n",
    "We can also say we have a $FS = \\frac{1}{0.73}=1.3699$\n",
    "\n",
    "$$\n",
    "\\sigma_{design}=\\frac{\\sigma_{ult}}{FS} = \\sigma_{ult}*K\n",
    "$$\n"
   ]
  },
  {
   "cell_type": "code",
   "execution_count": null,
   "metadata": {
    "collapsed": true
   },
   "outputs": [],
   "source": []
  },
  {
   "cell_type": "markdown",
   "metadata": {
    "collapsed": true
   },
   "source": [
    "# Engineering Mathematics with Python\n",
    "[index](#Mechpy)"
   ]
  },
  {
   "cell_type": "code",
   "execution_count": 3,
   "metadata": {
    "collapsed": false
   },
   "outputs": [],
   "source": [
    "from numpy import *"
   ]
  },
  {
   "cell_type": "code",
   "execution_count": 4,
   "metadata": {
    "collapsed": false
   },
   "outputs": [
    {
     "data": {
      "text/plain": [
       "array([ 1,  2,  3,  4,  5,  6,  7,  8,  9, 10])"
      ]
     },
     "execution_count": 4,
     "metadata": {},
     "output_type": "execute_result"
    }
   ],
   "source": [
    "r_[1:11]"
   ]
  },
  {
   "cell_type": "code",
   "execution_count": 6,
   "metadata": {
    "collapsed": false
   },
   "outputs": [
    {
     "data": {
      "text/plain": [
       "array([ 1,  2,  3,  4,  5,  6,  7,  8,  9, 10])"
      ]
     },
     "execution_count": 6,
     "metadata": {},
     "output_type": "execute_result"
    }
   ],
   "source": [
    "arange(1,11)"
   ]
  },
  {
   "cell_type": "code",
   "execution_count": 9,
   "metadata": {
    "collapsed": false
   },
   "outputs": [
    {
     "data": {
      "text/plain": [
       "array([  1.,   2.,   3.,   4.,   5.,   6.,   7.,   8.,   9.,  10.])"
      ]
     },
     "execution_count": 9,
     "metadata": {},
     "output_type": "execute_result"
    }
   ],
   "source": [
    "linspace(1,10,10)"
   ]
  },
  {
   "cell_type": "markdown",
   "metadata": {},
   "source": [
    "## Functions\n",
    "[index](#Index) "
   ]
  },
  {
   "cell_type": "code",
   "execution_count": 28,
   "metadata": {
    "collapsed": false
   },
   "outputs": [
    {
     "data": {
      "image/png": "[encoded data removed]",
      "text/latex": [
       "$$0.042 ed s + 0.252 ed + 0.021 s + 0.126$$"
      ],
      "text/plain": [
       "0.042⋅ed⋅s + 0.252⋅ed + 0.021⋅s + 0.126"
      ]
     },
     "execution_count": 28,
     "metadata": {},
     "output_type": "execute_result"
    }
   ],
   "source": [
    "import sympy as sp\n",
    "s,ed = sp.symbols('s,ed')\n",
    "K = sp.Function('K')\n",
    "\n",
    "Ked = 0.4*ed+.2\n",
    "Ks = 0.105*s+0.63 \n",
    "\n",
    "Ktot = Ked*Ks\n",
    "sp.expand(Ktot)"
   ]
  },
  {
   "cell_type": "code",
   "execution_count": 29,
   "metadata": {
    "collapsed": false
   },
   "outputs": [
    {
     "data": {
      "image/png": "[encoded data removed]",
      "text/latex": [
       "$$K{\\left (2,3.54 \\right )}$$"
      ],
      "text/plain": [
       "K(2, 3.54)"
      ]
     },
     "execution_count": 29,
     "metadata": {},
     "output_type": "execute_result"
    }
   ],
   "source": [
    "Ktot = sp.lambdify((ed,s), (0.4*ed+.2)*(0.105*s+0.63))\n",
    "K(2,3.54)"
   ]
  },
  {
   "cell_type": "code",
   "execution_count": 30,
   "metadata": {
    "collapsed": true
   },
   "outputs": [],
   "source": [
    "di,df,t = sp.symbols('d_i,d_f,t')"
   ]
  },
  {
   "cell_type": "code",
   "execution_count": 31,
   "metadata": {
    "collapsed": true
   },
   "outputs": [],
   "source": [
    "from sympy.utilities.lambdify import lambdify, implemented_function"
   ]
  },
  {
   "cell_type": "code",
   "execution_count": 32,
   "metadata": {
    "collapsed": true
   },
   "outputs": [],
   "source": [
    "sb = implemented_function(sp.Function('sb'), lambda di,t: 11445*(di/t)**3 -70429*(di/t)**2 + 145552*(di/t)  )"
   ]
  },
  {
   "cell_type": "code",
   "execution_count": 33,
   "metadata": {
    "collapsed": true
   },
   "outputs": [],
   "source": [
    "Kdt = implemented_function(sp.Function('Kdt'), \\\n",
    "                           lambda di,t,df: 11445/sb(di, t)*(df/t)**3 - \\\n",
    "                           70429/sb(di, t)*(df/t)**2 + 145552/sb(di, t)*(df/t)  )"
   ]
  },
  {
   "cell_type": "code",
   "execution_count": 34,
   "metadata": {
    "collapsed": false
   },
   "outputs": [
    {
     "data": {
      "image/png": "[encoded data removed]",
      "text/latex": [
       "$$1.15540221170541$$"
      ],
      "text/plain": [
       "1.15540221170541"
      ]
     },
     "execution_count": 34,
     "metadata": {},
     "output_type": "execute_result"
    }
   ],
   "source": [
    "Kdt(0.1875, 0.25, 0.246)"
   ]
  },
  {
   "cell_type": "code",
   "execution_count": 35,
   "metadata": {
    "collapsed": false
   },
   "outputs": [
    {
     "data": {
      "image/png": "[encoded data removed]",
      "text/latex": [
       "$$\\frac{11445 d_{i}^{3}}{t^{3}} - \\frac{70429 d_{i}^{2}}{t^{2}} + \\frac{145552 d_{i}}{t}$$"
      ],
      "text/plain": [
       "        3           2            \n",
       "11445⋅dᵢ    70429⋅dᵢ    145552⋅dᵢ\n",
       "───────── - ───────── + ─────────\n",
       "     3           2          t    \n",
       "    t           t                "
      ]
     },
     "execution_count": 35,
     "metadata": {},
     "output_type": "execute_result"
    }
   ],
   "source": [
    "sb = sp.Function('sb')\n",
    "sb = 11445*(di/t)**3 -70429*(di/t)**2 + 145552*(di/t)\n",
    "sb"
   ]
  },
  {
   "cell_type": "code",
   "execution_count": 36,
   "metadata": {
    "collapsed": false
   },
   "outputs": [
    {
     "data": {
      "image/png": "[encoded data removed]",
      "text/latex": [
       "$$\\frac{11445 d_{f}^{3}}{t^{3} \\left(\\frac{11445 d_{i}^{3}}{t^{3}} - \\frac{70429 d_{i}^{2}}{t^{2}} + \\frac{145552 d_{i}}{t}\\right)} - \\frac{70429 d_{f}^{2}}{t^{2} \\left(\\frac{11445 d_{i}^{3}}{t^{3}} - \\frac{70429 d_{i}^{2}}{t^{2}} + \\frac{145552 d_{i}}{t}\\right)} + \\frac{145552 d_{f}}{t \\left(\\frac{11445 d_{i}^{3}}{t^{3}} - \\frac{70429 d_{i}^{2}}{t^{2}} + \\frac{145552 d_{i}}{t}\\right)}$$"
      ],
      "text/plain": [
       "                       3                                        2             \n",
       "              11445⋅d_f                                70429⋅d_f              \n",
       "────────────────────────────────────── - ─────────────────────────────────────\n",
       "   ⎛        3           2            ⎞      ⎛        3           2            \n",
       " 3 ⎜11445⋅dᵢ    70429⋅dᵢ    145552⋅dᵢ⎟    2 ⎜11445⋅dᵢ    70429⋅dᵢ    145552⋅dᵢ\n",
       "t ⋅⎜───────── - ───────── + ─────────⎟   t ⋅⎜───────── - ───────── + ─────────\n",
       "   ⎜     3           2          t    ⎟      ⎜     3           2          t    \n",
       "   ⎝    t           t                ⎠      ⎝    t           t                \n",
       "\n",
       "                                         \n",
       "                  145552⋅d_f             \n",
       "─ + ─────────────────────────────────────\n",
       "⎞     ⎛        3           2            ⎞\n",
       "⎟     ⎜11445⋅dᵢ    70429⋅dᵢ    145552⋅dᵢ⎟\n",
       "⎟   t⋅⎜───────── - ───────── + ─────────⎟\n",
       "⎟     ⎜     3           2          t    ⎟\n",
       "⎠     ⎝    t           t                ⎠"
      ]
     },
     "execution_count": 36,
     "metadata": {},
     "output_type": "execute_result"
    }
   ],
   "source": [
    "Kdt = sp.Function('Kdt')\n",
    "Kdt = 11445/sb*(df/t)**3 - 70429/sb*(df/t)**2 + 145552/sb*(df/t)\n",
    "Kdt"
   ]
  },
  {
   "cell_type": "code",
   "execution_count": 37,
   "metadata": {
    "collapsed": true
   },
   "outputs": [],
   "source": [
    "Kdt = sp.simplify(Kdt)"
   ]
  },
  {
   "cell_type": "code",
   "execution_count": 38,
   "metadata": {
    "collapsed": false
   },
   "outputs": [
    {
     "data": {
      "text/plain": [
       "'\\\\frac{d_{f} \\\\left(11445 d_{f}^{2} - 70429 d_{f} t + 145552 t^{2}\\\\right)}{d_{i} \\\\left(11445 d_{i}^{2} - 70429 d_{i} t + 145552 t^{2}\\\\right)}'"
      ]
     },
     "execution_count": 38,
     "metadata": {},
     "output_type": "execute_result"
    }
   ],
   "source": [
    "sp.latex(Kdt)"
   ]
  },
  {
   "cell_type": "code",
   "execution_count": null,
   "metadata": {
    "collapsed": true
   },
   "outputs": [],
   "source": []
  },
  {
   "cell_type": "code",
   "execution_count": null,
   "metadata": {
    "collapsed": true
   },
   "outputs": [],
   "source": []
  },
  {
   "cell_type": "code",
   "execution_count": 43,
   "metadata": {
    "collapsed": false
   },
   "outputs": [
    {
     "name": "stderr",
     "output_type": "stream",
     "text": [
      "C:\\Users\\ngordon\\AppData\\Local\\Continuum\\Anaconda3\\lib\\site-packages\\ipykernel\\__main__.py:33: DeprecationWarning: This function is deprecated. Please call randint(1, 10 + 1) instead\n",
      "C:\\Users\\ngordon\\AppData\\Local\\Continuum\\Anaconda3\\lib\\site-packages\\ipykernel\\__main__.py:34: DeprecationWarning: This function is deprecated. Please call randint(0, 1 + 1) instead\n"
     ]
    },
    {
     "data": {
      "image/png": "[encoded data removed]",
      "text/plain": [
       "<matplotlib.figure.Figure at 0xcd0be10>"
      ]
     },
     "metadata": {},
     "output_type": "display_data"
    },
    {
     "data": {
      "image/png": "[encoded data removed]",
      "text/plain": [
       "<matplotlib.figure.Figure at 0xa3d9208>"
      ]
     },
     "metadata": {},
     "output_type": "display_data"
    }
   ],
   "source": [
    "import numpy as np\n",
    "import matplotlib.pyplot as plt\n",
    "%matplotlib inline\n",
    "fig, ax = plt.subplots()\n",
    "\n",
    "N = 5\n",
    "ind = np.arange(N)  # the x locations for the groups\n",
    "width = 0.35       # the width of the bars\n",
    "\n",
    "Pult = (20, 35, 30, 35, 27)\n",
    "Pultstd = (2, 3, 4, 1, 2)\n",
    "rects1 = ax.bar(ind, Pult, width, color='r', yerr=Pultstd)\n",
    "\n",
    "Ppl = (25, 32, 34, 20, 25)\n",
    "Pplstd = (3, 5, 2, 3, 3)\n",
    "rects2 = ax.bar(ind + width, Ppl, width, color='y', yerr=Pplstd)\n",
    "\n",
    "# add some text for labels, title and axes ticks\n",
    "ax.set_ylabel('P, load, lbs')\n",
    "ax.set_title('Ultimate and PL Load')\n",
    "ax.set_xticks(ind + width/2)\n",
    "ax.set_xticklabels(('G1', 'G2', 'G3', 'G4', 'G5'))\n",
    "ax.legend(['Ult','Pl'])\n",
    "ax.margins(0.02)\n",
    "\n",
    "\n",
    "### OR\n",
    "\n",
    "fig, ax = plt.subplots()\n",
    "barwidth = 0.35       # the width of the bars\n",
    "specimenNames = ['Sample1', 'Sample2', 'Sample3', 'Samlpe4']\n",
    "x = np.arange(4)\n",
    "y = np.random.random_integers(1, 10 ,len(x))\n",
    "e = np.random.random_integers(0,1,len(x))\n",
    "ax.bar(x,y, width=barwidth, yerr=e)\n",
    "ax.set_xticks(x)\n",
    "plt.xticks(x+barwidth/2, specimenNames, rotation='vertical')\n",
    "plt.margins(0.05)\n",
    "#ax.margins(0.05)\n",
    "plt.show()"
   ]
  },
  {
   "cell_type": "markdown",
   "metadata": {},
   "source": [
    "## Raw Test Data"
   ]
  },
  {
   "cell_type": "code",
   "execution_count": 56,
   "metadata": {
    "collapsed": false
   },
   "outputs": [],
   "source": [
    "import pandas as pd\n",
    "import numpy as np\n",
    "import glob as gb\n",
    "from matplotlib.pyplot import *\n",
    "%matplotlib inline\n",
    "\n",
    "csvdir='./examples/'"
   ]
  },
  {
   "cell_type": "code",
   "execution_count": 70,
   "metadata": {
    "collapsed": false
   },
   "outputs": [
    {
     "data": {
      "image/png": "[encoded data removed]",
      "text/plain": [
       "<matplotlib.figure.Figure at 0xcd97cc0>"
      ]
     },
     "metadata": {},
     "output_type": "display_data"
    },
    {
     "data": {
      "image/png": "[encoded data removed]",
      "text/plain": [
       "<matplotlib.figure.Figure at 0xcd979b0>"
      ]
     },
     "metadata": {},
     "output_type": "display_data"
    }
   ],
   "source": [
    "e=[]\n",
    "y=[]\n",
    "\n",
    "for s in specimen:\n",
    "    files = gb.glob(csvdir + '*.csv')  # select all csv files\n",
    "    fig, ax = subplots()\n",
    "    title(s)\n",
    "    Pult = []\n",
    "    \n",
    "    for f in files:\n",
    "        d1 = pd.read_csv(f, skiprows=1)\n",
    "        d1 = d1[1:]  # remove first row of string\n",
    "        d1.columns = ['t', 'load', 'ext']  # rename columns\n",
    "        d1.head()\n",
    "        # remove commas in data\n",
    "        for d in d1.columns:\n",
    "            #d1.dtypes\n",
    "            d1[d] = d1[d].map(lambda x: float(str(x).replace(',','')))\n",
    "        Pult.append(np.max(d1.load))\n",
    "        plot(d1.ext, d1.load)   \n",
    "        ylabel('Pult, lbs')\n",
    "        xlabel('extension, in')\n",
    "        \n",
    "        \n",
    "    e.append(np.std(Pult))\n",
    "    y.append(np.average(Pult)     )\n",
    "    show()\n",
    "\n",
    "\n",
    "# bar chart \n",
    "barwidth = 0.35       # the width of the bars\n",
    "\n",
    "fig, ax = subplots()\n",
    "x = np.arange(len(specimen))\n",
    "ax.bar(x,  y, width=barwidth, yerr=e)\n",
    "\n",
    "#ax.set_xticks(x)\n",
    "xticks(x+barwidth/2, specimen, rotation='vertical')\n",
    "title('Pult with sample average and stdev of n=3')\n",
    "ylabel('Pult, lbs')\n",
    "margins(0.05)\n",
    "show()"
   ]
  },
  {
   "cell_type": "markdown",
   "metadata": {},
   "source": [
    "## Finding the \"first\" peak and delta-10 threshhold limit on force-displacement data\n",
    "\n",
    " http://nbviewer.jupyter.org/github/demotu/BMC/blob/master/notebooks/DataFiltering.ipynb"
   ]
  },
  {
   "cell_type": "code",
   "execution_count": 78,
   "metadata": {
    "collapsed": false
   },
   "outputs": [
    {
     "name": "stdout",
     "output_type": "stream",
     "text": [
      "number of data points = 42124\n"
     ]
    },
    {
     "data": {
      "image/png": "[encoded data removed]",
      "text/plain": [
       "<matplotlib.figure.Figure at 0xe5ddda0>"
      ]
     },
     "metadata": {},
     "output_type": "display_data"
    }
   ],
   "source": [
    "\n",
    "%matplotlib inline\n",
    "from scipy import signal\n",
    "from pylab import plot, xlabel, ylabel, title, rcParams, figure\n",
    "import numpy as np\n",
    "pltwidth = 16\n",
    "pltheight = 8\n",
    "rcParams['figure.figsize'] = (pltwidth, pltheight)\n",
    "\n",
    "csv = np.genfromtxt('./examples/stress_strain1.csv', delimiter=\",\")\n",
    "disp = csv[:,0]\n",
    "force = csv[:,1]\n",
    "print('number of data points = %i' % len(disp))\n",
    "\n",
    "def moving_average(x, window):\n",
    "    \"\"\"Moving average of 'x' with window size 'window'.\"\"\"\n",
    "    y = np.empty(len(x)-window+1)\n",
    "    for i in range(len(y)):\n",
    "        y[i] = np.sum(x[i:i+window])/window\n",
    "    return y\n",
    "\n",
    "plt1 = plot(disp, force);\n",
    "xlabel('displacement');\n",
    "ylabel('force');\n"
   ]
  },
  {
   "cell_type": "code",
   "execution_count": 79,
   "metadata": {
    "collapsed": false
   },
   "outputs": [
    {
     "data": {
      "image/png": "[encoded data removed]",
      "text/plain": [
       "<matplotlib.figure.Figure at 0xe9ca0b8>"
      ]
     },
     "metadata": {},
     "output_type": "display_data"
    }
   ],
   "source": [
    "figure()\n",
    "mywindow = 1000  # the larger the filter window, the more agressive the filtering\n",
    "force2 = moving_average(force, mywindow)\n",
    "x2 = range(len(force2))\n",
    "plot(x2,  force2);\n",
    "title('Force smoothed with moving average filter');"
   ]
  },
  {
   "cell_type": "code",
   "execution_count": 81,
   "metadata": {
    "collapsed": false
   },
   "outputs": [
    {
     "data": {
      "text/plain": [
       "<matplotlib.text.Text at 0xe81dc88>"
      ]
     },
     "execution_count": 81,
     "metadata": {},
     "output_type": "execute_result"
    },
    {
     "data": {
      "image/png": "[encoded data removed]",
      "text/plain": [
       "<matplotlib.figure.Figure at 0xe9b9518>"
      ]
     },
     "metadata": {},
     "output_type": "display_data"
    }
   ],
   "source": [
    "\n",
    "# Find f' using diff to find the first intersection of the 0\n",
    "\n",
    "# mvavgforce = mvavgforce[:len(mvavgforce)/2]\n",
    "force2p = np.diff(force2)\n",
    "x2p = range(len(force2p))\n",
    "plot(x2p, force2p);\n",
    "title('Slope of the smoothed curve')"
   ]
  },
  {
   "cell_type": "code",
   "execution_count": 82,
   "metadata": {
    "collapsed": false
   },
   "outputs": [],
   "source": [
    "i = np.argmax(force2p<0)     \n",
    "### or\n",
    "# i = where(force2p<0)[0][0]\n",
    "#### or\n",
    "# for i, f in enumerate(force2p):\n",
    "#     if f < 0:\n",
    "#         break"
   ]
  },
  {
   "cell_type": "code",
   "execution_count": 83,
   "metadata": {
    "collapsed": false
   },
   "outputs": [
    {
     "data": {
      "image/png": "[encoded data removed]",
      "text/plain": [
       "<matplotlib.figure.Figure at 0xe1b67f0>"
      ]
     },
     "metadata": {},
     "output_type": "display_data"
    }
   ],
   "source": [
    "plot(x2p,  force2p, i,force2p[i],'o', markersize=15);\n",
    "title('find the point at which the slope goes negative, indicating a switch in the slope direction');"
   ]
  },
  {
   "cell_type": "code",
   "execution_count": 84,
   "metadata": {
    "collapsed": false
   },
   "outputs": [
    {
     "data": {
      "image/png": "[encoded data removed]",
      "text/plain": [
       "<matplotlib.figure.Figure at 0xe7a8b38>"
      ]
     },
     "metadata": {},
     "output_type": "display_data"
    }
   ],
   "source": [
    "plot(x2,  force2, i,force2[i],'o',markersize=15);\n",
    "title('using that index, plot on the force-displacement curve');"
   ]
  },
  {
   "cell_type": "code",
   "execution_count": 86,
   "metadata": {
    "collapsed": false
   },
   "outputs": [
    {
     "data": {
      "image/png": "[encoded data removed]",
      "text/plain": [
       "<matplotlib.figure.Figure at 0xe7ce908>"
      ]
     },
     "metadata": {},
     "output_type": "display_data"
    }
   ],
   "source": [
    "#Now, we need to find the next point from here that is 10 less.\n",
    "delta = 1\n",
    "\n",
    "i2 = np.argmax(force2[i]-delta > force2[i:])\n",
    "\n",
    "# If that point does not exist on the immediate downward sloping path, \n",
    "#then just choose the max point. In this case, 10 would exist very \n",
    "#far away from the point and not be desireable\n",
    "if i2 > i:\n",
    "    i2=0\n",
    "plot(x2,  force2, i,force2[i],'o', i2+i, force2[i2+i] ,'*', markersize=15);"
   ]
  },
  {
   "cell_type": "code",
   "execution_count": null,
   "metadata": {
    "collapsed": true
   },
   "outputs": [],
   "source": []
  },
  {
   "cell_type": "code",
   "execution_count": 73,
   "metadata": {
    "collapsed": true
   },
   "outputs": [],
   "source": []
  },
  {
   "cell_type": "code",
   "execution_count": null,
   "metadata": {
    "collapsed": true
   },
   "outputs": [],
   "source": []
  },
  {
   "cell_type": "code",
   "execution_count": null,
   "metadata": {
    "collapsed": true
   },
   "outputs": [],
   "source": []
  },
  {
   "cell_type": "code",
   "execution_count": null,
   "metadata": {
    "collapsed": true
   },
   "outputs": [],
   "source": []
  },
  {
   "cell_type": "code",
   "execution_count": 65,
   "metadata": {
    "collapsed": false
   },
   "outputs": [
    {
     "name": "stdout",
     "output_type": "stream",
     "text": [
      "[62606.53409, 59989.34659, 62848.01136, 80912.28693, 79218.03977, 81242.1875, 59387.27273, 59795.68182, 58303.18182, 81184.09091, 71876.81818, 72904.77273, 115563.9205, 113099.7869, 106939.2756, 58758.11688, 57349.02597, 52614.77273, 72899.75649, 68424.51299, 73514.28571, 75549.83766, 84867.69481, 79881.41234, 55882.71104, 54156.54221, 58260.71429, 73027.5974, 69470.69805, 66843.99351, 82758.44156, 81647.72727, 77519.96753] "
     ]
    }
   ],
   "source": [
    "### Copy and past data into python\n",
    "\n",
    "y = '''62606.53409\n",
    "59989.34659\n",
    "62848.01136\n",
    "80912.28693\n",
    "79218.03977\n",
    "81242.1875\n",
    "59387.27273\n",
    "59795.68182\n",
    "58303.18182\n",
    "81184.09091\n",
    "71876.81818\n",
    "72904.77273\n",
    "115563.9205\n",
    "113099.7869\n",
    "106939.2756\n",
    "58758.11688\n",
    "57349.02597\n",
    "52614.77273\n",
    "72899.75649\n",
    "68424.51299\n",
    "73514.28571\n",
    "75549.83766\n",
    "84867.69481\n",
    "79881.41234\n",
    "55882.71104\n",
    "54156.54221\n",
    "58260.71429\n",
    "73027.5974\n",
    "69470.69805\n",
    "66843.99351\n",
    "82758.44156\n",
    "81647.72727\n",
    "77519.96753'''\n",
    "y = [float(x) for x in np.array(y.replace('\\n',',').split(','))]\n",
    "print(y, end=\" \")"
   ]
  },
  {
   "cell_type": "markdown",
   "metadata": {
    "collapsed": true
   },
   "source": [
    "# Units\n",
    "[index](#Mechpy)"
   ]
  },
  {
   "cell_type": "code",
   "execution_count": 155,
   "metadata": {
    "collapsed": true
   },
   "outputs": [],
   "source": [
    "from mechunits import uc1\n",
    "# uc1 uses sympy"
   ]
  },
  {
   "cell_type": "code",
   "execution_count": 156,
   "metadata": {
    "collapsed": false
   },
   "outputs": [
    {
     "name": "stdout",
     "output_type": "stream",
     "text": [
      "1.00 psi = 6.89  kPa \n"
     ]
    }
   ],
   "source": [
    "uc1(1.0,'psi','kPa')"
   ]
  },
  {
   "cell_type": "code",
   "execution_count": 157,
   "metadata": {
    "collapsed": false
   },
   "outputs": [
    {
     "name": "stdout",
     "output_type": "stream",
     "text": [
      "1.00 newton = 0.22  pound \n"
     ]
    }
   ],
   "source": [
    "uc1(1.0,'newton','pound')"
   ]
  },
  {
   "cell_type": "code",
   "execution_count": 161,
   "metadata": {
    "collapsed": false
   },
   "outputs": [
    {
     "name": "stdout",
     "output_type": "stream",
     "text": [
      "17.5 lbf = 77.84387826705874 newton\n"
     ]
    },
    {
     "data": {
      "text/html": [
       "77.84387826705874 newton"
      ],
      "text/latex": [
       "$77.84387826705874 newton$"
      ],
      "text/plain": [
       "<Quantity(77.84387826705874, 'newton')>"
      ]
     },
     "execution_count": 161,
     "metadata": {},
     "output_type": "execute_result"
    }
   ],
   "source": [
    "from mechunits import uc2\n",
    "# uses pint\n",
    "uc2(17.5,'lbf','newton')"
   ]
  },
  {
   "cell_type": "code",
   "execution_count": 162,
   "metadata": {
    "collapsed": false
   },
   "outputs": [
    {
     "name": "stdout",
     "output_type": "stream",
     "text": [
      "300 pascal = 0.043511321319062775 psi\n"
     ]
    },
    {
     "data": {
      "text/html": [
       "0.043511321319062775 psi"
      ],
      "text/latex": [
       "$0.043511321319062775 psi$"
      ],
      "text/plain": [
       "<Quantity(0.043511321319062775, 'psi')>"
      ]
     },
     "execution_count": 162,
     "metadata": {},
     "output_type": "execute_result"
    }
   ],
   "source": [
    "uc2(300,'pascal','psi')"
   ]
  },
  {
   "cell_type": "code",
   "execution_count": 160,
   "metadata": {
    "collapsed": false
   },
   "outputs": [
    {
     "name": "stdout",
     "output_type": "stream",
     "text": [
      "     0 in - 0.000000 in - 0.000000 mm \n",
      "  1/16 in - 0.062500 in - 1.587500 mm \n",
      "   1/8 in - 0.125000 in - 3.175000 mm \n",
      "  3/16 in - 0.187500 in - 4.762500 mm \n",
      "   1/4 in - 0.250000 in - 6.350000 mm \n",
      "  5/16 in - 0.312500 in - 7.937500 mm \n",
      "   3/8 in - 0.375000 in - 9.525000 mm \n",
      "  7/16 in - 0.437500 in - 11.112500 mm \n",
      "   1/2 in - 0.500000 in - 12.700000 mm \n",
      "  9/16 in - 0.562500 in - 14.287500 mm \n",
      "   5/8 in - 0.625000 in - 15.875000 mm \n",
      " 11/16 in - 0.687500 in - 17.462500 mm \n",
      "   3/4 in - 0.750000 in - 19.050000 mm \n",
      " 13/16 in - 0.812500 in - 20.637500 mm \n",
      "   7/8 in - 0.875000 in - 22.225000 mm \n",
      " 15/16 in - 0.937500 in - 23.812500 mm \n",
      "     1 in - 1.000000 in - 25.400000 mm \n"
     ]
    }
   ],
   "source": [
    "from mechunits import in_mm\n",
    "in_mm()"
   ]
  },
  {
   "cell_type": "markdown",
   "metadata": {},
   "source": [
    "# Engineering-Software-APIs  \n",
    "[index](#Mechpy)  "
   ]
  },
  {
   "cell_type": "markdown",
   "metadata": {},
   "source": [
    "## CATIA\n",
    "[index](#Mechpy)  "
   ]
  },
  {
   "cell_type": "code",
   "execution_count": 4,
   "metadata": {
    "collapsed": false,
    "scrolled": false
   },
   "outputs": [
    {
     "name": "stdout",
     "output_type": "stream",
     "text": [
      "Help on module mechpy.catia in mechpy:\n",
      "\n",
      "NAME\n",
      "    mechpy.catia\n",
      "\n",
      "DESCRIPTION\n",
      "    CATIA Python Module that connects to a Windows CATIA session through COM\n",
      "    Assumes that CATIA is running.\n",
      "\n",
      "CLASSES\n",
      "    builtins.object\n",
      "        Catia\n",
      "    \n",
      "    class Catia(builtins.object)\n",
      "     |  object to manipulate CATIA through windows COM\n",
      "     |  \n",
      "     |  Methods defined here:\n",
      "     |  \n",
      "     |  __init__(self)\n",
      "     |      Initialize self.  See help(type(self)) for accurate signature.\n",
      "     |  \n",
      "     |  add_drawing(self)\n",
      "     |      creates a new drawing\n",
      "     |  \n",
      "     |  add_geoset(self)\n",
      "     |      adds a flat geoset set give as a list\n",
      "     |  \n",
      "     |  add_part(self)\n",
      "     |      adds part to current catia object\n",
      "     |  \n",
      "     |  add_point(self, x=0, y=0, z=0)\n",
      "     |      adds a point to the current part\n",
      "     |  \n",
      "     |  add_points(self)\n",
      "     |      adds a bunch of random points\n",
      "     |  \n",
      "     |  add_product(self)\n",
      "     |      adds part to current catia object\n",
      "     |  \n",
      "     |  change_parameter(self, strMatch='', inVal=0)\n",
      "     |      enter a value for strMatch and this will search through all the \n",
      "     |      parameters and try to match them. If more than one match is found,\n",
      "     |      nothing will happen, if exactly one match is found the value will \n",
      "     |      update with the\n",
      "     |      Example - this is find the shaft and change the angle to 180\n",
      "     |      change_parameter(strMatch = 'Shaft.1\\FirstAngle', inVal = 180)\n",
      "     |  \n",
      "     |  connect_doc(self)\n",
      "     |      connects to current active part\n",
      "     |  \n",
      "     |  create_bom(self)\n",
      "     |      ' creates BOM for the current catia object\n",
      "     |  \n",
      "     |  custom_cmd(self, cmdin)\n",
      "     |      runs the command when you mouse over the icon in CATIA\n",
      "     |      Open, Save, Fit All In, * iso\n",
      "     |  \n",
      "     |  export_dxf(self, fix1=True)\n",
      "     |      function to export a CATDrawing to dxf\n",
      "     |      TODO - need to figure out how to export CATDrawing to dxf\n",
      "     |  \n",
      "     |  fit_window(self)\n",
      "     |  \n",
      "     |  get_plies(self, stackName='Stacking', indent=' ')\n",
      "     |      returns all plies on the Stacking geoset\n",
      "     |  \n",
      "     |  get_ply_dir(self)\n",
      "     |  \n",
      "     |  get_username(self)\n",
      "     |  \n",
      "     |  launch_catia(self)\n",
      "     |      launches a quiet catia process\n",
      "     |  \n",
      "     |  make_geosets(self)\n",
      "     |  \n",
      "     |  new_from(self, filepath='cube.CATPart')\n",
      "     |      creating a new part from an existing document\n",
      "     |  \n",
      "     |  open_dialog(self)\n",
      "     |  \n",
      "     |  open_part(self, filepath='cube.CATPart')\n",
      "     |      opens an existing CATIA part given an absolute filepath\n",
      "     |  \n",
      "     |  plybook(self, stackName='Stacking', pliesgroup='Plies Group')\n",
      "     |      creates flat patterns in a catdrawing\n",
      "     |      just have the CATPart composite part open\n",
      "     |      given a geoset stackName, will generate a sheet for each ply\n",
      "     |  \n",
      "     |  print_parameters(self)\n",
      "     |      shows all parameters in catia\n",
      "     |  \n",
      "     |  quit_catia(self)\n",
      "     |      terminates the current catia object\n",
      "     |  \n",
      "     |  read_from(self, filepath='cube.CATPart')\n",
      "     |      loading a CATIA document, faster than opening but does not show it\n",
      "     |  \n",
      "     |  save_current(self)\n",
      "     |      saves the current file\n",
      "     |  \n",
      "     |  save_current_as(self, file2='new1')\n",
      "     |      saves the current file as\n",
      "     |  \n",
      "     |  save_dialog(self)\n",
      "     |  \n",
      "     |  search(self, s=\"Name='PLY-01',all\")\n",
      "     |      search strings\n",
      "     |      s=\".Point.Name=Point.1*;All\"\n",
      "     |  \n",
      "     |  show_body_tree(self, indent=' ')\n",
      "     |      returns a list of all the bodies in the part\n",
      "     |      Bodies cannot be nested like geosets\n",
      "     |      part1 = self.CATIA.ActiveDocument\n",
      "     |      c.CATIA.ActiveDocument.Part\n",
      "     |      c.CATIA.ActiveDocument.Part\n",
      "     |      c.show_body_tree(c.CATIA.ActiveDocument.Part)\n",
      "     |  \n",
      "     |  show_docs(self)\n",
      "     |      a list of all documents or files can be generated with this command\n",
      "     |  \n",
      "     |  show_geoset_tree(self, indent=' ')\n",
      "     |      recursuvely returns a list of all the geosets in the part\n",
      "     |      c.show_geoset_tree(c.CATIA.ActiveDocument.Part)\n",
      "     |      part1 = c.CATIA.ActiveDocument.Part\n",
      "     |  \n",
      "     |  show_product_info(self)\n",
      "     |  \n",
      "     |  show_selection(self)\n",
      "     |      prints current selection in CATIA\n",
      "     |  \n",
      "     |  show_windows(self)\n",
      "     |      only one catia application can be running at a time\n",
      "     |      all catia windows can be found using the Windows object\n",
      "     |  \n",
      "     |  toggle_show(self)\n",
      "     |      toggles the visiblity current CATIA session\n",
      "     |  \n",
      "     |  update(self)\n",
      "     |      updates catia object\n",
      "     |  \n",
      "     |  user_selection(self)\n",
      "     |  \n",
      "     |  ----------------------------------------------------------------------\n",
      "     |  Data descriptors defined here:\n",
      "     |  \n",
      "     |  __dict__\n",
      "     |      dictionary for instance variables (if defined)\n",
      "     |  \n",
      "     |  __weakref__\n",
      "     |      list of weak references to the object (if defined)\n",
      "\n",
      "FUNCTIONS\n",
      "    bolt_test()\n",
      "        make a bolt\n",
      "    \n",
      "    cube_test()\n",
      "        creates a cube\n",
      "        https://gist.github.com/jl2/2704426\n",
      "\n",
      "FILE\n",
      "    f:\\mechpy\\mechpy\\catia.py\n",
      "\n",
      "\n"
     ]
    }
   ],
   "source": [
    "from mechpy import catia\n",
    "help(catia)"
   ]
  },
  {
   "cell_type": "markdown",
   "metadata": {},
   "source": [
    "## Abaqus \n",
    "[index](#Mechpy)  \n",
    "\n"
   ]
  },
  {
   "cell_type": "markdown",
   "metadata": {},
   "source": [
    "## Excel\n",
    "[index](#Mechpy)  \n",
    "\n",
    "\n",
    "Great refernce for general python scripting. https://automatetheboringstuff.com/chapter12/  \n",
    "\n",
    "[Use python intead of VBA with xlwings](http://xlwings.org/)  \n",
    "[openpyxl](https://openpyxl.readthedocs.io/en/default/)  \n",
    "\n",
    "\n",
    "\n"
   ]
  },
  {
   "cell_type": "code",
   "execution_count": 1,
   "metadata": {
    "collapsed": true
   },
   "outputs": [],
   "source": [
    "%load_ext version_information"
   ]
  },
  {
   "cell_type": "code",
   "execution_count": 2,
   "metadata": {
    "collapsed": false
   },
   "outputs": [
    {
     "data": {
      "application/json": {
       "Software versions": [
        {
         "module": "Python",
         "version": "2.7.11 64bit [MSC v.1500 64 bit (AMD64)]"
        },
        {
         "module": "IPython",
         "version": "4.0.3"
        },
        {
         "module": "OS",
         "version": "Windows 10 10.0.10586"
        },
        {
         "module": "pydy",
         "version": "0.3.1"
        },
        {
         "module": "numpy",
         "version": "1.10.1"
        },
        {
         "module": "scipy",
         "version": "0.16.0"
        },
        {
         "module": "matplotlib",
         "version": "1.5.1"
        }
       ]
      },
      "text/html": [
       "<table><tr><th>Software</th><th>Version</th></tr><tr><td>Python</td><td>2.7.11 64bit [MSC v.1500 64 bit (AMD64)]</td></tr><tr><td>IPython</td><td>4.0.3</td></tr><tr><td>OS</td><td>Windows 10 10.0.10586</td></tr><tr><td>pydy</td><td>0.3.1</td></tr><tr><td>numpy</td><td>1.10.1</td></tr><tr><td>scipy</td><td>0.16.0</td></tr><tr><td>matplotlib</td><td>1.5.1</td></tr><tr><td colspan='2'>Sun Jan 31 19:55:35 2016 Pacific Standard Time</td></tr></table>"
      ],
      "text/latex": [
       "\\begin{tabular}{|l|l|}\\hline\n",
       "{\\bf Software} & {\\bf Version} \\\\ \\hline\\hline\n",
       "Python & 2.7.11 64bit [MSC v.1500 64 bit (AMD64)] \\\\ \\hline\n",
       "IPython & 4.0.3 \\\\ \\hline\n",
       "OS & Windows 10 10.0.10586 \\\\ \\hline\n",
       "pydy & 0.3.1 \\\\ \\hline\n",
       "numpy & 1.10.1 \\\\ \\hline\n",
       "scipy & 0.16.0 \\\\ \\hline\n",
       "matplotlib & 1.5.1 \\\\ \\hline\n",
       "\\hline \\multicolumn{2}{|l|}{Sun Jan 31 19:55:35 2016 Pacific Standard Time} \\\\ \\hline\n",
       "\\end{tabular}\n"
      ],
      "text/plain": [
       "Software versions\n",
       "Python 2.7.11 64bit [MSC v.1500 64 bit (AMD64)]\n",
       "IPython 4.0.3\n",
       "OS Windows 10 10.0.10586\n",
       "pydy 0.3.1\n",
       "numpy 1.10.1\n",
       "scipy 0.16.0\n",
       "matplotlib 1.5.1\n",
       "Sun Jan 31 19:55:35 2016 Pacific Standard Time"
      ]
     },
     "execution_count": 2,
     "metadata": {},
     "output_type": "execute_result"
    }
   ],
   "source": [
    "%version_information pydy, numpy, scipy, matplotlib"
   ]
  },
  {
   "cell_type": "code",
   "execution_count": null,
   "metadata": {
    "collapsed": true
   },
   "outputs": [],
   "source": []
  }
 ],
 "metadata": {
  "kernelspec": {
   "display_name": "Python 3",
   "language": "python",
   "name": "python3"
  },
  "language_info": {
   "codemirror_mode": {
    "name": "ipython",
    "version": 3
   },
   "file_extension": ".py",
   "mimetype": "text/x-python",
   "name": "python",
   "nbconvert_exporter": "python",
   "pygments_lexer": "ipython3",
   "version": "3.5.1"
  }
 },
 "nbformat": 4,
 "nbformat_minor": 0
}
